{
 "cells": [
  {
   "cell_type": "markdown",
   "id": "b0ef939e-5c4c-454a-857a-10ca32dfaeb8",
   "metadata": {},
   "source": [
    "# Running *Molecular Dynamics* on AQE for Polymer Melt Simulation"
   ]
  },
  {
   "cell_type": "markdown",
   "id": "aa2a9292-a236-47f8-b80d-111164fbfe9e",
   "metadata": {},
   "source": [
    "This notebook will demonstrate the pipeline to simulate a polymer melt or a blend of polymers in a melt using GROMACS molecular dynamics software.\\\n",
    "A polymer melt refers to a state where a polymer is heated until it becomes a viscous, liquid-like fluid. This is often done to process the polymer into various shapes and forms through methods like injection molding or extrusion.\\\n",
    "A mixture of polymers in a melt means combining two or more different polymers while they are in this liquid state to create a new material with unique properties. This is similar to how metal alloys are made by mixing different metals.\\\n",
    "The pipeline will enable us to do the following:\n",
    "- [x] Construction of _homopolymer_ with a user defined polymer chain length or molecular weight.\n",
    "- [x] Construction of _homopolymer melt_ or _homopolymer blend_.\n",
    "- [x] Computation of various thermodynamic properties of the melt and polymeric properties.\n",
    "\n",
    "A homopolymer is a polymer that is made up of only one type of monomer. Essentially, it consists of repeating units of the same molecule. For example, polyethylene is a homopolymer made entirely from ethylene monomers.\n",
    "Construction of homopolymer means creating a polymer that consists of just one type of monomer, either with a specific chain length or molecular weight. This is in contrast to a copolymer, which would be made from two or more different monomers.\n",
    "\n",
    "**The objective of this notebook is to enable user to compute:**\n",
    "- [x] **The glass transition temperature (Tg) of the polymer/polymer mixture:** The glass transition temperature is a critical property in the study of polymers. It refers to the temperature range at which a polymer transitions from a hard, glassy material to a soft, rubbery state. Below the glass transition temperature, the polymer chains are in a rigid and brittle state, but above this temperature, they gain mobility and become more flexible and pliable.\n",
    "- [x] **Cohesive energy density (CED) of polymer:** Cohesive energy density of a polymer is a measure of the energy required to separate the polymer molecules from each other to an infinite distance. It's essentially a way of quantifying the intermolecular forces within the polymer. In other words, CED gives an idea of how strongly the polymer molecules are attracted to each other. A higher cohesive energy density means the molecules are more strongly bound together, which can influence the material's properties like its solubility, mechanical strength, and glass transition temperature.\n",
    "- [x] **Polymeric structural properties:** End-to-end distance distribution, radius of gyration and its eigen values.\n",
    "- [x] **Diffusion coefficient of polymer:** The diffusion coefficient of a polymer is a measure of how quickly polymer molecules move or spread through a medium (like a solvent or another polymer). It indicates the rate at which individual polymer chains travel within the given material. It's important in various applications, such as in Material Science when studying the mobility of polymers and their response to environmental changes, or Polymer Processing when understanding how polymers mix and spread during manufacturing.\n",
    "\n",
    "The major steps involved in the pipeline is as follows:\n",
    "- **Step 1:** Load AiiDA profile.\n",
    "- **Step 2:** User inputs for running the molecular dynamics simulation.\n",
    "- **Step 3:** Import necessary python packages.\n",
    "- **Step 4:** Polymer construction from the monomer.\n",
    "- **Step 5:** Setup for molecular dynamics simulation. (i.e. - energy minimization, equilibration simulation, production simulation)\n",
    "- **Step 6:** Running the equilibration molecular dynamics simulation.\n",
    "- **Step 7:** Calculation of equilibrium properties.\n",
    "- **Step 8:** Visualization of properties and polymer melt system.\n",
    "- **Step 9:** Setup for molecular dynamics simulation for multiple thermodynamic conditions required for some properties calculation.\n",
    "- **Step 10:** Running MD simulation at multiple thermodynamic conditions.\n",
    "- **Step 11:** Calculation of polymer properties abd visualization.\n",
    "\n",
    "We will go through these aformentioned steps step by step."
   ]
  },
  {
   "cell_type": "markdown",
   "id": "82c0a11a-01d6-474a-af84-1c276eb58640",
   "metadata": {},
   "source": [
    "<div class=\"alert alert-info\">\n",
    " ℹ️ Currently the PoC is for linear homopolymer.\n",
    "</div>"
   ]
  },
  {
   "cell_type": "markdown",
   "id": "74317133-f046-4591-b454-34482873fc6c",
   "metadata": {},
   "source": [
    "**Step 1:** Load AiiDA profile.\\\n",
    "We load an AiiDA profile. The `load_profile` method will load the default profile if no explicit profile name is specified."
   ]
  },
  {
   "cell_type": "code",
   "execution_count": 1,
   "id": "f1be0d58-8e3d-408e-8f6d-97efa809d4e9",
   "metadata": {},
   "outputs": [
    {
     "data": {
      "text/plain": [
       "Profile<uuid='e3eed8e7f41e49b094d7e9107f76a58a' name='gromacs'>"
      ]
     },
     "execution_count": 1,
     "metadata": {},
     "output_type": "execute_result"
    }
   ],
   "source": [
    "from aiida import load_profile\n",
    "load_profile()"
   ]
  },
  {
   "cell_type": "markdown",
   "id": "3fb0b362-c728-4869-8e1b-29394e0bc330",
   "metadata": {},
   "source": [
    "**Step 2:** User inputs for running the molecular dynamics simulation.\\\n",
    "We define a few **_user defined_** parameters which are used throughout the pipeline. The necessary parameters are classified in two group of parameters.\\\n",
    "\n",
    "- **_Parameters for polymer/monomer_**\n",
    "1. **`monomer_id`:** Id of the polymer for the MD simulation (**_NOTE: The dropdown for polymer selection will be given in the later version of the notebook._**)\n",
    "2. **`monomer_count_per_polymer`:** Number of monomer units per polymer. (**_NOTE: There will be one alternate option of giving molecular weight of the polymer._**)\n",
    "3. **`polymer_count`:** Number of polymer units for MD simulations. (**_NOTE: Add some note on the selection_**)\n",
    "\n",
    "- **MD properties_**\n",
    "1. **`property_list`:** List of properties to be calculated from the MD simulation. (**_NOTE: Should use GROMACS notation_**)\n",
    "\n",
    "- **_Parameters for MD simulations (Thermodynamic conditions)_**\n",
    "1. **`temperature`:** Simulation temperature in Kelvin (**_NOTE: This will be modified._**)\n",
    "2. **`pressure`:** Simulation pressure in bar (**_NOTE: This will be modified._**)\n",
    "\n",
    "- **_Parameters for MD simulations (Specific for calculation of some properties)_**\n",
    "1. **`search_region_Tg`:** Simulation temperature range is given for the properties calculation. (**_NOTE: This will be modified._**)\n",
    "2. **`temperature_incr`:** Simulation temperature increment is given for the properties calculation. (**_NOTE: This will be modified._**)"
   ]
  },
  {
   "cell_type": "code",
   "execution_count": 2,
   "id": "b2d01dbf-4c5b-484a-a116-462b6106da31",
   "metadata": {},
   "outputs": [],
   "source": [
    "# User inputs\n",
    "\n",
    "# Monomer inputs\n",
    "monomer_id = 1                                       # id list will be shown in the terminal\n",
    "monomer_count_per_polymer = 4                        # number of monomers in one polymer\n",
    "polymer_count = 100                                  # number of polymers to be simulated\n",
    "\n",
    "# MD inputs (primary)\n",
    "temperature = 300.15                                 # simulation temperature (K)\n",
    "pressure = 1.0                                       # simulation pressure (bar)\n",
    "property_list = ['Potential', 'Density', 'Tg']       # properties to be calculated\n",
    "\n",
    "'''\n",
    "    This will be a seperate cell only asked for user input if there is a requirement.\n",
    "'''\n",
    "# Optional parameters for property calculations\n",
    "# For Tg\n",
    "search_region_Tg = [255.15, 275.15]                  # user expected Tg\n",
    "temperature_incr = 10.0                              # (K)"
   ]
  },
  {
   "cell_type": "markdown",
   "id": "ef00336b-b8bf-43a9-9251-dcc7e1111591",
   "metadata": {},
   "source": [
    "**Step 3:** Import necessary python packages."
   ]
  },
  {
   "cell_type": "code",
   "execution_count": 3,
   "id": "b5a0ddfd-308c-4537-a1ad-14157235779c",
   "metadata": {},
   "outputs": [],
   "source": [
    "# Import basic packages\n",
    "import pathlib\n",
    "import os\n",
    "import numpy as np\n",
    "\n",
    "# Import aiida packages\n",
    "from aiida.engine import run, submit\n",
    "from aiida.engine import calcfunction, WorkChain\n",
    "from aiida.orm import Bool, Int, Float, Str, Dict, List, SinglefileData, FolderData, Computer\n",
    "from aiida_shell import launch_shell_job\n",
    "\n",
    "# Import plotting packages\n",
    "from IPython.display import display, Image\n",
    "\n",
    "# Import custom packages\n",
    "import polymer_constant\n",
    "from polymerize import PolymerizeWorkChain\n",
    "import gromacs_setup\n",
    "import gromacs_analysis"
   ]
  },
  {
   "cell_type": "markdown",
   "id": "33c1c41a-eb25-45bb-9dd6-c4804662247a",
   "metadata": {},
   "source": [
    "Convert the user input into `aiida.orm` data types accepted by the `node` arguments. "
   ]
  },
  {
   "cell_type": "code",
   "execution_count": 4,
   "id": "ca1ce0cc-033c-4479-b55c-a954283a6bd9",
   "metadata": {},
   "outputs": [],
   "source": [
    "monomer_id = Int(monomer_id)\n",
    "monomer_pdbfname = polymer_constant.get_pdb(monomer_id)\n",
    "monomer_count_per_polymer = Int(monomer_count_per_polymer)\n",
    "\n",
    "polymer_connection_point_list = polymer_constant.get_connection_point(monomer_id)\n",
    "polymer_count = Int(polymer_count)\n",
    "\n",
    "temperature = Float(temperature)\n",
    "pressure = Float(pressure)\n",
    "cls_prop_list = polymer_constant.get_classified_property_list(List(property_list))\n",
    "primary_property_list = List(cls_prop_list[0])\n",
    "secondary_property_list = List(cls_prop_list[1])\n",
    "\n",
    "temperature_list = List([])\n",
    "if secondary_property_list:\n",
    "    for prop in secondary_property_list.get_list():\n",
    "        if prop == 'Tg':\n",
    "            if search_region_Tg[0] > search_region_Tg[1]:\n",
    "                raise ValueError('Temperature range is not correct.')\n",
    "            temperature_list = List([search_region_Tg[0] + i * temperature_incr for i in range(0, int((search_region_Tg[1] - search_region_Tg[0])/temperature_incr)+1)])"
   ]
  },
  {
   "cell_type": "markdown",
   "id": "77c598f0-1816-4f5e-8b0f-2e2ce27a86ee",
   "metadata": {},
   "source": [
    "**Step 4:** Polymer construction from the monomer."
   ]
  },
  {
   "cell_type": "markdown",
   "id": "c36d1d5c-23cf-4263-9ad4-ba3af2dd50b8",
   "metadata": {},
   "source": [
    "The monomer pdb file is opened and wrapped it in AiiDA's `SinglefieData` data type, which allows it to be stored in the provenance graph."
   ]
  },
  {
   "cell_type": "code",
   "execution_count": 5,
   "id": "f198f09e-942e-4cd5-ba31-1d7f032be770",
   "metadata": {},
   "outputs": [],
   "source": [
    "monomer = SinglefileData(os.getcwd() + '/' + monomer_pdbfname.value)"
   ]
  },
  {
   "cell_type": "markdown",
   "id": "62b4a31a-cbc6-44b9-80eb-dc24e1e49679",
   "metadata": {},
   "source": [
    "We use the PDB file containing the monomer structure and use a run(polymerize) workchain to automate the polymerization process. This workchain identifies the bonding sites in the monomer, iteratively connects them to form a polymer, and run till the number of monomer per chain is achieved. The output of this step is a dictionary containing the polymer's structural data wrapped in AiiDA's `SinglefileData` data type and atomic weight of the polymer chain. This streamlined approach eliminates the need for manual intervention."
   ]
  },
  {
   "cell_type": "code",
   "execution_count": null,
   "id": "7faf1298-ba47-4d18-91a8-1e18105ed1b8",
   "metadata": {},
   "outputs": [
    {
     "name": "stdout",
     "output_type": "stream",
     "text": [
      "Polymerization starts for tPBMonomer.pdb ->\n",
      "1\r"
     ]
    }
   ],
   "source": [
    "polymer_data = run(PolymerizeWorkChain, monomer = monomer, monomer_count = monomer_count_per_polymer, polymer_connection_point_list = polymer_connection_point_list)"
   ]
  },
  {
   "cell_type": "markdown",
   "id": "e794db40-d13f-4b63-8c5a-5dfb1e65549f",
   "metadata": {},
   "source": [
    "**Remove this once testing is completed**"
   ]
  },
  {
   "cell_type": "markdown",
   "id": "1fad4c13-7d20-4c89-a15e-c53213febf5a",
   "metadata": {},
   "source": [
    "##Visualization of Polymer Chain **(currently not working)**"
   ]
  },
  {
   "cell_type": "code",
   "execution_count": null,
   "id": "915ebd46-f6b6-45f5-9bd4-b202f31addf3",
   "metadata": {},
   "outputs": [],
   "source": [
    "import nglview as nv\n",
    "import tempfile\n",
    "\n",
    "def visualize(node: SinglefileData) -> nv.NGLWidget:\n",
    "    with node.open(mode='rb') as source:\n",
    "        with tempfile.NamedTemporaryFile(suffix=node.filename) as target:\n",
    "            target.write(source.read())\n",
    "            view = nv.NGLWidget()\n",
    "            view.add_component(target.name)\n",
    "            #view.clear_representations()\n",
    "            view.add_ball_and_stick()\n",
    "            return view"
   ]
  },
  {
   "cell_type": "code",
   "execution_count": null,
   "id": "85e78ee5-8848-44a4-a10c-71456116e61f",
   "metadata": {},
   "outputs": [],
   "source": [
    "#visualize(polymer_data['polymer'])"
   ]
  },
  {
   "cell_type": "markdown",
   "id": "0c869a6b-0e50-4eb4-89f2-4ca7e6815149",
   "metadata": {},
   "source": [
    "**Step 5:** Setup for molecular dynamics simulation.\\\n",
    "We configure the force-field folder and encapsulate it within AiiDA's `FolderData` data type, enabling its storage in the provenance graph. This folder contains the definitions for nonbonded and bonded interactions specific to the chosen force field, which will be utilized throughout the subsequent steps of the workflow."
   ]
  },
  {
   "cell_type": "code",
   "execution_count": null,
   "id": "c91d00fd-70fa-47c7-bdcc-edc8f1495657",
   "metadata": {},
   "outputs": [],
   "source": [
    "# Default Parameters\n",
    "ffdir = os.getcwd() + '/oplsaa.ff'\n",
    "oplsaa = FolderData(tree=ffdir)"
   ]
  },
  {
   "cell_type": "markdown",
   "id": "2057cdf6-bb15-4cbc-bf76-81952895fbc5",
   "metadata": {},
   "source": [
    "The simulation box length is determined using the `calc_simulation_box_length` function. This calculation is based on the default polymer melt density of 0.40 g/cc and the specified number of polymer chains for the simulation. By leveraging this density, the function ensures that the simulation box is appropriately sized to represent the polymer melt environment accurately, maintaining realistic molecular interactions and spatial arrangements. This calculated box length serves as the foundation for subsequent simulation setup and execution."
   ]
  },
  {
   "cell_type": "code",
   "execution_count": null,
   "id": "49fa831c-4bdf-4ce0-b598-046d46b60372",
   "metadata": {},
   "outputs": [],
   "source": [
    "box_length = gromacs_setup.calc_simulation_box_length(polymer_data['polymer_molecular_weight'], polymer_count)"
   ]
  },
  {
   "cell_type": "markdown",
   "id": "7c90a748-73e1-4c4a-b915-f60a57c2c284",
   "metadata": {},
   "source": [
    "<div class=\"alert alert-info\">\n",
    "`gmx` is the GROMACS executable which will be executed with several parameters. The `nodes` argument takes a dictionary of `SinglefileData` and `FolderData` which will be copied to the working directory where the `gmx` command is executed. The `oplsaa` in `nodes` are copied to the `oplsaa.ff` folder in the working directory. If the key of the node appears as a placeholder in the `arguments` argument, it is replaced with its filename. \n",
    "</div>"
   ]
  },
  {
   "cell_type": "markdown",
   "id": "cdbbe09b-e4cf-479b-9535-c88e61532668",
   "metadata": {},
   "source": [
    "`gmx pdb2gmx` is used to generate the forcefield information for the given polymer i.e.  nonbonded and bonded interaction parameters for all the atoms in the polymer\n",
    "\n",
    "The `gmx pdb2gmx` is expected to generate three outputs of interest:\n",
    "- `polymer_out.pdb`: `.pdb` file of the polymer.\n",
    "- `topol.top`: The topology file.\n",
    "- `posre.itp`: The position restraint file included in the topology file."
   ]
  },
  {
   "cell_type": "code",
   "execution_count": null,
   "id": "c918c1b1-afbc-48af-958f-aff8bed014a0",
   "metadata": {},
   "outputs": [],
   "source": [
    "# Run `gmx pdb2gmx` to convert the PDB to GROMACS .gro format.\n",
    "results_pdb2gmx, node_pdb2gmx = launch_shell_job(\n",
    "    'gmx',\n",
    "    arguments='pdb2gmx -f {polymer} -o polymer_out.pdb -water spce -ff oplsaa',\n",
    "    nodes={\n",
    "        'polymer': polymer_data['polymer'],\n",
    "        'folder': oplsaa,\n",
    "    },\n",
    "    filenames={\n",
    "        'folder': 'oplsaa.ff',\n",
    "    },\n",
    "    outputs=['polymer_out.pdb', 'topol.top', 'posre.itp'],\n",
    "    metadata={'call_link_label': 'polymerize', 'options': {'redirect_stderr': True}},\n",
    ")\n",
    "#print(results_pdb2gmx['stdout'].get_content())"
   ]
  },
  {
   "cell_type": "markdown",
   "id": "d209101c-2e0e-4c12-ae5d-dc0bc8f6a26e",
   "metadata": {},
   "source": [
    "<div class=\"alert alert-info\">\n",
    "These output files will be used in the upcoming steps in the pipeline. To capture these output files in the AiiDA's provenance graph, these filenames are declared in the `output` argunent. `aiida-shell` will wrap these output files in a `SinglefileDtata`.\n",
    "</div>"
   ]
  },
  {
   "cell_type": "markdown",
   "id": "83422512-ce66-4536-86cd-06180733aacf",
   "metadata": {},
   "source": [
    "Similar to the previous steps, GROMACS creates a simulation box where mutiple chains of the polymer will be inserted for the MD simulations. From the previous step, `.pdb` file of the single polymer chain is used to replicate the polymer chain inside the simulation box. In the output, we get a simulation box containing `polymer_count` number of polymers."
   ]
  },
  {
   "cell_type": "code",
   "execution_count": null,
   "id": "61d82e7a-5b82-49be-9120-5be4ea69e74b",
   "metadata": {},
   "outputs": [],
   "source": [
    "run = Bool(True)\n",
    "iter = 0\n",
    "while run.value:\n",
    "    results_insert, node_insert = launch_shell_job(\n",
    "        'gmx',\n",
    "        arguments='insert-molecules -box {box_length} -ci {polymer} -nmol {polymer_count} -try 999 -o melt.pdb',\n",
    "        nodes={\n",
    "            'box_length': box_length,\n",
    "            'polymer': polymer_data['polymer'],\n",
    "            'polymer_count': polymer_count,\n",
    "        },\n",
    "        outputs=['melt.pdb'],\n",
    "        metadata={'call_link_label': 'polymerize', 'options': {'redirect_stderr': True}},\n",
    "    )\n",
    "    #print(results_insert['stdout'].get_content())\n",
    "    run = gromacs_setup.check_insert_molecules(results_insert['stdout'], polymer_count)\n",
    "    if run.value:\n",
    "        run = Bool(True)\n",
    "        iter += 1\n",
    "        if iter > 100:\n",
    "            raise ValueError('Cannot adjust all the molecules inside the box.')\n",
    "    else:\n",
    "        run = Bool(False)"
   ]
  },
  {
   "cell_type": "markdown",
   "id": "5c0213c0-bb5e-4f5b-8551-7f0c520c130a",
   "metadata": {},
   "source": [
    "While running the `pdb2gmx` command we have created the topology for one single polymer chain. However, in the `topol.top` file we have to provide the number of polymer chain present in the simulation box. Therefore, we are updating the number of molecules line from 1 to `polymer_count` using the `sed` command."
   ]
  },
  {
   "cell_type": "code",
   "execution_count": null,
   "id": "cf0ac510-c033-4bae-b454-27875fdf7f72",
   "metadata": {},
   "outputs": [],
   "source": [
    "results_updatetop, node_updatetop = launch_shell_job(\n",
    "    'sed',\n",
    "    arguments='-i \"s/Other               1/Other               {polymer_count}/g\" {top}',\n",
    "    nodes={\n",
    "        'polymer_count': polymer_count,\n",
    "        'top': results_pdb2gmx['topol_top'],\n",
    "    },\n",
    "    outputs=['topol.top'],\n",
    "    metadata={'call_link_label': 'pdb2gmx', 'options': {'redirect_stderr': True}},\n",
    ")\n",
    "#print(results_updatetop['stdout'].get_content())"
   ]
  },
  {
   "cell_type": "markdown",
   "id": "83ded16d-4045-4ca9-aebf-243acd23f24e",
   "metadata": {},
   "source": [
    "<div class=\"alert alert-info\">\n",
    "The output `topol.top` file is declared in the `output` argunent where `aiida-shell` will wrap these output files in a `SinglefileDtata`.\n",
    "</div>"
   ]
  },
  {
   "cell_type": "markdown",
   "id": "1e44458e-73c3-4ece-b700-56395959e67b",
   "metadata": {},
   "source": [
    "**Prerequisite for MD simulations and simulation box preparation is completed and we can proceed to run the molecular dynamics simulation.**"
   ]
  },
  {
   "cell_type": "markdown",
   "id": "93479263-4dc6-4009-bd1a-9df2d2158276",
   "metadata": {},
   "source": [
    "`gmx grompp` is used to generate a `.tpr` file written in binary format which has all the necessary input information for running the MD simulation.\n",
    "\n",
    "The `gmx grompp` takes the input of three necesary files to generate the `.tpr` file.\n",
    "- [x] `.mdp`: The molecular dynamics parameters.\n",
    "- [x] `.gro`: The coordinate information of all the polymer chains present in the simulation box.\n",
    "- [x] `.top`: The tolology file of the polymer. Also, this has the information of number of polymers present in the simulation box."
   ]
  },
  {
   "cell_type": "code",
   "execution_count": null,
   "id": "89e9a19d-7dce-46d2-aa9f-8a0840fef2cf",
   "metadata": {},
   "outputs": [],
   "source": [
    "# Run `gmx grompp` to pre-process the parameters for energy minimization.\n",
    "results_grompp_em, node_grompp_em = launch_shell_job(\n",
    "    'gmx',\n",
    "    arguments='grompp -f {mdp} -c {gro} -p {top} -o em.tpr',\n",
    "    nodes={\n",
    "        'mdp': gromacs_setup.get_em_mdp(),\n",
    "        'gro': results_insert['melt_pdb'],\n",
    "        'top': results_updatetop['topol_top'],\n",
    "        'folder': oplsaa,\n",
    "    },\n",
    "    filenames={\n",
    "        'folder': 'oplsaa.ff'\n",
    "    },\n",
    "    outputs=['em.tpr'],\n",
    "    metadata={'call_link_label': 'updatetop', 'options': {'redirect_stderr': True}},\n",
    ")\n",
    "#print(results_grompp_em['stdout'].get_content())"
   ]
  },
  {
   "cell_type": "markdown",
   "id": "7deb55da-184c-419e-b95e-40114520f448",
   "metadata": {},
   "source": [
    "As we are proceeding towards the MD simulation, we must ensure that the simulations are running on the HPC to maximize the performance. Therefore, we are loading the AiiDA variable `Computer` where the information about the HPC will be given to submit the simulation at HPC."
   ]
  },
  {
   "cell_type": "code",
   "execution_count": null,
   "id": "3d446c00-e2c1-4550-8960-822430d0a5ce",
   "metadata": {},
   "outputs": [],
   "source": [
    "computer = Computer.collection.get(label='localhost')\n",
    "computer.set_default_mpiprocs_per_machine(8)"
   ]
  },
  {
   "cell_type": "markdown",
   "id": "e0933c22-fbaa-4f2b-8a1f-c920e35731c6",
   "metadata": {},
   "source": [
    "Now, the generated `.tpr` file is used for running the molecular dynamics simulation. We can run the `gmx mdrun` to run the energy minimization step. The variable `computer` is used in the `launch_shell_job` command ensures the use of HPC while running the simulation."
   ]
  },
  {
   "cell_type": "code",
   "execution_count": null,
   "id": "e33c7b8c-1284-4c35-bbdd-82aedb5c5677",
   "metadata": {},
   "outputs": [],
   "source": [
    "# Run `gmx mdrun` to run the energy minimization.\n",
    "results_em, node_em = launch_shell_job(\n",
    "    'gmx',\n",
    "    arguments='mdrun -v -deffnm em -s {tpr}',\n",
    "    nodes={\n",
    "        'tpr': results_grompp_em['em_tpr'],\n",
    "    },\n",
    "    outputs=['em.*'],\n",
    "    metadata={'call_link_label': 'em_grompp', 'options': {'redirect_stderr': True, 'computer': computer, 'withmpi': True}},\n",
    ")\n",
    "#outputs=['output.edr', 'output.gro', 'output.log'],\n",
    "#print(results_em['stdout'].get_content())"
   ]
  },
  {
   "cell_type": "code",
   "execution_count": null,
   "id": "23b39046-5d97-433a-8323-324d2af969e1",
   "metadata": {},
   "outputs": [],
   "source": [
    "results_em, node_em = launch_shell_job(\n",
    "    'gmx-gpu',\n",
    "    arguments='mdrun -v -deffnm em -s {tpr}',\n",
    "    nodes={\n",
    "        'tpr': results_grompp_em['em_tpr'],\n",
    "    },\n",
    "    outputs=['em.*'],\n",
    "    metadata={'call_link_label': 'em_grompp', 'options': {'redirect_stderr': True, 'computer': computer, 'withmpi': True}},\n",
    ")"
   ]
  },
  {
   "cell_type": "markdown",
   "id": "fd7ab7b6-b36f-421d-98c9-30e658254db5",
   "metadata": {},
   "source": [
    "Similar to the previous `gmx grompp` step, we can proceed with NPT equilibration step where the molecular dynamics simulation will be performed at the given thermodynamic conditions given by the user."
   ]
  },
  {
   "cell_type": "code",
   "execution_count": null,
   "id": "b0f9e475-8a99-47b8-8e39-deca50067c65",
   "metadata": {},
   "outputs": [],
   "source": [
    "if primary_property_list:\n",
    "    npt_mdp = gromacs_setup.get_npt_mdp(temperature = temperature, pressure = pressure)\n",
    "    \n",
    "    # Run `gmx grompp` to pre-process the parameters for energy minimization.\n",
    "    results_grompp_eqnpt, node_grompp_eqnpt = launch_shell_job(\n",
    "        'gmx',\n",
    "        arguments='grompp -f {mdp} -c {gro} -p {top} -o npt.tpr',\n",
    "        nodes={\n",
    "            'mdp': npt_mdp,\n",
    "            'gro': results_em['em_gro'],\n",
    "            'top': results_updatetop['topol_top'],\n",
    "            'folder': oplsaa,\n",
    "        },\n",
    "        filenames={\n",
    "            'folder': 'oplsaa.ff'\n",
    "        },\n",
    "        outputs=['npt.tpr'],\n",
    "        metadata={'call_link_label': 'em_mdrun', 'options': {'redirect_stderr': True}},\n",
    "    )\n",
    "    #print(results_grompp_eqnpt['stdout'].get_content())"
   ]
  },
  {
   "cell_type": "markdown",
   "id": "a75de0db-2aa3-4393-a6b5-b28433d160ef",
   "metadata": {},
   "source": [
    "**Step 6:** Running the equilibration molecular dynamics simulation.\n",
    "The generated `.tpr` file is used for running the molecular dynamics simulation for NPT equilibration. We can run the `gmx mdrun` to run the NPT equilibration step."
   ]
  },
  {
   "cell_type": "code",
   "execution_count": null,
   "id": "954f83a3-3738-4f10-99e4-c5dd1606d26b",
   "metadata": {},
   "outputs": [],
   "source": [
    "if primary_property_list:\n",
    "    # Run `gmx mdrun` to run the equilibrium NPT simulations\n",
    "    results_eqnpt, node_eqnpt = launch_shell_job(\n",
    "        'gmx',\n",
    "        arguments='mdrun -v -deffnm npt -s {tpr},\n",
    "        nodes={\n",
    "            'tpr': results_grompp_eqnpt['npt_tpr'],\n",
    "        },\n",
    "        outputs=['npt.*'],\n",
    "        metadata={'call_link_label': 'eqnpt_grompp', 'options': {'redirect_stderr': True, 'computer': computer, 'withmpi': True}},\n",
    "    )\n",
    "    #print(results_eqnpt['stdout'].get_content())"
   ]
  },
  {
   "cell_type": "code",
   "execution_count": null,
   "id": "227ae7c8-3606-4c36-b5c0-9e67904784ce",
   "metadata": {},
   "outputs": [],
   "source": [
    "if primary_property_list:\n",
    "    # Run `gmx mdrun` to run the equilibrium NPT simulations\n",
    "    results_eqnpt, node_eqnpt = launch_shell_job(\n",
    "        'gmx-gpu',\n",
    "        arguments='mdrun -v -deffnm npt -s {tpr}',\n",
    "        nodes={\n",
    "            'tpr': results_grompp_eqnpt['npt_tpr'],\n",
    "        },\n",
    "        outputs=['npt.*'],\n",
    "        metadata={'call_link_label': 'eqnpt_grompp', 'options': {'redirect_stderr': True, 'computer': computer, 'withmpi': True}},\n",
    "    )\n",
    "    #print(results_eqnpt['stdout'].get_content())"
   ]
  },
  {
   "cell_type": "markdown",
   "id": "4a628b3d-9515-4577-b945-374e224fcf0f",
   "metadata": {},
   "source": [
    "**Step 7:** Calculation of equilibrium properties."
   ]
  },
  {
   "cell_type": "markdown",
   "id": "95092770-a794-464b-b98e-733ab0180535",
   "metadata": {},
   "source": [
    "<div class=\"alert alert-info\">\n",
    "Using `gmx energy` command we can calculate and plot the primary properties for the simulated polymer system.\n",
    "</div>"
   ]
  },
  {
   "cell_type": "markdown",
   "id": "be259a84-8648-48ab-9366-172f9780e717",
   "metadata": {},
   "source": [
    "<div class=\"alert alert-info\">\n",
    "The input for `gmx energy` is the `output.edr` from the `results_eqnpt`. Here we first pass `10` which corresponds to the potential energy, followed by `0` which finalizes the selection and completes the prompt. The `output` file of this step saved as GROMACS generated `.xvg` format.\n",
    "</div>"
   ]
  },
  {
   "cell_type": "code",
   "execution_count": null,
   "id": "81620931-51e3-49f9-b4b2-5245c2957f5f",
   "metadata": {},
   "outputs": [],
   "source": [
    "if primary_property_list:\n",
    "    primary_property_str = ''\n",
    "    for iproperty in primary_property_list.get_list():\n",
    "        primary_property_str += iproperty + '\\n'\n",
    "    primary_property_str += '0'\n",
    "    \n",
    "    # Run `gmx energy` to extract the potential energy during the energy minimization.\n",
    "    results_energy, node_energy = launch_shell_job(\n",
    "        'gmx',\n",
    "        arguments='energy -f {edr} -o energy.xvg',\n",
    "        nodes={\n",
    "            'edr': results_eqnpt['npt_edr'],\n",
    "            'stdin': SinglefileData.from_string(primary_property_str),\n",
    "        },\n",
    "        outputs=['energy.xvg'],\n",
    "        metadata={'options': {'redirect_stderr': True, 'filename_stdin': 'stdin'}},\n",
    "    )\n",
    "    \n",
    "    average_eq_property_list = gromacs_analysis.get_average_property(results_energy['stdout'], primary_property_list)\n",
    "    print(average_eq_property_list)\n",
    "    print('Average equilibrium properties:\\n')\n",
    "    for average_property in average_eq_property_list:\n",
    "        print(f'{average_property[0]}: {average_property[1]} {average_property[2]}\\n')"
   ]
  },
  {
   "cell_type": "markdown",
   "id": "51ec2009-84ec-4ba9-9907-4a0a46e9f7dc",
   "metadata": {},
   "source": [
    "**Step 8:** Visualization of properties and polymer melt system.\n",
    "\n",
    "To visualize the data, first we need to import necessary python packages to be installed."
   ]
  },
  {
   "cell_type": "markdown",
   "id": "f1889e62-1c49-4d76-b5b3-69a7c7e7a825",
   "metadata": {},
   "source": [
    "We import the `gromacs_analysis`to create the plot for properties calculated in the previous step."
   ]
  },
  {
   "cell_type": "code",
   "execution_count": null,
   "id": "f284a6e1-c95d-4e66-bfd4-8b5b4884969a",
   "metadata": {},
   "outputs": [],
   "source": [
    "if primary_property_list:\n",
    "    plot = gromacs_analysis.create_time_plot(results_energy['energy_xvg'])\n",
    "    for iplot in plot:\n",
    "        display(Image(filename=iplot))"
   ]
  },
  {
   "cell_type": "markdown",
   "id": "9689c04d-3366-4719-848e-68b82c8e3e6b",
   "metadata": {},
   "source": [
    "**Step 9:** Setup for molecular dynamics simulation for multiple thermodynamic conditions required for some properties calculation."
   ]
  },
  {
   "cell_type": "markdown",
   "id": "cf44f31e-18b4-44f7-b578-bc1777548bdd",
   "metadata": {},
   "source": [
    "We are going to perform multiple molecular dynamics simulation by varying temperatures or varying pressure or varying both temperature and pressure. This variation in temeprature and pressure is controlled based on the user input.\n",
    "\n",
    "As the varying parameters are temperature and pressure, we do not need to perform the complete gromacs setup as we performed previously. We are executing the GROMACS `grompp` command to generate `.tpr` file for all the thermodynamics conditions (i.e. - temperature range or pressure range or both.) These `.tpr` files will be used to run the molecular dynamics simulations. "
   ]
  },
  {
   "cell_type": "markdown",
   "id": "03e470fe-fba2-4023-8995-c845049a3672",
   "metadata": {},
   "source": [
    "<div class=\"alert alert-info\">\n",
    "A `AiiDA's` list of `AiiDA node` instances are created for temperature and pressure range. These `node` instances will be called in the later step to run the molecular dynamics simulations.\n",
    "</div>"
   ]
  },
  {
   "cell_type": "code",
   "execution_count": null,
   "id": "3d1db63e-2856-4919-98da-a8e84ee56e5f",
   "metadata": {},
   "outputs": [],
   "source": [
    "if secondary_property_list:\n",
    "    node_grompplist = List([])\n",
    "    results_grompplist = List([])\n",
    "    \n",
    "    for i, temperature_i in enumerate(temperature_list.get_list()):\n",
    "        id = Int(i)\n",
    "        temperature_curr = Float(temperature_i)\n",
    "        eqnpt_mdp = gromacs_setup.get_npt_mdp(id = id, temperature = temperature_curr, pressure = pressure)\n",
    "        \n",
    "        tpr = f'npt-{i}.tpr'\n",
    "        results_grompp_eqnpt_iter, node_grompp_eqnpt_iter = launch_shell_job(\n",
    "            'gmx',\n",
    "            arguments='grompp -f {mdp} -c {gro} -p {top} -o {tpr}',\n",
    "            nodes={\n",
    "                'mdp': eqnpt_mdp,\n",
    "                'gro': results_em['em_gro'],\n",
    "                'top': results_updatetop['topol_top'],\n",
    "                'tpr': Str(tpr),\n",
    "                'folder': oplsaa,\n",
    "            },\n",
    "            filenames={\n",
    "                'folder': 'oplsaa.ff'\n",
    "            },\n",
    "            outputs=[tpr],\n",
    "            metadata={'options': {'redirect_stderr': True}},\n",
    "        )\n",
    "        node_grompplist.append(node_grompp_eqnpt_iter)\n",
    "        results_grompplist.append(results_grompp_eqnpt_iter)"
   ]
  },
  {
   "cell_type": "markdown",
   "id": "3d47a797-2fb7-4c71-af68-82c889c3bc8a",
   "metadata": {},
   "source": [
    "**Step 10:** Running MD simulation at multiple thermodynamic conditions.\n",
    "\n",
    "The series of molecular dynamics simulation is running. A `list` of ouput will be generated for different thermodynamic conditions."
   ]
  },
  {
   "cell_type": "markdown",
   "id": "4ea1e38c-c037-4c6f-9099-3c3bd79d05e5",
   "metadata": {},
   "source": [
    "**Job submission is not working currently**"
   ]
  },
  {
   "cell_type": "code",
   "execution_count": null,
   "id": "d51c251c-c8ff-4f16-a087-9f827c3986a8",
   "metadata": {},
   "outputs": [],
   "source": [
    "if secondary_property_list:\n",
    "    # Run `gmx mdrun` to run the equilibrium NPT simulations at different T & P\n",
    "    node_eqnptlist = List([])\n",
    "    results_eqnptlist = List([])\n",
    "    \n",
    "    for i, temperature_ele in enumerate(temperature_list.get_list()):\n",
    "        #print(i, temperature_ele, type(temperature_ele), type(i))\n",
    "        tpr = f'npt_{i}_tpr'\n",
    "        output = f'npt-{i}'\n",
    "        results_eqnpt, node_eqnpt = launch_shell_job(\n",
    "            'gmx',\n",
    "            arguments='mdrun -v -deffnm {output} -s {tpr}',\n",
    "            nodes={\n",
    "                'tpr': results_grompplist[i][tpr],\n",
    "                'output': Str(output),\n",
    "            },\n",
    "            outputs=[f'{output}.edr', f'{output}.gro', f'{output}.log', f'{output}.xtc'],\n",
    "            metadata={'options': {'redirect_stderr': True, 'computer': computer, 'withmpi': True}},\n",
    "        )\n",
    "        node_eqnptlist.append(node_eqnpt)\n",
    "        results_eqnptlist.append(results_eqnpt)"
   ]
  },
  {
   "cell_type": "markdown",
   "id": "02380c98-06ec-43cf-b9f1-93814ac86f12",
   "metadata": {},
   "source": [
    "**Step 11:** Calculation of polymer properties and visualization.\n",
    "\n",
    "Secondary properties for this system at all the thermodynamic condtions are getting calculated."
   ]
  },
  {
   "cell_type": "code",
   "execution_count": null,
   "id": "e9274f44-67c9-4acc-9213-1a98e9be9e29",
   "metadata": {},
   "outputs": [],
   "source": [
    "if secondary_property_list:\n",
    "    gromacs_property_list = polymer_constant.get_all_gromacs_property_list(secondary_property_list)\n",
    "    secondary_property_str = ''\n",
    "    for iproperty in gromacs_property_list.get_list():\n",
    "        secondary_property_str += iproperty + '\\n'\n",
    "    secondary_property_str += '0'\n",
    "    \n",
    "    node_energylist = List([])\n",
    "    results_energylist = List([])\n",
    "    average_property_list = List([])\n",
    "    \n",
    "    for i, temperature_ele in enumerate(temperature_list.get_list()):\n",
    "        edr = f'npt_{i}_edr'\n",
    "        output = f'energy-{i}.xvg'\n",
    "        results_energy, node_energy = launch_shell_job(\n",
    "            'gmx',\n",
    "            arguments='energy -f {edr} -o {output}',\n",
    "            nodes={\n",
    "                'edr': results_eqnptlist[i][edr],\n",
    "                'output': Str(output),\n",
    "                'stdin': SinglefileData.from_string(secondary_property_str),\n",
    "            },\n",
    "            outputs=[f'{output}'],\n",
    "            metadata={'options': {'redirect_stderr': True, 'filename_stdin': 'stdin'}},\n",
    "        )\n",
    "        node_energylist.append(node_energy)\n",
    "        results_energylist.append(results_energy)\n",
    "\n",
    "        average_property_list.append(gromacs_analysis.get_average_property(results_energy['stdout'], gromacs_property_list).get_list())"
   ]
  },
  {
   "cell_type": "code",
   "execution_count": null,
   "id": "40916cb8-6031-4585-aef1-cc4706e1cce8",
   "metadata": {},
   "outputs": [],
   "source": [
    "if secondary_property_list:\n",
    "    for iproperty in secondary_property_list:\n",
    "        plot = List([])\n",
    "        print(f'Plotting data for calculating: {iproperty}')\n",
    "        if iproperty == 'Tg':\n",
    "            plot = gromacs_analysis.create_tg_plot(temperature_list, average_property_list)\n",
    "\n",
    "        if plot:\n",
    "            for iplot in plot:\n",
    "                display(Image(filename=iplot))"
   ]
  },
  {
   "cell_type": "code",
   "execution_count": null,
   "id": "d5228b09-72a8-4ab7-a428-7633fb4853e5",
   "metadata": {},
   "outputs": [],
   "source": []
  }
 ],
 "metadata": {
  "kernelspec": {
   "display_name": "Python [conda env:aiida-gromacs]",
   "language": "python",
   "name": "conda-env-aiida-gromacs-py"
  },
  "language_info": {
   "codemirror_mode": {
    "name": "ipython",
    "version": 3
   },
   "file_extension": ".py",
   "mimetype": "text/x-python",
   "name": "python",
   "nbconvert_exporter": "python",
   "pygments_lexer": "ipython3",
   "version": "3.10.0"
  }
 },
 "nbformat": 4,
 "nbformat_minor": 5
}
