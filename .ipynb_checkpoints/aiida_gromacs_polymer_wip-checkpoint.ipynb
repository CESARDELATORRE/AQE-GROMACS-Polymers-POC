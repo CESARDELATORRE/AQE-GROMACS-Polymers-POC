{
 "cells": [
  {
   "cell_type": "markdown",
   "id": "b0ef939e-5c4c-454a-857a-10ca32dfaeb8",
   "metadata": {},
   "source": [
    "# Running *GROMACS* on AQE for Polymer Melt Simulation"
   ]
  },
  {
   "cell_type": "markdown",
   "id": "aa2a9292-a236-47f8-b80d-111164fbfe9e",
   "metadata": {},
   "source": [
    "This notebook will demonstrate the pipeline to simulate a polymer melt or a mixture of polymers in a melt using GROMACS molecular dynamics software.\\\n",
    "A polymer melt refers to a state where a polymer is heated until it becomes a viscous, liquid-like fluid. This is often done to process the polymer into various shapes and forms through methods like injection molding or extrusion.\\\n",
    "A mixture of polymers in a melt means combining two or more different polymers while they are in this liquid state to create a new material with unique properties. This is similar to how metal alloys are made by mixing different metals.\\\n",
    "The pipeline will enable us to do the following:\n",
    "- [x] Construction of _homopolymer_ with a user defined polymer chain length or molecular weight.\n",
    "- [x] Construction of _homopolymer melt_ or _homopolymer mixture_.\n",
    "- [x] Computation of various thermodynamic properties of the melt and polymeric properties.\n",
    "\n",
    "A homopolymer is a polymer that is made up of only one type of monomer. Essentially, it consists of repeating units of the same molecule. For example, polyethylene is a homopolymer made entirely from ethylene monomers.\n",
    "Construction of homopolymer means creating a polymer that consists of just one type of monomer, either with a specific chain length or molecular weight. This is in contrast to a copolymer, which would be made from two or more different monomers.\n",
    "\n",
    "**The objective of this notebook is to enable user to compute:**\n",
    "- [x] **The glass transition temperature (Tg) of the polymer/polymer mixture:** The glass transition temperature is a critical property in the study of polymers. It refers to the temperature range at which a polymer transitions from a hard, glassy material to a soft, rubbery state. Below the glass transition temperature, the polymer chains are in a rigid and brittle state, but above this temperature, they gain mobility and become more flexible and pliable.\n",
    "- [x] **Cohesive energy density (CED) of polymer:** Cohesive energy density of a polymer is a measure of the energy required to separate the polymer molecules from each other to an infinite distance. It's essentially a way of quantifying the intermolecular forces within the polymer. In other words, CED gives an idea of how strongly the polymer molecules are attracted to each other. A higher cohesive energy density means the molecules are more strongly bound together, which can influence the material's properties like its solubility, mechanical strength, and glass transition temperature.\n",
    "- [x] **Polymeric structural properties:** End-to-end distance distribution, radius of gyration and its eigen values.\n",
    "- [x] **Diffusion coefficient of polymer:** The diffusion coefficient of a polymer is a measure of how quickly polymer molecules move or spread through a medium (like a solvent or another polymer). It indicates the rate at which individual polymer chains travel within the given material. It's important in various applications, such as in Material Science when studying the mobility of polymers and their response to environmental changes, or Polymer Processing when understanding how polymers mix and spread during manufacturing.\n",
    "\n",
    "The major steps involved in the pipeline is as follows:\n",
    "- **Step 1:** Load AiiDA profile.\n",
    "- **Step 2:** User inputs for running the molecular dynamics simulation.\n",
    "- **Step 3:** Import necessary python packages.\n",
    "- **Step 4:** Polymer construction from the monomer.\n",
    "- **Step 5:** Setup for molecular dynamics simulation.\n",
    "- **Step 6:** Running the molecular dynamics simulation.\n",
    "- **Step 7:** Calculation of thermodynamic properties.\n",
    "- **Step 8:** Visualization of properties and polymer melt system.\n",
    "\n",
    "We will go through these aformentioned steps step by step."
   ]
  },
  {
   "cell_type": "markdown",
   "id": "82c0a11a-01d6-474a-af84-1c276eb58640",
   "metadata": {},
   "source": [
    "<div class=\"alert alert-info\">\n",
    " ℹ️ Currently the PoC is for linear homopolymer.\n",
    "</div>"
   ]
  },
  {
   "cell_type": "markdown",
   "id": "74317133-f046-4591-b454-34482873fc6c",
   "metadata": {},
   "source": [
    "**Step 1:** Load AiiDA profile.\\\n",
    "We load an AiiDA profile. The `load_profile` method will load the default profile if no explicit profile name is specified."
   ]
  },
  {
   "cell_type": "code",
   "execution_count": 7,
   "id": "f1be0d58-8e3d-408e-8f6d-97efa809d4e9",
   "metadata": {},
   "outputs": [
    {
     "data": {
      "text/plain": [
       "Profile<uuid='e3eed8e7f41e49b094d7e9107f76a58a' name='gromacs'>"
      ]
     },
     "execution_count": 7,
     "metadata": {},
     "output_type": "execute_result"
    }
   ],
   "source": [
    "from aiida import load_profile\n",
    "load_profile()"
   ]
  },
  {
   "cell_type": "markdown",
   "id": "3fb0b362-c728-4869-8e1b-29394e0bc330",
   "metadata": {},
   "source": [
    "**Step 2:** User inputs for running the molecular dynamics simulation.\\\n",
    "We define a few **_user defined_** parameters which are used throughout the pipeline. The necessary parameters are classified in two group of parameters.\\\n",
    "\n",
    "- **_Parameters for polymer/monomer_**\n",
    "1. **`monomer_pdbfilename`:** Name of the polymer for the MD simulation (**_NOTE: The dropdown for polymer selection will be given in the later version of the notebook._**)\n",
    "2. **`monomer_count_per_polymer`:** Number of monomer units per polymer. (**_NOTE: There will be one alternate option of giving molecular weight of the polymer._**)\n",
    "3. **`polymer_count`:** Number of polymer units for MD simulations. (**_NOTE: Add some note on the selection_**)\n",
    "\n",
    "- **_Primary MD properties_**\n",
    "1. **`primary_property_list`:** List of primary properties to be calculated from the MD simulation. (**_NOTE: Should use GROMACS notation_**)\n",
    "\n",
    "- **_Parameters for MD simulations (Primary properties)_**\n",
    "1. **`thermo_T`:** Simulation temperature in Kelvin (**_NOTE: This will be modified._**)\n",
    "2. **`thermo_P`:** Simulation pressure in bar (**_NOTE: This will be modified._**)\n",
    "\n",
    "- **_Secondary MD properties_**\n",
    "1. **`secondary_property_list`:** List of secondary properties to be calculated from the MD simulation. (**_NOTE: Should use GROMACS notation_**)\n",
    "\n",
    "- **_Parameters for MD simulations (Secondary properties)_**\n",
    "1. **`thermo_T_range`:** Simulation temperature range is given for the secondary properties calculation. (**_NOTE: This will be modified._**)\n",
    "2. **`thermo_T_increment`:** Simulation temperature increment is given for the secondary properties calculation (**_NOTE: This will be modified._**)"
   ]
  },
  {
   "cell_type": "code",
   "execution_count": 8,
   "id": "5e32127b-04c6-4256-9f15-eecd3517fc54",
   "metadata": {},
   "outputs": [],
   "source": [
    "# Polymer/Monomer inputs\n",
    "monomer_pdbfilename = 'PVAMonomer.pdb'        # PDB filename of the monomer\n",
    "monomer_count_per_polymer = 4                   # Number of monomers present in one polymer\n",
    "\n",
    "polymer_last_bond_and_first_bond = ['CB', 'HB2', 'HA3', 'CA']\n",
    "polymer_count = 600                             # Number of polymers will be simulated\n",
    "\n",
    "# MD simulation outputs (primary properties)\n",
    "primary_property_list = ['Potential', 'Density']\n",
    "\n",
    "# MD simulation inputs\n",
    "thermo_T = 300.15                               # Simulation Temperature (K)\n",
    "thermo_P = 1.0                                  # Simulation Pressure (bar)\n",
    "\n",
    "# MD simulation outputs (secondary properties)\n",
    "secondary_property_list = ['Tg']\n",
    "\n",
    "# MD simulation inputs\n",
    "thermo_T_range = [290.15, 310.15]\n",
    "thermo_T_increment = 5.0"
   ]
  },
  {
   "cell_type": "markdown",
   "id": "ef00336b-b8bf-43a9-9251-dcc7e1111591",
   "metadata": {},
   "source": [
    "**Step 3:** Import necessary python packages."
   ]
  },
  {
   "cell_type": "code",
   "execution_count": 9,
   "id": "b5a0ddfd-308c-4537-a1ad-14157235779c",
   "metadata": {},
   "outputs": [],
   "source": [
    "import pathlib\n",
    "import os\n",
    "import numpy as np\n",
    "\n",
    "from aiida.engine import run, submit\n",
    "from aiida.engine import calcfunction, WorkChain\n",
    "from aiida.orm import Bool, Int, Float, Str, Dict, List, SinglefileData, FolderData, Computer\n",
    "from aiida_shell import launch_shell_job"
   ]
  },
  {
   "cell_type": "markdown",
   "id": "33c1c41a-eb25-45bb-9dd6-c4804662247a",
   "metadata": {},
   "source": [
    "Convert the user input into `aiida.orm` data types accepted by the `node` arguments. "
   ]
  },
  {
   "cell_type": "code",
   "execution_count": 10,
   "id": "ca1ce0cc-033c-4479-b55c-a954283a6bd9",
   "metadata": {},
   "outputs": [],
   "source": [
    "monomer_pdbfilename = Str(monomer_pdbfilename)\n",
    "monomer_count_per_polymer = Int(monomer_count_per_polymer)\n",
    "\n",
    "polymer_last_bond_and_first_bond = List(polymer_last_bond_and_first_bond)\n",
    "polymer_count = Int(polymer_count)\n",
    "\n",
    "primary_properties = True\n",
    "primary_property_list = List(primary_property_list)\n",
    "thermo_T = Float(thermo_T)\n",
    "thermo_P = Float(thermo_P)\n",
    "\n",
    "secondary_properties = True\n",
    "secondary_property_list = List(secondary_property_list)\n",
    "if thermo_T_range[0] > thermo_T_range[1]:\n",
    "    raise ValueError('Temperature range is not correct.')\n",
    "thermo_T_list = List([thermo_T_range[0] + i * thermo_T_increment for i in range(0, int((thermo_T_range[1] - thermo_T_range[0])/thermo_T_increment)+1)])"
   ]
  },
  {
   "cell_type": "markdown",
   "id": "77c598f0-1816-4f5e-8b0f-2e2ce27a86ee",
   "metadata": {},
   "source": [
    "**Step 4:** Polymer construction from the monomer."
   ]
  },
  {
   "cell_type": "markdown",
   "id": "c36d1d5c-23cf-4263-9ad4-ba3af2dd50b8",
   "metadata": {},
   "source": [
    "The monomer pdb file is opened and wrapped it in AiiDA's `SinglefieData` data type, which allows it to be stored in the provenance graph."
   ]
  },
  {
   "cell_type": "code",
   "execution_count": 11,
   "id": "f198f09e-942e-4cd5-ba31-1d7f032be770",
   "metadata": {},
   "outputs": [],
   "source": [
    "monomer = SinglefileData(os.getcwd() + '/' + monomer_pdbfilename.value)"
   ]
  },
  {
   "cell_type": "markdown",
   "id": "62b4a31a-cbc6-44b9-80eb-dc24e1e49679",
   "metadata": {},
   "source": [
    "We use the PDB file containing the monomer structure and use a run(polymerize) workchain to automate the polymerization process. This workchain identifies the bonding sites in the monomer, iteratively connects them to form a polymer, and run till the number of monomer per chain is achieved. The output of this step is a dictionary containing the polymer's structural data wrapped in AiiDA's `SinglefileData` data type and atomic weight of the polymer chain. This streamlined approach eliminates the need for manual intervention."
   ]
  },
  {
   "cell_type": "code",
   "execution_count": null,
   "id": "de57b569-b702-47c7-9917-8cc42fcfe3d5",
   "metadata": {},
   "outputs": [],
   "source": [
    "from polymerize import PolymerizeWorkChain\n",
    "\n",
    "polymer_data = run(PolymerizeWorkChain, monomer = monomer, monomer_count = monomer_count_per_polymer, last_bond_and_first_bond = polymer_last_bond_and_first_bond)"
   ]
  },
  {
   "cell_type": "markdown",
   "id": "e794db40-d13f-4b63-8c5a-5dfb1e65549f",
   "metadata": {},
   "source": [
    "**Remove this once testing is completed**"
   ]
  },
  {
   "cell_type": "code",
   "execution_count": 7,
   "id": "089602d7-8ffc-4503-9b3e-19c29f4c3686",
   "metadata": {},
   "outputs": [],
   "source": [
    "polymerfile = os.getcwd() + '/4mer.pdb'\n",
    "polymer_data = {\n",
    "    'polymer': SinglefileData(polymerfile),\n",
    "    'polymer_molecular_weight': Float(218.37764)\n",
    "}"
   ]
  },
  {
   "cell_type": "code",
   "execution_count": 8,
   "id": "3d0c1b22-f3ad-40ab-987a-0203b5aca54c",
   "metadata": {},
   "outputs": [
    {
     "data": {
      "text/plain": [
       "dict"
      ]
     },
     "execution_count": 8,
     "metadata": {},
     "output_type": "execute_result"
    }
   ],
   "source": [
    "type(polymer_data)"
   ]
  },
  {
   "cell_type": "markdown",
   "id": "1fad4c13-7d20-4c89-a15e-c53213febf5a",
   "metadata": {},
   "source": [
    "##Visualization of Polymer Chain **(currently not working)**"
   ]
  },
  {
   "cell_type": "code",
   "execution_count": 9,
   "id": "915ebd46-f6b6-45f5-9bd4-b202f31addf3",
   "metadata": {},
   "outputs": [],
   "source": [
    "import nglview as nv\n",
    "import tempfile\n",
    "\n",
    "def visualize(node: SinglefileData) -> nv.NGLWidget:\n",
    "    with node.open(mode='rb') as source:\n",
    "        with tempfile.NamedTemporaryFile(suffix=node.filename) as target:\n",
    "            target.write(source.read())\n",
    "            view = nv.NGLWidget()\n",
    "            view.add_component(target.name)\n",
    "            view.clear_representations()\n",
    "            view.add_ball_and_stick()\n",
    "            return view"
   ]
  },
  {
   "cell_type": "code",
   "execution_count": 10,
   "id": "85e78ee5-8848-44a4-a10c-71456116e61f",
   "metadata": {},
   "outputs": [
    {
     "data": {
      "application/vnd.jupyter.widget-view+json": {
       "model_id": "02ffb2b19dd1403a994ff846e2c1b67b",
       "version_major": 2,
       "version_minor": 0
      },
      "text/plain": [
       "NGLWidget()"
      ]
     },
     "metadata": {},
     "output_type": "display_data"
    }
   ],
   "source": [
    "visualize(polymer_data['polymer'])"
   ]
  },
  {
   "cell_type": "markdown",
   "id": "2057cdf6-bb15-4cbc-bf76-81952895fbc5",
   "metadata": {},
   "source": [
    "**Step 5:** Setup for molecular dynamics simulation.\\\n",
    "The initial step involves determining the simulation box length using the `calc_simulation_box_length` function. This calculation is based on the default polymer melt density of 0.40 g/cc and the specified number of polymer chains for the simulation. By leveraging this density, the function ensures that the simulation box is appropriately sized to represent the polymer melt environment accurately, maintaining realistic molecular interactions and spatial arrangements. This calculated box length serves as the foundation for subsequent simulation setup and execution."
   ]
  },
  {
   "cell_type": "code",
   "execution_count": 11,
   "id": "49fa831c-4bdf-4ce0-b598-046d46b60372",
   "metadata": {},
   "outputs": [],
   "source": [
    "import gromacs_setup\n",
    "\n",
    "box_length = gromacs_setup.calc_simulation_box_length(polymer_data['polymer_molecular_weight'], polymer_count)"
   ]
  },
  {
   "cell_type": "markdown",
   "id": "0c869a6b-0e50-4eb4-89f2-4ca7e6815149",
   "metadata": {},
   "source": [
    "We configure the force-field folder and encapsulate it within AiiDA's `FolderData` data type, enabling its storage in the provenance graph. This folder contains the definitions for nonbonded and bonded interactions specific to the chosen force field, which will be utilized throughout the subsequent steps of the workflow."
   ]
  },
  {
   "cell_type": "code",
   "execution_count": 12,
   "id": "c91d00fd-70fa-47c7-bdcc-edc8f1495657",
   "metadata": {},
   "outputs": [],
   "source": [
    "# Default Parameters\n",
    "ffdir = os.getcwd() + '/oplsaa.ff'\n",
    "oplsaa = FolderData(tree=ffdir)"
   ]
  },
  {
   "cell_type": "markdown",
   "id": "7c90a748-73e1-4c4a-b915-f60a57c2c284",
   "metadata": {},
   "source": [
    "<div class=\"alert alert-info\">\n",
    "`gmx` is the GROMACS executable which will be executed with several parameters. The `nodes` argument takes a dictionary of `SinglefileData` and `FolderData` which will be copied to the working directory where the `gmx` command is executed. The `oplsaa` in `nodes` are copied to the `oplsaa.ff` folder in the working directory. If the key of the node appears as a placeholder in the `arguments` argument, it is replaced with its filename. \n",
    "</div>"
   ]
  },
  {
   "cell_type": "markdown",
   "id": "cdbbe09b-e4cf-479b-9535-c88e61532668",
   "metadata": {},
   "source": [
    "`gmx pdb2gmx` is used to generate the forcefield information for the given polymer i.e.  nonbonded and bonded interaction parameters for all the atoms in the polymer\n",
    "\n",
    "The `gmx pdb2gmx` is expected to generate three outputs of interest:\n",
    "- `polymer_out.pdb`: `.pdb` file of the polymer.\n",
    "- `topol.top`: The topology file.\n",
    "- `posre.itp`: The position restraint file included in the topology file."
   ]
  },
  {
   "cell_type": "code",
   "execution_count": 13,
   "id": "c918c1b1-afbc-48af-958f-aff8bed014a0",
   "metadata": {},
   "outputs": [],
   "source": [
    "# Run `gmx pdb2gmx` to convert the PDB to GROMACS .gro format.\n",
    "results_pdb2gmx, node_pdb2gmx = launch_shell_job(\n",
    "    'gmx',\n",
    "    arguments='pdb2gmx -f {polymer} -o polymer_out.pdb -water spce -ff oplsaa',\n",
    "    nodes={\n",
    "        'polymer': polymer_data['polymer'],\n",
    "        'folder': oplsaa,\n",
    "    },\n",
    "    filenames={\n",
    "        'folder': 'oplsaa.ff'\n",
    "    },\n",
    "    outputs=['polymer_out.pdb', 'topol.top', 'posre.itp'],\n",
    "    metadata={'options': {'redirect_stderr': True}},\n",
    ")\n",
    "#print(results_pdb2gmx['stdout'].get_content())"
   ]
  },
  {
   "cell_type": "markdown",
   "id": "d209101c-2e0e-4c12-ae5d-dc0bc8f6a26e",
   "metadata": {},
   "source": [
    "<div class=\"alert alert-info\">\n",
    "These output files will be used in the upcoming steps in the pipeline. To capture these output files in the AiiDA's provenance graph, these filenames are declared in the `output` argunent. `aiida-shell` will wrap these output files in a `SinglefileDtata`.\n",
    "</div>"
   ]
  },
  {
   "cell_type": "markdown",
   "id": "83422512-ce66-4536-86cd-06180733aacf",
   "metadata": {},
   "source": [
    "Similar to the previous steps, GROMACS creates a simulation box where mutiple chains of the polymer will be inserted for the MD simulations. From the previous step, `.pdb` file of the single polymer chain is used to replicate the polymer chain inside the simulation box. In the output, we get a simulation box containing `polymer_count` number of polymers."
   ]
  },
  {
   "cell_type": "code",
   "execution_count": 14,
   "id": "61d82e7a-5b82-49be-9120-5be4ea69e74b",
   "metadata": {},
   "outputs": [
    {
     "name": "stdout",
     "output_type": "stream",
     "text": [
      "False\n",
      "False\n"
     ]
    }
   ],
   "source": [
    "run = Bool(True)\n",
    "while run.value:\n",
    "    results_insert, node_insert = launch_shell_job(\n",
    "        'gmx',\n",
    "        arguments='insert-molecules -box {box_length} -ci {polymer} -nmol {polymer_count} -try 999 -o melt.pdb',\n",
    "        nodes={\n",
    "            'box_length': box_length,\n",
    "            'polymer': polymer_data['polymer'],\n",
    "            'polymer_count': polymer_count,\n",
    "        },\n",
    "        outputs=['melt.pdb'],\n",
    "        metadata={'options': {'redirect_stderr': True}},\n",
    "    )\n",
    "    #print(results_insert['stdout'].get_content())\n",
    "    run = gromacs_setup.check_insert_molecules(results_insert['stdout'], polymer_count)\n",
    "    print(run.value)\n",
    "    if run.value:\n",
    "        \n",
    "        run = Bool(False)\n",
    "    else:\n",
    "        run = Bool(False)\n",
    "    print(run.value)"
   ]
  },
  {
   "cell_type": "markdown",
   "id": "5c0213c0-bb5e-4f5b-8551-7f0c520c130a",
   "metadata": {},
   "source": [
    "While running the `pdb2gmx` command we have created the topology for one single polymer chain. However, in the `topol.top` file we have to provide the number of polymer chain present in the simulation box. Therefore, we are updating the number of molecules line from 1 to `polymer_count` using the `sed` command."
   ]
  },
  {
   "cell_type": "code",
   "execution_count": 15,
   "id": "cf0ac510-c033-4bae-b454-27875fdf7f72",
   "metadata": {},
   "outputs": [],
   "source": [
    "results_updatetop, node_updatetop = launch_shell_job(\n",
    "    'sed',\n",
    "    arguments='-i \"s/Other               1/Other               {polymer_count}/g\" {top}',\n",
    "    nodes={\n",
    "        'polymer_count': polymer_count,\n",
    "        'top': results_pdb2gmx['topol_top'],\n",
    "    },\n",
    "    outputs=['topol.top'],\n",
    "    metadata={'options': {'redirect_stderr': True}},\n",
    ")\n",
    "#print(results_updatetop['stdout'].get_content())"
   ]
  },
  {
   "cell_type": "markdown",
   "id": "83ded16d-4045-4ca9-aebf-243acd23f24e",
   "metadata": {},
   "source": [
    "<div class=\"alert alert-info\">\n",
    "The output `topol.top` file is declared in the `output` argunent where `aiida-shell` will wrap these output files in a `SinglefileDtata`.\n",
    "</div>"
   ]
  },
  {
   "cell_type": "markdown",
   "id": "1e44458e-73c3-4ece-b700-56395959e67b",
   "metadata": {},
   "source": [
    "**Prerequisite for MD simulations and simulation box preparation is completed and we can proceed to run the molecular dynamics simulation.**"
   ]
  },
  {
   "cell_type": "markdown",
   "id": "93479263-4dc6-4009-bd1a-9df2d2158276",
   "metadata": {},
   "source": [
    "`gmx grompp` is used to generate a `.tpr` file written in binary format which has all the necessary input information for running the MD simulation.\n",
    "\n",
    "The `gmx grompp` takes the input of three necesary files to generate the `.tpr` file.\n",
    "- [x] `.mdp`: The molecular dynamics parameters.\n",
    "- [x] `.gro`: The coordinate information of all the polymer chains present in the simulation box.\n",
    "- [x] `.top`: The tolology file of the polymer. Also, this has the information of number of polymers present in the simulation box."
   ]
  },
  {
   "cell_type": "code",
   "execution_count": 16,
   "id": "89e9a19d-7dce-46d2-aa9f-8a0840fef2cf",
   "metadata": {},
   "outputs": [],
   "source": [
    "# Run `gmx grompp` to pre-process the parameters for energy minimization.\n",
    "results_grompp_em, node_grompp_em = launch_shell_job(\n",
    "    'gmx',\n",
    "    arguments='grompp -f {mdp} -c {gro} -p {top} -o output.tpr',\n",
    "    nodes={\n",
    "        'mdp': gromacs_setup.get_em_mdp(),\n",
    "        'gro': results_insert['melt_pdb'],\n",
    "        'top': results_updatetop['topol_top'],\n",
    "        'folder': oplsaa,\n",
    "    },\n",
    "    filenames={\n",
    "        'folder': 'oplsaa.ff'\n",
    "    },\n",
    "    outputs=['output.tpr'],\n",
    "    metadata={'options': {'redirect_stderr': True}},\n",
    ")\n",
    "#print(results_grompp_em['stdout'].get_content())"
   ]
  },
  {
   "cell_type": "markdown",
   "id": "7deb55da-184c-419e-b95e-40114520f448",
   "metadata": {},
   "source": [
    "As we are proceeding towards the MD simulation, we must ensure that the simulations are running on the HPC to maximize the performance. Therefore, we are loading the AiiDA variable `Computer` where the information about the HPC will be given."
   ]
  },
  {
   "cell_type": "code",
   "execution_count": 17,
   "id": "483fe745-29b9-4ce4-aaf0-bcdbbcadbe49",
   "metadata": {},
   "outputs": [],
   "source": [
    "computer = Computer.collection.get(label='localhost')"
   ]
  },
  {
   "cell_type": "code",
   "execution_count": 18,
   "id": "f0a8868d-5c74-4d94-b186-9c85b620d738",
   "metadata": {},
   "outputs": [],
   "source": [
    "from aiida.orm import load_code"
   ]
  },
  {
   "cell_type": "code",
   "execution_count": 19,
   "id": "dd56933e-47cd-4255-a78c-c52a0124542a",
   "metadata": {},
   "outputs": [
    {
     "data": {
      "text/plain": [
       "str"
      ]
     },
     "execution_count": 19,
     "metadata": {},
     "output_type": "execute_result"
    }
   ],
   "source": [
    "gmx = load_code('gmx@localhost')\n",
    "type(gmx.label)"
   ]
  },
  {
   "cell_type": "markdown",
   "id": "e0933c22-fbaa-4f2b-8a1f-c920e35731c6",
   "metadata": {},
   "source": [
    "Now, the generated `.tpr` file is used for running the molecular dynamics simulation. We can run the `gmx mdrun` to run the energy minimization step. The variable `computer` is used in the `launch_shell_job` command ensures the use of HPC while running the simulation."
   ]
  },
  {
   "cell_type": "code",
   "execution_count": 20,
   "id": "e33c7b8c-1284-4c35-bbdd-82aedb5c5677",
   "metadata": {},
   "outputs": [],
   "source": [
    "# Run `gmx mdrun` to run the energy minimization.\n",
    "results_em, node_em = launch_shell_job(\n",
    "    'gmx',\n",
    "    arguments='mdrun -v -deffnm output -s {tpr}',\n",
    "    nodes={\n",
    "        'tpr': results_grompp_em['output_tpr'],\n",
    "    },\n",
    "    outputs=['output.edr', 'output.gro', 'output.log'],\n",
    "    metadata={'call_link_label': 'pdb2gmx', 'options': {'redirect_stderr': True, 'computer': computer}},\n",
    "    #metadata={'options': {'redirect_stderr': True, 'computer': computer, 'resources': 1\n",
    ")\n",
    "#print(results_em['stdout'].get_content())"
   ]
  },
  {
   "cell_type": "markdown",
   "id": "fd7ab7b6-b36f-421d-98c9-30e658254db5",
   "metadata": {},
   "source": [
    "Similar to the previous `gmx grompp` step, we can proceed with NPT equilibration step where the molecular dynamics simulation will be performed at the given thermodynamic conditions given by the user."
   ]
  },
  {
   "cell_type": "code",
   "execution_count": 21,
   "id": "b0f9e475-8a99-47b8-8e39-deca50067c65",
   "metadata": {},
   "outputs": [
    {
     "name": "stderr",
     "output_type": "stream",
     "text": [
      "/anfhome/software/anaconda/envs/aiida-gromacs/lib/python3.10/site-packages/aiida/engine/processes/ports.py:156: UserWarning: default of input port `id` is a `Node` instance, which can lead to unexpected side effects. It is advised to use a lambda instead, e.g.: `default=lambda: orm.Int(5)`.\n",
      "  warnings.warn(UserWarning(message))\n",
      "/anfhome/software/anaconda/envs/aiida-gromacs/lib/python3.10/site-packages/aiida/engine/processes/ports.py:156: UserWarning: default of input port `thermo_T` is a `Node` instance, which can lead to unexpected side effects. It is advised to use a lambda instead, e.g.: `default=lambda: orm.Int(5)`.\n",
      "  warnings.warn(UserWarning(message))\n",
      "/anfhome/software/anaconda/envs/aiida-gromacs/lib/python3.10/site-packages/aiida/engine/processes/ports.py:156: UserWarning: default of input port `thermo_P` is a `Node` instance, which can lead to unexpected side effects. It is advised to use a lambda instead, e.g.: `default=lambda: orm.Int(5)`.\n",
      "  warnings.warn(UserWarning(message))\n"
     ]
    }
   ],
   "source": [
    "# Run `gmx grompp` to pre-process the parameters for energy minimization.\n",
    "results_grompp_eqnpt, node_grompp_eqnpt = launch_shell_job(\n",
    "    'gmx',\n",
    "    arguments='grompp -f {mdp} -c {gro} -p {top} -o npt.tpr',\n",
    "    nodes={\n",
    "        'mdp': gromacs_setup.get_npt_mdp(thermo_T = thermo_T, thermo_P = thermo_P),\n",
    "        'gro': results_em['output_gro'],\n",
    "        'top': results_updatetop['topol_top'],\n",
    "        'folder': oplsaa,\n",
    "    },\n",
    "    filenames={\n",
    "        'folder': 'oplsaa.ff'\n",
    "    },\n",
    "    outputs=['npt.tpr'],\n",
    "    metadata={'options': {'redirect_stderr': True}},\n",
    ")\n",
    "#print(results_grompp_eqnpt['stdout'].get_content())"
   ]
  },
  {
   "cell_type": "markdown",
   "id": "a75de0db-2aa3-4393-a6b5-b28433d160ef",
   "metadata": {},
   "source": [
    "**Step 6:** Running the molecular dynamics simulation.\n",
    "The generated `.tpr` file is used for running the molecular dynamics simulation for NPT equilibration. We can run the `gmx mdrun` to run the NPT equilibration step."
   ]
  },
  {
   "cell_type": "code",
   "execution_count": 22,
   "id": "954f83a3-3738-4f10-99e4-c5dd1606d26b",
   "metadata": {},
   "outputs": [],
   "source": [
    "# Run `gmx mdrun` to run the energy minimization.\n",
    "results_eqnpt, node_eqnpt = launch_shell_job(\n",
    "    'gmx',\n",
    "    arguments='mdrun -v -deffnm output -s {tpr}',\n",
    "    nodes={\n",
    "        'tpr': results_grompp_eqnpt['npt_tpr'],\n",
    "    },\n",
    "    outputs=['output.edr', 'output.gro', 'output.log', 'output.xtc'],\n",
    "    metadata={'options': {'redirect_stderr': True}},\n",
    ")\n",
    "#print(results_eqnpt['stdout'].get_content())"
   ]
  },
  {
   "cell_type": "markdown",
   "id": "4a628b3d-9515-4577-b945-374e224fcf0f",
   "metadata": {},
   "source": [
    "**Step 7:** Calculation of primary thermodynamic properties. (e.g. - density, potential energy etc.)"
   ]
  },
  {
   "cell_type": "markdown",
   "id": "95092770-a794-464b-b98e-733ab0180535",
   "metadata": {},
   "source": [
    "<div class=\"alert alert-info\">\n",
    "Using `gmx energy` command we can calculate and plot the primary properties for the simulated polymer system.\n",
    "</div>"
   ]
  },
  {
   "cell_type": "markdown",
   "id": "be259a84-8648-48ab-9366-172f9780e717",
   "metadata": {},
   "source": [
    "<div class=\"alert alert-info\">\n",
    "The input for `gmx energy` is the `output.edr` from the `results_eqnpt`. Here we first pass `10` which corresponds to the potential energy, followed by `0` which finalizes the selection and completes the prompt. The `output` file of this step saved as GROMACS generated `.xvg` format.\n",
    "</div>"
   ]
  },
  {
   "cell_type": "code",
   "execution_count": 23,
   "id": "81620931-51e3-49f9-b4b2-5245c2957f5f",
   "metadata": {},
   "outputs": [],
   "source": [
    "primary_property_str = ''\n",
    "for iproperty in primary_property_list.get_list():\n",
    "    primary_property_str += iproperty + '\\n'\n",
    "primary_property_str += '0'\n",
    "\n",
    "# Run `gmx energy` to extract the potential energy during the energy minimization.\n",
    "results_energy, node_energy = launch_shell_job(\n",
    "    'gmx',\n",
    "    arguments='energy -f {edr} -o energy.xvg',\n",
    "    nodes={\n",
    "        'edr': results_eqnpt['output_edr'],\n",
    "        'stdin': SinglefileData.from_string(primary_property_str),\n",
    "    },\n",
    "    outputs=['energy.xvg'],\n",
    "    metadata={'options': {'redirect_stderr': True, 'filename_stdin': 'stdin'}},\n",
    ")"
   ]
  },
  {
   "cell_type": "code",
   "execution_count": 26,
   "id": "371adda9-83cb-42aa-9858-17a2c10f9abb",
   "metadata": {},
   "outputs": [
    {
     "name": "stdout",
     "output_type": "stream",
     "text": [
      "                   :-) GROMACS - gmx energy, 2023.3-spack (-:\n",
      "\n",
      "Executable:   /anfhome/spack/opt/spack/__spack_path_placeholder__/__spack_path_placeholder__/__spack_path_placeholder__/__spack_path_placehold/linux-almalinux8-zen3/aocc-4.1.0/gromacs-2023.3-upt5rsow4zsttzs63kqercg7her4e3e2/bin/gmx_mpi\n",
      "Data prefix:  /anfhome/spack/opt/spack/__spack_path_placeholder__/__spack_path_placeholder__/__spack_path_placeholder__/__spack_path_placehold/linux-almalinux8-zen3/aocc-4.1.0/gromacs-2023.3-upt5rsow4zsttzs63kqercg7her4e3e2\n",
      "Working dir:  /anfhome/prosun/scratch/aiida/42/d9/8e59-1257-4648-8b94-09da05fb3973\n",
      "Command line:\n",
      "  gmx_mpi energy -f output.edr -o energy.xvg\n",
      "\n",
      "Opened output.edr as single precision energy file\n",
      "\n",
      "Select the terms you want from the following list by\n",
      "selecting either (part of) the name or the number or a combination.\n",
      "End your selection with an empty line or a zero.\n",
      "-------------------------------------------------------------------\n",
      "  1  Bond             2  Angle            3  Ryckaert-Bell.   4  LJ-14         \n",
      "  5  Coulomb-14       6  LJ-(SR)          7  Disper.-corr.    8  Coulomb-(SR)  \n",
      "  9  Coul.-recip.    10  Potential       11  Kinetic-En.     12  Total-Energy  \n",
      " 13  Conserved-En.   14  Temperature     15  Pres.-DC        16  Pressure      \n",
      " 17  Constr.-rmsd    18  Box-X           19  Box-Y           20  Box-Z         \n",
      " 21  Volume          22  Density         23  pV              24  Enthalpy      \n",
      " 25  Vir-XX          26  Vir-XY          27  Vir-XZ          28  Vir-YX        \n",
      " 29  Vir-YY          30  Vir-YZ          31  Vir-ZX          32  Vir-ZY        \n",
      " 33  Vir-ZZ          34  Pres-XX         35  Pres-XY         36  Pres-XZ       \n",
      " 37  Pres-YX         38  Pres-YY         39  Pres-YZ         40  Pres-ZX       \n",
      " 41  Pres-ZY         42  Pres-ZZ         43  #Surf*SurfTen   44  T-System      \n",
      " 45  Lamb-System   \n",
      "\n",
      "Last energy frame read 25 time  100.000           \n",
      "\n",
      "Statistics over 50001 steps [ 0.0000 through 100.0000 ps ], 2 data sets\n",
      "All statistics are over 501 points\n",
      "\n",
      "Energy                      Average   Err.Est.       RMSD  Tot-Drift\n",
      "-------------------------------------------------------------------------------\n",
      "Potential                   7053.85       2600    5690.11   -17244.2  (kJ/mol)\n",
      "Density                      506.78         42     86.572    291.997  (kg/m^3)\n",
      "\n",
      "GROMACS reminds you: \"Try to calculate the numbers that have been\" (The Smoke Fairies)\n",
      "\n",
      "\n"
     ]
    }
   ],
   "source": [
    "print(results_energy['stdout'].get_content())"
   ]
  },
  {
   "cell_type": "code",
   "execution_count": 24,
   "id": "0959ffe6-3f1f-46c1-909f-20f59e9d7fe0",
   "metadata": {},
   "outputs": [
    {
     "data": {
      "text/plain": [
       "['# This file was created Tue Jan 21 12:33:57 2025',\n",
       " '# Created by:',\n",
       " '#                   :-) GROMACS - gmx energy, 2023.3-spack (-:',\n",
       " '# ',\n",
       " '# Executable:   /anfhome/spack/opt/spack/__spack_path_placeholder__/__spack_path_placeholder__/__spack_path_placeholder__/__spack_path_placehold/linux-almalinux8-zen3/aocc-4.1.0/gromacs-2023.3-upt5rsow4zsttzs63kqercg7her4e3e2/bin/gmx_mpi',\n",
       " '# Data prefix:  /anfhome/spack/opt/spack/__spack_path_placeholder__/__spack_path_placeholder__/__spack_path_placeholder__/__spack_path_placehold/linux-almalinux8-zen3/aocc-4.1.0/gromacs-2023.3-upt5rsow4zsttzs63kqercg7her4e3e2',\n",
       " '# Working dir:  /anfhome/prosun/scratch/aiida/42/d9/8e59-1257-4648-8b94-09da05fb3973',\n",
       " '# Command line:',\n",
       " '#   gmx_mpi energy -f output.edr -o energy.xvg',\n",
       " '# gmx energy is part of G R O M A C S:',\n",
       " '#',\n",
       " '# Gromacs Runs One Microsecond At Cannonball Speeds',\n",
       " '#',\n",
       " '@    title \"GROMACS Energies\"',\n",
       " '@    xaxis  label \"Time (ps)\"',\n",
       " '@    yaxis  label \"(kJ/mol), (kg/m^3)\"',\n",
       " '@TYPE xy',\n",
       " '@ view 0.15, 0.15, 0.75, 0.85',\n",
       " '@ legend on',\n",
       " '@ legend box on',\n",
       " '@ legend loctype view',\n",
       " '@ legend 0.78, 0.8',\n",
       " '@ legend length 2',\n",
       " '@ s0 legend \"Potential\"',\n",
       " '@ s1 legend \"Density\"',\n",
       " '    0.000000  -23160.091797  399.996063',\n",
       " '    4.000000  20551.511719  399.110443',\n",
       " '    8.000000  17856.312500  403.496765',\n",
       " '   12.000000  15373.145508  414.011383',\n",
       " '   16.000000  13395.146484  419.521118',\n",
       " '   20.000000  11929.793945  424.117493',\n",
       " '   24.000000  9406.663086  427.910095',\n",
       " '   28.000000  8170.679199  437.914917',\n",
       " '   32.000000  8136.389648  444.115479',\n",
       " '   36.000000  7540.597656  448.964233',\n",
       " '   40.000000  6938.687012  459.502472',\n",
       " '   44.000000  6274.515137  470.273529',\n",
       " '   48.000000  6426.262207  482.743561',\n",
       " '   52.000000  5105.709961  491.886780',\n",
       " '   56.000000  4891.989258  503.488953',\n",
       " '   60.000000  4019.411621  514.733398',\n",
       " '   64.000000  3468.199707  531.573975',\n",
       " '   68.000000  3124.749512  545.302795',\n",
       " '   72.000000  3110.754883  559.908569',\n",
       " '   76.000000  3542.462402  573.555786',\n",
       " '   80.000000  3048.766846  594.398376',\n",
       " '   84.000000  2464.059082  614.983398',\n",
       " '   88.000000  2155.460693  632.744995',\n",
       " '   92.000000  1692.185303  653.272217',\n",
       " '   96.000000  551.380981  676.124695',\n",
       " '  100.000000  -565.668884  705.007019',\n",
       " '']"
      ]
     },
     "execution_count": 24,
     "metadata": {},
     "output_type": "execute_result"
    }
   ],
   "source": [
    "results_energy['energy_xvg'].get_content().split('\\n')"
   ]
  },
  {
   "cell_type": "markdown",
   "id": "51ec2009-84ec-4ba9-9907-4a0a46e9f7dc",
   "metadata": {},
   "source": [
    "**Step 8:** Visualization of properties and polymer melt system.\n",
    "To visualize the data, first we need to import necessary python packages to be installed."
   ]
  },
  {
   "cell_type": "code",
   "execution_count": 24,
   "id": "7d4ed5e2-1523-48d4-8457-220538003b50",
   "metadata": {},
   "outputs": [],
   "source": [
    "import io\n",
    "\n",
    "import matplotlib.pyplot as plt\n",
    "import numpy as np\n",
    "\n",
    "from IPython.display import display, IFrame"
   ]
  },
  {
   "cell_type": "markdown",
   "id": "f1889e62-1c49-4d76-b5b3-69a7c7e7a825",
   "metadata": {},
   "source": [
    "We define the `create_plot` function and pass the `potential.xvg` from the previous step. The `create_plot` will create a plot which is saved to a stream in memory which is then passed to a `SinglefileData` node to store it in AiiDA's provecance graph."
   ]
  },
  {
   "cell_type": "code",
   "execution_count": 44,
   "id": "e78b16ab-4604-4f27-be5a-61442c0d2187",
   "metadata": {},
   "outputs": [],
   "source": [
    "@calcfunction\n",
    "def create_plot(xvg: SinglefileData) -> dict:\n",
    "    \"\"\"Plot the data of a XVG output file.\"\"\"\n",
    "    lines = xvg.get_content().split('\\n')\n",
    "    data = np.loadtxt(lines, comments=['#', '@']).T\n",
    "\n",
    "    plot = {}\n",
    "    for iplot in range(len(data)-1):\n",
    "        plt.figure(figsize=(6,4))\n",
    "        plt.plot(data[0], data[iplot+1])\n",
    "        stream = io.BytesIO()\n",
    "        plt.savefig(stream, format='png', bbox_inches='tight', dpi=150)\n",
    "        print('hi')\n",
    "        plot[f'{iplot}'] = SinglefileData(stream, filename=f'plot-{iplot}.png')\n",
    "    print('plotting ', plot)\n",
    "    return plot\n",
    "    \n",
    "# Create a plot from the extracted potential energy of the system\n",
    "plot = create_plot(results_energy['energy_xvg'])"
   ]
  },
  {
   "cell_type": "code",
   "execution_count": 40,
   "id": "0243c23b-1f38-4212-bf79-eaf3edad24c5",
   "metadata": {},
   "outputs": [
    {
     "data": {
      "text/plain": [
       "<Float: uuid: 7e2bd5c2-bcb1-46ca-80af-d56d8bcfefac (pk: 18446) value: 0.0>"
      ]
     },
     "execution_count": 40,
     "metadata": {},
     "output_type": "execute_result"
    }
   ],
   "source": [
    "plot"
   ]
  },
  {
   "cell_type": "code",
   "execution_count": 42,
   "id": "f6ee2424-38b7-4fd9-abbe-aed8305310c6",
   "metadata": {},
   "outputs": [
    {
     "name": "stdout",
     "output_type": "stream",
     "text": [
      "18445  48s ago    create_plot                    ✔    ⏹ Finished [0]\n",
      "18353  8m ago     create_plot                    ✔    ⏹ Finished [0]\n",
      "18351  9m ago     create_plot                    ✔    ⏹ Finished [0]\n",
      "18349  9m ago     create_plot                    ✔    ⏹ Finished [0]\n",
      "18347  9m ago     create_plot                    ✔    ⏹ Finished [0]\n",
      "18346  9m ago     create_plot                         ⨯ Excepted\n",
      "18345  10m ago    create_plot                         ⨯ Excepted\n",
      "18344  10m ago    create_plot                         ⨯ Excepted\n",
      "18343  12m ago    create_plot                         ⨯ Excepted\n",
      "18341  32m ago    create_plot                    ✔    ⏹ Finished [0]\n",
      "18339  32m ago    create_plot                    ✔    ⏹ Finished [0]\n",
      "18337  32m ago    create_plot                    ✔    ⏹ Finished [0]\n",
      "18335  32m ago    create_plot                         ⏹ Finished [0]\n",
      "18333  33m ago    create_plot                         ⏹ Finished [0]\n",
      "18332  33m ago    create_plot                         ⨯ Excepted\n",
      "18331  34m ago    create_plot                         ⨯ Excepted\n",
      "18330  34m ago    create_plot                         ⨯ Excepted\n",
      "18329  34m ago    create_plot                         ⨯ Excepted\n",
      "/anfhome/software/anaconda/envs/aiida-gromacs/lib/python3.10/site-packages/paramiko/pkey.py:82: CryptographyDeprecationWarning: TripleDES has been moved to cryptography.hazmat.decrepit.ciphers.algorithms.TripleDES and will be removed from cryptography.hazmat.primitives.ciphers.algorithms in 48.0.0.\n",
      "  \"cipher\": algorithms.TripleDES,\n",
      "/anfhome/software/anaconda/envs/aiida-gromacs/lib/python3.10/site-packages/paramiko/transport.py:253: CryptographyDeprecationWarning: TripleDES has been moved to cryptography.hazmat.decrepit.ciphers.algorithms.TripleDES and will be removed from cryptography.hazmat.primitives.ciphers.algorithms in 48.0.0.\n",
      "  \"class\": algorithms.TripleDES,\n"
     ]
    }
   ],
   "source": [
    "! verdi process list -a -D desc | grep \"create_plot\"\n",
    "#! verdi node delete 18443 -f"
   ]
  },
  {
   "cell_type": "code",
   "execution_count": null,
   "id": "42d13a4c-7975-4d51-ad10-304637763b5b",
   "metadata": {},
   "outputs": [],
   "source": []
  },
  {
   "cell_type": "code",
   "execution_count": null,
   "id": "e6511819-52db-48e0-baa7-365bd236fb17",
   "metadata": {},
   "outputs": [],
   "source": []
  },
  {
   "cell_type": "code",
   "execution_count": null,
   "id": "cc274c94-1f8b-4f5d-8b96-d115acee3e7c",
   "metadata": {},
   "outputs": [],
   "source": []
  },
  {
   "cell_type": "code",
   "execution_count": 20,
   "id": "9f420a28-46bb-411a-86da-e097faf9f076",
   "metadata": {},
   "outputs": [
    {
     "name": "stdout",
     "output_type": "stream",
     "text": [
      "uuid: 97e6732c-9f90-4a53-8cdd-3956d470aa5c (unstored) value: [290.15, 295.15, 300.15, 305.15, 310.15]\n",
      "[290.15, 295.15, 300.15, 305.15, 310.15]\n"
     ]
    }
   ],
   "source": [
    "print(thermo_T_list)\n",
    "print(thermo_T_list.get_list())"
   ]
  },
  {
   "cell_type": "code",
   "execution_count": 47,
   "id": "3d1db63e-2856-4919-98da-a8e84ee56e5f",
   "metadata": {},
   "outputs": [
    {
     "name": "stdout",
     "output_type": "stream",
     "text": [
      "eqnpt-0.mdp\n",
      "eqnpt-1.mdp\n",
      "eqnpt-2.mdp\n",
      "eqnpt-3.mdp\n",
      "eqnpt-4.mdp\n"
     ]
    }
   ],
   "source": [
    "nodelist = List([])\n",
    "resultslist = List([])\n",
    "\n",
    "for i, thermo_T_i in enumerate(thermo_T_list.get_list()):\n",
    "    id = Int(i)\n",
    "    thermo_T_curr = Float(thermo_T_i)\n",
    "    eqnpt_mdp = gromacs_setup.get_npt_mdp(id, thermo_T_curr, thermo_P)\n",
    "    print(eqnpt_mdp.filename)\n",
    "    \n",
    "    tpr = f'npt-{i}.tpr'\n",
    "    results_grompp_eqnpt, node_grompp_eqnpt = launch_shell_job(\n",
    "        'gmx',\n",
    "        arguments='grompp -f {mdp} -c {gro} -p {top} -o {tpr}',\n",
    "        nodes={\n",
    "            'mdp': eqnpt_mdp,\n",
    "            'gro': results_em['output_gro'],\n",
    "            'top': results_updatetop['topol_top'],\n",
    "            'tpr': Str(tpr),\n",
    "            'folder': oplsaa,\n",
    "        },\n",
    "        filenames={\n",
    "            'folder': 'oplsaa.ff'\n",
    "        },\n",
    "        outputs=[tpr],\n",
    "        metadata={'options': {'redirect_stderr': True}},\n",
    "    )\n",
    "    nodelist.append(node_grompp_eqnpt)\n",
    "    resultslist.append(results_grompp_eqnpt)"
   ]
  },
  {
   "cell_type": "markdown",
   "id": "162abd08-da6d-4bc0-9d22-500dce09eabc",
   "metadata": {},
   "source": [
    "**Step 6:** Running the molecular dynamics simulation.\n",
    "The generated `.tpr` file is used for running the molecular dynamics simulation for NPT equilibration. We can run the `gmx mdrun` to run the NPT equilibration step."
   ]
  },
  {
   "cell_type": "code",
   "execution_count": null,
   "id": "a22dcee9-ad97-44d2-81d5-2a6baa59356d",
   "metadata": {},
   "outputs": [],
   "source": [
    "# Run `gmx mdrun` to run the energy minimization.\n",
    "results_eqnpt, node_eqnpt = launch_shell_job(\n",
    "    'gmx',\n",
    "    arguments='mdrun -v -deffnm output -s {tpr}',\n",
    "    nodes={\n",
    "        'tpr': results_grompp_eqnpt['npt_tpr'],\n",
    "    },\n",
    "    outputs=['output.edr', 'output.gro', 'output.log', 'output.xtc'],\n",
    "    metadata={'options': {'redirect_stderr': True}},\n",
    ")\n",
    "#print(results_eqnpt['stdout'].get_content())"
   ]
  },
  {
   "cell_type": "markdown",
   "id": "7b25f6cc-caac-45a3-986a-f20e93c8f35e",
   "metadata": {},
   "source": [
    "**MD simulation is completed. Therefore, we can go for analysis of the simulated system.**"
   ]
  },
  {
   "cell_type": "markdown",
   "id": "a0a5fc06-c5da-470d-87ab-fbc90d696b31",
   "metadata": {},
   "source": [
    "**Step 7:** Calculation of thermodynamic properties. (e.g. - density, potential energy, T~g~ etc.)"
   ]
  },
  {
   "cell_type": "markdown",
   "id": "fb3b52b3-438c-4f04-8a7f-a48af6f52a27",
   "metadata": {},
   "source": [
    "<div class=\"alert alert-info\">\n",
    "Using `gmx energy` command we can calculate and plot the primary properties for the simulated polymer system.\n",
    "</div>"
   ]
  },
  {
   "cell_type": "code",
   "execution_count": null,
   "id": "529e979e-f056-4f18-9e9d-0c3a73e663b0",
   "metadata": {},
   "outputs": [],
   "source": [
    "# Run `gmx energy` to extract the potential energy during the energy minimization.\n",
    "results_energy, node_energy = launch_shell_job(\n",
    "    'gmx',\n",
    "    arguments='energy -f {edr} -o potential.xvg',\n",
    "    nodes={\n",
    "        'edr': results_eqnpt['output_edr'],\n",
    "        'stdin': orm.SinglefileData.from_string('10\\n0'),\n",
    "    },\n",
    "    outputs=['potential.xvg'],\n",
    "    metadata={'options': {'redirect_stderr': True, 'filename_stdin': 'stdin'}},\n",
    ")"
   ]
  },
  {
   "cell_type": "markdown",
   "id": "8cf8e5ca-25b9-41b9-b826-d86a5f1be1b0",
   "metadata": {},
   "source": [
    "<div class=\"alert alert-info\">\n",
    "The input for `gmx energy` is the `output.edr` from the `results_eqnpt`. Here we first pass `10` which corresponds to the potential energy, followed by `0` which finalizes the selection and completes the prompt. The `output` file of this step saved as GROMACS generated `.xvg` format.\n",
    "</div>"
   ]
  },
  {
   "cell_type": "markdown",
   "id": "d2b0ac6e-6cbe-4b4d-8845-92461f267592",
   "metadata": {},
   "source": [
    "**Step 8:** Visualization of properties and polymer melt system.\n",
    "To visualize the data, first we need to import necessary python packages to be installed."
   ]
  },
  {
   "cell_type": "code",
   "execution_count": null,
   "id": "0cf61011-8717-441c-9430-5db4281c1ba0",
   "metadata": {},
   "outputs": [],
   "source": [
    "import io\n",
    "\n",
    "import matplotlib.pyplot as plt\n",
    "import numpy as np\n",
    "\n",
    "from IPython.display import display, IFrame"
   ]
  },
  {
   "cell_type": "markdown",
   "id": "4955dea7-89fd-419b-83bd-9cf2028028dd",
   "metadata": {},
   "source": [
    "We define the `create_plot` function and pass the `potential.xvg` from the previous step. The `create_plot` will create a plot which is saved to a stream in memory which is then passed to a `SinglefileData` node to store it in AiiDA's provecance graph."
   ]
  },
  {
   "cell_type": "code",
   "execution_count": null,
   "id": "a1a90353-4bbb-44a8-9746-73fd9dc6b2f9",
   "metadata": {},
   "outputs": [],
   "source": [
    "#@engine.calcfunction\n",
    "def create_plot(xvg: orm.SinglefileData) -> orm.SinglefileData:\n",
    "    \"\"\"Plot the data of a XVG output file.\"\"\"\n",
    "    lines = xvg.get_content().split('\\n')\n",
    "    data = np.loadtxt(lines, comments=['#', '@']).T\n",
    "    plt.figure(figsize=(6,4))\n",
    "    plt.plot(*data)\n",
    "    plt.xlabel('Time (ps)')\n",
    "    plt.ylabel('Potential energy [kJ/mol]')\n",
    "    stream = io.BytesIO()\n",
    "    plt.savefig(stream, format='png', bbox_inches='tight', dpi=150)\n",
    "    #stream.seek(0)\n",
    "    return orm.SinglefileData(stream, filename='potential.png')\n",
    "    \n",
    "# Create a plot from the extracted potential energy of the system\n",
    "plot = create_plot(results_energy['potential_xvg'])"
   ]
  },
  {
   "cell_type": "markdown",
   "id": "556f2eac-7f3e-4673-801b-c383489ef303",
   "metadata": {},
   "source": [
    "In the same way we can get the density data from the `output.edr` using the `gmx energy` command and plot it."
   ]
  },
  {
   "cell_type": "code",
   "execution_count": null,
   "id": "1a8e8dd6-4816-412f-a052-60dcaa3cf43d",
   "metadata": {},
   "outputs": [],
   "source": []
  },
  {
   "cell_type": "code",
   "execution_count": null,
   "id": "e16b97d9-e09b-4ab8-8982-57f279541768",
   "metadata": {},
   "outputs": [],
   "source": []
  },
  {
   "cell_type": "code",
   "execution_count": null,
   "id": "674b3021-3c88-4b63-b5e0-10455c9321f7",
   "metadata": {},
   "outputs": [],
   "source": []
  },
  {
   "cell_type": "code",
   "execution_count": null,
   "id": "413d9678-ba9a-4ca6-a86b-f417b4ab8523",
   "metadata": {},
   "outputs": [],
   "source": []
  },
  {
   "cell_type": "code",
   "execution_count": null,
   "id": "8fd16167-6abc-4f29-86a3-f46ded2dea50",
   "metadata": {},
   "outputs": [],
   "source": []
  },
  {
   "cell_type": "code",
   "execution_count": null,
   "id": "f9165b31-7c06-4d64-bd95-04d39a1cb5bb",
   "metadata": {},
   "outputs": [],
   "source": []
  },
  {
   "cell_type": "code",
   "execution_count": null,
   "id": "55f1e3a2-f75d-4121-b735-a3eb91b0d9c5",
   "metadata": {},
   "outputs": [],
   "source": []
  },
  {
   "cell_type": "code",
   "execution_count": null,
   "id": "6b545f72-e2c1-4538-8fae-6845dc4920fb",
   "metadata": {},
   "outputs": [],
   "source": []
  },
  {
   "cell_type": "code",
   "execution_count": null,
   "id": "a8253d3d-272a-4e98-b0c1-b7c6fa8b20fc",
   "metadata": {},
   "outputs": [],
   "source": []
  },
  {
   "cell_type": "code",
   "execution_count": 26,
   "id": "26a219a6-b3b7-4468-92d6-a30fdedfd88f",
   "metadata": {},
   "outputs": [],
   "source": [
    "from aiida.orm import Computer, InstalledCode, load_code"
   ]
  },
  {
   "cell_type": "code",
   "execution_count": 27,
   "id": "2b3d5a5e-6ccb-4655-8878-c6f9e6922e81",
   "metadata": {},
   "outputs": [],
   "source": [
    "computer = Computer.collection.get(label='ondemand')"
   ]
  },
  {
   "cell_type": "code",
   "execution_count": 28,
   "id": "193dda95-1c89-4024-b927-77990c5ce4d0",
   "metadata": {},
   "outputs": [],
   "source": [
    "from aiida.orm import Computer, InstalledCode, load_code, load_computer"
   ]
  },
  {
   "cell_type": "code",
   "execution_count": 17,
   "id": "dfcaaced-70a1-4abf-96e0-9832370d5993",
   "metadata": {},
   "outputs": [
    {
     "data": {
      "text/plain": [
       "<InstalledCode: Remote code 'gmx-gpu' on ondemand pk: 3, uuid: 1257560f-2c9d-4e53-949c-5cdbcf17c330>"
      ]
     },
     "execution_count": 17,
     "metadata": {},
     "output_type": "execute_result"
    }
   ],
   "source": [
    "gmx_gpu = load_code('gmx-gpu@ondemand')\n",
    "gmx_gpu"
   ]
  },
  {
   "cell_type": "code",
   "execution_count": 19,
   "id": "227b8d0c-c0d3-4fb6-ba79-86491a746836",
   "metadata": {},
   "outputs": [],
   "source": [
    "hpc = load_computer('ondemand')"
   ]
  },
  {
   "cell_type": "code",
   "execution_count": 20,
   "id": "8d143ef3-4290-4f29-a9ab-880a26632d92",
   "metadata": {},
   "outputs": [
    {
     "data": {
      "text/plain": [
       "<Computer: ondemand (ondemand), pk: 2>"
      ]
     },
     "execution_count": 20,
     "metadata": {},
     "output_type": "execute_result"
    }
   ],
   "source": [
    "hpc"
   ]
  },
  {
   "cell_type": "code",
   "execution_count": 21,
   "id": "625ebf01-fed9-46e1-99ea-596bd6cc7fcb",
   "metadata": {},
   "outputs": [],
   "source": [
    "#! verdi process list -a -D desc\n",
    "#! verdi node delete 27641 -f\n",
    "#! verdi process report 27732\n",
    "#! verdi node graph generate 32574"
   ]
  },
  {
   "cell_type": "code",
   "execution_count": 22,
   "id": "f2d5e697-3b99-491c-b15b-3492b564e5a8",
   "metadata": {},
   "outputs": [],
   "source": [
    "                 "
   ]
  },
  {
   "cell_type": "markdown",
   "id": "3c6f4aca-6645-4041-b235-e48df59f49d2",
   "metadata": {},
   "source": [
    "**MD simulation is completed. Therefore, we can go for analysis of the simulated system.**"
   ]
  },
  {
   "cell_type": "markdown",
   "id": "a17e9366-bead-4c7c-8c72-ccb03168fef2",
   "metadata": {},
   "source": [
    "<div class=\"alert alert-info\">\n",
    "Using `gmx energy` command we can calculate and plot the primary properties for the simulated polymer system.\n",
    "</div>"
   ]
  },
  {
   "cell_type": "code",
   "execution_count": null,
   "id": "098b5b4f-233f-4efb-bc2f-df729e0b9c46",
   "metadata": {},
   "outputs": [],
   "source": [
    "# Run `gmx energy` to extract the potential energy during the energy minimization.\n",
    "results_energy, node_energy = launch_shell_job(\n",
    "    'gmx',\n",
    "    arguments='energy -f {edr} -o potential.xvg',\n",
    "    nodes={\n",
    "        'edr': results_eqnpt['output_edr'],\n",
    "        'stdin': orm.SinglefileData.from_string('10\\n0'),\n",
    "    },\n",
    "    outputs=['potential.xvg'],\n",
    "    metadata={'options': {'redirect_stderr': True, 'filename_stdin': 'stdin'}},\n",
    ")"
   ]
  },
  {
   "cell_type": "markdown",
   "id": "8ef0735d-e0ab-4fcd-9933-d4b687ceb0ad",
   "metadata": {},
   "source": [
    "<div class=\"alert alert-info\">\n",
    "The input for `gmx energy` is the `output.edr` from the `results_eqnpt`. Here we first pass `10` which corresponds to the potential energy, followed by `0` which finalizes the selection and completes the prompt. The `output` file of this step saved as GROMACS generated `.xvg` format.\n",
    "</div>"
   ]
  },
  {
   "cell_type": "markdown",
   "id": "cfd99e10-adae-4705-b7a5-9de4a9d12c53",
   "metadata": {},
   "source": [
    "To visualize the data, first we need to import necessary python packages to be installed."
   ]
  },
  {
   "cell_type": "code",
   "execution_count": null,
   "id": "b77ae951-a68e-4ceb-9dee-c226c8e21a5c",
   "metadata": {},
   "outputs": [],
   "source": [
    "import io\n",
    "\n",
    "import matplotlib.pyplot as plt\n",
    "import numpy as np\n",
    "\n",
    "from IPython.display import display, IFrame"
   ]
  },
  {
   "cell_type": "markdown",
   "id": "c320cf78-dad6-4868-a737-8a4c2388eab6",
   "metadata": {},
   "source": [
    "We define the `create_plot` function and pass the `potential.xvg` from the previous step. The `create_plot` will create a plot which is saved to a stream in memory which is then passed to a `SinglefileData` node to store it in AiiDA's provecance graph."
   ]
  },
  {
   "cell_type": "code",
   "execution_count": null,
   "id": "edab4b7d-3639-4927-92ea-b6014e57b3cf",
   "metadata": {},
   "outputs": [],
   "source": [
    "@engine.calcfunction\n",
    "def create_plot(xvg: orm.SinglefileData) -> orm.SinglefileData:\n",
    "    \"\"\"Plot the data of a XVG output file.\"\"\"\n",
    "    lines = xvg.get_content().split('\\n')\n",
    "    data = np.loadtxt(lines, comments=['#', '@']).T\n",
    "    plt.figure(figsize=(6,4))\n",
    "    plt.plot(*data)\n",
    "    plt.xlabel('Time (ps)')\n",
    "    plt.ylabel('Potential energy [kJ/mol]')\n",
    "    stream = io.BytesIO()\n",
    "    plt.savefig(stream, format='png', bbox_inches='tight', dpi=150)\n",
    "    #stream.seek(0)\n",
    "    return orm.SinglefileData(stream, filename='potential.png')\n",
    "    \n",
    "# Create a plot from the extracted potential energy of the system\n",
    "plot = create_plot(results_energy['potential_xvg'])"
   ]
  },
  {
   "cell_type": "markdown",
   "id": "3f58522b-621f-42a3-8287-9dc2d188a054",
   "metadata": {},
   "source": [
    "In the same way we can get the density data from the `output.edr` using the `gmx energy` command and plot it."
   ]
  },
  {
   "cell_type": "code",
   "execution_count": null,
   "id": "8122add3-4f53-4cf1-b9d8-9fa9b222076c",
   "metadata": {},
   "outputs": [],
   "source": [
    "# Run `gmx energy` to extract the potential energy during the energy minimization.\n",
    "results_energy, node_energy = launch_shell_job(\n",
    "    'gmx',\n",
    "    arguments='energy -f {edr} -o density.xvg',\n",
    "    nodes={\n",
    "        'edr': results_eqnpt['output_edr'],\n",
    "        'stdin': orm.SinglefileData.from_string('22\\n0'),\n",
    "    },\n",
    "    outputs=['density.xvg'],\n",
    "    metadata={'options': {'redirect_stderr': True, 'filename_stdin': 'stdin'}},\n",
    ")"
   ]
  },
  {
   "cell_type": "code",
   "execution_count": null,
   "id": "1d4c2fef-f2ac-4ef9-a427-59d28b45e74a",
   "metadata": {},
   "outputs": [],
   "source": [
    "@engine.calcfunction\n",
    "def create_plot(xvg: orm.SinglefileData) -> orm.SinglefileData:\n",
    "    \"\"\"Plot the data of a XVG output file.\"\"\"\n",
    "    lines = xvg.get_content().split('\\n')\n",
    "    data = np.loadtxt(lines, comments=['#', '@']).T\n",
    "    plt.plot(*data)\n",
    "    plt.xlabel('Time (ps)')\n",
    "    plt.ylabel('Density $[kg/m^3]$')\n",
    "    stream = io.BytesIO()\n",
    "    plt.savefig(stream, format='png', bbox_inches='tight', dpi=300)\n",
    "    #stream.seek(0)\n",
    "    return orm.SinglefileData(stream, filename='density.png')\n",
    "\n",
    "# Create a plot from the extracted density of the system\n",
    "plot = create_plot(results_energy['density_xvg'])"
   ]
  },
  {
   "cell_type": "code",
   "execution_count": null,
   "id": "0aba542e-007a-40f9-bf74-928fe539c058",
   "metadata": {},
   "outputs": [],
   "source": []
  },
  {
   "cell_type": "code",
   "execution_count": 34,
   "id": "121b169e-05fa-40c9-a586-e7d92c34fe34",
   "metadata": {},
   "outputs": [
    {
     "name": "stdout",
     "output_type": "stream",
     "text": [
      "300.15\n"
     ]
    }
   ],
   "source": []
  },
  {
   "cell_type": "code",
   "execution_count": 38,
   "id": "f086a336-a571-4ded-9035-2908e0a59060",
   "metadata": {},
   "outputs": [],
   "source": [
    "thermo_T_count = 5\n",
    "thermo_T_list = orm.ArrayData(np.array([thermo_T.value-10.0, thermo_T.value-5.0]))"
   ]
  },
  {
   "cell_type": "code",
   "execution_count": 39,
   "id": "aa740375-3a48-43d1-862a-dcdfe65421ff",
   "metadata": {},
   "outputs": [],
   "source": [
    "from aiida.engine.daemon.client import get_daemon_client\n",
    "\n",
    "client = get_daemon_client()\n",
    "client.start_daemon()"
   ]
  },
  {
   "cell_type": "code",
   "execution_count": 40,
   "id": "8862243c-58c4-47ff-96e7-2bda9b0bab30",
   "metadata": {},
   "outputs": [
    {
     "name": "stdout",
     "output_type": "stream",
     "text": [
      "0 290.15 <class 'numpy.float64'> <class 'int'>\n",
      "eqnpt-0.mdp\n",
      "0\n",
      "done\n",
      "1 295.15 <class 'numpy.float64'> <class 'int'>\n",
      "eqnpt-1.mdp\n",
      "1\n",
      "done\n"
     ]
    }
   ],
   "source": [
    "@engine.calcfunction\n",
    "def set_mdp_parameter(id: int=0, thermo_T: np.float64=298.15, thermo_P: np.float64=1.0, ) -> orm.SinglefileData:\n",
    "    mdp_str = f\"\"\"\n",
    "    title                   = NPT Equilibration\n",
    "    ;define                 = -DPOSRES\n",
    "    integrator              = md\n",
    "    dt                      = 0.002\n",
    "    nsteps                  = 50000\n",
    "    nstenergy               = 2000\n",
    "    nstxout-compressed      = 10000\n",
    "    nstvout                 = 0\n",
    "    nstlog                  = 1000\n",
    "    gen_vel                 = yes\n",
    "    gen_temp                = 298.15\n",
    "    pbc                     = xyz\n",
    "    cutoff-scheme           = Verlet\n",
    "    rlist                   = 1.0\n",
    "    ns_type                 = grid\n",
    "    nstlist                 = 10\n",
    "    coulombtype             = PME\n",
    "    fourierspacing          = 0.12\n",
    "    pme_order               = 4\n",
    "    rcoulomb                = 1.0\n",
    "    vdwtype                 = Cut-Off\n",
    "    rvdw                    = 1.0\n",
    "    DispCorr                = EnerPres\n",
    "    constraints             = h-bonds\n",
    "    constraint_algorithm    = lincs\n",
    "    lincs_iter              = 1\n",
    "    lincs_order             = 4\n",
    "    tcoupl                  = v-rescale\n",
    "    tc-grps                 = System\n",
    "    ref_t                   = {thermo_T.value}\n",
    "    tau_t                   = 0.1\n",
    "    pcoupl                  = c-rescale\n",
    "    pcoupltype              = isotropic\n",
    "    ref_p                   = {thermo_P.value}\n",
    "    tau_p                   = 2.0\n",
    "    ;refcoord-scaling        = com\n",
    "    compressibility         = 4.5e-5\n",
    "    \"\"\"\n",
    "\n",
    "    #print(mdp_str)\n",
    "    #print('T = ', thermo_T.value)\n",
    "    #print('P = ', thermo_P.value)\n",
    "\n",
    "    return orm.SinglefileData.from_string(mdp_str, filename=f'eqnpt-{id.value}.mdp')\n",
    "\n",
    "nodelist = []\n",
    "resultslist = []\n",
    "\n",
    "for i, thermo_T_ele in enumerate(thermo_T_list.get_array()):\n",
    "    print(i, thermo_T_ele, type(thermo_T_ele), type(i))\n",
    "    eqnpt_mdp = set_mdp_parameter(i, thermo_T_ele, thermo_P)\n",
    "    print(eqnpt_mdp.filename)\n",
    "    #print(eqnpt_mdp.get_content())\n",
    "\n",
    "    print(i)\n",
    "    tpr = f'npt-{i}.tpr'\n",
    "    results_grompp_eqnpt, node_grompp_eqnpt = launch_shell_job(\n",
    "        'gmx',\n",
    "        arguments='grompp -f {mdp} -c {gro} -p {top} -o {tpr}',\n",
    "        nodes={\n",
    "            'mdp': eqnpt_mdp,\n",
    "            'gro': results_em['output_gro'],\n",
    "            'top': results_updatetop['topol_top'],\n",
    "            'tpr': orm.Str(tpr),\n",
    "            'folder': oplsaa,\n",
    "        },\n",
    "        filenames={\n",
    "            'folder': 'oplsaa.ff'\n",
    "        },\n",
    "        outputs=[tpr],\n",
    "        metadata={'options': {'redirect_stderr': True}},\n",
    "    )\n",
    "    nodelist.append(node_grompp_eqnpt)\n",
    "    resultslist.append(results_grompp_eqnpt)\n",
    "    #print(node_grompp_eqnpt.outputs.stdout.get_content())\n",
    "    print('done')"
   ]
  },
  {
   "cell_type": "code",
   "execution_count": 41,
   "id": "b97af577-db32-4bf5-89fe-7ac0e77b1b15",
   "metadata": {},
   "outputs": [
    {
     "name": "stdout",
     "output_type": "stream",
     "text": [
      "[<CalcJobNode: uuid: 32603611-d2b0-4ffa-9323-967db18d2c90 (pk: 4152) (aiida.calculations:core.shell)>, <CalcJobNode: uuid: 09aa274d-4f72-4794-be7d-701ecb8cee63 (pk: 4165) (aiida.calculations:core.shell)>]\n"
     ]
    }
   ],
   "source": [
    "print(nodelist)"
   ]
  },
  {
   "cell_type": "code",
   "execution_count": 42,
   "id": "59b1dc96-2a34-4155-9334-84632973a773",
   "metadata": {},
   "outputs": [
    {
     "name": "stdout",
     "output_type": "stream",
     "text": [
      "[{'npt_0_tpr': <SinglefileData: uuid: 4d22018d-3dad-435f-90ec-052092796a34 (pk: 4155)>, 'stdout': <SinglefileData: uuid: 02a1740b-9287-45af-a231-b3db5135c2ee (pk: 4156)>}, {'npt_1_tpr': <SinglefileData: uuid: 6a505202-9e9a-4060-bb10-84c07f20480a (pk: 4168)>, 'stdout': <SinglefileData: uuid: 059df435-7a17-461e-9705-fa1fef59f56c (pk: 4169)>}]\n"
     ]
    }
   ],
   "source": [
    "print(resultslist)"
   ]
  },
  {
   "cell_type": "code",
   "execution_count": 43,
   "id": "62844906-e3e1-4f36-9946-8e097c082e10",
   "metadata": {},
   "outputs": [
    {
     "name": "stdout",
     "output_type": "stream",
     "text": [
      "<class 'aiida.orm.nodes.data.singlefile.SinglefileData'>\n",
      "<class 'aiida.orm.nodes.data.singlefile.SinglefileData'>\n"
     ]
    }
   ],
   "source": [
    "for i, result in enumerate(resultslist):\n",
    "    ou = f'npt_{i}_tpr'\n",
    "    print(type(result[ou]))"
   ]
  },
  {
   "cell_type": "code",
   "execution_count": 44,
   "id": "a253df64-4345-4bb1-b1a1-0e5f9d77d52d",
   "metadata": {},
   "outputs": [
    {
     "name": "stdout",
     "output_type": "stream",
     "text": [
      "0 290.15 <class 'numpy.float64'> <class 'int'>\n",
      "npt_0_tpr\n",
      "done\n",
      "1 295.15 <class 'numpy.float64'> <class 'int'>\n",
      "npt_1_tpr\n",
      "done\n"
     ]
    }
   ],
   "source": [
    "node_dumplist = []\n",
    "results_dumplist = []\n",
    "\n",
    "for i, thermo_T_ele in enumerate(thermo_T_list.get_array()):\n",
    "    print(i, thermo_T_ele, type(thermo_T_ele), type(i))\n",
    "    tpr = f'npt_{i}_tpr'\n",
    "    dump = f'npt-{i}.dump'\n",
    "    print(tpr)\n",
    "    results_dump, node_dump = launch_shell_job(\n",
    "        'gmx',\n",
    "        arguments='dump -s {tpr}',\n",
    "        nodes={\n",
    "            'tpr': resultslist[i][tpr],\n",
    "        },\n",
    "        metadata={'options': {'redirect_stderr': True}},\n",
    "    )\n",
    "    node_dumplist.append(node_dump)\n",
    "    results_dumplist.append(results_dump)\n",
    "    print('done')"
   ]
  },
  {
   "cell_type": "code",
   "execution_count": 45,
   "id": "3537fbad-345c-47c6-b8b5-db243284286a",
   "metadata": {},
   "outputs": [],
   "source": [
    "#print(results_dumplist[0]['stdout'].get_content())"
   ]
  },
  {
   "cell_type": "code",
   "execution_count": 58,
   "id": "ec944aae-de25-48ef-bd65-6494d1330a70",
   "metadata": {},
   "outputs": [],
   "source": [
    "import aiida_aqe"
   ]
  },
  {
   "cell_type": "code",
   "execution_count": 59,
   "id": "dbac5ec8-816c-46d5-95a1-9df8089c426f",
   "metadata": {},
   "outputs": [],
   "source": [
    "import aiida_aqe.tools"
   ]
  },
  {
   "cell_type": "code",
   "execution_count": 64,
   "id": "95ef46c1-5cd6-4967-8765-fdcb3814d079",
   "metadata": {},
   "outputs": [
    {
     "data": {
      "text/plain": [
       "['__builtins__',\n",
       " '__cached__',\n",
       " '__doc__',\n",
       " '__file__',\n",
       " '__loader__',\n",
       " '__name__',\n",
       " '__package__',\n",
       " '__path__',\n",
       " '__spec__']"
      ]
     },
     "execution_count": 64,
     "metadata": {},
     "output_type": "execute_result"
    }
   ],
   "source": [
    "dir(aiida_aqe.tools)"
   ]
  },
  {
   "cell_type": "code",
   "execution_count": null,
   "id": "12e93ea4-049e-482b-a1d5-f80cbc053df2",
   "metadata": {},
   "outputs": [],
   "source": []
  }
 ],
 "metadata": {
  "kernelspec": {
   "display_name": "Python [conda env:aiida-gromacs]",
   "language": "python",
   "name": "conda-env-aiida-gromacs-py"
  },
  "language_info": {
   "codemirror_mode": {
    "name": "ipython",
    "version": 3
   },
   "file_extension": ".py",
   "mimetype": "text/x-python",
   "name": "python",
   "nbconvert_exporter": "python",
   "pygments_lexer": "ipython3",
   "version": "3.10.0"
  }
 },
 "nbformat": 4,
 "nbformat_minor": 5
}
