{
 "cells": [
  {
   "cell_type": "code",
   "execution_count": 5,
   "id": "7c28f1fb-e87b-4bdf-acb1-019d0f3ebe14",
   "metadata": {},
   "outputs": [
    {
     "data": {
      "text/plain": [
       "Profile<uuid='e3eed8e7f41e49b094d7e9107f76a58a' name='gromacs'>"
      ]
     },
     "execution_count": 5,
     "metadata": {},
     "output_type": "execute_result"
    }
   ],
   "source": [
    "from aiida import load_profile\n",
    "load_profile()"
   ]
  },
  {
   "cell_type": "code",
   "execution_count": 6,
   "id": "658374d9-b49f-4270-be26-1265938b1648",
   "metadata": {},
   "outputs": [],
   "source": [
    "import importlib\n",
    "import polymer_constant"
   ]
  },
  {
   "cell_type": "code",
   "execution_count": 11,
   "id": "ace5c8c5-8189-4057-be7d-14d5e505461e",
   "metadata": {},
   "outputs": [
    {
     "data": {
      "text/plain": [
       "<Str: uuid: 629aba80-32c8-43d3-8a10-876773b5d5a2 (pk: 52285) value: PVAMonomer.pdb>"
      ]
     },
     "execution_count": 11,
     "metadata": {},
     "output_type": "execute_result"
    }
   ],
   "source": [
    "from aiida.orm import Int, List\n",
    "\n",
    "importlib.reload(polymer_constant)\n",
    "pdb = polymer_constant.get_pdb(Int(2))\n",
    "pdb"
   ]
  },
  {
   "cell_type": "code",
   "execution_count": 12,
   "id": "77958ab1-bd04-484f-864d-1ee0cd3ed4a0",
   "metadata": {},
   "outputs": [],
   "source": [
    "secondary_property_list = List(['Tg'])"
   ]
  },
  {
   "cell_type": "code",
   "execution_count": 13,
   "id": "b795ef9c-8fc7-4960-b4d0-9bdda0364aac",
   "metadata": {},
   "outputs": [],
   "source": [
    "plist = polymer_constant.get_gromacs_propertylist(secondary_property_list)"
   ]
  },
  {
   "cell_type": "code",
   "execution_count": 14,
   "id": "1fa9cde3-5f5c-4513-8aab-348fa6d6e0e4",
   "metadata": {},
   "outputs": [
    {
     "data": {
      "text/plain": [
       "<List: uuid: e155f05c-1aba-47fd-87ce-43a37484b84c (pk: 52289) value: [['Density']]>"
      ]
     },
     "execution_count": 14,
     "metadata": {},
     "output_type": "execute_result"
    }
   ],
   "source": [
    "plist"
   ]
  },
  {
   "cell_type": "code",
   "execution_count": null,
   "id": "41468809-05af-4d78-844f-c9d90c8e8e9b",
   "metadata": {},
   "outputs": [],
   "source": []
  },
  {
   "cell_type": "code",
   "execution_count": null,
   "id": "12e2f5d9-e1db-4e4c-888b-1ff05a24647a",
   "metadata": {},
   "outputs": [],
   "source": []
  },
  {
   "cell_type": "code",
   "execution_count": null,
   "id": "72b6cb1b-97b0-42f8-a445-10f4d8f1f316",
   "metadata": {},
   "outputs": [],
   "source": []
  },
  {
   "cell_type": "code",
   "execution_count": null,
   "id": "d501ce91-2851-48f4-a678-e488abde881f",
   "metadata": {},
   "outputs": [],
   "source": []
  },
  {
   "cell_type": "code",
   "execution_count": 7,
   "id": "f50c7ef1-9cc5-4f8d-92e7-6f93f35dce1c",
   "metadata": {},
   "outputs": [],
   "source": [
    "from aiida.orm import Dict, SinglefileData, List\n",
    "from aiida.engine import calcfunction"
   ]
  },
  {
   "cell_type": "code",
   "execution_count": 3,
   "id": "65436164-146e-4dd6-9810-7496f2979533",
   "metadata": {},
   "outputs": [],
   "source": [
    "result = SinglefileData.from_string('# This file was created Thu Feb  6 06:25:48 2025\\n# Created by:\\n#                   :-) GROMACS - gmx energy, 2023.3-spack (-:\\n# \\n# Executable:   /anfhome/spack/opt/spack/__spack_path_placeholder__/__spack_path_placeholder__/__spack_path_placeholder__/__spack_path_placehold/linux-almalinux8-zen3/aocc-4.1.0/gromacs-2023.3-upt5rsow4zsttzs63kqercg7her4e3e2/bin/gmx_mpi\\n# Data prefix:  /anfhome/spack/opt/spack/__spack_path_placeholder__/__spack_path_placeholder__/__spack_path_placeholder__/__spack_path_placehold/linux-almalinux8-zen3/aocc-4.1.0/gromacs-2023.3-upt5rsow4zsttzs63kqercg7her4e3e2\\n# Working dir:  /anfhome/prosun/scratch/aiida/12/a0/21b0-16e7-4deb-9631-24c7c0cddd68\\n# Command line:\\n#   gmx_mpi energy -f npt.edr -o energy.xvg\\n# gmx energy is part of G R O M A C S:\\n#\\n# Gromacs Runs One Microsecond At Cannonball Speeds\\n#\\n@    title \"GROMACS Energies\"\\n@    xaxis  label \"Time (ps)\"\\n@    yaxis  label \"(kJ/mol), (kg/m^3)\"\\n@TYPE xy\\n@ view 0.15, 0.15, 0.75, 0.85\\n@ legend on\\n@ legend box on\\n@ legend loctype view\\n@ legend 0.78, 0.8\\n@ legend length 2\\n@ s0 legend \"Potential\"\\n@ s1 legend \"Density\"\\n    0.000000  -7612.551758  400.012543\\n    4.000000  6542.255859  400.476929\\n    8.000000  5637.866699  413.688934\\n   12.000000  4579.610352  421.083496\\n   16.000000  3714.424805  426.431854\\n   20.000000  3340.050293  435.022369\\n   24.000000  2725.031006  443.003143\\n   28.000000  2400.927979  454.735168\\n   32.000000  2784.248535  461.428467\\n   36.000000  2105.930908  479.026154\\n   40.000000  1685.778320  488.122620\\n   44.000000  1856.595703  498.230530\\n   48.000000  1505.265381  506.632202\\n   52.000000  1572.482666  514.816956\\n   56.000000  1851.105713  521.878235\\n   60.000000  1348.019531  532.022095\\n   64.000000  1467.872070  552.699463\\n   68.000000  634.864624  567.784607\\n   72.000000  812.420654  594.286743\\n   76.000000  988.304321  616.961365\\n   80.000000  924.504883  640.005127\\n   84.000000  505.697510  655.206116\\n   88.000000  739.292908  675.158691\\n   92.000000  324.528381  695.752991\\n   96.000000  582.086609  711.255859\\n  100.000000  -142.051147  750.318237\\n')"
   ]
  },
  {
   "cell_type": "code",
   "execution_count": 21,
   "id": "382c546f-6964-4f27-bf78-51ef3c6f3066",
   "metadata": {},
   "outputs": [],
   "source": [
    "import importlib"
   ]
  },
  {
   "cell_type": "code",
   "execution_count": 22,
   "id": "2de5e8fd-27c6-4955-9327-4f80293364e6",
   "metadata": {},
   "outputs": [],
   "source": [
    "import gromacs_analysis"
   ]
  },
  {
   "cell_type": "code",
   "execution_count": 33,
   "id": "5e5662b3-1a4e-46da-a040-1c476e1bf7b7",
   "metadata": {},
   "outputs": [
    {
     "data": {
      "text/plain": [
       "<module 'gromacs_analysis' from '/anfhome/prosun/polymer/AQE-GROMACS-Polymers-POC/gromacs_analysis.py'>"
      ]
     },
     "execution_count": 33,
     "metadata": {},
     "output_type": "execute_result"
    }
   ],
   "source": [
    "importlib.reload(gromacs_analysis)"
   ]
  },
  {
   "cell_type": "code",
   "execution_count": 7,
   "id": "d2545ac2-61ee-47a7-ba2f-fbcb96822872",
   "metadata": {},
   "outputs": [
    {
     "name": "stdout",
     "output_type": "stream",
     "text": [
      "plotting ->  0\n",
      "plotting ->  1\n"
     ]
    },
    {
     "data": {
      "text/plain": [
       "<Figure size 800x500 with 0 Axes>"
      ]
     },
     "metadata": {},
     "output_type": "display_data"
    }
   ],
   "source": [
    "plot = gromacs_analysis.create_time_plot(result)"
   ]
  },
  {
   "cell_type": "code",
   "execution_count": 8,
   "id": "1994bd31-bc22-4314-8da5-d07f93730271",
   "metadata": {},
   "outputs": [],
   "source": [
    "from IPython.display import display, Image"
   ]
  },
  {
   "cell_type": "code",
   "execution_count": 6,
   "id": "db24c66d-7fe2-45d1-92e2-ff849a807b2e",
   "metadata": {},
   "outputs": [],
   "source": [
    "result_data = SinglefileData.from_string('                   :-) GROMACS - gmx energy, 2023.3-spack (-:\\n\\nExecutable:   /anfhome/spack/opt/spack/__spack_path_placeholder__/__spack_path_placeholder__/__spack_path_placeholder__/__spack_path_placehold/linux-almalinux8-zen3/aocc-4.1.0/gromacs-2023.3-upt5rsow4zsttzs63kqercg7her4e3e2/bin/gmx_mpi\\nData prefix:  /anfhome/spack/opt/spack/__spack_path_placeholder__/__spack_path_placeholder__/__spack_path_placeholder__/__spack_path_placehold/linux-almalinux8-zen3/aocc-4.1.0/gromacs-2023.3-upt5rsow4zsttzs63kqercg7her4e3e2\\nWorking dir:  /anfhome/prosun/scratch/aiida/8d/f6/ec04-a299-4965-b068-b78e32a9e45d\\nCommand line:\\n  gmx_mpi energy -f npt.edr -o energy.xvg\\n\\nOpened npt.edr as single precision energy file\\n\\nSelect the terms you want from the following list by\\nselecting either (part of) the name or the number or a combination.\\nEnd your selection with an empty line or a zero.\\n-------------------------------------------------------------------\\n  1  Bond             2  Angle            3  Ryckaert-Bell.   4  LJ-14         \\n  5  Coulomb-14       6  LJ-(SR)          7  Disper.-corr.    8  Coulomb-(SR)  \\n  9  Coul.-recip.    10  Potential       11  Kinetic-En.     12  Total-Energy  \\n 13  Conserved-En.   14  Temperature     15  Pres.-DC        16  Pressure      \\n 17  Constr.-rmsd    18  Box-X           19  Box-Y           20  Box-Z         \\n 21  Volume          22  Density         23  pV              24  Enthalpy      \\n 25  Vir-XX          26  Vir-XY          27  Vir-XZ          28  Vir-YX        \\n 29  Vir-YY          30  Vir-YZ          31  Vir-ZX          32  Vir-ZY        \\n 33  Vir-ZZ          34  Pres-XX         35  Pres-XY         36  Pres-XZ       \\n 37  Pres-YX         38  Pres-YY         39  Pres-YZ         40  Pres-ZX       \\n 41  Pres-ZY         42  Pres-ZZ         43  #Surf*SurfTen   44  T-System      \\n 45  Lamb-System   \\n\\n\\rReading energy frame      0 time    0.000         \\rReading energy frame      1 time    4.000         \\rReading energy frame      2 time    8.000         \\rReading energy frame      3 time   12.000         \\rReading energy frame      4 time   16.000         \\rReading energy frame      5 time   20.000         \\rReading energy frame      6 time   24.000         \\rReading energy frame      7 time   28.000         \\rReading energy frame      8 time   32.000         \\rReading energy frame      9 time   36.000         \\rReading energy frame     10 time   40.000         \\rReading energy frame     11 time   44.000         \\rReading energy frame     12 time   48.000         \\rReading energy frame     13 time   52.000         \\rReading energy frame     14 time   56.000         \\rReading energy frame     15 time   60.000         \\rReading energy frame     16 time   64.000         \\rReading energy frame     17 time   68.000         \\rReading energy frame     18 time   72.000         \\rReading energy frame     19 time   76.000         \\rReading energy frame     20 time   80.000         \\rLast energy frame read 25 time  100.000         \\n\\nStatistics over 50001 steps [ 0.0000 through 100.0000 ps ], 2 data sets\\nAll statistics are over 501 points\\n\\nEnergy                      Average   Err.Est.       RMSD  Tot-Drift\\n-------------------------------------------------------------------------------\\nPotential                   2480.36        870    1903.27   -6066.73  (kJ/mol)\\nDensity                     529.158         54    110.893    369.919  (kg/m^3)\\n\\nGROMACS reminds you: \"I\\'m Gonna Get Medieval On Your Ass\" (Pulp Fiction)\\n\\n')"
   ]
  },
  {
   "cell_type": "code",
   "execution_count": 28,
   "id": "fe94e66c-db3a-421f-9946-1d5acdaae091",
   "metadata": {},
   "outputs": [],
   "source": [
    "plist = List(['Potential', 'Density'])"
   ]
  },
  {
   "cell_type": "code",
   "execution_count": 34,
   "id": "9f04759f-6647-4af0-8d4a-ec27c2bc6362",
   "metadata": {},
   "outputs": [],
   "source": [
    "avglist = gromacs_analysis.get_average_property(result_data, plist)"
   ]
  },
  {
   "cell_type": "code",
   "execution_count": 35,
   "id": "68d5f839-5051-4b42-8b94-b4894f14df91",
   "metadata": {},
   "outputs": [
    {
     "data": {
      "text/plain": [
       "<List: uuid: c3819407-2657-428b-b659-70805675ba66 (pk: 52061) value: [['Potential', '2480.36', '(kJ/mol)'], ['Density', '529.158', '(kg/m^3)']]>"
      ]
     },
     "execution_count": 35,
     "metadata": {},
     "output_type": "execute_result"
    }
   ],
   "source": [
    "avglist"
   ]
  },
  {
   "cell_type": "code",
   "execution_count": 18,
   "id": "8fc7f1b6-4028-499d-ae0c-7bb858226633",
   "metadata": {},
   "outputs": [
    {
     "name": "stdout",
     "output_type": "stream",
     "text": [
      "uuid: 4b572e70-f5b0-48b2-941e-f14e416c259c (unstored) value: [['2480.36', '(kJ/mol)'], ['529.158', '(kg/m^3)']]\n"
     ]
    }
   ],
   "source": [
    "result_lines = result_data.get_content().split('\\n')\n",
    "\n",
    "property_line_list = [line for line in result_lines if len(line.split()) > 0 and line.split()[0] in plist.get_list()]\n",
    "average_property_list = List([])\n",
    "for iprop in property_line_list:\n",
    "    wlist = iprop.split()\n",
    "    average_property_list.append([wlist[1], wlist[5]])\n",
    "print(average_property_list)"
   ]
  },
  {
   "cell_type": "code",
   "execution_count": 13,
   "id": "dcd481ba-fd2f-4d4d-9792-6a8508771126",
   "metadata": {},
   "outputs": [
    {
     "data": {
      "text/plain": [
       "['Potential                   2480.36        870    1903.27   -6066.73  (kJ/mol)',\n",
       " 'Density                     529.158         54    110.893    369.919  (kg/m^3)']"
      ]
     },
     "execution_count": 13,
     "metadata": {},
     "output_type": "execute_result"
    }
   ],
   "source": [
    "property_line_list"
   ]
  },
  {
   "cell_type": "code",
   "execution_count": null,
   "id": "cb74768b-149f-463c-af92-1974c5a14fda",
   "metadata": {},
   "outputs": [],
   "source": []
  },
  {
   "cell_type": "code",
   "execution_count": null,
   "id": "cf96542f-ac64-4e18-9a07-57d29dd161e8",
   "metadata": {},
   "outputs": [],
   "source": []
  },
  {
   "cell_type": "code",
   "execution_count": 36,
   "id": "66476b35-7539-48ff-9375-cdcd87330706",
   "metadata": {},
   "outputs": [
    {
     "name": "stdout",
     "output_type": "stream",
     "text": [
      "1.23\n",
      "4.56\n",
      "Key not found\n"
     ]
    }
   ],
   "source": [
    "from aiida.orm import Dict\n",
    "\n",
    "def create_and_get_value(key):\n",
    "    # Create a Dict node\n",
    "    data = Dict(dict={\n",
    "        'alpha': 1.23,\n",
    "        'beta': 4.56,\n",
    "        'gamma': 7.89\n",
    "    }).store()  # Store it in the AiiDA database\n",
    "\n",
    "    # Retrieve the value\n",
    "    return data.get_dict().get(key, \"Key not found\")\n",
    "\n",
    "# Example function calls\n",
    "print(create_and_get_value('alpha'))  # Output: 1.23\n",
    "print(create_and_get_value('beta'))   # Output: 4.56\n",
    "print(create_and_get_value('delta'))  # Output: \"Key not found\""
   ]
  },
  {
   "cell_type": "code",
   "execution_count": null,
   "id": "1b5bcd1d-306e-412f-81bb-02a14c042926",
   "metadata": {},
   "outputs": [],
   "source": []
  },
  {
   "cell_type": "code",
   "execution_count": null,
   "id": "bbc69f42-9acd-4516-8c21-a5185470a427",
   "metadata": {},
   "outputs": [],
   "source": []
  },
  {
   "cell_type": "code",
   "execution_count": null,
   "id": "f8e0d5dd-5787-4f73-b4cc-671835e2ee49",
   "metadata": {},
   "outputs": [],
   "source": []
  },
  {
   "cell_type": "code",
   "execution_count": null,
   "id": "11f616c5-37c8-4435-823d-ea7fb537423c",
   "metadata": {},
   "outputs": [],
   "source": []
  },
  {
   "cell_type": "code",
   "execution_count": 27,
   "id": "badae50a-b11c-4aaa-a50d-04f763a25247",
   "metadata": {},
   "outputs": [
    {
     "name": "stdout",
     "output_type": "stream",
     "text": []
    },
    {
     "name": "stdout",
     "output_type": "stream",
     "text": [
      "\u001b[22m   PK  Created    Process label            ♻    Process State    Process status\n",
      "-----  ---------  -----------------------  ---  ---------------  ---------------------------------------\n",
      "48766  1h ago     ShellJob<gmx@localhost>       ⏵ Waiting        Monitoring scheduler: job state RUNNING\n",
      "47742  1h ago     ShellJob<gmx@localhost>       ⏵ Waiting        Monitoring scheduler: job state RUNNING\n",
      "45015  23h ago    ShellJob<gmx@localhost>       ⏵ Waiting        Monitoring scheduler: job state RUNNING\n",
      "41429  1D ago     PolymerizeWorkChain           ⏵ Running\n",
      "39050  6D ago     ShellJob<gmx@localhost>       ⏵ Waiting        Monitoring scheduler: job state RUNNING\n",
      "34706  8D ago     PolymerizeWorkChain           ⏵ Running\n",
      "33450  8D ago     ShellJob<gmx@localhost>       ⏵ Waiting        Monitoring scheduler: job state RUNNING\n",
      "30052  8D ago     PolymerizeWorkChain           ⏵ Running\n",
      "26525  8D ago     update_atom_number            ⏵ Running\n",
      "26392  8D ago     PolymerizeWorkChain           ⏵ Running\u001b[0m\n",
      "\u001b[22m\n",
      "Total results: 10\n",
      "\u001b[0m\n",
      "\u001b[34m\u001b[1mReport\u001b[0m: \u001b[22m♻ Processes marked with check-mark were not run but taken from the cache.\u001b[0m\n",
      "\u001b[34m\u001b[1mReport\u001b[0m: \u001b[22mAdd the option `-P pk cached_from` to the command to display cache source.\u001b[0m\n",
      "\u001b[34m\u001b[1mReport\u001b[0m: \u001b[22mLast time an entry changed state: 10s ago (at 07:31:31 on 2025-02-06)\u001b[0m\n",
      "\u001b[34m\u001b[1mReport\u001b[0m: \u001b[22mChecking daemon load... \u001b[0m/anfhome/software/anaconda/envs/aiida-gromacs/lib/python3.10/site-packages/paramiko/pkey.py:82: CryptographyDeprecationWarning: TripleDES has been moved to cryptography.hazmat.decrepit.ciphers.algorithms.TripleDES and will be removed from cryptography.hazmat.primitives.ciphers.algorithms in 48.0.0.\n",
      "  \"cipher\": algorithms.TripleDES,\n",
      "/anfhome/software/anaconda/envs/aiida-gromacs/lib/python3.10/site-packages/paramiko/transport.py:253: CryptographyDeprecationWarning: TripleDES has been moved to cryptography.hazmat.decrepit.ciphers.algorithms.TripleDES and will be removed from cryptography.hazmat.primitives.ciphers.algorithms in 48.0.0.\n",
      "  \"class\": algorithms.TripleDES,\n",
      "\u001b[32m\u001b[1mOK\u001b[0m\n",
      "\u001b[34m\u001b[1mReport\u001b[0m: \u001b[22mUsing 1% of the available daemon worker slots.\u001b[0m\n"
     ]
    }
   ],
   "source": [
    "! verdi process list -D desc -l 10"
   ]
  },
  {
   "cell_type": "code",
   "execution_count": null,
   "id": "a120a21f-4796-4b9b-b483-5722318394cf",
   "metadata": {},
   "outputs": [],
   "source": []
  }
 ],
 "metadata": {
  "kernelspec": {
   "display_name": "Python [conda env:aiida-gromacs]",
   "language": "python",
   "name": "conda-env-aiida-gromacs-py"
  },
  "language_info": {
   "codemirror_mode": {
    "name": "ipython",
    "version": 3
   },
   "file_extension": ".py",
   "mimetype": "text/x-python",
   "name": "python",
   "nbconvert_exporter": "python",
   "pygments_lexer": "ipython3",
   "version": "3.10.0"
  }
 },
 "nbformat": 4,
 "nbformat_minor": 5
}
