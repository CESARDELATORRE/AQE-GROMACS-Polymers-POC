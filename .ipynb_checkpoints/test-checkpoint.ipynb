{
 "cells": [
  {
   "cell_type": "code",
   "execution_count": 1,
   "id": "f1be0d58-8e3d-408e-8f6d-97efa809d4e9",
   "metadata": {},
   "outputs": [
    {
     "data": {
      "text/plain": [
       "Profile<uuid='e3eed8e7f41e49b094d7e9107f76a58a' name='gromacs'>"
      ]
     },
     "execution_count": 1,
     "metadata": {},
     "output_type": "execute_result"
    }
   ],
   "source": [
    "from aiida import load_profile\n",
    "load_profile()"
   ]
  },
  {
   "cell_type": "code",
   "execution_count": 3,
   "id": "c5caec30-ab2d-4fa5-8425-b3863b58cdef",
   "metadata": {},
   "outputs": [
    {
     "name": "stderr",
     "output_type": "stream",
     "text": [
      "01/28/2025 06:54:52 AM <85478> aiida.orm.nodes.process.calculation.calcfunction.CalcFunctionNode: [REPORT] [20842|define_calcfunction.<locals>.my_calcfunction|on_except]: Traceback (most recent call last):\n",
      "  File \"/anfhome/software/anaconda/envs/aiida-gromacs/lib/python3.10/site-packages/plumpy/base/state_machine.py\", line 324, in transition_to\n",
      "    self._enter_next_state(new_state)\n",
      "  File \"/anfhome/software/anaconda/envs/aiida-gromacs/lib/python3.10/site-packages/plumpy/base/state_machine.py\", line 388, in _enter_next_state\n",
      "    self._fire_state_event(StateEventHook.ENTERED_STATE, last_state)\n",
      "  File \"/anfhome/software/anaconda/envs/aiida-gromacs/lib/python3.10/site-packages/plumpy/base/state_machine.py\", line 300, in _fire_state_event\n",
      "    callback(self, hook, state)\n",
      "  File \"/anfhome/software/anaconda/envs/aiida-gromacs/lib/python3.10/site-packages/plumpy/processes.py\", line 337, in <lambda>\n",
      "    lambda _s, _h, from_state: self.on_entered(cast(Optional[process_states.State], from_state)),\n",
      "  File \"/anfhome/software/anaconda/envs/aiida-gromacs/lib/python3.10/site-packages/aiida/engine/processes/process.py\", line 433, in on_entered\n",
      "    self.update_outputs()\n",
      "  File \"/anfhome/software/anaconda/envs/aiida-gromacs/lib/python3.10/site-packages/aiida/engine/processes/process.py\", line 675, in update_outputs\n",
      "    output.base.links.add_incoming(self.node, LinkType.CREATE, link_label)\n",
      "  File \"/anfhome/software/anaconda/envs/aiida-gromacs/lib/python3.10/site-packages/aiida/orm/nodes/links.py\", line 57, in add_incoming\n",
      "    self.validate_incoming(source, link_type, link_label)\n",
      "  File \"/anfhome/software/anaconda/envs/aiida-gromacs/lib/python3.10/site-packages/aiida/orm/nodes/links.py\", line 94, in validate_incoming\n",
      "    raise ValueError('the link you are attempting to create would generate a cycle in the graph')\n",
      "ValueError: the link you are attempting to create would generate a cycle in the graph\n",
      "\n"
     ]
    },
    {
     "ename": "ValueError",
     "evalue": "the link you are attempting to create would generate a cycle in the graph",
     "output_type": "error",
     "traceback": [
      "\u001b[0;31m---------------------------------------------------------------------------\u001b[0m",
      "\u001b[0;31mValueError\u001b[0m                                Traceback (most recent call last)",
      "Cell \u001b[0;32mIn[3], line 30\u001b[0m\n\u001b[1;32m     27\u001b[0m \u001b[38;5;66;03m# Now you can use my_calcfunction as usual\u001b[39;00m\n\u001b[1;32m     28\u001b[0m inputs \u001b[38;5;241m=\u001b[39m \u001b[38;5;124m'\u001b[39m\u001b[38;5;124mtesting\u001b[39m\u001b[38;5;124m'\u001b[39m\n\u001b[0;32m---> 30\u001b[0m result \u001b[38;5;241m=\u001b[39m \u001b[43mmy_calcfunction\u001b[49m\u001b[43m(\u001b[49m\u001b[43minputs\u001b[49m\u001b[43m)\u001b[49m\n",
      "File \u001b[0;32m/anfhome/software/anaconda/envs/aiida-gromacs/lib/python3.10/site-packages/aiida/engine/processes/functions.py:274\u001b[0m, in \u001b[0;36mprocess_function.<locals>.decorator.<locals>.decorated_function\u001b[0;34m(*args, **kwargs)\u001b[0m\n\u001b[1;32m    271\u001b[0m \u001b[38;5;129m@functools\u001b[39m\u001b[38;5;241m.\u001b[39mwraps(function)\n\u001b[1;32m    272\u001b[0m \u001b[38;5;28;01mdef\u001b[39;00m \u001b[38;5;21mdecorated_function\u001b[39m(\u001b[38;5;241m*\u001b[39margs, \u001b[38;5;241m*\u001b[39m\u001b[38;5;241m*\u001b[39mkwargs):\n\u001b[1;32m    273\u001b[0m \u001b[38;5;250m    \u001b[39m\u001b[38;5;124;03m\"\"\"This wrapper function is the actual function that is called.\"\"\"\u001b[39;00m\n\u001b[0;32m--> 274\u001b[0m     result, _ \u001b[38;5;241m=\u001b[39m \u001b[43mrun_get_node\u001b[49m\u001b[43m(\u001b[49m\u001b[38;5;241;43m*\u001b[39;49m\u001b[43margs\u001b[49m\u001b[43m,\u001b[49m\u001b[43m \u001b[49m\u001b[38;5;241;43m*\u001b[39;49m\u001b[38;5;241;43m*\u001b[39;49m\u001b[43mkwargs\u001b[49m\u001b[43m)\u001b[49m\n\u001b[1;32m    275\u001b[0m     \u001b[38;5;28;01mreturn\u001b[39;00m result\n",
      "File \u001b[0;32m/anfhome/software/anaconda/envs/aiida-gromacs/lib/python3.10/site-packages/aiida/engine/processes/functions.py:246\u001b[0m, in \u001b[0;36mprocess_function.<locals>.decorator.<locals>.run_get_node\u001b[0;34m(*args, **kwargs)\u001b[0m\n\u001b[1;32m    243\u001b[0m     signal\u001b[38;5;241m.\u001b[39msignal(kill_signal, kill_process)\n\u001b[1;32m    245\u001b[0m \u001b[38;5;28;01mtry\u001b[39;00m:\n\u001b[0;32m--> 246\u001b[0m     result \u001b[38;5;241m=\u001b[39m \u001b[43mprocess\u001b[49m\u001b[38;5;241;43m.\u001b[39;49m\u001b[43mexecute\u001b[49m\u001b[43m(\u001b[49m\u001b[43m)\u001b[49m\n\u001b[1;32m    247\u001b[0m \u001b[38;5;28;01mfinally\u001b[39;00m:\n\u001b[1;32m    248\u001b[0m     \u001b[38;5;66;03m# If the `original_handler` is set, that means the `kill_process` was bound, which needs to be reset\u001b[39;00m\n\u001b[1;32m    249\u001b[0m     \u001b[38;5;28;01mif\u001b[39;00m original_handler:\n",
      "File \u001b[0;32m/anfhome/software/anaconda/envs/aiida-gromacs/lib/python3.10/site-packages/aiida/engine/processes/functions.py:555\u001b[0m, in \u001b[0;36mFunctionProcess.execute\u001b[0;34m(self)\u001b[0m\n\u001b[1;32m    553\u001b[0m \u001b[38;5;28;01mdef\u001b[39;00m \u001b[38;5;21mexecute\u001b[39m(\u001b[38;5;28mself\u001b[39m) \u001b[38;5;241m-\u001b[39m\u001b[38;5;241m>\u001b[39m \u001b[38;5;28mdict\u001b[39m[\u001b[38;5;28mstr\u001b[39m, t\u001b[38;5;241m.\u001b[39mAny] \u001b[38;5;241m|\u001b[39m \u001b[38;5;28;01mNone\u001b[39;00m:\n\u001b[1;32m    554\u001b[0m \u001b[38;5;250m    \u001b[39m\u001b[38;5;124;03m\"\"\"Execute the process.\"\"\"\u001b[39;00m\n\u001b[0;32m--> 555\u001b[0m     result \u001b[38;5;241m=\u001b[39m \u001b[38;5;28;43msuper\u001b[39;49m\u001b[43m(\u001b[49m\u001b[43m)\u001b[49m\u001b[38;5;241;43m.\u001b[39;49m\u001b[43mexecute\u001b[49m\u001b[43m(\u001b[49m\u001b[43m)\u001b[49m\n\u001b[1;32m    557\u001b[0m     \u001b[38;5;66;03m# FunctionProcesses can return a single value as output, and not a dictionary, so we should also return that\u001b[39;00m\n\u001b[1;32m    558\u001b[0m     \u001b[38;5;28;01mif\u001b[39;00m result \u001b[38;5;129;01mand\u001b[39;00m \u001b[38;5;28mlen\u001b[39m(result) \u001b[38;5;241m==\u001b[39m \u001b[38;5;241m1\u001b[39m \u001b[38;5;129;01mand\u001b[39;00m \u001b[38;5;28mself\u001b[39m\u001b[38;5;241m.\u001b[39mSINGLE_OUTPUT_LINKNAME \u001b[38;5;129;01min\u001b[39;00m result:\n",
      "File \u001b[0;32m/anfhome/software/anaconda/envs/aiida-gromacs/lib/python3.10/site-packages/plumpy/processes.py:90\u001b[0m, in \u001b[0;36mensure_not_closed.<locals>.func_wrapper\u001b[0;34m(self, *args, **kwargs)\u001b[0m\n\u001b[1;32m     88\u001b[0m \u001b[38;5;28;01mif\u001b[39;00m \u001b[38;5;28mself\u001b[39m\u001b[38;5;241m.\u001b[39m_closed:\n\u001b[1;32m     89\u001b[0m     \u001b[38;5;28;01mraise\u001b[39;00m exceptions\u001b[38;5;241m.\u001b[39mClosedError(\u001b[38;5;124m'\u001b[39m\u001b[38;5;124mProcess is closed\u001b[39m\u001b[38;5;124m'\u001b[39m)\n\u001b[0;32m---> 90\u001b[0m \u001b[38;5;28;01mreturn\u001b[39;00m \u001b[43mfunc\u001b[49m\u001b[43m(\u001b[49m\u001b[38;5;28;43mself\u001b[39;49m\u001b[43m,\u001b[49m\u001b[43m \u001b[49m\u001b[38;5;241;43m*\u001b[39;49m\u001b[43margs\u001b[49m\u001b[43m,\u001b[49m\u001b[43m \u001b[49m\u001b[38;5;241;43m*\u001b[39;49m\u001b[38;5;241;43m*\u001b[39;49m\u001b[43mkwargs\u001b[49m\u001b[43m)\u001b[49m\n",
      "File \u001b[0;32m/anfhome/software/anaconda/envs/aiida-gromacs/lib/python3.10/site-packages/plumpy/processes.py:1203\u001b[0m, in \u001b[0;36mProcess.execute\u001b[0;34m(self)\u001b[0m\n\u001b[1;32m   1200\u001b[0m \u001b[38;5;28;01mif\u001b[39;00m \u001b[38;5;129;01mnot\u001b[39;00m \u001b[38;5;28mself\u001b[39m\u001b[38;5;241m.\u001b[39mhas_terminated():\n\u001b[1;32m   1201\u001b[0m     \u001b[38;5;28mself\u001b[39m\u001b[38;5;241m.\u001b[39mloop\u001b[38;5;241m.\u001b[39mrun_until_complete(\u001b[38;5;28mself\u001b[39m\u001b[38;5;241m.\u001b[39mstep_until_terminated())\n\u001b[0;32m-> 1203\u001b[0m \u001b[38;5;28;01mreturn\u001b[39;00m \u001b[38;5;28;43mself\u001b[39;49m\u001b[38;5;241;43m.\u001b[39;49m\u001b[43mfuture\u001b[49m\u001b[43m(\u001b[49m\u001b[43m)\u001b[49m\u001b[38;5;241;43m.\u001b[39;49m\u001b[43mresult\u001b[49m\u001b[43m(\u001b[49m\u001b[43m)\u001b[49m\n",
      "File \u001b[0;32m/anfhome/software/anaconda/envs/aiida-gromacs/lib/python3.10/site-packages/plumpy/base/state_machine.py:324\u001b[0m, in \u001b[0;36mStateMachine.transition_to\u001b[0;34m(self, new_state, *args, **kwargs)\u001b[0m\n\u001b[1;32m    321\u001b[0m     \u001b[38;5;28mself\u001b[39m\u001b[38;5;241m.\u001b[39m_exit_current_state(new_state)\n\u001b[1;32m    323\u001b[0m \u001b[38;5;28;01mtry\u001b[39;00m:\n\u001b[0;32m--> 324\u001b[0m     \u001b[38;5;28;43mself\u001b[39;49m\u001b[38;5;241;43m.\u001b[39;49m\u001b[43m_enter_next_state\u001b[49m\u001b[43m(\u001b[49m\u001b[43mnew_state\u001b[49m\u001b[43m)\u001b[49m\n\u001b[1;32m    325\u001b[0m \u001b[38;5;28;01mexcept\u001b[39;00m StateEntryFailed \u001b[38;5;28;01mas\u001b[39;00m exception:\n\u001b[1;32m    326\u001b[0m     \u001b[38;5;66;03m# Make sure we have a state instance\u001b[39;00m\n\u001b[1;32m    327\u001b[0m     new_state \u001b[38;5;241m=\u001b[39m \u001b[38;5;28mself\u001b[39m\u001b[38;5;241m.\u001b[39m_create_state_instance(exception\u001b[38;5;241m.\u001b[39mstate, \u001b[38;5;241m*\u001b[39mexception\u001b[38;5;241m.\u001b[39margs, \u001b[38;5;241m*\u001b[39m\u001b[38;5;241m*\u001b[39mexception\u001b[38;5;241m.\u001b[39mkwargs)\n",
      "File \u001b[0;32m/anfhome/software/anaconda/envs/aiida-gromacs/lib/python3.10/site-packages/plumpy/base/state_machine.py:388\u001b[0m, in \u001b[0;36mStateMachine._enter_next_state\u001b[0;34m(self, next_state)\u001b[0m\n\u001b[1;32m    386\u001b[0m next_state\u001b[38;5;241m.\u001b[39mdo_enter()\n\u001b[1;32m    387\u001b[0m \u001b[38;5;28mself\u001b[39m\u001b[38;5;241m.\u001b[39m_state \u001b[38;5;241m=\u001b[39m next_state\n\u001b[0;32m--> 388\u001b[0m \u001b[38;5;28;43mself\u001b[39;49m\u001b[38;5;241;43m.\u001b[39;49m\u001b[43m_fire_state_event\u001b[49m\u001b[43m(\u001b[49m\u001b[43mStateEventHook\u001b[49m\u001b[38;5;241;43m.\u001b[39;49m\u001b[43mENTERED_STATE\u001b[49m\u001b[43m,\u001b[49m\u001b[43m \u001b[49m\u001b[43mlast_state\u001b[49m\u001b[43m)\u001b[49m\n",
      "File \u001b[0;32m/anfhome/software/anaconda/envs/aiida-gromacs/lib/python3.10/site-packages/plumpy/base/state_machine.py:300\u001b[0m, in \u001b[0;36mStateMachine._fire_state_event\u001b[0;34m(self, hook, state)\u001b[0m\n\u001b[1;32m    298\u001b[0m \u001b[38;5;28;01mdef\u001b[39;00m \u001b[38;5;21m_fire_state_event\u001b[39m(\u001b[38;5;28mself\u001b[39m, hook: Hashable, state: Optional[State]) \u001b[38;5;241m-\u001b[39m\u001b[38;5;241m>\u001b[39m \u001b[38;5;28;01mNone\u001b[39;00m:\n\u001b[1;32m    299\u001b[0m     \u001b[38;5;28;01mfor\u001b[39;00m callback \u001b[38;5;129;01min\u001b[39;00m \u001b[38;5;28mself\u001b[39m\u001b[38;5;241m.\u001b[39m_event_callbacks\u001b[38;5;241m.\u001b[39mget(hook, []):\n\u001b[0;32m--> 300\u001b[0m         \u001b[43mcallback\u001b[49m\u001b[43m(\u001b[49m\u001b[38;5;28;43mself\u001b[39;49m\u001b[43m,\u001b[49m\u001b[43m \u001b[49m\u001b[43mhook\u001b[49m\u001b[43m,\u001b[49m\u001b[43m \u001b[49m\u001b[43mstate\u001b[49m\u001b[43m)\u001b[49m\n",
      "File \u001b[0;32m/anfhome/software/anaconda/envs/aiida-gromacs/lib/python3.10/site-packages/plumpy/processes.py:337\u001b[0m, in \u001b[0;36mProcess._setup_event_hooks.<locals>.<lambda>\u001b[0;34m(_s, _h, from_state)\u001b[0m\n\u001b[1;32m    331\u001b[0m \u001b[38;5;28;01mdef\u001b[39;00m \u001b[38;5;21m_setup_event_hooks\u001b[39m(\u001b[38;5;28mself\u001b[39m) \u001b[38;5;241m-\u001b[39m\u001b[38;5;241m>\u001b[39m \u001b[38;5;28;01mNone\u001b[39;00m:\n\u001b[1;32m    332\u001b[0m \u001b[38;5;250m    \u001b[39m\u001b[38;5;124;03m\"\"\"Set the event hooks to process, when it is created or loaded(recreated).\"\"\"\u001b[39;00m\n\u001b[1;32m    333\u001b[0m     event_hooks \u001b[38;5;241m=\u001b[39m {\n\u001b[1;32m    334\u001b[0m         state_machine\u001b[38;5;241m.\u001b[39mStateEventHook\u001b[38;5;241m.\u001b[39mENTERING_STATE:\n\u001b[1;32m    335\u001b[0m         \u001b[38;5;28;01mlambda\u001b[39;00m _s, _h, state: \u001b[38;5;28mself\u001b[39m\u001b[38;5;241m.\u001b[39mon_entering(cast(process_states\u001b[38;5;241m.\u001b[39mState, state)),\n\u001b[1;32m    336\u001b[0m         state_machine\u001b[38;5;241m.\u001b[39mStateEventHook\u001b[38;5;241m.\u001b[39mENTERED_STATE:\n\u001b[0;32m--> 337\u001b[0m         \u001b[38;5;28;01mlambda\u001b[39;00m _s, _h, from_state: \u001b[38;5;28;43mself\u001b[39;49m\u001b[38;5;241;43m.\u001b[39;49m\u001b[43mon_entered\u001b[49m\u001b[43m(\u001b[49m\u001b[43mcast\u001b[49m\u001b[43m(\u001b[49m\u001b[43mOptional\u001b[49m\u001b[43m[\u001b[49m\u001b[43mprocess_states\u001b[49m\u001b[38;5;241;43m.\u001b[39;49m\u001b[43mState\u001b[49m\u001b[43m]\u001b[49m\u001b[43m,\u001b[49m\u001b[43m \u001b[49m\u001b[43mfrom_state\u001b[49m\u001b[43m)\u001b[49m\u001b[43m)\u001b[49m,\n\u001b[1;32m    338\u001b[0m         state_machine\u001b[38;5;241m.\u001b[39mStateEventHook\u001b[38;5;241m.\u001b[39mEXITING_STATE:\n\u001b[1;32m    339\u001b[0m         \u001b[38;5;28;01mlambda\u001b[39;00m _s, _h, _state: \u001b[38;5;28mself\u001b[39m\u001b[38;5;241m.\u001b[39mon_exiting()\n\u001b[1;32m    340\u001b[0m     }\n\u001b[1;32m    341\u001b[0m     \u001b[38;5;28;01mfor\u001b[39;00m hook, callback \u001b[38;5;129;01min\u001b[39;00m event_hooks\u001b[38;5;241m.\u001b[39mitems():\n\u001b[1;32m    342\u001b[0m         \u001b[38;5;28mself\u001b[39m\u001b[38;5;241m.\u001b[39madd_state_event_callback(hook, callback)\n",
      "File \u001b[0;32m/anfhome/software/anaconda/envs/aiida-gromacs/lib/python3.10/site-packages/aiida/engine/processes/process.py:433\u001b[0m, in \u001b[0;36mProcess.on_entered\u001b[0;34m(self, from_state)\u001b[0m\n\u001b[1;32m    428\u001b[0m \u001b[38;5;66;03m# We need to guarantee that the process state gets updated even if the ``update_outputs`` call excepts, for\u001b[39;00m\n\u001b[1;32m    429\u001b[0m \u001b[38;5;66;03m# example if the process implementation attaches an invalid output through ``Process.out``, and so we call the\u001b[39;00m\n\u001b[1;32m    430\u001b[0m \u001b[38;5;66;03m# ``ProcessNode.set_process_state`` in the finally-clause. This way the state gets properly set on the node even\u001b[39;00m\n\u001b[1;32m    431\u001b[0m \u001b[38;5;66;03m# if the process is transitioning to the terminal excepted state.\u001b[39;00m\n\u001b[1;32m    432\u001b[0m \u001b[38;5;28;01mtry\u001b[39;00m:\n\u001b[0;32m--> 433\u001b[0m     \u001b[38;5;28;43mself\u001b[39;49m\u001b[38;5;241;43m.\u001b[39;49m\u001b[43mupdate_outputs\u001b[49m\u001b[43m(\u001b[49m\u001b[43m)\u001b[49m\n\u001b[1;32m    434\u001b[0m \u001b[38;5;28;01mexcept\u001b[39;00m \u001b[38;5;167;01mValueError\u001b[39;00m:\n\u001b[1;32m    435\u001b[0m     \u001b[38;5;28;01mraise\u001b[39;00m\n",
      "File \u001b[0;32m/anfhome/software/anaconda/envs/aiida-gromacs/lib/python3.10/site-packages/aiida/engine/processes/process.py:675\u001b[0m, in \u001b[0;36mProcess.update_outputs\u001b[0;34m(self)\u001b[0m\n\u001b[1;32m    672\u001b[0m     \u001b[38;5;28;01mcontinue\u001b[39;00m\n\u001b[1;32m    674\u001b[0m \u001b[38;5;28;01mif\u001b[39;00m \u001b[38;5;28misinstance\u001b[39m(\u001b[38;5;28mself\u001b[39m\u001b[38;5;241m.\u001b[39mnode, orm\u001b[38;5;241m.\u001b[39mCalculationNode):\n\u001b[0;32m--> 675\u001b[0m     \u001b[43moutput\u001b[49m\u001b[38;5;241;43m.\u001b[39;49m\u001b[43mbase\u001b[49m\u001b[38;5;241;43m.\u001b[39;49m\u001b[43mlinks\u001b[49m\u001b[38;5;241;43m.\u001b[39;49m\u001b[43madd_incoming\u001b[49m\u001b[43m(\u001b[49m\u001b[38;5;28;43mself\u001b[39;49m\u001b[38;5;241;43m.\u001b[39;49m\u001b[43mnode\u001b[49m\u001b[43m,\u001b[49m\u001b[43m \u001b[49m\u001b[43mLinkType\u001b[49m\u001b[38;5;241;43m.\u001b[39;49m\u001b[43mCREATE\u001b[49m\u001b[43m,\u001b[49m\u001b[43m \u001b[49m\u001b[43mlink_label\u001b[49m\u001b[43m)\u001b[49m\n\u001b[1;32m    676\u001b[0m \u001b[38;5;28;01melif\u001b[39;00m \u001b[38;5;28misinstance\u001b[39m(\u001b[38;5;28mself\u001b[39m\u001b[38;5;241m.\u001b[39mnode, orm\u001b[38;5;241m.\u001b[39mWorkflowNode):\n\u001b[1;32m    677\u001b[0m     output\u001b[38;5;241m.\u001b[39mbase\u001b[38;5;241m.\u001b[39mlinks\u001b[38;5;241m.\u001b[39madd_incoming(\u001b[38;5;28mself\u001b[39m\u001b[38;5;241m.\u001b[39mnode, LinkType\u001b[38;5;241m.\u001b[39mRETURN, link_label)\n",
      "File \u001b[0;32m/anfhome/software/anaconda/envs/aiida-gromacs/lib/python3.10/site-packages/aiida/orm/nodes/links.py:57\u001b[0m, in \u001b[0;36mNodeLinks.add_incoming\u001b[0;34m(self, source, link_type, link_label)\u001b[0m\n\u001b[1;32m     48\u001b[0m \u001b[38;5;28;01mdef\u001b[39;00m \u001b[38;5;21madd_incoming\u001b[39m(\u001b[38;5;28mself\u001b[39m, source: \u001b[38;5;124m'\u001b[39m\u001b[38;5;124mNode\u001b[39m\u001b[38;5;124m'\u001b[39m, link_type: LinkType, link_label: \u001b[38;5;28mstr\u001b[39m) \u001b[38;5;241m-\u001b[39m\u001b[38;5;241m>\u001b[39m \u001b[38;5;28;01mNone\u001b[39;00m:\n\u001b[1;32m     49\u001b[0m \u001b[38;5;250m    \u001b[39m\u001b[38;5;124;03m\"\"\"Add a link of the given type from a given node to ourself.\u001b[39;00m\n\u001b[1;32m     50\u001b[0m \n\u001b[1;32m     51\u001b[0m \u001b[38;5;124;03m    :param source: the node from which the link is coming\u001b[39;00m\n\u001b[0;32m   (...)\u001b[0m\n\u001b[1;32m     55\u001b[0m \u001b[38;5;124;03m    :raise ValueError: if the proposed link is invalid\u001b[39;00m\n\u001b[1;32m     56\u001b[0m \u001b[38;5;124;03m    \"\"\"\u001b[39;00m\n\u001b[0;32m---> 57\u001b[0m     \u001b[38;5;28;43mself\u001b[39;49m\u001b[38;5;241;43m.\u001b[39;49m\u001b[43mvalidate_incoming\u001b[49m\u001b[43m(\u001b[49m\u001b[43msource\u001b[49m\u001b[43m,\u001b[49m\u001b[43m \u001b[49m\u001b[43mlink_type\u001b[49m\u001b[43m,\u001b[49m\u001b[43m \u001b[49m\u001b[43mlink_label\u001b[49m\u001b[43m)\u001b[49m\n\u001b[1;32m     58\u001b[0m     source\u001b[38;5;241m.\u001b[39mbase\u001b[38;5;241m.\u001b[39mlinks\u001b[38;5;241m.\u001b[39mvalidate_outgoing(\u001b[38;5;28mself\u001b[39m\u001b[38;5;241m.\u001b[39m_node, link_type, link_label)\n\u001b[1;32m     60\u001b[0m     \u001b[38;5;28;01mif\u001b[39;00m \u001b[38;5;28mself\u001b[39m\u001b[38;5;241m.\u001b[39m_node\u001b[38;5;241m.\u001b[39mis_stored \u001b[38;5;129;01mand\u001b[39;00m source\u001b[38;5;241m.\u001b[39mis_stored:\n",
      "File \u001b[0;32m/anfhome/software/anaconda/envs/aiida-gromacs/lib/python3.10/site-packages/aiida/orm/nodes/links.py:94\u001b[0m, in \u001b[0;36mNodeLinks.validate_incoming\u001b[0;34m(self, source, link_type, link_label)\u001b[0m\n\u001b[1;32m     88\u001b[0m builder \u001b[38;5;241m=\u001b[39m (\n\u001b[1;32m     89\u001b[0m     QueryBuilder(backend\u001b[38;5;241m=\u001b[39m\u001b[38;5;28mself\u001b[39m\u001b[38;5;241m.\u001b[39m_node\u001b[38;5;241m.\u001b[39mbackend)\n\u001b[1;32m     90\u001b[0m     \u001b[38;5;241m.\u001b[39mappend(Node, filters\u001b[38;5;241m=\u001b[39m{\u001b[38;5;124m'\u001b[39m\u001b[38;5;124mid\u001b[39m\u001b[38;5;124m'\u001b[39m: \u001b[38;5;28mself\u001b[39m\u001b[38;5;241m.\u001b[39m_node\u001b[38;5;241m.\u001b[39mpk}, tag\u001b[38;5;241m=\u001b[39m\u001b[38;5;124m'\u001b[39m\u001b[38;5;124mparent\u001b[39m\u001b[38;5;124m'\u001b[39m)\n\u001b[1;32m     91\u001b[0m     \u001b[38;5;241m.\u001b[39mappend(Node, filters\u001b[38;5;241m=\u001b[39m{\u001b[38;5;124m'\u001b[39m\u001b[38;5;124mid\u001b[39m\u001b[38;5;124m'\u001b[39m: source\u001b[38;5;241m.\u001b[39mpk}, tag\u001b[38;5;241m=\u001b[39m\u001b[38;5;124m'\u001b[39m\u001b[38;5;124mchild\u001b[39m\u001b[38;5;124m'\u001b[39m, with_ancestors\u001b[38;5;241m=\u001b[39m\u001b[38;5;124m'\u001b[39m\u001b[38;5;124mparent\u001b[39m\u001b[38;5;124m'\u001b[39m)\n\u001b[1;32m     92\u001b[0m )\n\u001b[1;32m     93\u001b[0m \u001b[38;5;28;01mif\u001b[39;00m builder\u001b[38;5;241m.\u001b[39mcount() \u001b[38;5;241m>\u001b[39m \u001b[38;5;241m0\u001b[39m:\n\u001b[0;32m---> 94\u001b[0m     \u001b[38;5;28;01mraise\u001b[39;00m \u001b[38;5;167;01mValueError\u001b[39;00m(\u001b[38;5;124m'\u001b[39m\u001b[38;5;124mthe link you are attempting to create would generate a cycle in the graph\u001b[39m\u001b[38;5;124m'\u001b[39m)\n",
      "\u001b[0;31mValueError\u001b[0m: the link you are attempting to create would generate a cycle in the graph"
     ]
    }
   ],
   "source": [
    "from aiida.engine import calcfunction\n",
    "\n",
    " \n",
    "\n",
    "def define_calcfunction():\n",
    "\n",
    "    @calcfunction\n",
    "\n",
    "    def my_calcfunction(inputs):\n",
    "\n",
    "        print('here')\n",
    "        return inputs\n",
    "    return my_calcfunction\n",
    "\n",
    " \n",
    "\n",
    "# Redefine the function each time the cell is run\n",
    "my_calcfunction = define_calcfunction()\n",
    "\n",
    "# Now you can use my_calcfunction as usual\n",
    "inputs = 'testing'\n",
    "\n",
    "result = my_calcfunction(inputs)"
   ]
  },
  {
   "cell_type": "code",
   "execution_count": 2,
   "id": "5e32127b-04c6-4256-9f15-eecd3517fc54",
   "metadata": {},
   "outputs": [],
   "source": [
    "# Polymer/Monomer inputs\n",
    "monomer_pdbfilename = '14tPBMonomer.pdb'        # PDB filename of the monomer\n",
    "monomer_count_per_polymer = 4                   # Number of monomers present in one polymer\n",
    "\n",
    "polymer_count = 600                             # Number of polymers will be simulated\n",
    "\n",
    "# MD simulation inputs\n",
    "thermo_T = 300.15                               # Simulation Temperature (K)\n",
    "thermo_P = 1.0                                  # Simulation Pressure (bar)"
   ]
  },
  {
   "cell_type": "code",
   "execution_count": 3,
   "id": "b5a0ddfd-308c-4537-a1ad-14157235779c",
   "metadata": {},
   "outputs": [],
   "source": [
    "import pathlib\n",
    "import os\n",
    "import numpy as np\n",
    "\n",
    "from aiida.engine import run\n",
    "from aiida.engine import calcfunction, WorkChain\n",
    "from aiida.orm import Int, Float, Str, Dict, List, SinglefileData, FolderData\n",
    "from aiida_gromacs.utils.notebook import visualize_structure\n",
    "from aiida_shell import launch_shell_job"
   ]
  },
  {
   "cell_type": "code",
   "execution_count": 4,
   "id": "ca1ce0cc-033c-4479-b55c-a954283a6bd9",
   "metadata": {},
   "outputs": [],
   "source": [
    "monomer_pdbfilename = Str(monomer_pdbfilename)\n",
    "monomer_count_per_polymer = Int(monomer_count_per_polymer)\n",
    "\n",
    "polymer_count = Int(polymer_count)\n",
    "\n",
    "thermo_T = Float(thermo_T)\n",
    "thermo_P = Float(thermo_P)"
   ]
  },
  {
   "cell_type": "code",
   "execution_count": 5,
   "id": "9e9fc4bf-690b-4b6d-ab02-13fe1dc45712",
   "metadata": {},
   "outputs": [],
   "source": [
    "monomer = SinglefileData(os.getcwd() + '/' + monomer_pdbfilename.value)"
   ]
  },
  {
   "cell_type": "code",
   "execution_count": 6,
   "id": "5509a92b-c977-4542-991a-1aa7495ee8cb",
   "metadata": {},
   "outputs": [
    {
     "name": "stdout",
     "output_type": "stream",
     "text": [
      "c1\n",
      "c2\n",
      "c3\n",
      "[<Dict: uuid: b8c1073f-f588-491c-aa9a-b083ef2f234f (pk: 31481)>, <Dict: uuid: 8432de69-f15b-46ba-83a7-0dc8076ae29f (pk: 31485)>, <Dict: uuid: 721f6610-e238-463d-9d0f-3c6b22b18e25 (pk: 31489)>, <Dict: uuid: 61527fd3-695e-4f36-a6ea-647864510045 (pk: 31493)>, <Dict: uuid: 855c2200-89bb-4821-9158-6248a511ff6a (pk: 31497)>, <Dict: uuid: d36ff877-8b8c-42db-aec1-a051146731e5 (pk: 31501)>, <Dict: uuid: 7a5c4773-693c-4c00-b7b5-be55c0837ce1 (pk: 31505)>, <Dict: uuid: ead01a86-1fcc-4030-88dd-8c38a43677e7 (pk: 31509)>, <Dict: uuid: 0cc0fc22-cdd5-44ce-84a3-0c940a237bf1 (pk: 31513)>, <Dict: uuid: 5106c9a9-8a12-4ab5-ad60-160c7386f99c (pk: 31517)>, <Dict: uuid: 5917ed18-5843-4bbd-bb2f-58e02d95ee3f (pk: 31521)>, <Dict: uuid: 31d282c0-02e8-4d95-a94a-e95bd5796d7c (pk: 31525)>]\n",
      "c4\n",
      "c5\n",
      "Start  0\n",
      "Done  0\n",
      "Start  1\n",
      "p1\n",
      "p2\n",
      "p3\n",
      "p4\n",
      "rangle =  0.2587807925974006\n",
      "p5\n",
      "Done  1\n",
      "Start  2\n",
      "p1\n",
      "p2\n",
      "p3\n",
      "p4\n",
      "rangle =  1.4901161193847656e-08\n",
      "p5\n",
      "Done  2\n",
      "Start  3\n",
      "p1\n",
      "p2\n",
      "p3\n",
      "p4\n",
      "rangle =  0.2587808004157216\n",
      "p5\n",
      "Done  3\n",
      "ATOM      1 CA   BD1     1       8.280  51.200  30.550                       C\n",
      "ATOM      2 HA1  BD1     1       8.790  50.330  30.140                       H\n",
      "ATOM      3 HA2  BD1     1       8.830  52.120  30.380                       H\n",
      "ATOM      4 HA3  BD1     1       8.380  51.100  31.630                       H\n",
      "ATOM      5 CB   BD1     1       6.890  51.370  30.050                       C\n",
      "ATOM      6 HB   BD1     1       6.230  50.510  30.130                       H\n",
      "ATOM      7 CG   BD1     1       6.460  52.520  29.510                       C\n",
      "ATOM      8 HG   BD1     1       7.270  53.230  29.440                       H\n",
      "ATOM      9 CW   BD1     1       5.030  52.720  28.830                       C\n",
      "ATOM     10 HW1  BD1     1       4.580  53.650  29.180                       H\n",
      "ATOM     11 HW2  BD1     1       4.320  51.910  29.030                       H\n",
      "ATOM     13 CA   BD2     2       4.930  52.820  27.750                       C\n",
      "ATOM     14 HA1  BD2     2       5.335  51.970  27.203                       H\n",
      "ATOM     15 HA2  BD2     2       5.401  53.756  27.468                       H\n",
      "ATOM     17 CB   BD2     2       3.456  52.965  27.623                       C\n",
      "ATOM     18 HB   BD2     2       2.854  52.088  27.848                       H\n",
      "ATOM     19 CG   BD2     2       2.881  54.114  27.238                       C\n",
      "ATOM     20 HG   BD2     2       3.633  54.845  26.982                       H\n",
      "ATOM     21 CW   BD2     2       1.321  54.292  26.948                       C\n",
      "ATOM     22 HW1  BD2     2       0.958  55.204  27.423                       H\n",
      "ATOM     23 HW2  BD2     2       0.701  53.461  27.303                       H\n",
      "ATOM     25 CA   BD2     3       1.221  54.392  25.868                       C\n",
      "ATOM     26 HA1  BD2     3       1.731  53.522  25.458                       H\n",
      "ATOM     27 HA2  BD2     3       1.771  55.312  25.698                       H\n",
      "ATOM     29 CB   BD2     3      -0.169  54.562  25.368                       C\n",
      "ATOM     30 HB   BD2     3      -0.829  53.702  25.448                       H\n",
      "ATOM     31 CG   BD2     3      -0.599  55.712  24.828                       C\n",
      "ATOM     32 HG   BD2     3       0.211  56.422  24.758                       H\n",
      "ATOM     33 CW   BD2     3      -2.029  55.912  24.148                       C\n",
      "ATOM     34 HW1  BD2     3      -2.479  56.842  24.498                       H\n",
      "ATOM     35 HW2  BD2     3      -2.739  55.102  24.348                       H\n",
      "ATOM     37 CA   BD3     4      -2.129  56.012  23.068                       C\n",
      "ATOM     38 HA1  BD3     4      -1.723  55.162  22.522                       H\n",
      "ATOM     39 HA2  BD3     4      -1.657  56.948  22.786                       H\n",
      "ATOM     41 CB   BD3     4      -3.603  56.157  22.942                       C\n",
      "ATOM     42 HB   BD3     4      -4.205  55.280  23.166                       H\n",
      "ATOM     43 CG   BD3     4      -4.178  57.306  22.556                       C\n",
      "ATOM     44 HG   BD3     4      -3.426  58.037  22.300                       H\n",
      "ATOM     45 CW   BD3     4      -5.737  57.484  22.267                       C\n",
      "ATOM     46 HW1  BD3     4      -6.101  58.396  22.742                       H\n",
      "ATOM     47 HW2  BD3     4      -6.358  56.653  22.621                       H\n",
      "ATOM     48 HW3  BD3     4      -5.837  57.584  21.186                       H\n"
     ]
    }
   ],
   "source": [
    "from polymerize import polymerize\n",
    "\n",
    "res = run(polymerize, monomer = monomer, monomer_count = monomer_count_per_polymer)"
   ]
  },
  {
   "cell_type": "code",
   "execution_count": 9,
   "id": "89ba5ae2-f0d5-4dbd-b15f-d3a86d4fa6d7",
   "metadata": {},
   "outputs": [
    {
     "data": {
      "text/plain": [
       "'ATOM      1 CA   BD1     1       8.280  51.200  30.550                       C\\nATOM      2 HA1  BD1     1       8.790  50.330  30.140                       H\\nATOM      3 HA2  BD1     1       8.830  52.120  30.380                       H\\nATOM      4 HA3  BD1     1       8.380  51.100  31.630                       H\\nATOM      5 CB   BD1     1       6.890  51.370  30.050                       C\\nATOM      6 HB   BD1     1       6.230  50.510  30.130                       H\\nATOM      7 CG   BD1     1       6.460  52.520  29.510                       C\\nATOM      8 HG   BD1     1       7.270  53.230  29.440                       H\\nATOM      9 CW   BD1     1       5.030  52.720  28.830                       C\\nATOM     10 HW1  BD1     1       4.580  53.650  29.180                       H\\nATOM     11 HW2  BD1     1       4.320  51.910  29.030                       H\\nATOM     13 CA   BD2     2       4.930  52.820  27.750                       C\\nATOM     14 HA1  BD2     2       5.335  51.970  27.203                       H\\nATOM     15 HA2  BD2     2       5.401  53.756  27.468                       H\\nATOM     17 CB   BD2     2       3.456  52.965  27.623                       C\\nATOM     18 HB   BD2     2       2.854  52.088  27.848                       H\\nATOM     19 CG   BD2     2       2.881  54.114  27.238                       C\\nATOM     20 HG   BD2     2       3.633  54.845  26.982                       H\\nATOM     21 CW   BD2     2       1.321  54.292  26.948                       C\\nATOM     22 HW1  BD2     2       0.958  55.204  27.423                       H\\nATOM     23 HW2  BD2     2       0.701  53.461  27.303                       H\\nATOM     25 CA   BD2     3       1.221  54.392  25.868                       C\\nATOM     26 HA1  BD2     3       1.731  53.522  25.458                       H\\nATOM     27 HA2  BD2     3       1.771  55.312  25.698                       H\\nATOM     29 CB   BD2     3      -0.169  54.562  25.368                       C\\nATOM     30 HB   BD2     3      -0.829  53.702  25.448                       H\\nATOM     31 CG   BD2     3      -0.599  55.712  24.828                       C\\nATOM     32 HG   BD2     3       0.211  56.422  24.758                       H\\nATOM     33 CW   BD2     3      -2.029  55.912  24.148                       C\\nATOM     34 HW1  BD2     3      -2.479  56.842  24.498                       H\\nATOM     35 HW2  BD2     3      -2.739  55.102  24.348                       H\\nATOM     37 CA   BD3     4      -2.129  56.012  23.068                       C\\nATOM     38 HA1  BD3     4      -1.723  55.162  22.522                       H\\nATOM     39 HA2  BD3     4      -1.657  56.948  22.786                       H\\nATOM     41 CB   BD3     4      -3.603  56.157  22.942                       C\\nATOM     42 HB   BD3     4      -4.205  55.280  23.166                       H\\nATOM     43 CG   BD3     4      -4.178  57.306  22.556                       C\\nATOM     44 HG   BD3     4      -3.426  58.037  22.300                       H\\nATOM     45 CW   BD3     4      -5.737  57.484  22.267                       C\\nATOM     46 HW1  BD3     4      -6.101  58.396  22.742                       H\\nATOM     47 HW2  BD3     4      -6.358  56.653  22.621                       H\\nATOM     48 HW3  BD3     4      -5.837  57.584  21.186                       H'"
      ]
     },
     "execution_count": 9,
     "metadata": {},
     "output_type": "execute_result"
    }
   ],
   "source": [
    "res['polymer'].get_content()"
   ]
  },
  {
   "cell_type": "code",
   "execution_count": 11,
   "id": "943aa4cd-faf4-4d1b-ad71-4df4c6902bde",
   "metadata": {},
   "outputs": [
    {
     "name": "stdout",
     "output_type": "stream",
     "text": []
    },
    {
     "name": "stdout",
     "output_type": "stream",
     "text": [
      "\u001b[32m\u001b[1mSuccess: \u001b[0m\u001b[22mOutput written to `32574.dot.pdf`\u001b[0m\n"
     ]
    }
   ],
   "source": [
    "#! verdi process list -a -D desc\n",
    "#! verdi node delete 27641 -f\n",
    "#! verdi process report 27732\n",
    "! verdi node graph generate 32574"
   ]
  },
  {
   "cell_type": "markdown",
   "id": "f5f4adb7-4817-40ac-8ec4-000c73de4eb4",
   "metadata": {},
   "source": [
    "We are creating function which will take the information of each atom given in the pdb file. Atom number, atom name, residue name, residue sequence number, coordinates, elements are the information of an atom in given in the pdb file."
   ]
  },
  {
   "cell_type": "code",
   "execution_count": 26,
   "id": "194f1fc2-fff0-4ef0-8dbb-efcfeafcce96",
   "metadata": {},
   "outputs": [
    {
     "name": "stderr",
     "output_type": "stream",
     "text": [
      "01/08/2025 07:37:09 AM <67389> aiida.orm.nodes.process.workflow.workfunction.WorkFunctionNode: [REPORT] [27551|get_pdbdata_to_atomlist|on_except]: Traceback (most recent call last):\n",
      "  File \"/anfhome/software/anaconda/envs/aiida-gromacs/lib/python3.10/site-packages/plumpy/base/state_machine.py\", line 324, in transition_to\n",
      "    self._enter_next_state(new_state)\n",
      "  File \"/anfhome/software/anaconda/envs/aiida-gromacs/lib/python3.10/site-packages/plumpy/base/state_machine.py\", line 388, in _enter_next_state\n",
      "    self._fire_state_event(StateEventHook.ENTERED_STATE, last_state)\n",
      "  File \"/anfhome/software/anaconda/envs/aiida-gromacs/lib/python3.10/site-packages/plumpy/base/state_machine.py\", line 300, in _fire_state_event\n",
      "    callback(self, hook, state)\n",
      "  File \"/anfhome/software/anaconda/envs/aiida-gromacs/lib/python3.10/site-packages/plumpy/processes.py\", line 337, in <lambda>\n",
      "    lambda _s, _h, from_state: self.on_entered(cast(Optional[process_states.State], from_state)),\n",
      "  File \"/anfhome/software/anaconda/envs/aiida-gromacs/lib/python3.10/site-packages/aiida/engine/processes/process.py\", line 433, in on_entered\n",
      "    self.update_outputs()\n",
      "  File \"/anfhome/software/anaconda/envs/aiida-gromacs/lib/python3.10/site-packages/aiida/engine/processes/process.py\", line 677, in update_outputs\n",
      "    output.base.links.add_incoming(self.node, LinkType.RETURN, link_label)\n",
      "  File \"/anfhome/software/anaconda/envs/aiida-gromacs/lib/python3.10/site-packages/aiida/orm/nodes/links.py\", line 58, in add_incoming\n",
      "    source.base.links.validate_outgoing(self._node, link_type, link_label)\n",
      "  File \"/anfhome/software/anaconda/envs/aiida-gromacs/lib/python3.10/site-packages/aiida/orm/nodes/process/workflow/workfunction.py\", line 40, in validate_outgoing\n",
      "    super().validate_outgoing(target, link_type, link_label)\n",
      "  File \"/anfhome/software/anaconda/envs/aiida-gromacs/lib/python3.10/site-packages/aiida/orm/nodes/process/workflow/workflow.py\", line 42, in validate_outgoing\n",
      "    raise ValueError(\n",
      "ValueError: Workflow<get_pdbdata_to_atomlist> tried returning an unstored `Data` node. This likely means new `Data` is being created inside the workflow. In order to preserve data provenance, use a `calcfunction` to create this node and return its output from the workflow\n",
      "\n"
     ]
    },
    {
     "ename": "ValueError",
     "evalue": "Workflow<get_pdbdata_to_atomlist> tried returning an unstored `Data` node. This likely means new `Data` is being created inside the workflow. In order to preserve data provenance, use a `calcfunction` to create this node and return its output from the workflow",
     "output_type": "error",
     "traceback": [
      "\u001b[0;31m---------------------------------------------------------------------------\u001b[0m",
      "\u001b[0;31mValueError\u001b[0m                                Traceback (most recent call last)",
      "Cell \u001b[0;32mIn[26], line 19\u001b[0m\n\u001b[1;32m     16\u001b[0m     \u001b[38;5;28;01mreturn\u001b[39;00m atom_list\n\u001b[1;32m     18\u001b[0m monomer_atom_lines \u001b[38;5;241m=\u001b[39m orm\u001b[38;5;241m.\u001b[39mList([line \u001b[38;5;28;01mfor\u001b[39;00m line \u001b[38;5;129;01min\u001b[39;00m monomer\u001b[38;5;241m.\u001b[39mget_content()\u001b[38;5;241m.\u001b[39msplit(\u001b[38;5;124m'\u001b[39m\u001b[38;5;130;01m\\n\u001b[39;00m\u001b[38;5;124m'\u001b[39m) \u001b[38;5;28;01mif\u001b[39;00m line\u001b[38;5;241m.\u001b[39mstartswith(\u001b[38;5;124m'\u001b[39m\u001b[38;5;124mATOM\u001b[39m\u001b[38;5;124m'\u001b[39m) \u001b[38;5;129;01mor\u001b[39;00m line\u001b[38;5;241m.\u001b[39mstartswith(\u001b[38;5;124m'\u001b[39m\u001b[38;5;124mHETATM\u001b[39m\u001b[38;5;124m'\u001b[39m)])\n\u001b[0;32m---> 19\u001b[0m monomer_all_atom_list \u001b[38;5;241m=\u001b[39m \u001b[43mget_pdbdata_to_atomlist\u001b[49m\u001b[43m(\u001b[49m\u001b[43mmonomer_atom_lines\u001b[49m\u001b[43m)\u001b[49m\n",
      "File \u001b[0;32m/anfhome/software/anaconda/envs/aiida-gromacs/lib/python3.10/site-packages/aiida/engine/processes/functions.py:274\u001b[0m, in \u001b[0;36mprocess_function.<locals>.decorator.<locals>.decorated_function\u001b[0;34m(*args, **kwargs)\u001b[0m\n\u001b[1;32m    271\u001b[0m \u001b[38;5;129m@functools\u001b[39m\u001b[38;5;241m.\u001b[39mwraps(function)\n\u001b[1;32m    272\u001b[0m \u001b[38;5;28;01mdef\u001b[39;00m \u001b[38;5;21mdecorated_function\u001b[39m(\u001b[38;5;241m*\u001b[39margs, \u001b[38;5;241m*\u001b[39m\u001b[38;5;241m*\u001b[39mkwargs):\n\u001b[1;32m    273\u001b[0m \u001b[38;5;250m    \u001b[39m\u001b[38;5;124;03m\"\"\"This wrapper function is the actual function that is called.\"\"\"\u001b[39;00m\n\u001b[0;32m--> 274\u001b[0m     result, _ \u001b[38;5;241m=\u001b[39m \u001b[43mrun_get_node\u001b[49m\u001b[43m(\u001b[49m\u001b[38;5;241;43m*\u001b[39;49m\u001b[43margs\u001b[49m\u001b[43m,\u001b[49m\u001b[43m \u001b[49m\u001b[38;5;241;43m*\u001b[39;49m\u001b[38;5;241;43m*\u001b[39;49m\u001b[43mkwargs\u001b[49m\u001b[43m)\u001b[49m\n\u001b[1;32m    275\u001b[0m     \u001b[38;5;28;01mreturn\u001b[39;00m result\n",
      "File \u001b[0;32m/anfhome/software/anaconda/envs/aiida-gromacs/lib/python3.10/site-packages/aiida/engine/processes/functions.py:246\u001b[0m, in \u001b[0;36mprocess_function.<locals>.decorator.<locals>.run_get_node\u001b[0;34m(*args, **kwargs)\u001b[0m\n\u001b[1;32m    243\u001b[0m     signal\u001b[38;5;241m.\u001b[39msignal(kill_signal, kill_process)\n\u001b[1;32m    245\u001b[0m \u001b[38;5;28;01mtry\u001b[39;00m:\n\u001b[0;32m--> 246\u001b[0m     result \u001b[38;5;241m=\u001b[39m \u001b[43mprocess\u001b[49m\u001b[38;5;241;43m.\u001b[39;49m\u001b[43mexecute\u001b[49m\u001b[43m(\u001b[49m\u001b[43m)\u001b[49m\n\u001b[1;32m    247\u001b[0m \u001b[38;5;28;01mfinally\u001b[39;00m:\n\u001b[1;32m    248\u001b[0m     \u001b[38;5;66;03m# If the `original_handler` is set, that means the `kill_process` was bound, which needs to be reset\u001b[39;00m\n\u001b[1;32m    249\u001b[0m     \u001b[38;5;28;01mif\u001b[39;00m original_handler:\n",
      "File \u001b[0;32m/anfhome/software/anaconda/envs/aiida-gromacs/lib/python3.10/site-packages/aiida/engine/processes/functions.py:555\u001b[0m, in \u001b[0;36mFunctionProcess.execute\u001b[0;34m(self)\u001b[0m\n\u001b[1;32m    553\u001b[0m \u001b[38;5;28;01mdef\u001b[39;00m \u001b[38;5;21mexecute\u001b[39m(\u001b[38;5;28mself\u001b[39m) \u001b[38;5;241m-\u001b[39m\u001b[38;5;241m>\u001b[39m \u001b[38;5;28mdict\u001b[39m[\u001b[38;5;28mstr\u001b[39m, t\u001b[38;5;241m.\u001b[39mAny] \u001b[38;5;241m|\u001b[39m \u001b[38;5;28;01mNone\u001b[39;00m:\n\u001b[1;32m    554\u001b[0m \u001b[38;5;250m    \u001b[39m\u001b[38;5;124;03m\"\"\"Execute the process.\"\"\"\u001b[39;00m\n\u001b[0;32m--> 555\u001b[0m     result \u001b[38;5;241m=\u001b[39m \u001b[38;5;28;43msuper\u001b[39;49m\u001b[43m(\u001b[49m\u001b[43m)\u001b[49m\u001b[38;5;241;43m.\u001b[39;49m\u001b[43mexecute\u001b[49m\u001b[43m(\u001b[49m\u001b[43m)\u001b[49m\n\u001b[1;32m    557\u001b[0m     \u001b[38;5;66;03m# FunctionProcesses can return a single value as output, and not a dictionary, so we should also return that\u001b[39;00m\n\u001b[1;32m    558\u001b[0m     \u001b[38;5;28;01mif\u001b[39;00m result \u001b[38;5;129;01mand\u001b[39;00m \u001b[38;5;28mlen\u001b[39m(result) \u001b[38;5;241m==\u001b[39m \u001b[38;5;241m1\u001b[39m \u001b[38;5;129;01mand\u001b[39;00m \u001b[38;5;28mself\u001b[39m\u001b[38;5;241m.\u001b[39mSINGLE_OUTPUT_LINKNAME \u001b[38;5;129;01min\u001b[39;00m result:\n",
      "File \u001b[0;32m/anfhome/software/anaconda/envs/aiida-gromacs/lib/python3.10/site-packages/plumpy/processes.py:90\u001b[0m, in \u001b[0;36mensure_not_closed.<locals>.func_wrapper\u001b[0;34m(self, *args, **kwargs)\u001b[0m\n\u001b[1;32m     88\u001b[0m \u001b[38;5;28;01mif\u001b[39;00m \u001b[38;5;28mself\u001b[39m\u001b[38;5;241m.\u001b[39m_closed:\n\u001b[1;32m     89\u001b[0m     \u001b[38;5;28;01mraise\u001b[39;00m exceptions\u001b[38;5;241m.\u001b[39mClosedError(\u001b[38;5;124m'\u001b[39m\u001b[38;5;124mProcess is closed\u001b[39m\u001b[38;5;124m'\u001b[39m)\n\u001b[0;32m---> 90\u001b[0m \u001b[38;5;28;01mreturn\u001b[39;00m \u001b[43mfunc\u001b[49m\u001b[43m(\u001b[49m\u001b[38;5;28;43mself\u001b[39;49m\u001b[43m,\u001b[49m\u001b[43m \u001b[49m\u001b[38;5;241;43m*\u001b[39;49m\u001b[43margs\u001b[49m\u001b[43m,\u001b[49m\u001b[43m \u001b[49m\u001b[38;5;241;43m*\u001b[39;49m\u001b[38;5;241;43m*\u001b[39;49m\u001b[43mkwargs\u001b[49m\u001b[43m)\u001b[49m\n",
      "File \u001b[0;32m/anfhome/software/anaconda/envs/aiida-gromacs/lib/python3.10/site-packages/plumpy/processes.py:1203\u001b[0m, in \u001b[0;36mProcess.execute\u001b[0;34m(self)\u001b[0m\n\u001b[1;32m   1200\u001b[0m \u001b[38;5;28;01mif\u001b[39;00m \u001b[38;5;129;01mnot\u001b[39;00m \u001b[38;5;28mself\u001b[39m\u001b[38;5;241m.\u001b[39mhas_terminated():\n\u001b[1;32m   1201\u001b[0m     \u001b[38;5;28mself\u001b[39m\u001b[38;5;241m.\u001b[39mloop\u001b[38;5;241m.\u001b[39mrun_until_complete(\u001b[38;5;28mself\u001b[39m\u001b[38;5;241m.\u001b[39mstep_until_terminated())\n\u001b[0;32m-> 1203\u001b[0m \u001b[38;5;28;01mreturn\u001b[39;00m \u001b[38;5;28;43mself\u001b[39;49m\u001b[38;5;241;43m.\u001b[39;49m\u001b[43mfuture\u001b[49m\u001b[43m(\u001b[49m\u001b[43m)\u001b[49m\u001b[38;5;241;43m.\u001b[39;49m\u001b[43mresult\u001b[49m\u001b[43m(\u001b[49m\u001b[43m)\u001b[49m\n",
      "File \u001b[0;32m/anfhome/software/anaconda/envs/aiida-gromacs/lib/python3.10/site-packages/plumpy/base/state_machine.py:324\u001b[0m, in \u001b[0;36mStateMachine.transition_to\u001b[0;34m(self, new_state, *args, **kwargs)\u001b[0m\n\u001b[1;32m    321\u001b[0m     \u001b[38;5;28mself\u001b[39m\u001b[38;5;241m.\u001b[39m_exit_current_state(new_state)\n\u001b[1;32m    323\u001b[0m \u001b[38;5;28;01mtry\u001b[39;00m:\n\u001b[0;32m--> 324\u001b[0m     \u001b[38;5;28;43mself\u001b[39;49m\u001b[38;5;241;43m.\u001b[39;49m\u001b[43m_enter_next_state\u001b[49m\u001b[43m(\u001b[49m\u001b[43mnew_state\u001b[49m\u001b[43m)\u001b[49m\n\u001b[1;32m    325\u001b[0m \u001b[38;5;28;01mexcept\u001b[39;00m StateEntryFailed \u001b[38;5;28;01mas\u001b[39;00m exception:\n\u001b[1;32m    326\u001b[0m     \u001b[38;5;66;03m# Make sure we have a state instance\u001b[39;00m\n\u001b[1;32m    327\u001b[0m     new_state \u001b[38;5;241m=\u001b[39m \u001b[38;5;28mself\u001b[39m\u001b[38;5;241m.\u001b[39m_create_state_instance(exception\u001b[38;5;241m.\u001b[39mstate, \u001b[38;5;241m*\u001b[39mexception\u001b[38;5;241m.\u001b[39margs, \u001b[38;5;241m*\u001b[39m\u001b[38;5;241m*\u001b[39mexception\u001b[38;5;241m.\u001b[39mkwargs)\n",
      "File \u001b[0;32m/anfhome/software/anaconda/envs/aiida-gromacs/lib/python3.10/site-packages/plumpy/base/state_machine.py:388\u001b[0m, in \u001b[0;36mStateMachine._enter_next_state\u001b[0;34m(self, next_state)\u001b[0m\n\u001b[1;32m    386\u001b[0m next_state\u001b[38;5;241m.\u001b[39mdo_enter()\n\u001b[1;32m    387\u001b[0m \u001b[38;5;28mself\u001b[39m\u001b[38;5;241m.\u001b[39m_state \u001b[38;5;241m=\u001b[39m next_state\n\u001b[0;32m--> 388\u001b[0m \u001b[38;5;28;43mself\u001b[39;49m\u001b[38;5;241;43m.\u001b[39;49m\u001b[43m_fire_state_event\u001b[49m\u001b[43m(\u001b[49m\u001b[43mStateEventHook\u001b[49m\u001b[38;5;241;43m.\u001b[39;49m\u001b[43mENTERED_STATE\u001b[49m\u001b[43m,\u001b[49m\u001b[43m \u001b[49m\u001b[43mlast_state\u001b[49m\u001b[43m)\u001b[49m\n",
      "File \u001b[0;32m/anfhome/software/anaconda/envs/aiida-gromacs/lib/python3.10/site-packages/plumpy/base/state_machine.py:300\u001b[0m, in \u001b[0;36mStateMachine._fire_state_event\u001b[0;34m(self, hook, state)\u001b[0m\n\u001b[1;32m    298\u001b[0m \u001b[38;5;28;01mdef\u001b[39;00m \u001b[38;5;21m_fire_state_event\u001b[39m(\u001b[38;5;28mself\u001b[39m, hook: Hashable, state: Optional[State]) \u001b[38;5;241m-\u001b[39m\u001b[38;5;241m>\u001b[39m \u001b[38;5;28;01mNone\u001b[39;00m:\n\u001b[1;32m    299\u001b[0m     \u001b[38;5;28;01mfor\u001b[39;00m callback \u001b[38;5;129;01min\u001b[39;00m \u001b[38;5;28mself\u001b[39m\u001b[38;5;241m.\u001b[39m_event_callbacks\u001b[38;5;241m.\u001b[39mget(hook, []):\n\u001b[0;32m--> 300\u001b[0m         \u001b[43mcallback\u001b[49m\u001b[43m(\u001b[49m\u001b[38;5;28;43mself\u001b[39;49m\u001b[43m,\u001b[49m\u001b[43m \u001b[49m\u001b[43mhook\u001b[49m\u001b[43m,\u001b[49m\u001b[43m \u001b[49m\u001b[43mstate\u001b[49m\u001b[43m)\u001b[49m\n",
      "File \u001b[0;32m/anfhome/software/anaconda/envs/aiida-gromacs/lib/python3.10/site-packages/plumpy/processes.py:337\u001b[0m, in \u001b[0;36mProcess._setup_event_hooks.<locals>.<lambda>\u001b[0;34m(_s, _h, from_state)\u001b[0m\n\u001b[1;32m    331\u001b[0m \u001b[38;5;28;01mdef\u001b[39;00m \u001b[38;5;21m_setup_event_hooks\u001b[39m(\u001b[38;5;28mself\u001b[39m) \u001b[38;5;241m-\u001b[39m\u001b[38;5;241m>\u001b[39m \u001b[38;5;28;01mNone\u001b[39;00m:\n\u001b[1;32m    332\u001b[0m \u001b[38;5;250m    \u001b[39m\u001b[38;5;124;03m\"\"\"Set the event hooks to process, when it is created or loaded(recreated).\"\"\"\u001b[39;00m\n\u001b[1;32m    333\u001b[0m     event_hooks \u001b[38;5;241m=\u001b[39m {\n\u001b[1;32m    334\u001b[0m         state_machine\u001b[38;5;241m.\u001b[39mStateEventHook\u001b[38;5;241m.\u001b[39mENTERING_STATE:\n\u001b[1;32m    335\u001b[0m         \u001b[38;5;28;01mlambda\u001b[39;00m _s, _h, state: \u001b[38;5;28mself\u001b[39m\u001b[38;5;241m.\u001b[39mon_entering(cast(process_states\u001b[38;5;241m.\u001b[39mState, state)),\n\u001b[1;32m    336\u001b[0m         state_machine\u001b[38;5;241m.\u001b[39mStateEventHook\u001b[38;5;241m.\u001b[39mENTERED_STATE:\n\u001b[0;32m--> 337\u001b[0m         \u001b[38;5;28;01mlambda\u001b[39;00m _s, _h, from_state: \u001b[38;5;28;43mself\u001b[39;49m\u001b[38;5;241;43m.\u001b[39;49m\u001b[43mon_entered\u001b[49m\u001b[43m(\u001b[49m\u001b[43mcast\u001b[49m\u001b[43m(\u001b[49m\u001b[43mOptional\u001b[49m\u001b[43m[\u001b[49m\u001b[43mprocess_states\u001b[49m\u001b[38;5;241;43m.\u001b[39;49m\u001b[43mState\u001b[49m\u001b[43m]\u001b[49m\u001b[43m,\u001b[49m\u001b[43m \u001b[49m\u001b[43mfrom_state\u001b[49m\u001b[43m)\u001b[49m\u001b[43m)\u001b[49m,\n\u001b[1;32m    338\u001b[0m         state_machine\u001b[38;5;241m.\u001b[39mStateEventHook\u001b[38;5;241m.\u001b[39mEXITING_STATE:\n\u001b[1;32m    339\u001b[0m         \u001b[38;5;28;01mlambda\u001b[39;00m _s, _h, _state: \u001b[38;5;28mself\u001b[39m\u001b[38;5;241m.\u001b[39mon_exiting()\n\u001b[1;32m    340\u001b[0m     }\n\u001b[1;32m    341\u001b[0m     \u001b[38;5;28;01mfor\u001b[39;00m hook, callback \u001b[38;5;129;01min\u001b[39;00m event_hooks\u001b[38;5;241m.\u001b[39mitems():\n\u001b[1;32m    342\u001b[0m         \u001b[38;5;28mself\u001b[39m\u001b[38;5;241m.\u001b[39madd_state_event_callback(hook, callback)\n",
      "File \u001b[0;32m/anfhome/software/anaconda/envs/aiida-gromacs/lib/python3.10/site-packages/aiida/engine/processes/process.py:433\u001b[0m, in \u001b[0;36mProcess.on_entered\u001b[0;34m(self, from_state)\u001b[0m\n\u001b[1;32m    428\u001b[0m \u001b[38;5;66;03m# We need to guarantee that the process state gets updated even if the ``update_outputs`` call excepts, for\u001b[39;00m\n\u001b[1;32m    429\u001b[0m \u001b[38;5;66;03m# example if the process implementation attaches an invalid output through ``Process.out``, and so we call the\u001b[39;00m\n\u001b[1;32m    430\u001b[0m \u001b[38;5;66;03m# ``ProcessNode.set_process_state`` in the finally-clause. This way the state gets properly set on the node even\u001b[39;00m\n\u001b[1;32m    431\u001b[0m \u001b[38;5;66;03m# if the process is transitioning to the terminal excepted state.\u001b[39;00m\n\u001b[1;32m    432\u001b[0m \u001b[38;5;28;01mtry\u001b[39;00m:\n\u001b[0;32m--> 433\u001b[0m     \u001b[38;5;28;43mself\u001b[39;49m\u001b[38;5;241;43m.\u001b[39;49m\u001b[43mupdate_outputs\u001b[49m\u001b[43m(\u001b[49m\u001b[43m)\u001b[49m\n\u001b[1;32m    434\u001b[0m \u001b[38;5;28;01mexcept\u001b[39;00m \u001b[38;5;167;01mValueError\u001b[39;00m:\n\u001b[1;32m    435\u001b[0m     \u001b[38;5;28;01mraise\u001b[39;00m\n",
      "File \u001b[0;32m/anfhome/software/anaconda/envs/aiida-gromacs/lib/python3.10/site-packages/aiida/engine/processes/process.py:677\u001b[0m, in \u001b[0;36mProcess.update_outputs\u001b[0;34m(self)\u001b[0m\n\u001b[1;32m    675\u001b[0m     output\u001b[38;5;241m.\u001b[39mbase\u001b[38;5;241m.\u001b[39mlinks\u001b[38;5;241m.\u001b[39madd_incoming(\u001b[38;5;28mself\u001b[39m\u001b[38;5;241m.\u001b[39mnode, LinkType\u001b[38;5;241m.\u001b[39mCREATE, link_label)\n\u001b[1;32m    676\u001b[0m \u001b[38;5;28;01melif\u001b[39;00m \u001b[38;5;28misinstance\u001b[39m(\u001b[38;5;28mself\u001b[39m\u001b[38;5;241m.\u001b[39mnode, orm\u001b[38;5;241m.\u001b[39mWorkflowNode):\n\u001b[0;32m--> 677\u001b[0m     \u001b[43moutput\u001b[49m\u001b[38;5;241;43m.\u001b[39;49m\u001b[43mbase\u001b[49m\u001b[38;5;241;43m.\u001b[39;49m\u001b[43mlinks\u001b[49m\u001b[38;5;241;43m.\u001b[39;49m\u001b[43madd_incoming\u001b[49m\u001b[43m(\u001b[49m\u001b[38;5;28;43mself\u001b[39;49m\u001b[38;5;241;43m.\u001b[39;49m\u001b[43mnode\u001b[49m\u001b[43m,\u001b[49m\u001b[43m \u001b[49m\u001b[43mLinkType\u001b[49m\u001b[38;5;241;43m.\u001b[39;49m\u001b[43mRETURN\u001b[49m\u001b[43m,\u001b[49m\u001b[43m \u001b[49m\u001b[43mlink_label\u001b[49m\u001b[43m)\u001b[49m\n\u001b[1;32m    679\u001b[0m output\u001b[38;5;241m.\u001b[39mstore()\n",
      "File \u001b[0;32m/anfhome/software/anaconda/envs/aiida-gromacs/lib/python3.10/site-packages/aiida/orm/nodes/links.py:58\u001b[0m, in \u001b[0;36mNodeLinks.add_incoming\u001b[0;34m(self, source, link_type, link_label)\u001b[0m\n\u001b[1;32m     49\u001b[0m \u001b[38;5;250m\u001b[39m\u001b[38;5;124;03m\"\"\"Add a link of the given type from a given node to ourself.\u001b[39;00m\n\u001b[1;32m     50\u001b[0m \n\u001b[1;32m     51\u001b[0m \u001b[38;5;124;03m:param source: the node from which the link is coming\u001b[39;00m\n\u001b[0;32m   (...)\u001b[0m\n\u001b[1;32m     55\u001b[0m \u001b[38;5;124;03m:raise ValueError: if the proposed link is invalid\u001b[39;00m\n\u001b[1;32m     56\u001b[0m \u001b[38;5;124;03m\"\"\"\u001b[39;00m\n\u001b[1;32m     57\u001b[0m \u001b[38;5;28mself\u001b[39m\u001b[38;5;241m.\u001b[39mvalidate_incoming(source, link_type, link_label)\n\u001b[0;32m---> 58\u001b[0m \u001b[43msource\u001b[49m\u001b[38;5;241;43m.\u001b[39;49m\u001b[43mbase\u001b[49m\u001b[38;5;241;43m.\u001b[39;49m\u001b[43mlinks\u001b[49m\u001b[38;5;241;43m.\u001b[39;49m\u001b[43mvalidate_outgoing\u001b[49m\u001b[43m(\u001b[49m\u001b[38;5;28;43mself\u001b[39;49m\u001b[38;5;241;43m.\u001b[39;49m\u001b[43m_node\u001b[49m\u001b[43m,\u001b[49m\u001b[43m \u001b[49m\u001b[43mlink_type\u001b[49m\u001b[43m,\u001b[49m\u001b[43m \u001b[49m\u001b[43mlink_label\u001b[49m\u001b[43m)\u001b[49m\n\u001b[1;32m     60\u001b[0m \u001b[38;5;28;01mif\u001b[39;00m \u001b[38;5;28mself\u001b[39m\u001b[38;5;241m.\u001b[39m_node\u001b[38;5;241m.\u001b[39mis_stored \u001b[38;5;129;01mand\u001b[39;00m source\u001b[38;5;241m.\u001b[39mis_stored:\n\u001b[1;32m     61\u001b[0m     \u001b[38;5;28mself\u001b[39m\u001b[38;5;241m.\u001b[39m_node\u001b[38;5;241m.\u001b[39mbackend_entity\u001b[38;5;241m.\u001b[39madd_incoming(source\u001b[38;5;241m.\u001b[39mbackend_entity, link_type, link_label)\n",
      "File \u001b[0;32m/anfhome/software/anaconda/envs/aiida-gromacs/lib/python3.10/site-packages/aiida/orm/nodes/process/workflow/workfunction.py:40\u001b[0m, in \u001b[0;36mWorkFunctionNodeLinks.validate_outgoing\u001b[0;34m(self, target, link_type, link_label)\u001b[0m\n\u001b[1;32m     27\u001b[0m \u001b[38;5;28;01mdef\u001b[39;00m \u001b[38;5;21mvalidate_outgoing\u001b[39m(\u001b[38;5;28mself\u001b[39m, target: \u001b[38;5;124m'\u001b[39m\u001b[38;5;124mNode\u001b[39m\u001b[38;5;124m'\u001b[39m, link_type: LinkType, link_label: \u001b[38;5;28mstr\u001b[39m) \u001b[38;5;241m-\u001b[39m\u001b[38;5;241m>\u001b[39m \u001b[38;5;28;01mNone\u001b[39;00m:\n\u001b[1;32m     28\u001b[0m \u001b[38;5;250m    \u001b[39m\u001b[38;5;124;03m\"\"\"Validate adding a link of the given type from ourself to a given node.\u001b[39;00m\n\u001b[1;32m     29\u001b[0m \n\u001b[1;32m     30\u001b[0m \u001b[38;5;124;03m    A workfunction cannot create Data, so if we receive an outgoing RETURN link to an unstored Data node, that means\u001b[39;00m\n\u001b[0;32m   (...)\u001b[0m\n\u001b[1;32m     38\u001b[0m \u001b[38;5;124;03m    :raise ValueError: if the proposed link is invalid\u001b[39;00m\n\u001b[1;32m     39\u001b[0m \u001b[38;5;124;03m    \"\"\"\u001b[39;00m\n\u001b[0;32m---> 40\u001b[0m     \u001b[38;5;28;43msuper\u001b[39;49m\u001b[43m(\u001b[49m\u001b[43m)\u001b[49m\u001b[38;5;241;43m.\u001b[39;49m\u001b[43mvalidate_outgoing\u001b[49m\u001b[43m(\u001b[49m\u001b[43mtarget\u001b[49m\u001b[43m,\u001b[49m\u001b[43m \u001b[49m\u001b[43mlink_type\u001b[49m\u001b[43m,\u001b[49m\u001b[43m \u001b[49m\u001b[43mlink_label\u001b[49m\u001b[43m)\u001b[49m\n\u001b[1;32m     41\u001b[0m     \u001b[38;5;28;01mif\u001b[39;00m link_type \u001b[38;5;129;01mis\u001b[39;00m LinkType\u001b[38;5;241m.\u001b[39mRETURN \u001b[38;5;129;01mand\u001b[39;00m \u001b[38;5;129;01mnot\u001b[39;00m target\u001b[38;5;241m.\u001b[39mis_stored:\n\u001b[1;32m     42\u001b[0m         \u001b[38;5;28;01mraise\u001b[39;00m \u001b[38;5;167;01mValueError\u001b[39;00m(\n\u001b[1;32m     43\u001b[0m             \u001b[38;5;124m'\u001b[39m\u001b[38;5;124mtrying to return an unstored Data node from a @workfunction, however, @workfunctions cannot create \u001b[39m\u001b[38;5;124m'\u001b[39m\n\u001b[1;32m     44\u001b[0m             \u001b[38;5;124m'\u001b[39m\u001b[38;5;124mdata. You probably want to use a @calcfunction instead.\u001b[39m\u001b[38;5;124m'\u001b[39m\n\u001b[1;32m     45\u001b[0m         )\n",
      "File \u001b[0;32m/anfhome/software/anaconda/envs/aiida-gromacs/lib/python3.10/site-packages/aiida/orm/nodes/process/workflow/workflow.py:42\u001b[0m, in \u001b[0;36mWorkflowNodeLinks.validate_outgoing\u001b[0;34m(self, target, link_type, link_label)\u001b[0m\n\u001b[1;32m     40\u001b[0m \u001b[38;5;28msuper\u001b[39m()\u001b[38;5;241m.\u001b[39mvalidate_outgoing(target, link_type, link_label)\n\u001b[1;32m     41\u001b[0m \u001b[38;5;28;01mif\u001b[39;00m link_type \u001b[38;5;129;01mis\u001b[39;00m LinkType\u001b[38;5;241m.\u001b[39mRETURN \u001b[38;5;129;01mand\u001b[39;00m \u001b[38;5;129;01mnot\u001b[39;00m target\u001b[38;5;241m.\u001b[39mis_stored:\n\u001b[0;32m---> 42\u001b[0m     \u001b[38;5;28;01mraise\u001b[39;00m \u001b[38;5;167;01mValueError\u001b[39;00m(\n\u001b[1;32m     43\u001b[0m         \u001b[38;5;124m'\u001b[39m\u001b[38;5;124mWorkflow<\u001b[39m\u001b[38;5;132;01m{}\u001b[39;00m\u001b[38;5;124m> tried returning an unstored `Data` node. This likely means new `Data` is being created \u001b[39m\u001b[38;5;124m'\u001b[39m\n\u001b[1;32m     44\u001b[0m         \u001b[38;5;124m'\u001b[39m\u001b[38;5;124minside the workflow. In order to preserve data provenance, use a `calcfunction` to create this node \u001b[39m\u001b[38;5;124m'\u001b[39m\n\u001b[1;32m     45\u001b[0m         \u001b[38;5;124m'\u001b[39m\u001b[38;5;124mand return its output from the workflow\u001b[39m\u001b[38;5;124m'\u001b[39m\u001b[38;5;241m.\u001b[39mformat(\u001b[38;5;28mself\u001b[39m\u001b[38;5;241m.\u001b[39m_node\u001b[38;5;241m.\u001b[39mprocess_label)\n\u001b[1;32m     46\u001b[0m     )\n",
      "\u001b[0;31mValueError\u001b[0m: Workflow<get_pdbdata_to_atomlist> tried returning an unstored `Data` node. This likely means new `Data` is being created inside the workflow. In order to preserve data provenance, use a `calcfunction` to create this node and return its output from the workflow"
     ]
    }
   ],
   "source": [
    "@engine.calcfunction\n",
    "def get_pdbline_to_atomdict(num: orm.Int, line: orm.Str) -> orm.Dict:\n",
    "    return orm.Dict({'atom_number': num.value, 'atom_name': line.value[12:16].split()[0], \\\n",
    "                         'residue_name': line.value[17:20].split()[0], \\\n",
    "                         'residue_seq_num': int(line.value[22:26].split()[0]), \\\n",
    "                         'coord': [float(line.value[30:38].split()[0]), \\\n",
    "                                   float(line.value[38:46].split()[0]), float(line.value[46:54].split()[0])], \\\n",
    "                         'element': line.value[76:78].split()[0]})\n",
    "\n",
    "@engine.workfunction\n",
    "def get_pdbdata_to_atomlist(atom_lines: orm.List) -> orm.List:\n",
    "    atom_list = orm.List()\n",
    "    for i, line in enumerate(atom_lines):\n",
    "        atom_list.append(get_pdbline_to_atomdict(i, orm.Str(line)))\n",
    "\n",
    "    return atom_list\n",
    "\n",
    "@engine.calcfunction\n",
    "\n",
    "monomer_atom_lines = orm.List([line for line in monomer.get_content().split('\\n') if line.startswith('ATOM') or line.startswith('HETATM')])\n",
    "monomer_all_atom_lines = get_pdbdata_to_atomlin(monomer)"
   ]
  },
  {
   "cell_type": "markdown",
   "id": "db7d9f8c-ca59-4619-9943-9a454d4c7689",
   "metadata": {},
   "source": [
    "<div class=\"alert alert-info\">\n",
    " ℹ️ We are marking the function `get_pdbdata_to_atomdict` with AiiDA's `calcfunction` decorator. This ensures the act of modifying the original monomoer pdb file is captured in the provenance graph\n",
    "</div>"
   ]
  },
  {
   "cell_type": "markdown",
   "id": "aeb87056-5f96-45d4-97d3-9438fc1809aa",
   "metadata": {},
   "source": [
    "The monomer atom information is stored in AiiDA's `List` data types, which allows it to be stored in the provenance graph. "
   ]
  },
  {
   "cell_type": "code",
   "execution_count": 7,
   "id": "32ac32b9-38dd-491e-bfe1-c951a85a103b",
   "metadata": {},
   "outputs": [],
   "source": [
    "monomer_atom_lines = orm.List([line for line in monomer.get_content().split('\\n') if line.startswith('ATOM') or line.startswith('HETATM')])\n",
    "monomer_all_atom_list = orm.List()\n",
    "for num, line in enumerate(monomer_atom_lines.get_list()):\n",
    "    monomer_all_atom_list.append(get_pdbdata_to_atomdict(num, line))"
   ]
  },
  {
   "cell_type": "markdown",
   "id": "745b0571-e600-4d19-8deb-9e348f2258ec",
   "metadata": {},
   "source": [
    "We are creating some functions which will perform vector related calculations (e.g. - unit vector between 2 points.)"
   ]
  },
  {
   "cell_type": "code",
   "execution_count": 8,
   "id": "cc9f83b9-0ebf-4d35-b6f6-e80c6ccb1fa7",
   "metadata": {},
   "outputs": [],
   "source": [
    "@engine.calcfunction\n",
    "def get_unit_vector(p1: orm.ArrayData, p2: orm.ArrayData) -> orm.ArrayData:\n",
    "\n",
    "    vec = p1.get_array() - p2.get_array()\n",
    "    vec /= np.linalg.norm(vec)\n",
    "\n",
    "    return orm.ArrayData(vec)\n",
    "\n",
    "@engine.calcfunction\n",
    "def get_rotation_matrix(vec1: orm.ArrayData, vec2: orm.ArrayData) -> orm.ArrayData:\n",
    "\n",
    "    # Calculate the angle between vec1 and vec2 and rotation angle to align vec2 to vec1\n",
    "    dot_product = np.dot(vec1.get_array(), vec2.get_array())\n",
    "    rotation_angle = np.arccos(dot_product)\n",
    "    print('rangle = ', rotation_angle)\n",
    "\n",
    "    cos_angle = np.cos(rotation_angle)\n",
    "    sin_angle = np.sin(rotation_angle)\n",
    "    \n",
    "    # Calculate the rotation axis (cross product)\n",
    "    rotation_axis = np.cross(vec1.get_array(), vec2.get_array())\n",
    "    rotation_axis /= np.linalg.norm(rotation_axis)\n",
    "\n",
    "    rotation_matrix = np.array([\n",
    "        [cos_angle + rotation_axis[0] * rotation_axis[0] * (1 - cos_angle), \\\n",
    "        rotation_axis[0] * rotation_axis[1] * (1 - cos_angle) - rotation_axis[2] * sin_angle, \\\n",
    "        rotation_axis[0] * rotation_axis[2] * (1 - cos_angle) + rotation_axis[1] * sin_angle],\n",
    "        [rotation_axis[1] * rotation_axis[0] * (1 - cos_angle) + rotation_axis[2] * sin_angle, \\\n",
    "        cos_angle + rotation_axis[1] * rotation_axis[1] * (1 - cos_angle), \\\n",
    "        rotation_axis[1] * rotation_axis[2] * (1 - cos_angle) - rotation_axis[0] * sin_angle],\n",
    "        [rotation_axis[2] * rotation_axis[0] * (1 - cos_angle) - rotation_axis[1] * sin_angle, \\\n",
    "        rotation_axis[2] * rotation_axis[1] * (1 - cos_angle) + rotation_axis[0] * sin_angle, \n",
    "        cos_angle + rotation_axis[2] * rotation_axis[2] * (1 - cos_angle)]\n",
    "    ])\n",
    "    return orm.ArrayData(rotation_matrix)\n",
    "\n",
    "@engine.calcfunction\n",
    "def rotate_coord(atom_coord: orm.ArrayData, ref_coord: orm.ArrayData, rotation_matrix: orm.ArrayData) -> orm.ArrayData:\n",
    "\n",
    "    ref_atom_vec = atom_coord.get_array() - ref_coord.get_array()\n",
    "    \n",
    "    rotated_coord_vec = np.dot(rotation_matrix.get_array(), ref_atom_vec)\n",
    "    new_atom_coord = ref_coord.get_array() + rotated_coord_vec\n",
    "\n",
    "    return orm.ArrayData(new_atom_coord)"
   ]
  },
  {
   "cell_type": "markdown",
   "id": "a0bbf86f-1717-40a6-9668-ff92119d293e",
   "metadata": {},
   "source": [
    "We are creating some functions which will perform atom dictionary related operations (e.g. - create empty atom dict.)"
   ]
  },
  {
   "cell_type": "code",
   "execution_count": 9,
   "id": "a4a5b163-7c51-438e-b3c1-23102493c132",
   "metadata": {},
   "outputs": [],
   "source": [
    "@engine.calcfunction\n",
    "def copy_atomdict(curratom_dict: orm.Dict) -> orm.Dict:\n",
    "    newatom_dict = orm.Dict()\n",
    "    newatom_dict.set_dict(curratom_dict)\n",
    "    return newatom_dict\n",
    "\n",
    "@engine.calcfunction\n",
    "def update_atom_number(curratom_dict: orm.Dict, atom_number: orm.Int) -> orm.Dict:\n",
    "    newatom_dict = orm.Dict({'atom_number': atom_number.value, 'atom_name': curratom_dict['atom_name'], \\\n",
    "                     'residue_name': curratom_dict['residue_name'], 'residue_seq_num': curratom_dict['residue_seq_num'], \\\n",
    "                     'coord': curratom_dict['coord'], \\\n",
    "                     'element': curratom_dict['element']})\n",
    "    return newatom_dict\n",
    "\n",
    "@engine.calcfunction\n",
    "def update_residue_seq_num(curratom_dict: orm.Dict, residue_seq_num: orm.Int) -> orm.Dict:\n",
    "    newatom_dict = orm.Dict({'atom_number': curratom_dict['atom_number'], 'atom_name': curratom_dict['atom_name'], \\\n",
    "                     'residue_name': curratom_dict['residue_name'], 'residue_seq_num': residue_seq_num.value, \\\n",
    "                     'coord': curratom_dict['coord'], \\\n",
    "                     'element': curratom_dict['element']})\n",
    "    return newatom_dict\n",
    "\n",
    "@engine.calcfunction\n",
    "def update_residue_name(curratom_dict: orm.Dict, residue_name: orm.Str) -> orm.Dict:\n",
    "    newatom_dict = orm.Dict({'atom_number': curratom_dict['atom_number'], 'atom_name': curratom_dict['atom_name'], \\\n",
    "                     'residue_name': residue_name.value, 'residue_seq_num': curratom_dict['residue_seq_num'], \\\n",
    "                     'coord': curratom_dict['coord'], \\\n",
    "                     'element': curratom_dict['element']})\n",
    "    return newatom_dict\n",
    "\n",
    "@engine.calcfunction\n",
    "def update_coord(curratom_dict: orm.Dict, coord: orm.List) -> orm.Dict:\n",
    "    newatom_dict = orm.Dict({'atom_number': curratom_dict['atom_number'], 'atom_name': curratom_dict['atom_name'], \\\n",
    "                     'residue_name': curratom_dict['residue_name'], 'residue_seq_num': curratom_dict['residue_seq_num'], \\\n",
    "                     'coord': coord.get_list(), \\\n",
    "                     'element': curratom_dict['element']})\n",
    "    return newatom_dict\n",
    "\n",
    "@engine.calcfunction\n",
    "def get_pdbstr(curratom_dict: orm.Dict) -> orm.Str:\n",
    "    pdb_str = \"ATOM  %5d %-4s %3s  %4d    %8.3f%8.3f%8.3f                      %2s\" \\\n",
    "    % (curratom_dict['atom_number']+1, curratom_dict['atom_name'], \\\n",
    "       curratom_dict['residue_name'], curratom_dict['residue_seq_num']+1, \\\n",
    "       curratom_dict['coord'][0], curratom_dict['coord'][1], curratom_dict['coord'][2], \\\n",
    "       curratom_dict['element'])\n",
    "    return orm.Str(pdb_str)"
   ]
  },
  {
   "cell_type": "markdown",
   "id": "b7c7cf8a-2afd-4cff-8c07-10f3648b807d",
   "metadata": {},
   "source": [
    "We are creating 2 lists here.\n",
    "1. `polymer_all_atom_list`: This list contains the atom information of the whole polymer.\n",
    "2. `polymer_remove_atom_index_list`: During polymerization one hydrogens at the connecting carbon atoms of 2 monomers will be removed during the polimerization process.\n",
    "\n",
    "**_NOTE 1: `polymer_remove_atom_index_list` list will be._**"
   ]
  },
  {
   "cell_type": "code",
   "execution_count": 10,
   "id": "5b53f47b-02ce-4570-b9be-c3912cce3f44",
   "metadata": {},
   "outputs": [],
   "source": [
    "polymer_all_atom_list = orm.List()\n",
    "polymer_remove_atom_index_list = orm.List()\n",
    "\n",
    "# Add monomers to the polymer chain\n",
    "polymer_atom_count = 0\n",
    "for imonomer in range(monomer_count_per_polymer.value):\n",
    "    monomer_atom_count = len(monomer_all_atom_list)\n",
    "    # first monomer\n",
    "    if imonomer == 0:\n",
    "        for iatom in monomer_all_atom_list:\n",
    "            curratom = copy_atomdict(iatom)\n",
    "            curratom = update_atom_number(curratom, orm.Int(polymer_atom_count))\n",
    "            curratom = update_residue_seq_num(curratom, orm.Int(imonomer))\n",
    "            \n",
    "            polymer_all_atom_list.append(curratom)\n",
    "            \n",
    "            if iatom['atom_name'] == 'HW3':\n",
    "                polymer_remove_atom_index_list.append(polymer_all_atom_list[len(polymer_all_atom_list)-1]['atom_number'])\n",
    "            polymer_atom_count += 1\n",
    "    else:\n",
    "        # get the CW of last monomer\n",
    "        cw_index = -1\n",
    "        for iatom in polymer_all_atom_list:\n",
    "            if iatom['atom_name'] == 'CW':\n",
    "                cw_index = iatom['atom_number']\n",
    "\n",
    "        if cw_index < 0:\n",
    "            raise ValueError('CW atom is not found.')\n",
    "        \n",
    "        # get the HA3 of model monomer\n",
    "        ha3_index = -1\n",
    "        for iatom in monomer_all_atom_list:\n",
    "            if iatom['atom_name'] == 'HA3':\n",
    "                ha3_index = iatom['atom_number']\n",
    "                \n",
    "        if ha3_index < 0:\n",
    "            raise ValueError('HA3 atom is not found.')\n",
    "\n",
    "        dtranslate = np.array(polymer_all_atom_list[cw_index]['coord']) \\\n",
    "        - np.array(monomer_all_atom_list[ha3_index]['coord'])\n",
    "                    \n",
    "        # put the next monomer in the polymer + translation\n",
    "        for iatom in monomer_all_atom_list:\n",
    "            curratom = copy_atomdict(iatom)\n",
    "            curratom = update_atom_number(curratom, orm.Int(polymer_atom_count))\n",
    "            curratom = update_residue_seq_num(curratom, orm.Int(imonomer))\n",
    "\n",
    "            coord = np.array(iatom['coord']) + dtranslate\n",
    "            curratom = update_coord(curratom, orm.List(coord.tolist()))\n",
    "\n",
    "            if imonomer != monomer_count_per_polymer.value - 1:\n",
    "                curratom = update_residue_name(curratom, orm.Str(iatom['residue_name'][:-1] + '2'))\n",
    "            else:\n",
    "                curratom = update_residue_name(curratom, orm.Str(iatom['residue_name'][:-1] + '3'))\n",
    "            \n",
    "            polymer_all_atom_list.append(curratom)\n",
    "            \n",
    "            if polymer_all_atom_list[len(polymer_all_atom_list)-1]['atom_name'] == 'HA3':\n",
    "                polymer_remove_atom_index_list.append(polymer_all_atom_list[len(polymer_all_atom_list)-1]['atom_number'])\n",
    "            elif polymer_all_atom_list[len(polymer_all_atom_list)-1]['atom_name'] == 'HW3':\n",
    "                if polymer_all_atom_list[len(polymer_all_atom_list)-1]['residue_seq_num'] != monomer_count_per_polymer.value - 1:\n",
    "                    polymer_remove_atom_index_list.append(polymer_all_atom_list[len(polymer_all_atom_list)-1]['atom_number'])\n",
    "                    \n",
    "            polymer_atom_count += 1\n",
    "\n",
    "        # rotation starts here\n",
    "        # CW.coord == HA3.coord\n",
    "        # get the CA of last monomer\n",
    "        ca_index = -1\n",
    "        for iatom in polymer_all_atom_list:\n",
    "            if iatom['atom_name'] == 'CA':\n",
    "                ca_index = iatom['atom_number']\n",
    "                \n",
    "        if ca_index < 0:\n",
    "            raise ValueError('CA atom is not found.')\n",
    "\n",
    "        # get the HW3 of previous monomer\n",
    "        hw3_index = -1\n",
    "        for iatom in polymer_all_atom_list:\n",
    "            if iatom['atom_name'] == 'HW3' and iatom['residue_seq_num'] == imonomer - 1:\n",
    "                hw3_index = iatom['atom_number']\n",
    "                \n",
    "        if hw3_index < 0:\n",
    "            raise ValueError('HW3 atom is not found.')\n",
    "\n",
    "        cw_hw3_unit_vec = get_unit_vector(orm.ArrayData(np.array(polymer_all_atom_list[hw3_index]['coord'])), \\\n",
    "                              orm.ArrayData(np.array(polymer_all_atom_list[cw_index]['coord'])))\n",
    "\n",
    "        cw_ca_unit_vec = get_unit_vector(orm.ArrayData(np.array(polymer_all_atom_list[ca_index]['coord'])), \\\n",
    "                              orm.ArrayData(np.array(polymer_all_atom_list[cw_index]['coord'])))\n",
    "\n",
    "        rotation_matrix = get_rotation_matrix(cw_hw3_unit_vec, cw_ca_unit_vec)\n",
    "\n",
    "        for index, iatom in enumerate(polymer_all_atom_list):\n",
    "            if iatom['residue_seq_num'] == imonomer and iatom['atom_name'] != '':\n",
    "                coord = rotate_coord(orm.ArrayData(np.array(iatom['coord'])), \\\n",
    "                                               orm.ArrayData(np.array(polymer_all_atom_list[ca_index]['coord'])), \\\n",
    "                                              rotation_matrix).get_array().tolist()\n",
    "                polymer_all_atom_list[index] = update_coord(polymer_all_atom_list[index], coord)"
   ]
  },
  {
   "cell_type": "markdown",
   "id": "435894de-2ccd-4b6b-8be6-1c951ae62c1c",
   "metadata": {},
   "source": [
    "As we get the complete atom information of the polymer, we can wrap this data in AiiDA's `SinglefileData` data type, which will allows it to be stored in the provenance graph."
   ]
  },
  {
   "cell_type": "code",
   "execution_count": 11,
   "id": "419db71d-5790-41d0-b36b-d6bbee296a25",
   "metadata": {},
   "outputs": [],
   "source": [
    "polymer_all_atom_lines = orm.List()\n",
    "for iatom in polymer_all_atom_list:\n",
    "    if iatom['atom_number'] not in polymer_remove_atom_index_list.get_list():\n",
    "        polymer_all_atom_lines.append(get_pdbstr(iatom).value)\n",
    "polymer = orm.SinglefileData.from_string('\\n'.join(polymer_all_atom_lines), filename='polymer.pdb')"
   ]
  },
  {
   "cell_type": "markdown",
   "id": "2026f6ac-d125-4bed-ada3-0b9bd1257361",
   "metadata": {},
   "source": [
    "**Visualize polymer**"
   ]
  }
 ],
 "metadata": {
  "kernelspec": {
   "display_name": "Python [conda env:aiida-gromacs]",
   "language": "python",
   "name": "conda-env-aiida-gromacs-py"
  },
  "language_info": {
   "codemirror_mode": {
    "name": "ipython",
    "version": 3
   },
   "file_extension": ".py",
   "mimetype": "text/x-python",
   "name": "python",
   "nbconvert_exporter": "python",
   "pygments_lexer": "ipython3",
   "version": "3.10.0"
  }
 },
 "nbformat": 4,
 "nbformat_minor": 5
}
