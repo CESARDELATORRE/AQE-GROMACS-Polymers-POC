{
 "cells": [
  {
   "cell_type": "code",
   "execution_count": 3,
   "id": "a918f0f9-3ba0-4cab-a5a7-23ffa5e93f9a",
   "metadata": {},
   "outputs": [
    {
     "data": {
      "text/plain": [
       "Profile<uuid='e3eed8e7f41e49b094d7e9107f76a58a' name='gromacs'>"
      ]
     },
     "execution_count": 3,
     "metadata": {},
     "output_type": "execute_result"
    }
   ],
   "source": [
    "from aiida import load_profile\n",
    "load_profile()"
   ]
  },
  {
   "cell_type": "code",
   "execution_count": 4,
   "id": "72d8d105-e8c0-437c-8dd1-5fed95c35b45",
   "metadata": {},
   "outputs": [],
   "source": [
    "import pathlib\n",
    "import os\n",
    "import numpy as np\n",
    "\n",
    "from aiida.orm import Bool, Int, Float, Str, Dict, List, SinglefileData, FolderData, Computer"
   ]
  },
  {
   "cell_type": "code",
   "execution_count": 5,
   "id": "0865992f-7657-4427-88e9-a0d8a5b6afea",
   "metadata": {},
   "outputs": [],
   "source": [
    "monomer = SinglefileData(os.getcwd() + '/14tPBMonomer.pdb')"
   ]
  },
  {
   "cell_type": "code",
   "execution_count": 13,
   "id": "3b59b9b4-ffed-4e31-8339-233933220cbe",
   "metadata": {},
   "outputs": [
    {
     "data": {
      "text/plain": [
       "['ATOM      1  CA  BD1     1       8.280  51.200  30.550  1.00  0.00           C',\n",
       " 'ATOM      2  HA1 BD1     1       8.790  50.330  30.140  1.00  0.00           H',\n",
       " 'ATOM      3  HA2 BD1     1       8.830  52.120  30.380  1.00  0.00           H',\n",
       " 'ATOM      4  HA3 BD1     1       8.380  51.100  31.630  1.00  0.00           H',\n",
       " 'ATOM      5  CB  BD1     1       6.890  51.370  30.050  1.00  0.00           C',\n",
       " 'ATOM      6  HB  BD1     1       6.230  50.510  30.130  1.00  0.00           H',\n",
       " 'ATOM      7  CG  BD1     1       6.460  52.520  29.510  1.00  0.00           C',\n",
       " 'ATOM      8  HG  BD1     1       7.270  53.230  29.440  1.00  0.00           H',\n",
       " 'ATOM      9  CW  BD1     1       5.030  52.720  28.830  1.00  0.00           C',\n",
       " 'ATOM     10  HW1 BD1     1       4.580  53.650  29.180  1.00  0.00           H',\n",
       " 'ATOM     11  HW2 BD1     1       4.320  51.910  29.030  1.00  0.00           H',\n",
       " 'ATOM     12  HW3 BD1     1       5.210  52.796  27.758  1.00  0.00           H']"
      ]
     },
     "execution_count": 13,
     "metadata": {},
     "output_type": "execute_result"
    }
   ],
   "source": [
    "lines = monomer.get_content().split('\\n')\n",
    "lines"
   ]
  },
  {
   "cell_type": "code",
   "execution_count": 16,
   "id": "2c161dd9-6f43-4992-9880-89958443c6d2",
   "metadata": {},
   "outputs": [],
   "source": [
    "import nglview as nv\n",
    "import tempfile\n",
    "\n",
    "def visualize(node: SinglefileData) -> nv.NGLWidget:\n",
    "    with node.open(mode='rb') as source:\n",
    "        with tempfile.NamedTemporaryFile(suffix=node.filename) as target:\n",
    "            target.write(source.read())\n",
    "            view = nv.NGLWidget()\n",
    "            view.add_component(target.name)\n",
    "            view.clear_representations()\n",
    "            view.add_ball_and_stick()\n",
    "            return view"
   ]
  },
  {
   "cell_type": "code",
   "execution_count": 17,
   "id": "32fcba59-6004-41d0-8808-5cf418cea47c",
   "metadata": {},
   "outputs": [
    {
     "data": {
      "application/vnd.jupyter.widget-view+json": {
       "model_id": "4f253943723044acaf554a849cdda2e6",
       "version_major": 2,
       "version_minor": 0
      },
      "text/plain": [
       "NGLWidget()"
      ]
     },
     "metadata": {},
     "output_type": "display_data"
    }
   ],
   "source": [
    "# visualize the structure\n",
    "\n",
    "visualize(monomer)"
   ]
  },
  {
   "cell_type": "code",
   "execution_count": null,
   "id": "716e2e07-4f3c-49bc-9289-d5c99e7dfeb5",
   "metadata": {},
   "outputs": [],
   "source": []
  }
 ],
 "metadata": {
  "kernelspec": {
   "display_name": "Python [conda env:aiida-gromacs]",
   "language": "python",
   "name": "conda-env-aiida-gromacs-py"
  },
  "language_info": {
   "codemirror_mode": {
    "name": "ipython",
    "version": 3
   },
   "file_extension": ".py",
   "mimetype": "text/x-python",
   "name": "python",
   "nbconvert_exporter": "python",
   "pygments_lexer": "ipython3",
   "version": "3.10.0"
  }
 },
 "nbformat": 4,
 "nbformat_minor": 5
}
