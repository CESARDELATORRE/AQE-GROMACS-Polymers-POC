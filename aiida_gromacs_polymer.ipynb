{
 "cells": [
  {
   "cell_type": "markdown",
   "id": "ea795310-4490-40b4-a72c-c5a6b6b9dbdb",
   "metadata": {},
   "source": [
    "# Running GROMACS on AQE for Polymer Simulation"
   ]
  },
  {
   "cell_type": "markdown",
   "id": "f77e6ead-566c-4814-99e2-a02277134d76",
   "metadata": {},
   "source": [
    "This notebook will demonstrate the pipeline of calculating glass transition temperature $(T_g)$ using GROMACS molecular dynamics software."
   ]
  },
  {
   "cell_type": "markdown",
   "id": "4b8c3135-4ce3-4b91-8c5d-d63e7e1e2f3e",
   "metadata": {},
   "source": [
    "- [x] We need to load an AiiDA profile. The `load_profile` method will load the default profile if no explicit profile name is specified."
   ]
  },
  {
   "cell_type": "code",
   "execution_count": 51,
   "id": "f1be0d58-8e3d-408e-8f6d-97efa809d4e9",
   "metadata": {},
   "outputs": [
    {
     "data": {
      "text/plain": [
       "Profile<uuid='854b62c634cd4cd6ade4c630f3c0af0e' name='gromacs'>"
      ]
     },
     "execution_count": 51,
     "metadata": {},
     "output_type": "execute_result"
    }
   ],
   "source": [
    "from aiida import load_profile\n",
    "load_profile()"
   ]
  },
  {
   "cell_type": "markdown",
   "id": "50dd33f8-fd7e-4ccf-ad46-3afe079d6433",
   "metadata": {},
   "source": [
    "#Delete this shell. (No USE -- )\n",
    "%aiida\n",
    "%verdi status"
   ]
  },
  {
   "cell_type": "markdown",
   "id": "548450e1-e6cd-4d9f-b613-b3cf677c9fde",
   "metadata": {},
   "source": [
    "We need to set some user defined parameters which will be used throughout the pipeline"
   ]
  },
  {
   "cell_type": "code",
   "execution_count": 52,
   "id": "5e32127b-04c6-4256-9f15-eecd3517fc54",
   "metadata": {},
   "outputs": [],
   "source": [
    "# Polymer/Monomer inputs\n",
    "monomer_pdbfilename = '14tPBMonomer.pdb'        # PDB filename of the monomer\n",
    "monomer_count_per_polymer = 50                  # Number of monomers present in one polymer\n",
    "# polymer_pdbfilename = '14tPBSingleChain.pdb'    # PDB filename of the polymer\n",
    "# polymer_count = 50                              # Number of polymer in the simulation box\n",
    "\n",
    "# MD simulation inputs\n",
    "thermo_T = 300.15                               # Simulation Temperature (K)\n",
    "thermo_P = 1.0                                  # Simulation Pressure (bar)"
   ]
  },
  {
   "cell_type": "markdown",
   "id": "31bad62c-c243-4362-bffa-d46866498eb1",
   "metadata": {},
   "source": [
    "Two types of input data is required from the user.\n",
    "1. Polymer input/Monomoer input - User will provide the name of the polymer and the number of polymers they want to use in molecular dynamics simulation inorder to optimize the computational cost with highest efficacy.\n",
    "(**_NOTE:_** Once the polymerization step is introduced, the polymer input will be replaced by the monomer inputs.)\n",
    "\n",
    "2. MD simulation inputs - User will provide an absolute thermodynamic condition for the simulation (i.e. temperature and pressure) or a range of temperature and pressure at which simulation will be conducted.\n",
    "\n",
    "**_NOTE 1:_** A minimum intervention will be required after this.\n",
    "\n",
    "**_NOTE 2: Currently the PoC is for linear homopolymer._**"
   ]
  },
  {
   "cell_type": "markdown",
   "id": "7134c847-6853-4bf1-b636-bd969693883e",
   "metadata": {},
   "source": [
    "Necessary python packages are imported."
   ]
  },
  {
   "cell_type": "code",
   "execution_count": 53,
   "id": "b5a0ddfd-308c-4537-a1ad-14157235779c",
   "metadata": {},
   "outputs": [],
   "source": [
    "import pathlib\n",
    "import os\n",
    "\n",
    "from aiida import engine, orm\n",
    "from aiida_shell import launch_shell_job"
   ]
  },
  {
   "cell_type": "markdown",
   "id": "20125e99-0604-4705-bb9f-720b70dfefba",
   "metadata": {},
   "source": [
    "Convert the user input into `aiida.orm` `Data` types accepted by the `node` arguments. "
   ]
  },
  {
   "cell_type": "code",
   "execution_count": 54,
   "id": "ca1ce0cc-033c-4479-b55c-a954283a6bd9",
   "metadata": {},
   "outputs": [],
   "source": [
    "monomer_pdbfilename = orm.Str(monomer_pdbfilename)\n",
    "monomer_count_per_polymer = orm.Int(monomer_count_per_polymer)\n",
    "\n",
    "#polymer_pdbfilename = orm.Str(polymer_pdbfilename)\n",
    "#polymer_count = orm.Int(polymer_count)\n",
    "\n",
    "thermo_T = orm.Float(thermo_T)\n",
    "thermo_P = orm.Float(thermo_P)"
   ]
  },
  {
   "cell_type": "markdown",
   "id": "aaebeed3-e89e-402b-b38e-a01eb79f26ac",
   "metadata": {},
   "source": [
    "- [ ] Polymerization step"
   ]
  },
  {
   "cell_type": "code",
   "execution_count": 55,
   "id": "428d0308-80fc-41cd-a924-9a6584739613",
   "metadata": {},
   "outputs": [],
   "source": [
    "monomer = orm.SinglefileData(os.getcwd() + '/' + monomer_pdbfilename.value)"
   ]
  },
  {
   "cell_type": "code",
   "execution_count": 56,
   "id": "355ed330-8103-4fc0-8fb5-e9424eeab101",
   "metadata": {},
   "outputs": [
    {
     "name": "stdout",
     "output_type": "stream",
     "text": [
      "ATOM      1  CA  BD1     1       8.280  51.200  30.550  1.00  0.00           C\n",
      "ATOM      2  HA1 BD1     1       8.790  50.330  30.140  1.00  0.00           H\n",
      "ATOM      3  HA2 BD1     1       8.830  52.120  30.380  1.00  0.00           H\n",
      "ATOM      4  HA3 BD1     1       8.380  51.100  31.630  1.00  0.00           H\n",
      "ATOM      5  CB  BD1     1       6.890  51.370  30.050  1.00  0.00           C\n",
      "ATOM      6  HB  BD1     1       6.230  50.510  30.130  1.00  0.00           H\n",
      "ATOM      7  CG  BD1     1       6.460  52.520  29.510  1.00  0.00           C\n",
      "ATOM      8  HG  BD1     1       7.270  53.230  29.440  1.00  0.00           H\n",
      "ATOM      9  CW  BD1     1       5.030  52.720  28.830  1.00  0.00           C\n",
      "ATOM     10  HW1 BD1     1       4.580  53.650  29.180  1.00  0.00           H\n",
      "ATOM     11  HW2 BD1     1       4.320  51.910  29.030  1.00  0.00           H\n",
      "ATOM     12  HW3 BD1     1       5.210  52.796  27.758  1.00  0.00           H\n"
     ]
    }
   ],
   "source": [
    "#@engine.calcfunction\n",
    "#def read_monomer_pdb\n",
    "\n",
    "lines = monomer.get_content().split('\\n')\n",
    "atom_lines = [line for line in lines if line.startswith('ATOM') or line.startswith('HETATM')]\n",
    "\n",
    "for line in atom_lines:\n",
    "    print(line)\n",
    "\n",
    "# For all the polymerization we will attach\n",
    "# CW of current monomer with CA of the next monomer\n",
    "# For start of the polymer look for CA\n",
    "# For end of the polymer look for CW"
   ]
  },
  {
   "cell_type": "markdown",
   "id": "a4ff1ec7-a85b-47eb-a387-ee9b7c35da13",
   "metadata": {},
   "source": [
    "We are opening the file and wrap it in AiiDA's `SinglefileData` data type, which allows it to be stored in the provenance graph."
   ]
  },
  {
   "cell_type": "code",
   "execution_count": 5,
   "id": "7d399ccc-60ab-46bc-b95e-3ca849681cec",
   "metadata": {},
   "outputs": [],
   "source": [
    "polymer = orm.SinglefileData(os.getcwd() + '/' + polymer_pdbfilename.value)"
   ]
  },
  {
   "cell_type": "markdown",
   "id": "091cc89d-805b-440b-a3a8-199fabc2a0d5",
   "metadata": {},
   "source": [
    "The `gmx pdb2gmx` is the first GROMACS command to create th topology file according to the forcefield information for the polymer."
   ]
  },
  {
   "cell_type": "code",
   "execution_count": 6,
   "id": "ef42702f-eac8-4b11-95b5-9eef15a98df4",
   "metadata": {},
   "outputs": [],
   "source": [
    "@engine.calcfunction\n",
    "def calc_molecular_weight_polymer(polymer: orm.SinglefileData) -> orm.Float:\n",
    "    import pandas as pd\n",
    "    elecsvfile = os.getcwd() + '/elements.csv'\n",
    "    dataframe_elements = pd.read_csv(elecsvfile, index_col = None)\n",
    "    \n",
    "    lines = polymer.get_content().split('\\n')\n",
    "    atom_lines = [line for line in lines if line.startswith('ATOM') or line.startswith('HETATM')]\n",
    "\n",
    "    # Calculate molecular weight\n",
    "    molecular_weight_polymer = 0.0\n",
    "    for line in atom_lines:\n",
    "        # Find element and atomic mass from the periodic table\n",
    "        elestr = line[12:14]\n",
    "\n",
    "        if elestr[0] == ' ':\n",
    "            if elestr[1].isalpha() and elestr[1].isupper():\n",
    "                ele = elestr[1]\n",
    "            else:\n",
    "                ele = ' '\n",
    "        elif elestr[0].isdigit():\n",
    "            if elestr[1].isalpha() and elestr[1].isupper():\n",
    "                ele = elestr[1]\n",
    "            else:\n",
    "                ele = ' '\n",
    "        elif elestr[0].isalpha() and elestr[0].isupper():\n",
    "            if elestr[1].isdigit():\n",
    "                ele = elestr[0]\n",
    "            else:\n",
    "                ele = elestr\n",
    "        else:\n",
    "            ele = ' '\n",
    "\n",
    "        try:\n",
    "            molecular_weight_polymer += float(dataframe_elements.loc[dataframe_elements['Symbol'] == ele, 'AtomicMass'].iloc[0])\n",
    "        except:\n",
    "            raise Exception(f'ERROR: Atom type of {elestr} not found.')\n",
    "\n",
    "    return orm.Float(molecular_weight_polymer)\n",
    "\n",
    "@engine.calcfunction\n",
    "def calc_simulation_box_length(molecular_weight_polymer: orm.Float, polymer_count: orm.Int) -> orm.Float:\n",
    "    molecular_weight = molecular_weight_polymer.value * polymer_count.value\n",
    "    \n",
    "    # Default density (0.4 g/cm3)\n",
    "    density = 0.4\n",
    "    avogadro_number = 6.022e23  # molecules/mol\n",
    "    cm_to_nm = 1e7  # cm to nm conversion factor\n",
    "    \n",
    "    # Step 1: Mass of one molecule\n",
    "    mass_per_molecule = molecular_weight / avogadro_number  # g\n",
    "    \n",
    "    # Step 2: Volume of cubic box\n",
    "    volume = mass_per_molecule / density  # cm³\n",
    "    \n",
    "    # Step 3: Side length of the cubic box\n",
    "    box_length = volume**(1/3)  # cm\n",
    "    box_length = box_length * cm_to_nm  # nm\n",
    "\n",
    "    return orm.Float(box_length)\n",
    "\n",
    "molecular_weight_polymer = calc_molecular_weight_polymer(polymer)\n",
    "box_length = calc_simulation_box_length(molecular_weight_polymer, polymer_count)"
   ]
  },
  {
   "cell_type": "markdown",
   "id": "1901bc4b-5ab2-42fd-84b6-c3b4b0e458d6",
   "metadata": {},
   "source": [
    "We are setting the force-field folder and wrap it in AiiDA's `FolderData` data type, which allows it to be stored in the provenance graph."
   ]
  },
  {
   "cell_type": "code",
   "execution_count": 7,
   "id": "f2d5e697-3b99-491c-b15b-3492b564e5a8",
   "metadata": {},
   "outputs": [],
   "source": [
    "# Default Parameters\n",
    "ffdir = os.getcwd() + '/oplsaa.ff'\n",
    "oplsaa = orm.FolderData(tree=ffdir)                       "
   ]
  },
  {
   "cell_type": "code",
   "execution_count": 8,
   "id": "ee2a3a9c-b9ba-4d47-8605-9b3f89e53990",
   "metadata": {},
   "outputs": [
    {
     "name": "stdout",
     "output_type": "stream",
     "text": [
      "                  :-) GROMACS - gmx pdb2gmx, 2023.3-spack (-:\n",
      "\n",
      "Executable:   /anfhome/spack/opt/spack/__spack_path_placeholder__/__spack_path_placeholder__/__spack_path_placeholder__/__spack_path_placehold/linux-almalinux8-zen3/aocc-4.1.0/gromacs-2023.3-upt5rsow4zsttzs63kqercg7her4e3e2/bin/gmx_mpi\n",
      "Data prefix:  /anfhome/spack/opt/spack/__spack_path_placeholder__/__spack_path_placeholder__/__spack_path_placeholder__/__spack_path_placehold/linux-almalinux8-zen3/aocc-4.1.0/gromacs-2023.3-upt5rsow4zsttzs63kqercg7her4e3e2\n",
      "Working dir:  /anfhome/aamir/scratch/aiida/9f/84/13d6-b178-4e10-b9ff-e3dde09d4563\n",
      "Command line:\n",
      "  gmx_mpi pdb2gmx -f 14tPBSingleChain.pdb -o polymer_out.pdb -water spce -ff oplsaa\n",
      "\n",
      "Force field 'oplsaa' occurs in 2 places. pdb2gmx is using the one in the current directory. Use interactive selection (not the -ff option) if you would prefer a different one.\n",
      "Force field 'oplsaa' occurs in 2 places. pdb2gmx is using the one in the current directory. Use interactive selection (not the -ff option) if you would prefer a different one.\n",
      "\n",
      "Using the Oplsaa force field in directory ./oplsaa.ff\n",
      "\n",
      "going to rename ./oplsaa.ff/aminoacids.r2b\n",
      "Opening force field file ./oplsaa.ff/aminoacids.r2b\n",
      "Reading 14tPBSingleChain.pdb...\n",
      "Read 'Other t= 1000000.00000 step= 500000000', 502 atoms\n",
      "\n",
      "Analyzing pdb file\n",
      "Splitting chemical chains based on TER records or chain id changing.\n",
      "\n",
      "There are 1 chains and 0 blocks of water and 50 residues with 502 atoms\n",
      "\n",
      "  chain  #res #atoms\n",
      "\n",
      "  1 ' '    50    502  \n",
      "\n",
      "All occupancies are one\n",
      "\n",
      "All occupancies are one\n",
      "Opening force field file ./oplsaa.ff/atomtypes.atp\n",
      "\n",
      "Reading residue database... (Oplsaa)\n",
      "Opening force field file ./oplsaa.ff/aminoacids.rtp\n",
      "Opening force field file ./oplsaa.ff/aminoacids.hdb\n",
      "Opening force field file ./oplsaa.ff/aminoacids.n.tdb\n",
      "Opening force field file ./oplsaa.ff/aminoacids.c.tdb\n",
      "\n",
      "Processing chain 1 (502 atoms, 50 residues)\n",
      "\n",
      "Problem with chain definition, or missing terminal residues. This chain does not appear to contain a recognized chain molecule. If this is incorrect, you can edit residuetypes.dat to modify the behavior.\n",
      "8 out of 8 lines of specbond.dat converted successfully\n",
      "\n",
      "Checking for duplicate atoms....\n",
      "\n",
      "Generating any missing hydrogen atoms and/or adding termini.\n",
      "\n",
      "Now there are 50 residues with 502 atoms\n",
      "\n",
      "Making bonds...\n",
      "\n",
      "Number of bonds was 501, now 501\n",
      "\n",
      "Generating angles, dihedrals and pairs...\n",
      "Before cleaning: 1241 pairs\n",
      "Before cleaning: 1241 dihedrals\n",
      "\n",
      "Making cmap torsions...\n",
      "\n",
      "There are 1241 dihedrals,    0 impropers,  900 angles\n",
      "          1241 pairs,      501 bonds and     0 virtual sites\n",
      "\n",
      "Total mass 2706.616 a.m.u.\n",
      "\n",
      "Total charge -0.000 e\n",
      "\n",
      "Writing topology\n",
      "\n",
      "Writing coordinate file...\n",
      "\n",
      "\t\t--------- PLEASE NOTE ------------\n",
      "\n",
      "You have successfully generated a topology from: 14tPBSingleChain.pdb.\n",
      "\n",
      "The Oplsaa force field and the spce water model are used.\n",
      "\n",
      "\t\t--------- ETON ESAELP ------------\n",
      "\n",
      "GROMACS reminds you: \"Consistently separating words by spaces became a general custom about the tenth century A.D., and lasted until about 1957, when FORTRAN abandoned the practice.\" (Sun FORTRAN Reference Manual)\n",
      "\n",
      "\n"
     ]
    }
   ],
   "source": [
    "# Run `gmx pdb2gmx` to convert the PDB to GROMACS .gro format.\n",
    "results_pdb2gmx, node_pdb2gmx = launch_shell_job(\n",
    "    'gmx',\n",
    "    arguments='pdb2gmx -f {polymer} -o polymer_out.pdb -water spce -ff oplsaa',\n",
    "    nodes={\n",
    "        'polymer': polymer,\n",
    "        'folder': oplsaa,\n",
    "    },\n",
    "    filenames={\n",
    "        'folder': 'oplsaa.ff'\n",
    "    },\n",
    "    outputs=['polymer_out.pdb', 'topol.top', 'posre.itp'],\n",
    "    metadata={'options': {'redirect_stderr': True}},\n",
    ")\n",
    "print(results_pdb2gmx['stdout'].get_content())"
   ]
  },
  {
   "cell_type": "markdown",
   "id": "47529f30-8083-4fda-b80b-08a0e9ddeb8e",
   "metadata": {},
   "source": [
    "<div class=\"alert alert-info\">\n",
    "`gmx` is the GROMACS executable which will be executed with several parameters. The `nodes` argument takes a dictionary of `SinglefileData` and `FolderData` which will be copied to the working directory where the `gmx` command is executed. The `oplsaa` in `nodes` are copied to the `oplsaa.ff` folder in the working directory. If the key of the node appears as a placeholder in the `arguments` argument, it is replaced with its filename. \n",
    "</div>"
   ]
  },
  {
   "cell_type": "markdown",
   "id": "6e46b1ff-18c1-4b8b-9ffc-15ae2815cc5d",
   "metadata": {},
   "source": [
    "The `gmx pdb2gmx` is expected to generate three outputs of interest:\n",
    "- `polymer_out.pdb`: `.pdb` file of the polymer.\n",
    "- `topol.top`: The topology file.\n",
    "- `posre.itp`: The position restraint file included in the topology file."
   ]
  },
  {
   "cell_type": "markdown",
   "id": "909c4478-d731-49b2-8398-279771c07a49",
   "metadata": {},
   "source": [
    "<div class=\"alert alert-info\">\n",
    "These output files will be used in the upcoming steps in the pipeline. To capture these output files in the AiiDA's provenance graph, these filenames are declared in the `output` argunent. `aiida-shell` will wrap these output files in a `SinglefileDtata`.\n",
    "</div>"
   ]
  },
  {
   "cell_type": "markdown",
   "id": "12f48ef2-f21d-4ab0-88ed-79936c80549f",
   "metadata": {},
   "source": [
    "Similar to the previous steps, GROMACS creates a simulation box where mutiple chains of the polymer will be inserted for the MD simulations. From the previous step, `.pdb` file of the single polymer chain is used to replicate the polymer chain inside the simulation box. In the output, we get a simulation box containing `polymer_count` number of polymers."
   ]
  },
  {
   "cell_type": "code",
   "execution_count": 9,
   "id": "4627867d-2bd7-44f2-9f44-8bd3b3711f76",
   "metadata": {},
   "outputs": [
    {
     "name": "stdout",
     "output_type": "stream",
     "text": [
      "              :-) GROMACS - gmx insert-molecules, 2023.3-spack (-:\n",
      "\n",
      "Executable:   /anfhome/spack/opt/spack/__spack_path_placeholder__/__spack_path_placeholder__/__spack_path_placeholder__/__spack_path_placehold/linux-almalinux8-zen3/aocc-4.1.0/gromacs-2023.3-upt5rsow4zsttzs63kqercg7her4e3e2/bin/gmx_mpi\n",
      "Data prefix:  /anfhome/spack/opt/spack/__spack_path_placeholder__/__spack_path_placeholder__/__spack_path_placeholder__/__spack_path_placehold/linux-almalinux8-zen3/aocc-4.1.0/gromacs-2023.3-upt5rsow4zsttzs63kqercg7her4e3e2\n",
      "Working dir:  /anfhome/aamir/scratch/aiida/7a/df/b074-d007-46bc-a700-8a1390ea2fdb\n",
      "Command line:\n",
      "  gmx_mpi insert-molecules -box 8.2514028455544 -ci 14tPBSingleChain.pdb -nmol 50 -try 999 -o melt.pdb\n",
      "\n",
      "Initialising inter-atomic distances...\n",
      "\n",
      "WARNING: Masses and atomic (Van der Waals) radii will be guessed\n",
      "         based on residue and atom names, since they could not be\n",
      "         definitively assigned from the information in your input\n",
      "         files. These guessed numbers might deviate from the mass\n",
      "         and radius of the atom type. Please check the output\n",
      "         files if necessary. Note, that this functionality may\n",
      "         be removed in a future GROMACS version. Please, consider\n",
      "         using another file format for your input.\n",
      "\n",
      "NOTE: From version 5.0 gmx insert-molecules uses the Van der Waals radii\n",
      "from the source below. This means the results may be different\n",
      "compared to previous GROMACS versions.\n",
      "\n",
      "++++ PLEASE READ AND CITE THE FOLLOWING REFERENCE ++++\n",
      "A. Bondi\n",
      "van der Waals Volumes and Radii\n",
      "J. Phys. Chem. 68 (1964) pp. 441-451\n",
      "-------- -------- --- Thank You --- -------- --------\n",
      "\n",
      "Using random seed -33644993\n",
      "Try 1 success (now 502 atoms)!\n",
      "Try 2 success (now 1004 atoms)!\n",
      "Try 3 success (now 1506 atoms)!\n",
      "Try 4 success (now 2008 atoms)!\n",
      "Try 6 success (now 2510 atoms)!\n",
      "Try 7 success (now 3012 atoms)!\n",
      "Try 8 success (now 3514 atoms)!\n",
      "Try 10 success (now 4016 atoms)!\n",
      "Try 11 success (now 4518 atoms)!\n",
      "Try 75 success (now 5020 atoms)!\n",
      "Try 79 success (now 5522 atoms)!\n",
      "Try 167 success (now 6024 atoms)!\n",
      "Try 181 success (now 6526 atoms)!\n",
      "Try 255 success (now 7028 atoms)!\n",
      "Try 339 success (now 7530 atoms)!\n",
      "Try 541 success (now 8032 atoms)!\n",
      "Try 568 success (now 8534 atoms)!\n",
      "Try 1010 success (now 9036 atoms)!\n",
      "Try 2120 success (now 9538 atoms)!\n",
      "Try 5273 success (now 10040 atoms)!\n",
      "Try 7871 success (now 10542 atoms)!\n",
      "Try 18005 success (now 11044 atoms)!\n",
      "Try 28714 success (now 11546 atoms)!\n",
      "Try 49950\n",
      "Added 23 molecules (out of 50 requested)\n",
      "Writing generated configuration to melt.pdb\n",
      "\n",
      "Output configuration contains 11546 atoms in 1150 residues\n",
      "\n",
      "GROMACS reminds you: \"Unfortunately, \"simulation\" has become increasingly misused to mean nothing more than \"calculation\"\" (Bill Jorgensen)\n",
      "\n",
      "\n",
      "True\n",
      "False\n"
     ]
    }
   ],
   "source": [
    "@engine.calcfunction\n",
    "def check_insert_molecules(log: orm.SinglefileData, polymer_count: orm.Int) -> orm.Bool:\n",
    "    lines = log.get_content().split('\\n')\n",
    "    check_lines = [line for line in lines if line.startswith('Added')]\n",
    "    \n",
    "    if len(check_lines) > 1:\n",
    "        raise Exception('ERROR: Multiple lines got selected in the check_lines variable', check_lines)\n",
    "\n",
    "    wordlist = check_lines[0].split()\n",
    "    polymer_count_inserted = orm.Int(wordlist[1])\n",
    "    \n",
    "    if polymer_count_inserted.value == polymer_count.value:\n",
    "        return orm.Bool(False)\n",
    "    else:\n",
    "        return orm.Bool(True)\n",
    "\n",
    "run = orm.Bool(True)\n",
    "while run.value:\n",
    "    results_insert, node_insert = launch_shell_job(\n",
    "        'gmx',\n",
    "        arguments='insert-molecules -box {box_length} -ci {polymer} -nmol {polymer_count} -try 999 -o melt.pdb',\n",
    "        nodes={\n",
    "            'box_length': box_length,\n",
    "            'polymer': polymer,\n",
    "            'polymer_count': polymer_count,\n",
    "        },\n",
    "        outputs=['melt.pdb'],\n",
    "        metadata={'options': {'redirect_stderr': True}},\n",
    "    )\n",
    "    print(results_insert['stdout'].get_content())\n",
    "    run = check_insert_molecules(results_insert['stdout'], polymer_count)\n",
    "    print(run.value)\n",
    "    if run.value:\n",
    "        \n",
    "        run = orm.Bool(False)\n",
    "    else:\n",
    "        run = orm.Bool(False)\n",
    "    print(run.value)"
   ]
  },
  {
   "cell_type": "markdown",
   "id": "27d2efa7-2d75-410d-b5a6-f16ac3ef4e69",
   "metadata": {},
   "source": [
    "While running the `pdb2gmx` command we have created the topology for one single polymer chain. However, in the `topol.top` file we have to provide the number of polymer chain present in the simulation box. Therefore, we are updating the number of molecules line from 1 to `polymer_count` using the `sed` command."
   ]
  },
  {
   "cell_type": "code",
   "execution_count": 10,
   "id": "754a3c28-a1c7-4fd8-b214-36a0f1fbc24f",
   "metadata": {},
   "outputs": [],
   "source": [
    "results_updatetop, node_updatetop = launch_shell_job(\n",
    "    'sed',\n",
    "    arguments='-i \"s/Other               1/Other               23/g\" {top}',\n",
    "    nodes={\n",
    "        'top': results_pdb2gmx['topol_top'],\n",
    "    },\n",
    "    outputs=['topol.top'],\n",
    "    metadata={'options': {'redirect_stderr': True}},\n",
    ")\n",
    "#print(results_updatetop['stdout'].get_content())"
   ]
  },
  {
   "cell_type": "markdown",
   "id": "73022109-b0b9-4916-8280-a299a092d8ea",
   "metadata": {},
   "source": [
    "<div class=\"alert alert-info\">\n",
    "The output `topol.top` file is declared in the `output` argunent where `aiida-shell` will wrap these output files in a `SinglefileDtata`.\n",
    "</div>"
   ]
  },
  {
   "cell_type": "markdown",
   "id": "2475e27e-b157-4cba-b3a7-075fce9ff25c",
   "metadata": {},
   "source": [
    "**Prerequisite for MD simulations and simulation box preparation is completed and we can proceed to run the molecular dynamics simulation.**"
   ]
  },
  {
   "cell_type": "code",
   "execution_count": 11,
   "id": "923203e6-b5c3-45ce-a92d-baada3a0b71f",
   "metadata": {},
   "outputs": [],
   "source": [
    "em_mdp = orm.SinglefileData.from_string(\n",
    "    \"\"\"\n",
    "    integrator      = steep\n",
    "    emtol           = 1000.0\n",
    "    emstep          = 0.01\n",
    "    nsteps          = 50000\n",
    "    nstlist         = 1\n",
    "    cutoff-scheme   = Verlet\n",
    "    ns_type         = grid\n",
    "    coulombtype     = PME\n",
    "    rcoulomb        = 1.0\n",
    "    rvdw            = 1.0\n",
    "    pbc             = xyz\n",
    "    ld_seed         = 1\n",
    "    gen_seed        = 1\n",
    "    \"\"\",\n",
    "    filename='em.mdp',\n",
    ")\n",
    "\n",
    "# Run `gmx grompp` to pre-process the parameters for energy minimization.\n",
    "results_grompp_em, node_grompp_em = launch_shell_job(\n",
    "    'gmx',\n",
    "    arguments='grompp -f {mdp} -c {gro} -p {top} -o output.tpr',\n",
    "    nodes={\n",
    "        'mdp': em_mdp,\n",
    "        'gro': results_insert['melt_pdb'],\n",
    "        'top': results_updatetop['topol_top'],\n",
    "        'folder': oplsaa,\n",
    "    },\n",
    "    filenames={\n",
    "        'folder': 'oplsaa.ff'\n",
    "    },\n",
    "    outputs=['output.tpr'],\n",
    "    metadata={'options': {'redirect_stderr': True}},\n",
    ")\n",
    "#print(results_grompp_em['stdout'].get_content())"
   ]
  },
  {
   "cell_type": "markdown",
   "id": "1c36f076-5d95-4b4f-a412-8874afa228e0",
   "metadata": {},
   "source": [
    "The `gmx grompp` takes the input of three necesary files to generate the `.tpr` file.\n",
    "- [x] `.mdp`: The molecular dynamics parameters.\n",
    "- [x] `.gro`: The coordinate information of all the polymer chains present in the simulation box.\n",
    "- [x] `.top`: The tolology file of the polymer. Also, this has the information of number of polymers present in the simulation box."
   ]
  },
  {
   "cell_type": "markdown",
   "id": "e748286d-cce2-4cd0-98c3-ca7b08a9f0dc",
   "metadata": {},
   "source": [
    "The generated `.tpr` file is used for running the molecular dynamics simulation. We can run the `gmx mdrun` to run the energy minimization step."
   ]
  },
  {
   "cell_type": "code",
   "execution_count": 12,
   "id": "f098da7b-f76b-4e22-97b2-83b74bfb10df",
   "metadata": {},
   "outputs": [
    {
     "name": "stdout",
     "output_type": "stream",
     "text": [
      "                   :-) GROMACS - gmx mdrun, 2023.3-spack (-:\n",
      "\n",
      "Executable:   /anfhome/spack/opt/spack/__spack_path_placeholder__/__spack_path_placeholder__/__spack_path_placeholder__/__spack_path_placehold/linux-almalinux8-zen3/aocc-4.1.0/gromacs-2023.3-upt5rsow4zsttzs63kqercg7her4e3e2/bin/gmx_mpi\n",
      "Data prefix:  /anfhome/spack/opt/spack/__spack_path_placeholder__/__spack_path_placeholder__/__spack_path_placeholder__/__spack_path_placehold/linux-almalinux8-zen3/aocc-4.1.0/gromacs-2023.3-upt5rsow4zsttzs63kqercg7her4e3e2\n",
      "Working dir:  /anfhome/aamir/scratch/aiida/01/6e/5946-56d5-4125-93f8-bf1c22da8889\n",
      "Command line:\n",
      "  gmx_mpi mdrun -v -deffnm output -s output.tpr\n",
      "\n",
      "Reading file output.tpr, VERSION 2023.3-spack (single precision)\n",
      "Using 1 MPI process\n",
      "\n",
      "Non-default thread affinity set, disabling internal thread affinity\n",
      "\n",
      "Using 8 OpenMP threads \n",
      "\n",
      "\n",
      "Steepest Descents:\n",
      "   Tolerance (Fmax)   =  1.00000e+03\n",
      "   Number of steps    =        50000\n",
      "Step=    0, Dmax= 1.0e-02 nm, Epot=  2.45157e+04 Fmax= 1.37536e+05, atom= 7583\n",
      "Step=    1, Dmax= 1.0e-02 nm, Epot=  2.03769e+04 Fmax= 5.64302e+04, atom= 7583\n",
      "Step=    2, Dmax= 1.2e-02 nm, Epot=  1.54126e+04 Fmax= 1.90300e+04, atom= 7583\n",
      "Step=    3, Dmax= 1.4e-02 nm, Epot=  8.38509e+03 Fmax= 7.17893e+03, atom= 7582\n",
      "Step=    4, Dmax= 1.7e-02 nm, Epot=  1.60662e+03 Fmax= 4.28607e+03, atom= 8561\n",
      "Step=    5, Dmax= 2.1e-02 nm, Epot= -1.17937e+03 Fmax= 1.70034e+04, atom= 8559\n",
      "Step=    6, Dmax= 2.5e-02 nm, Epot= -4.72557e+03 Fmax= 1.27482e+04, atom= 8559\n",
      "Step=    8, Dmax= 1.5e-02 nm, Epot= -5.87182e+03 Fmax= 6.11314e+03, atom= 8559\n",
      "Step=    9, Dmax= 1.8e-02 nm, Epot= -6.61351e+03 Fmax= 1.57699e+04, atom= 8559\n",
      "Step=   10, Dmax= 2.1e-02 nm, Epot= -7.39599e+03 Fmax= 1.14427e+04, atom= 8559\n",
      "Step=   12, Dmax= 1.3e-02 nm, Epot= -7.99501e+03 Fmax= 4.50042e+03, atom= 8561\n",
      "Step=   13, Dmax= 1.5e-02 nm, Epot= -8.42209e+03 Fmax= 1.45977e+04, atom= 8559\n",
      "Step=   14, Dmax= 1.9e-02 nm, Epot= -9.04027e+03 Fmax= 8.24968e+03, atom= 8561\n",
      "Step=   16, Dmax= 1.1e-02 nm, Epot= -9.39499e+03 Fmax= 5.86380e+03, atom= 8559\n",
      "Step=   17, Dmax= 1.3e-02 nm, Epot= -9.58511e+03 Fmax= 1.05930e+04, atom= 8559\n",
      "Step=   18, Dmax= 1.6e-02 nm, Epot= -9.87296e+03 Fmax= 9.64706e+03, atom= 8559\n",
      "Step=   20, Dmax= 9.6e-03 nm, Epot= -1.02274e+04 Fmax= 2.29806e+03, atom= 8561\n",
      "Step=   21, Dmax= 1.2e-02 nm, Epot= -1.04895e+04 Fmax= 1.18451e+04, atom= 8559\n",
      "Step=   22, Dmax= 1.4e-02 nm, Epot= -1.09004e+04 Fmax= 5.26827e+03, atom= 8561\n",
      "Step=   24, Dmax= 8.3e-03 nm, Epot= -1.10517e+04 Fmax= 5.23634e+03, atom= 8559\n",
      "Step=   25, Dmax= 1.0e-02 nm, Epot= -1.11499e+04 Fmax= 7.08080e+03, atom= 8559\n",
      "Step=   26, Dmax= 1.2e-02 nm, Epot= -1.12518e+04 Fmax= 8.01266e+03, atom= 8559\n",
      "Step=   27, Dmax= 1.4e-02 nm, Epot= -1.12938e+04 Fmax= 9.82076e+03, atom= 8559\n",
      "Step=   28, Dmax= 1.7e-02 nm, Epot= -1.13042e+04 Fmax= 1.18233e+04, atom= 8559\n",
      "Step=   30, Dmax= 1.0e-02 nm, Epot= -1.17331e+04 Fmax= 1.09910e+03, atom= 4663\n",
      "Step=   31, Dmax= 1.2e-02 nm, Epot= -1.18614e+04 Fmax= 1.28710e+04, atom= 4665\n",
      "Step=   32, Dmax= 1.5e-02 nm, Epot= -1.23330e+04 Fmax= 5.93548e+03, atom= 4663\n",
      "Step=   34, Dmax= 8.9e-03 nm, Epot= -1.24196e+04 Fmax= 5.14925e+03, atom= 4665\n",
      "Step=   36, Dmax= 5.4e-03 nm, Epot= -1.25351e+04 Fmax= 1.64180e+03, atom= 4663\n",
      "Step=   37, Dmax= 6.4e-03 nm, Epot= -1.25841e+04 Fmax= 6.03809e+03, atom= 4665\n",
      "Step=   38, Dmax= 7.7e-03 nm, Epot= -1.27014e+04 Fmax= 3.67453e+03, atom= 4663\n",
      "Step=   40, Dmax= 4.6e-03 nm, Epot= -1.27723e+04 Fmax= 2.12019e+03, atom= 4665\n",
      "Step=   41, Dmax= 5.6e-03 nm, Epot= -1.28076e+04 Fmax= 4.68675e+03, atom= 4663\n",
      "Step=   42, Dmax= 6.7e-03 nm, Epot= -1.28807e+04 Fmax= 3.61059e+03, atom= 4665\n",
      "Step=   44, Dmax= 4.0e-03 nm, Epot= -1.29506e+04 Fmax= 1.45433e+03, atom= 4663\n",
      "Step=   45, Dmax= 4.8e-03 nm, Epot= -1.30001e+04 Fmax= 4.31316e+03, atom= 4665\n",
      "Step=   46, Dmax= 5.8e-03 nm, Epot= -1.30718e+04 Fmax= 2.92788e+03, atom= 4663\n",
      "Step=   48, Dmax= 3.5e-03 nm, Epot= -1.31261e+04 Fmax= 1.41847e+03, atom= 4665\n",
      "Step=   49, Dmax= 4.2e-03 nm, Epot= -1.31723e+04 Fmax= 3.60307e+03, atom= 4663\n",
      "Step=   50, Dmax= 5.0e-03 nm, Epot= -1.32293e+04 Fmax= 2.60495e+03, atom= 4665\n",
      "Step=   51, Dmax= 6.0e-03 nm, Epot= -1.32348e+04 Fmax= 4.77880e+03, atom= 4663\n",
      "Step=   52, Dmax= 7.2e-03 nm, Epot= -1.32910e+04 Fmax= 4.17482e+03, atom= 8559\n",
      "Step=   54, Dmax= 4.3e-03 nm, Epot= -1.33706e+04 Fmax= 1.25569e+03, atom= 4663\n",
      "Step=   55, Dmax= 5.2e-03 nm, Epot= -1.33921e+04 Fmax= 4.91276e+03, atom= 4665\n",
      "Step=   56, Dmax= 6.2e-03 nm, Epot= -1.34770e+04 Fmax= 2.87420e+03, atom= 4663\n",
      "Step=   58, Dmax= 3.7e-03 nm, Epot= -1.35237e+04 Fmax= 1.77705e+03, atom= 4665\n",
      "Step=   59, Dmax= 4.5e-03 nm, Epot= -1.35422e+04 Fmax= 3.69780e+03, atom= 4663\n",
      "Step=   60, Dmax= 5.4e-03 nm, Epot= -1.35902e+04 Fmax= 3.02470e+03, atom= 8559\n",
      "Step=   62, Dmax= 3.2e-03 nm, Epot= -1.36408e+04 Fmax= 1.02171e+03, atom= 4663\n",
      "Step=   63, Dmax= 3.9e-03 nm, Epot= -1.36764e+04 Fmax= 3.63403e+03, atom= 8559\n",
      "Step=   64, Dmax= 4.6e-03 nm, Epot= -1.37321e+04 Fmax= 2.14235e+03, atom= 4663\n",
      "Step=   66, Dmax= 2.8e-03 nm, Epot= -1.37677e+04 Fmax= 1.33767e+03, atom= 4665\n",
      "Step=   67, Dmax= 3.3e-03 nm, Epot= -1.37946e+04 Fmax= 2.78753e+03, atom= 8559\n",
      "Step=   68, Dmax= 4.0e-03 nm, Epot= -1.38320e+04 Fmax= 2.23209e+03, atom= 8559\n",
      "Step=   69, Dmax= 4.8e-03 nm, Epot= -1.38399e+04 Fmax= 3.73996e+03, atom= 8559\n",
      "Step=   70, Dmax= 5.8e-03 nm, Epot= -1.38751e+04 Fmax= 3.47619e+03, atom= 8559\n",
      "Step=   72, Dmax= 3.5e-03 nm, Epot= -1.39325e+04 Fmax= 8.40673e+02, atom= 4663\n",
      "\n",
      "writing lowest energy coordinates.\n",
      "\n",
      "Steepest Descents converged to Fmax < 1000 in 73 steps\n",
      "Potential Energy  = -1.3932481e+04\n",
      "Maximum force     =  8.4067340e+02 on atom 4663\n",
      "Norm of force     =  4.5476759e+01\n",
      "\n",
      "GROMACS reminds you: \"I'm not interrupting you, I'm putting our conversation in full-duplex mode.\" (Antone Roundy)\n",
      "\n",
      "\n"
     ]
    }
   ],
   "source": [
    "# Run `gmx mdrun` to run the energy minimization.\n",
    "results_em, node_em = launch_shell_job(\n",
    "    'gmx',\n",
    "    arguments='mdrun -v -deffnm output -s {tpr}',\n",
    "    nodes={\n",
    "        'tpr': results_grompp_em['output_tpr'],\n",
    "    },\n",
    "    outputs=['output.edr', 'output.gro', 'output.log'],\n",
    "    metadata={'options': {'redirect_stderr': True}},\n",
    ")\n",
    "print(results_em['stdout'].get_content())"
   ]
  },
  {
   "cell_type": "markdown",
   "id": "e02862f2-de55-484e-85ec-2c57af5d48b0",
   "metadata": {},
   "source": [
    "Similar to the previous `gmx grompp` step, we can proceed with NPT equilibration step where the molecular dynamics simulation will be performed at the given thermodynamic conditions given by the user."
   ]
  },
  {
   "cell_type": "code",
   "execution_count": 13,
   "id": "8e9badf8-a167-4813-ab50-6f8a82dd70d0",
   "metadata": {},
   "outputs": [
    {
     "name": "stdout",
     "output_type": "stream",
     "text": [
      "                   :-) GROMACS - gmx grompp, 2023.3-spack (-:\n",
      "\n",
      "Executable:   /anfhome/spack/opt/spack/__spack_path_placeholder__/__spack_path_placeholder__/__spack_path_placeholder__/__spack_path_placehold/linux-almalinux8-zen3/aocc-4.1.0/gromacs-2023.3-upt5rsow4zsttzs63kqercg7her4e3e2/bin/gmx_mpi\n",
      "Data prefix:  /anfhome/spack/opt/spack/__spack_path_placeholder__/__spack_path_placeholder__/__spack_path_placeholder__/__spack_path_placehold/linux-almalinux8-zen3/aocc-4.1.0/gromacs-2023.3-upt5rsow4zsttzs63kqercg7her4e3e2\n",
      "Working dir:  /anfhome/aamir/scratch/aiida/f2/3c/3948-9c6d-42b8-91dc-1c8b8c4afd25\n",
      "Command line:\n",
      "  gmx_mpi grompp -f eqnpt.mdp -c output.gro -p topol.top -o npt.tpr\n",
      "\n",
      "Ignoring obsolete mdp entry 'title'\n",
      "Ignoring obsolete mdp entry 'ns_type'\n",
      "Setting the LD random seed to -604112979\n",
      "\n",
      "Generated 362526 of the 362526 non-bonded parameter combinations\n",
      "Generating 1-4 interactions: fudge = 0.5\n",
      "\n",
      "Generated 362526 of the 362526 1-4 parameter combinations\n",
      "\n",
      "Excluding 3 bonded neighbours molecule type 'Other'\n",
      "\n",
      "turning H bonds into constraints...\n",
      "\n",
      "Setting gen_seed to 316668159\n",
      "\n",
      "Velocities were taken from a Maxwell distribution at 298.15 K\n",
      "Analysing residue names:\n",
      "There are:  1150      Other residues\n",
      "Analysing residues not classified as Protein/DNA/RNA/Water and splitting into groups...\n",
      "Number of degrees of freedom in T-Coupling group System is 27689.00\n",
      "\n",
      "The largest distance between excluded atoms is 0.400 nm between atom 10292 and 10299\n",
      "\n",
      "Determining Verlet buffer for a tolerance of 0.005 kJ/mol/ps at 298.15 K\n",
      "\n",
      "Calculated rlist for 1x1 atom pair-list as 1.000 nm, buffer size 0.000 nm\n",
      "\n",
      "Set rlist, assuming 4x4 atom pair-list, to 1.000 nm, buffer size 0.000 nm\n",
      "\n",
      "Note that mdrun will redetermine rlist based on the actual pair-list setup\n",
      "Calculating fourier grid dimensions for X Y Z\n",
      "Using a fourier grid of 72x72x72, spacing 0.115 0.115 0.115\n",
      "\n",
      "Estimate for the relative computational load of the PME mesh part: 0.59\n",
      "\n",
      "This run will generate roughly 1 Mb of data\n",
      "\n",
      "NOTE 1 [file eqnpt.mdp]:\n",
      "  The optimal PME mesh load for parallel simulations is below 0.5\n",
      "  and for highly parallel simulations between 0.25 and 0.33,\n",
      "  for higher performance, increase the cut-off and the PME grid spacing.\n",
      "\n",
      "\n",
      "\n",
      "There was 1 NOTE\n",
      "\n",
      "GROMACS reminds you: \"That Was Pretty Cool\" (Beavis)\n",
      "\n",
      "\n"
     ]
    }
   ],
   "source": [
    "eqnpt_mdp = orm.SinglefileData.from_string(\n",
    "    \"\"\"\n",
    "    title                   = NPT Equilibration\n",
    "    ;define                 = -DPOSRES\n",
    "    integrator              = md\n",
    "    dt                      = 0.002\n",
    "    nsteps                  = 50000\n",
    "    nstenergy               = 2000\n",
    "    nstxout-compressed      = 10000\n",
    "    nstvout                 = 0\n",
    "    nstlog                  = 1000\n",
    "    gen_vel                 = yes\n",
    "    gen_temp                = 298.15\n",
    "    pbc                     = xyz\n",
    "    cutoff-scheme           = Verlet\n",
    "    rlist                   = 1.0\n",
    "    ns_type                 = grid\n",
    "    nstlist                 = 10\n",
    "    coulombtype             = PME\n",
    "    fourierspacing          = 0.12\n",
    "    pme_order               = 4\n",
    "    rcoulomb                = 1.0\n",
    "    vdwtype                 = Cut-Off\n",
    "    rvdw                    = 1.0\n",
    "    DispCorr                = EnerPres\n",
    "    constraints             = h-bonds\n",
    "    constraint_algorithm    = lincs\n",
    "    lincs_iter              = 1\n",
    "    lincs_order             = 4\n",
    "    tcoupl                  = v-rescale\n",
    "    tc-grps                 = System\n",
    "    ref_t                   = 298.15\n",
    "    tau_t                   = 0.1\n",
    "    pcoupl                  = c-rescale\n",
    "    pcoupltype              = isotropic\n",
    "    ref_p                   = 1.0\n",
    "    tau_p                   = 2.0\n",
    "    ;refcoord-scaling        = com\n",
    "    compressibility         = 4.5e-5\n",
    "    \"\"\",\n",
    "    filename='eqnpt.mdp',\n",
    ")\n",
    "\n",
    "# Run `gmx grompp` to pre-process the parameters for energy minimization.\n",
    "results_grompp_eqnpt, node_grompp_eqnpt = launch_shell_job(\n",
    "    'gmx',\n",
    "    arguments='grompp -f {mdp} -c {gro} -p {top} -o npt.tpr',\n",
    "    nodes={\n",
    "        'mdp': eqnpt_mdp,\n",
    "        'gro': results_em['output_gro'],\n",
    "        'top': results_updatetop['topol_top'],\n",
    "        'folder': oplsaa,\n",
    "    },\n",
    "    filenames={\n",
    "        'folder': 'oplsaa.ff'\n",
    "    },\n",
    "    outputs=['npt.tpr'],\n",
    "    metadata={'options': {'redirect_stderr': True}},\n",
    ")\n",
    "print(results_grompp_eqnpt['stdout'].get_content())"
   ]
  },
  {
   "cell_type": "markdown",
   "id": "4f912153-1681-423e-9aa9-2bd6949f809c",
   "metadata": {},
   "source": [
    "The generated `.tpr` file is used for running the molecular dynamics simulation for NPT equilibration. We can run the `gmx mdrun` to run the NPT equilibration step."
   ]
  },
  {
   "cell_type": "code",
   "execution_count": 14,
   "id": "1e7202ee-8677-44e9-a0ca-86eec90c2dbe",
   "metadata": {},
   "outputs": [],
   "source": [
    "# Run `gmx mdrun` to run the energy minimization.\n",
    "results_eqnpt, node_eqnpt = launch_shell_job(\n",
    "    'gmx',\n",
    "    arguments='mdrun -v -deffnm output -s {tpr}',\n",
    "    nodes={\n",
    "        'tpr': results_grompp_eqnpt['npt_tpr'],\n",
    "    },\n",
    "    outputs=['output.edr', 'output.gro', 'output.log', 'output.xtc'],\n",
    "    metadata={'options': {'redirect_stderr': True}},\n",
    ")\n",
    "#print(results_eqnpt['stdout'].get_content())"
   ]
  },
  {
   "cell_type": "markdown",
   "id": "3c6f4aca-6645-4041-b235-e48df59f49d2",
   "metadata": {},
   "source": [
    "**MD simulation is completed. Therefore, we can go for analysis of the simulated system.**"
   ]
  },
  {
   "cell_type": "markdown",
   "id": "a17e9366-bead-4c7c-8c72-ccb03168fef2",
   "metadata": {},
   "source": [
    "<div class=\"alert alert-info\">\n",
    "Using `gmx energy` command we can calculate and plot the primary properties for the simulated polymer system.\n",
    "</div>"
   ]
  },
  {
   "cell_type": "code",
   "execution_count": 15,
   "id": "098b5b4f-233f-4efb-bc2f-df729e0b9c46",
   "metadata": {},
   "outputs": [],
   "source": [
    "# Run `gmx energy` to extract the potential energy during the energy minimization.\n",
    "results_energy, node_energy = launch_shell_job(\n",
    "    'gmx',\n",
    "    arguments='energy -f {edr} -o potential.xvg',\n",
    "    nodes={\n",
    "        'edr': results_eqnpt['output_edr'],\n",
    "        'stdin': orm.SinglefileData.from_string('10\\n0'),\n",
    "    },\n",
    "    outputs=['potential.xvg'],\n",
    "    metadata={'options': {'redirect_stderr': True, 'filename_stdin': 'stdin'}},\n",
    ")"
   ]
  },
  {
   "cell_type": "markdown",
   "id": "8ef0735d-e0ab-4fcd-9933-d4b687ceb0ad",
   "metadata": {},
   "source": [
    "<div class=\"alert alert-info\">\n",
    "The input for `gmx energy` is the `output.edr` from the `results_eqnpt`. Here we first pass `10` which corresponds to the potential energy, followed by `0` which finalizes the selection and completes the prompt. The `output` file of this step saved as GROMACS generated `.xvg` format.\n",
    "</div>"
   ]
  },
  {
   "cell_type": "markdown",
   "id": "cfd99e10-adae-4705-b7a5-9de4a9d12c53",
   "metadata": {},
   "source": [
    "To visualize the data, first we need to import necessary python packages to be installed."
   ]
  },
  {
   "cell_type": "code",
   "execution_count": 16,
   "id": "b77ae951-a68e-4ceb-9dee-c226c8e21a5c",
   "metadata": {},
   "outputs": [],
   "source": [
    "import io\n",
    "\n",
    "import matplotlib.pyplot as plt\n",
    "import numpy as np\n",
    "\n",
    "from IPython.display import display, IFrame"
   ]
  },
  {
   "cell_type": "markdown",
   "id": "c320cf78-dad6-4868-a737-8a4c2388eab6",
   "metadata": {},
   "source": [
    "We define the `create_plot` function and pass the `potential.xvg` from the previous step. The `create_plot` will create a plot which is saved to a stream in memory which is then passed to a `SinglefileData` node to store it in AiiDA's provecance graph."
   ]
  },
  {
   "cell_type": "code",
   "execution_count": 17,
   "id": "edab4b7d-3639-4927-92ea-b6014e57b3cf",
   "metadata": {},
   "outputs": [],
   "source": [
    "@engine.calcfunction\n",
    "def create_plot(xvg: orm.SinglefileData) -> orm.SinglefileData:\n",
    "    \"\"\"Plot the data of a XVG output file.\"\"\"\n",
    "    lines = xvg.get_content().split('\\n')\n",
    "    data = np.loadtxt(lines, comments=['#', '@']).T\n",
    "    plt.figure(figsize=(6,4))\n",
    "    plt.plot(*data)\n",
    "    plt.xlabel('Time (ps)')\n",
    "    plt.ylabel('Potential energy [kJ/mol]')\n",
    "    stream = io.BytesIO()\n",
    "    plt.savefig(stream, format='png', bbox_inches='tight', dpi=150)\n",
    "    #stream.seek(0)\n",
    "    return orm.SinglefileData(stream, filename='potential.png')\n",
    "    \n",
    "# Create a plot from the extracted potential energy of the system\n",
    "plot = create_plot(results_energy['potential_xvg'])"
   ]
  },
  {
   "cell_type": "markdown",
   "id": "3f58522b-621f-42a3-8287-9dc2d188a054",
   "metadata": {},
   "source": [
    "In the same way we can get the density data from the `output.edr` using the `gmx energy` command and plot it."
   ]
  },
  {
   "cell_type": "code",
   "execution_count": 18,
   "id": "8122add3-4f53-4cf1-b9d8-9fa9b222076c",
   "metadata": {},
   "outputs": [],
   "source": [
    "# Run `gmx energy` to extract the potential energy during the energy minimization.\n",
    "results_energy, node_energy = launch_shell_job(\n",
    "    'gmx',\n",
    "    arguments='energy -f {edr} -o density.xvg',\n",
    "    nodes={\n",
    "        'edr': results_eqnpt['output_edr'],\n",
    "        'stdin': orm.SinglefileData.from_string('22\\n0'),\n",
    "    },\n",
    "    outputs=['density.xvg'],\n",
    "    metadata={'options': {'redirect_stderr': True, 'filename_stdin': 'stdin'}},\n",
    ")"
   ]
  },
  {
   "cell_type": "code",
   "execution_count": 19,
   "id": "1d4c2fef-f2ac-4ef9-a427-59d28b45e74a",
   "metadata": {},
   "outputs": [],
   "source": [
    "@engine.calcfunction\n",
    "def create_plot(xvg: orm.SinglefileData) -> orm.SinglefileData:\n",
    "    \"\"\"Plot the data of a XVG output file.\"\"\"\n",
    "    lines = xvg.get_content().split('\\n')\n",
    "    data = np.loadtxt(lines, comments=['#', '@']).T\n",
    "    plt.plot(*data)\n",
    "    plt.xlabel('Time (ps)')\n",
    "    plt.ylabel('Density $[kg/m^3]$')\n",
    "    stream = io.BytesIO()\n",
    "    plt.savefig(stream, format='png', bbox_inches='tight', dpi=300)\n",
    "    #stream.seek(0)\n",
    "    return orm.SinglefileData(stream, filename='density.png')\n",
    "\n",
    "# Create a plot from the extracted density of the system\n",
    "plot = create_plot(results_energy['density_xvg'])"
   ]
  },
  {
   "cell_type": "code",
   "execution_count": null,
   "id": "0aba542e-007a-40f9-bf74-928fe539c058",
   "metadata": {},
   "outputs": [],
   "source": []
  },
  {
   "cell_type": "code",
   "execution_count": 34,
   "id": "121b169e-05fa-40c9-a586-e7d92c34fe34",
   "metadata": {},
   "outputs": [
    {
     "name": "stdout",
     "output_type": "stream",
     "text": [
      "300.15\n"
     ]
    }
   ],
   "source": []
  },
  {
   "cell_type": "code",
   "execution_count": 38,
   "id": "f086a336-a571-4ded-9035-2908e0a59060",
   "metadata": {},
   "outputs": [],
   "source": [
    "thermo_T_count = 5\n",
    "thermo_T_list = orm.ArrayData(np.array([thermo_T.value-10.0, thermo_T.value-5.0]))"
   ]
  },
  {
   "cell_type": "code",
   "execution_count": 39,
   "id": "aa740375-3a48-43d1-862a-dcdfe65421ff",
   "metadata": {},
   "outputs": [],
   "source": [
    "from aiida.engine.daemon.client import get_daemon_client\n",
    "\n",
    "client = get_daemon_client()\n",
    "client.start_daemon()"
   ]
  },
  {
   "cell_type": "code",
   "execution_count": 40,
   "id": "8862243c-58c4-47ff-96e7-2bda9b0bab30",
   "metadata": {},
   "outputs": [
    {
     "name": "stdout",
     "output_type": "stream",
     "text": [
      "0 290.15 <class 'numpy.float64'> <class 'int'>\n",
      "eqnpt-0.mdp\n",
      "0\n",
      "done\n",
      "1 295.15 <class 'numpy.float64'> <class 'int'>\n",
      "eqnpt-1.mdp\n",
      "1\n",
      "done\n"
     ]
    }
   ],
   "source": [
    "@engine.calcfunction\n",
    "def set_mdp_parameter(id: int=0, thermo_T: np.float64=298.15, thermo_P: np.float64=1.0, ) -> orm.SinglefileData:\n",
    "    mdp_str = f\"\"\"\n",
    "    title                   = NPT Equilibration\n",
    "    ;define                 = -DPOSRES\n",
    "    integrator              = md\n",
    "    dt                      = 0.002\n",
    "    nsteps                  = 50000\n",
    "    nstenergy               = 2000\n",
    "    nstxout-compressed      = 10000\n",
    "    nstvout                 = 0\n",
    "    nstlog                  = 1000\n",
    "    gen_vel                 = yes\n",
    "    gen_temp                = 298.15\n",
    "    pbc                     = xyz\n",
    "    cutoff-scheme           = Verlet\n",
    "    rlist                   = 1.0\n",
    "    ns_type                 = grid\n",
    "    nstlist                 = 10\n",
    "    coulombtype             = PME\n",
    "    fourierspacing          = 0.12\n",
    "    pme_order               = 4\n",
    "    rcoulomb                = 1.0\n",
    "    vdwtype                 = Cut-Off\n",
    "    rvdw                    = 1.0\n",
    "    DispCorr                = EnerPres\n",
    "    constraints             = h-bonds\n",
    "    constraint_algorithm    = lincs\n",
    "    lincs_iter              = 1\n",
    "    lincs_order             = 4\n",
    "    tcoupl                  = v-rescale\n",
    "    tc-grps                 = System\n",
    "    ref_t                   = {thermo_T.value}\n",
    "    tau_t                   = 0.1\n",
    "    pcoupl                  = c-rescale\n",
    "    pcoupltype              = isotropic\n",
    "    ref_p                   = {thermo_P.value}\n",
    "    tau_p                   = 2.0\n",
    "    ;refcoord-scaling        = com\n",
    "    compressibility         = 4.5e-5\n",
    "    \"\"\"\n",
    "\n",
    "    #print(mdp_str)\n",
    "    #print('T = ', thermo_T.value)\n",
    "    #print('P = ', thermo_P.value)\n",
    "\n",
    "    return orm.SinglefileData.from_string(mdp_str, filename=f'eqnpt-{id.value}.mdp')\n",
    "\n",
    "nodelist = []\n",
    "resultslist = []\n",
    "\n",
    "for i, thermo_T_ele in enumerate(thermo_T_list.get_array()):\n",
    "    print(i, thermo_T_ele, type(thermo_T_ele), type(i))\n",
    "    eqnpt_mdp = set_mdp_parameter(i, thermo_T_ele, thermo_P)\n",
    "    print(eqnpt_mdp.filename)\n",
    "    #print(eqnpt_mdp.get_content())\n",
    "\n",
    "    print(i)\n",
    "    tpr = f'npt-{i}.tpr'\n",
    "    results_grompp_eqnpt, node_grompp_eqnpt = launch_shell_job(\n",
    "        'gmx',\n",
    "        arguments='grompp -f {mdp} -c {gro} -p {top} -o {tpr}',\n",
    "        nodes={\n",
    "            'mdp': eqnpt_mdp,\n",
    "            'gro': results_em['output_gro'],\n",
    "            'top': results_updatetop['topol_top'],\n",
    "            'tpr': orm.Str(tpr),\n",
    "            'folder': oplsaa,\n",
    "        },\n",
    "        filenames={\n",
    "            'folder': 'oplsaa.ff'\n",
    "        },\n",
    "        outputs=[tpr],\n",
    "        metadata={'options': {'redirect_stderr': True}},\n",
    "    )\n",
    "    nodelist.append(node_grompp_eqnpt)\n",
    "    resultslist.append(results_grompp_eqnpt)\n",
    "    #print(node_grompp_eqnpt.outputs.stdout.get_content())\n",
    "    print('done')"
   ]
  },
  {
   "cell_type": "code",
   "execution_count": 41,
   "id": "b97af577-db32-4bf5-89fe-7ac0e77b1b15",
   "metadata": {},
   "outputs": [
    {
     "name": "stdout",
     "output_type": "stream",
     "text": [
      "[<CalcJobNode: uuid: 32603611-d2b0-4ffa-9323-967db18d2c90 (pk: 4152) (aiida.calculations:core.shell)>, <CalcJobNode: uuid: 09aa274d-4f72-4794-be7d-701ecb8cee63 (pk: 4165) (aiida.calculations:core.shell)>]\n"
     ]
    }
   ],
   "source": [
    "print(nodelist)"
   ]
  },
  {
   "cell_type": "code",
   "execution_count": 42,
   "id": "59b1dc96-2a34-4155-9334-84632973a773",
   "metadata": {},
   "outputs": [
    {
     "name": "stdout",
     "output_type": "stream",
     "text": [
      "[{'npt_0_tpr': <SinglefileData: uuid: 4d22018d-3dad-435f-90ec-052092796a34 (pk: 4155)>, 'stdout': <SinglefileData: uuid: 02a1740b-9287-45af-a231-b3db5135c2ee (pk: 4156)>}, {'npt_1_tpr': <SinglefileData: uuid: 6a505202-9e9a-4060-bb10-84c07f20480a (pk: 4168)>, 'stdout': <SinglefileData: uuid: 059df435-7a17-461e-9705-fa1fef59f56c (pk: 4169)>}]\n"
     ]
    }
   ],
   "source": [
    "print(resultslist)"
   ]
  },
  {
   "cell_type": "code",
   "execution_count": 43,
   "id": "62844906-e3e1-4f36-9946-8e097c082e10",
   "metadata": {},
   "outputs": [
    {
     "name": "stdout",
     "output_type": "stream",
     "text": [
      "<class 'aiida.orm.nodes.data.singlefile.SinglefileData'>\n",
      "<class 'aiida.orm.nodes.data.singlefile.SinglefileData'>\n"
     ]
    }
   ],
   "source": [
    "for i, result in enumerate(resultslist):\n",
    "    ou = f'npt_{i}_tpr'\n",
    "    print(type(result[ou]))"
   ]
  },
  {
   "cell_type": "code",
   "execution_count": 44,
   "id": "a253df64-4345-4bb1-b1a1-0e5f9d77d52d",
   "metadata": {},
   "outputs": [
    {
     "name": "stdout",
     "output_type": "stream",
     "text": [
      "0 290.15 <class 'numpy.float64'> <class 'int'>\n",
      "npt_0_tpr\n",
      "done\n",
      "1 295.15 <class 'numpy.float64'> <class 'int'>\n",
      "npt_1_tpr\n",
      "done\n"
     ]
    }
   ],
   "source": [
    "node_dumplist = []\n",
    "results_dumplist = []\n",
    "\n",
    "for i, thermo_T_ele in enumerate(thermo_T_list.get_array()):\n",
    "    print(i, thermo_T_ele, type(thermo_T_ele), type(i))\n",
    "    tpr = f'npt_{i}_tpr'\n",
    "    dump = f'npt-{i}.dump'\n",
    "    print(tpr)\n",
    "    results_dump, node_dump = launch_shell_job(\n",
    "        'gmx',\n",
    "        arguments='dump -s {tpr}',\n",
    "        nodes={\n",
    "            'tpr': resultslist[i][tpr],\n",
    "        },\n",
    "        metadata={'options': {'redirect_stderr': True}},\n",
    "    )\n",
    "    node_dumplist.append(node_dump)\n",
    "    results_dumplist.append(results_dump)\n",
    "    print('done')"
   ]
  },
  {
   "cell_type": "code",
   "execution_count": 45,
   "id": "3537fbad-345c-47c6-b8b5-db243284286a",
   "metadata": {},
   "outputs": [],
   "source": [
    "#print(results_dumplist[0]['stdout'].get_content())"
   ]
  },
  {
   "cell_type": "code",
   "execution_count": 46,
   "id": "ec944aae-de25-48ef-bd65-6494d1330a70",
   "metadata": {},
   "outputs": [],
   "source": [
    "import aiida_aqe"
   ]
  },
  {
   "cell_type": "code",
   "execution_count": 47,
   "id": "dbac5ec8-816c-46d5-95a1-9df8089c426f",
   "metadata": {},
   "outputs": [],
   "source": [
    "import aiida_aqe.tools"
   ]
  },
  {
   "cell_type": "code",
   "execution_count": null,
   "id": "95ef46c1-5cd6-4967-8765-fdcb3814d079",
   "metadata": {},
   "outputs": [],
   "source": []
  }
 ],
 "metadata": {
  "kernelspec": {
   "display_name": "Python [conda env:aiida-gromacs]",
   "language": "python",
   "name": "conda-env-aiida-gromacs-py"
  },
  "language_info": {
   "codemirror_mode": {
    "name": "ipython",
    "version": 3
   },
   "file_extension": ".py",
   "mimetype": "text/x-python",
   "name": "python",
   "nbconvert_exporter": "python",
   "pygments_lexer": "ipython3",
   "version": "3.10.0"
  }
 },
 "nbformat": 4,
 "nbformat_minor": 5
}
