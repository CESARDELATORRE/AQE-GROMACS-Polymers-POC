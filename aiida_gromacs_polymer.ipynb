{
 "cells": [
  {
   "cell_type": "markdown",
   "id": "ea795310-4490-40b4-a72c-c5a6b6b9dbdb",
   "metadata": {},
   "source": [
    "# Running GROMACS on AQE for Polymer Simulation"
   ]
  },
  {
   "cell_type": "markdown",
   "id": "f77e6ead-566c-4814-99e2-a02277134d76",
   "metadata": {},
   "source": [
    "This notebook will demonstrate the pipeline of calculating glass transition temperature $(T_g)$ using GROMACS molecular dynamics software."
   ]
  },
  {
   "cell_type": "markdown",
   "id": "4b8c3135-4ce3-4b91-8c5d-d63e7e1e2f3e",
   "metadata": {},
   "source": [
    "- [x] We need to load an AiiDA profile. The `load_profile` method will load the default profile if no explicit profile name is specified."
   ]
  },
  {
   "cell_type": "code",
   "execution_count": 4,
   "id": "f1be0d58-8e3d-408e-8f6d-97efa809d4e9",
   "metadata": {},
   "outputs": [
    {
     "data": {
      "text/plain": [
       "Profile<uuid='854b62c634cd4cd6ade4c630f3c0af0e' name='gromacs'>"
      ]
     },
     "execution_count": 4,
     "metadata": {},
     "output_type": "execute_result"
    }
   ],
   "source": [
    "from aiida import load_profile\n",
    "load_profile()"
   ]
  },
  {
   "cell_type": "markdown",
   "id": "50dd33f8-fd7e-4ccf-ad46-3afe079d6433",
   "metadata": {},
   "source": [
    "#Delete this shell. (No USE -- )\n",
    "%aiida\n",
    "%verdi status"
   ]
  },
  {
   "cell_type": "markdown",
   "id": "548450e1-e6cd-4d9f-b613-b3cf677c9fde",
   "metadata": {},
   "source": [
    "We need to set some user defined parameters which will be used throughout the pipeline"
   ]
  },
  {
   "cell_type": "code",
   "execution_count": 5,
   "id": "5e32127b-04c6-4256-9f15-eecd3517fc54",
   "metadata": {},
   "outputs": [],
   "source": [
    "# Polymer/Monomer inputs\n",
    "# monomer_pdbfilename = ''                        # PDB filename of the monomer\n",
    "# monomer_count_per_polymer = 50                  # Number of monomers present in one polymer\n",
    "polymer_pdbfilename = '14tPBSingleChain.pdb'    # PDB filename of the polymer\n",
    "polymer_count = 50                              # Number of polymer in the simulation box\n",
    "\n",
    "# MD simulation inputs\n",
    "thermo_T = 300.15                               # Simulation Temperature (K)\n",
    "thermo_P = 1.0      \n",
    "# Simulation Pressure (bar)"
   ]
  },
  {
   "cell_type": "markdown",
   "id": "31bad62c-c243-4362-bffa-d46866498eb1",
   "metadata": {},
   "source": [
    "Two types of input data is required from the user.\n",
    "1. Polymer input/Monomoer input - User will provide the name of the polymer and the number of polymers they want to use in molecular dynamics simulation inorder to optimize the computational cost with highest efficacy.\n",
    "(**_NOTE:_** Once the polymerization step is introduced, the polymer input will be replaced by the monomer inputs.)\n",
    "\n",
    "2. MD simulation inputs - User will provide an absolute thermodynamic condition for the simulation (i.e. temperature and pressure) or a range of temperature and pressure at which simulation will be conducted.\n",
    "\n",
    "**_NOTE:_** A minimum intervention will be required after this."
   ]
  },
  {
   "cell_type": "markdown",
   "id": "7134c847-6853-4bf1-b636-bd969693883e",
   "metadata": {},
   "source": [
    "Necessary python packages are imported."
   ]
  },
  {
   "cell_type": "code",
   "execution_count": 7,
   "id": "b5a0ddfd-308c-4537-a1ad-14157235779c",
   "metadata": {},
   "outputs": [],
   "source": [
    "import pathlib\n",
    "import os\n",
    "\n",
    "from aiida import engine, orm\n",
    "from aiida_shell import launch_shell_job"
   ]
  },
  {
   "cell_type": "markdown",
   "id": "d06711ac-59d5-4f63-ab34-1f0ffaef897b",
   "metadata": {},
   "source": [
    "We are opening the folder adn wrap it in AiiDA's `FolderData` data type, which allows it to be stored in the provenance graph."
   ]
  },
  {
   "cell_type": "markdown",
   "id": "5f1660b8-6aa5-4742-8cfc-e16d130412a7",
   "metadata": {},
   "source": [
    "This default values will remain same everywhere."
   ]
  },
  {
   "cell_type": "code",
   "execution_count": 8,
   "id": "0971268c-5b21-4943-ac2e-138e3d1be683",
   "metadata": {},
   "outputs": [],
   "source": [
    "# Default Parameters\n",
    "ffdir = os.getcwd() + '/oplsaa.ff'\n",
    "oplsaa = orm.FolderData(tree=ffdir)"
   ]
  },
  {
   "cell_type": "markdown",
   "id": "aaebeed3-e89e-402b-b38e-a01eb79f26ac",
   "metadata": {},
   "source": [
    "- [ ] Polymerization step"
   ]
  },
  {
   "cell_type": "markdown",
   "id": "9ac1c9ec-a05a-4970-8feb-48c8838c4f6b",
   "metadata": {},
   "source": [
    "We are opening the file and wrap it in AiiDA's `SinglefileData` data type, which allows it to be stored in the provenance graph."
   ]
  },
  {
   "cell_type": "code",
   "execution_count": 9,
   "id": "7d399ccc-60ab-46bc-b95e-3ca849681cec",
   "metadata": {},
   "outputs": [],
   "source": [
    "polymer = orm.SinglefileData(os.getcwd() + '/' + polymer_pdbfilename)"
   ]
  },
  {
   "cell_type": "markdown",
   "id": "091cc89d-805b-440b-a3a8-199fabc2a0d5",
   "metadata": {},
   "source": [
    "The `gmx pdb2gmx` is the first GROMACS command to create th topology file according to the forcefield information for the polymer."
   ]
  },
  {
   "cell_type": "code",
   "execution_count": 10,
   "id": "ee2a3a9c-b9ba-4d47-8605-9b3f89e53990",
   "metadata": {},
   "outputs": [],
   "source": [
    "# Run `gmx pdb2gmx` to convert the PDB to GROMACS .gro format.\n",
    "results_pdb2gmx, node_pdb2gmx = launch_shell_job(\n",
    "    'gmx',\n",
    "    arguments='pdb2gmx -f {polymer} -o output.gro -water spce -ff oplsaa',\n",
    "    nodes={\n",
    "        'polymer': polymer,\n",
    "        'folder': oplsaa,\n",
    "    },\n",
    "    filenames={\n",
    "        'folder': 'oplsaa.ff'\n",
    "    },\n",
    "    outputs=['output.gro', 'topol.top', 'posre.itp'],\n",
    "    metadata={'options': {'redirect_stderr': True}},\n",
    ")\n",
    "#print(results_pdb2gmx['stdout'].get_content())"
   ]
  },
  {
   "cell_type": "markdown",
   "id": "47529f30-8083-4fda-b80b-08a0e9ddeb8e",
   "metadata": {},
   "source": [
    "<div class=\"alert alert-info\">\n",
    "`gmx` is the GROMACS executable which will be executed with several parameters. The `nodes` argument takes a dictionary of `SinglefileData` and `FolderData` which will be copied to the working directory where the `gmx` command is executed. The `oplsaa` in `nodes` are copied to the `oplsaa.ff` folder in the working directory. If the key of the node appears as a placeholder in the `arguments` argument, it is replaced with its filename. \n",
    "</div>"
   ]
  },
  {
   "cell_type": "markdown",
   "id": "6e46b1ff-18c1-4b8b-9ffc-15ae2815cc5d",
   "metadata": {},
   "source": [
    "The `gmx pdb2gmx` is expected to generate three outputs of interest:\n",
    "- `output.gro`: `.gro` file of the polymer.\n",
    "- `topol.top`: The topology file.\n",
    "- `posre.itp`: The position restraint file included in the topology file."
   ]
  },
  {
   "cell_type": "markdown",
   "id": "909c4478-d731-49b2-8398-279771c07a49",
   "metadata": {},
   "source": [
    "<div class=\"alert alert-info\">\n",
    "These output files will be used in the upcoming steps in the pipeline. To capture these output files in the AiiDA's provenance graph, these filenames are declared in the `output` argunent. `aiida-shell` will wrap these output files in a `SinglefileDtata`.\n",
    "</div>"
   ]
  },
  {
   "cell_type": "markdown",
   "id": "12f48ef2-f21d-4ab0-88ed-79936c80549f",
   "metadata": {},
   "source": [
    "Similar to the previous steps, GROMACS creates a simulation box where mutiple chains of the polymer will be inserted for the MD simulations. From the previous step, `.gro` file of the single polymer chain is used to replicate the polymer chain inside the simulation box. In the output, we get a simulation box containing `polymer_count` number of polymers."
   ]
  },
  {
   "cell_type": "code",
   "execution_count": 11,
   "id": "4627867d-2bd7-44f2-9f44-8bd3b3711f76",
   "metadata": {},
   "outputs": [],
   "source": [
    "results_insert, node_insert = launch_shell_job(\n",
    "    'gmx',\n",
    "    arguments='insert-molecules -ci {polymer} -o melt.gro -box 7 -nmol 11',\n",
    "    nodes={\n",
    "        'polymer': polymer,\n",
    "    },\n",
    "    outputs=['melt.gro'],\n",
    "    metadata={'options': {'redirect_stderr': True}},\n",
    ")\n",
    "#print(results_insert['stdout'].get_content())"
   ]
  },
  {
   "cell_type": "markdown",
   "id": "27d2efa7-2d75-410d-b5a6-f16ac3ef4e69",
   "metadata": {},
   "source": [
    "While running the `pdb2gmx` command we have created the topology for one single polymer chain. However, in the `topol.top` file we have to provide the number of polymer chain present in the simulation box. Therefore, we are updating the number of molecules line from 1 to `polymer_count` using the `sed` command."
   ]
  },
  {
   "cell_type": "code",
   "execution_count": 12,
   "id": "754a3c28-a1c7-4fd8-b214-36a0f1fbc24f",
   "metadata": {},
   "outputs": [],
   "source": [
    "results_updatetop, node_updatetop = launch_shell_job(\n",
    "    'sed',\n",
    "    arguments='-i \"s/Other               1/Other               9/g\" {top}',\n",
    "    nodes={\n",
    "        'top': results_pdb2gmx['topol_top'],\n",
    "    },\n",
    "    outputs=['topol.top'],\n",
    "    metadata={'options': {'redirect_stderr': True}},\n",
    ")\n",
    "#print(results_updatetop['stdout'].get_content())"
   ]
  },
  {
   "cell_type": "markdown",
   "id": "73022109-b0b9-4916-8280-a299a092d8ea",
   "metadata": {},
   "source": [
    "<div class=\"alert alert-info\">\n",
    "The output `topol.top` file is declared in the `output` argunent where `aiida-shell` will wrap these output files in a `SinglefileDtata`.\n",
    "</div>"
   ]
  },
  {
   "cell_type": "markdown",
   "id": "2475e27e-b157-4cba-b3a7-075fce9ff25c",
   "metadata": {},
   "source": [
    "**Prerequisite for MD simulations and simulation box preparation is completed and we can proceed to run the molecular dynamics simulation.**"
   ]
  },
  {
   "cell_type": "code",
   "execution_count": 13,
   "id": "923203e6-b5c3-45ce-a92d-baada3a0b71f",
   "metadata": {},
   "outputs": [],
   "source": [
    "em_mdp = orm.SinglefileData.from_string(\n",
    "    \"\"\"\n",
    "    integrator      = steep\n",
    "    emtol           = 1000.0\n",
    "    emstep          = 0.01\n",
    "    nsteps          = 50000\n",
    "    nstlist         = 1\n",
    "    cutoff-scheme   = Verlet\n",
    "    ns_type         = grid\n",
    "    coulombtype     = PME\n",
    "    rcoulomb        = 1.0\n",
    "    rvdw            = 1.0\n",
    "    pbc             = xyz\n",
    "    ld_seed         = 1\n",
    "    gen_seed        = 1\n",
    "    \"\"\",\n",
    "    filename='em.mdp',\n",
    ")\n",
    "\n",
    "# Run `gmx grompp` to pre-process the parameters for energy minimization.\n",
    "results_grompp_em, node_grompp_em = launch_shell_job(\n",
    "    'gmx',\n",
    "    arguments='grompp -f {mdp} -c {gro} -p {top} -o output.tpr',\n",
    "    nodes={\n",
    "        'mdp': em_mdp,\n",
    "        'gro': results_insert['melt_gro'],\n",
    "        'top': results_updatetop['topol_top'],\n",
    "        'folder': oplsaa,\n",
    "    },\n",
    "    filenames={\n",
    "        'folder': 'oplsaa.ff'\n",
    "    },\n",
    "    outputs=['output.tpr'],\n",
    "    metadata={'options': {'redirect_stderr': True}},\n",
    ")\n",
    "#print(results_grompp_em['stdout'].get_content())"
   ]
  },
  {
   "cell_type": "markdown",
   "id": "1c36f076-5d95-4b4f-a412-8874afa228e0",
   "metadata": {},
   "source": [
    "The `gmx grompp` takes the input of three necesary files to generate the `.tpr` file.\n",
    "- [x] `.mdp`: The molecular dynamics parameters.\n",
    "- [x] `.gro`: The coordinate information of all the polymer chains present in the simulation box.\n",
    "- [x] `.top`: The tolology file of the polymer. Also, this has the information of number of polymers present in the simulation box."
   ]
  },
  {
   "cell_type": "markdown",
   "id": "e748286d-cce2-4cd0-98c3-ca7b08a9f0dc",
   "metadata": {},
   "source": [
    "The generated `.tpr` file is used for running the molecular dynamics simulation. We can run the `gmx mdrun` to run the energy minimization step."
   ]
  },
  {
   "cell_type": "code",
   "execution_count": 14,
   "id": "f098da7b-f76b-4e22-97b2-83b74bfb10df",
   "metadata": {},
   "outputs": [],
   "source": [
    "# Run `gmx mdrun` to run the energy minimization.\n",
    "results_em, node_em = launch_shell_job(\n",
    "    'gmx',\n",
    "    arguments='mdrun -v -deffnm output -s {tpr}',\n",
    "    nodes={\n",
    "        'tpr': results_grompp_em['output_tpr'],\n",
    "    },\n",
    "    outputs=['output.edr', 'output.gro', 'output.log'],\n",
    "    metadata={'options': {'redirect_stderr': True}},\n",
    ")\n",
    "#print(results_em['stdout'].get_content())"
   ]
  },
  {
   "cell_type": "markdown",
   "id": "e02862f2-de55-484e-85ec-2c57af5d48b0",
   "metadata": {},
   "source": [
    "Similar to the previous `gmx grompp` step, we can proceed with NPT equilibration step where the molecular dynamics simulation will be performed at the given thermodynamic conditions given by the user."
   ]
  },
  {
   "cell_type": "code",
   "execution_count": 15,
   "id": "8e9badf8-a167-4813-ab50-6f8a82dd70d0",
   "metadata": {},
   "outputs": [],
   "source": [
    "eqnpt_mdp = orm.SinglefileData.from_string(\n",
    "    \"\"\"\n",
    "    title                   = NPT Equilibration\n",
    "    ;define                 = -DPOSRES\n",
    "    integrator              = md\n",
    "    dt                      = 0.002\n",
    "    nsteps                  = 500000\n",
    "    nstenergy               = 2000\n",
    "    nstxout-compressed      = 10000\n",
    "    nstvout                 = 0\n",
    "    nstlog                  = 1000\n",
    "    gen_vel                 = yes\n",
    "    gen_temp                = 298.15\n",
    "    pbc                     = xyz\n",
    "    cutoff-scheme           = Verlet\n",
    "    rlist                   = 1.0\n",
    "    ns_type                 = grid\n",
    "    nstlist                 = 10\n",
    "    coulombtype             = PME\n",
    "    fourierspacing          = 0.12\n",
    "    pme_order               = 4\n",
    "    rcoulomb                = 1.0\n",
    "    vdwtype                 = Cut-Off\n",
    "    rvdw                    = 1.0\n",
    "    DispCorr                = EnerPres\n",
    "    constraints             = h-bonds\n",
    "    constraint_algorithm    = lincs\n",
    "    lincs_iter              = 1\n",
    "    lincs_order             = 4\n",
    "    tcoupl                  = v-rescale\n",
    "    tc-grps                 = System\n",
    "    ref_t                   = 298.15\n",
    "    tau_t                   = 0.1\n",
    "    pcoupl                  = c-rescale\n",
    "    pcoupltype              = isotropic\n",
    "    ref_p                   = 1.0\n",
    "    tau_p                   = 2.0\n",
    "    ;refcoord-scaling        = com\n",
    "    compressibility         = 4.5e-5\n",
    "    \"\"\",\n",
    "    filename='eqnpt.mdp',\n",
    ")\n",
    "\n",
    "# Run `gmx grompp` to pre-process the parameters for energy minimization.\n",
    "results_grompp_eqnpt, node_grompp_eqnpt = launch_shell_job(\n",
    "    'gmx',\n",
    "    arguments='grompp -f {mdp} -c {gro} -p {top} -o npt.tpr',\n",
    "    nodes={\n",
    "        'mdp': eqnpt_mdp,\n",
    "        'gro': results_em['output_gro'],\n",
    "        'top': results_updatetop['topol_top'],\n",
    "        'folder': oplsaa,\n",
    "    },\n",
    "    filenames={\n",
    "        'folder': 'oplsaa.ff'\n",
    "    },\n",
    "    outputs=['npt.tpr'],\n",
    "    metadata={'options': {'redirect_stderr': True}},\n",
    ")\n",
    "#print(results_grompp_eqnpt['stdout'].get_content())"
   ]
  },
  {
   "cell_type": "markdown",
   "id": "4f912153-1681-423e-9aa9-2bd6949f809c",
   "metadata": {},
   "source": [
    "The generated `.tpr` file is used for running the molecular dynamics simulation for NPT equilibration. We can run the `gmx mdrun` to run the NPT equilibration step."
   ]
  },
  {
   "cell_type": "code",
   "execution_count": 16,
   "id": "a56adedc-9077-443f-a84e-0e0abd33e608",
   "metadata": {},
   "outputs": [],
   "source": [
    "# Run `gmx mdrun` to run the energy minimization.\n",
    "results_eqnpt, node_eqnpt = launch_shell_job(\n",
    "    'gmx',\n",
    "    arguments='mdrun -v -deffnm output -s {tpr}',\n",
    "    nodes={\n",
    "        'tpr': results_grompp_eqnpt['npt_tpr'],\n",
    "    },\n",
    "    outputs=['output.edr', 'output.gro', 'output.log', 'output.xtc'],\n",
    "    metadata={'options': {'redirect_stderr': True}},\n",
    ")\n",
    "#print(results_eqnpt['stdout'].get_content())"
   ]
  },
  {
   "cell_type": "markdown",
   "id": "3c6f4aca-6645-4041-b235-e48df59f49d2",
   "metadata": {},
   "source": [
    "**MD simulation is completed. Therefore, we can go for analysis of the simulated system.**"
   ]
  },
  {
   "cell_type": "markdown",
   "id": "a17e9366-bead-4c7c-8c72-ccb03168fef2",
   "metadata": {},
   "source": [
    "<div class=\"alert alert-info\">\n",
    "Using `gmx energy` command we can calculate and plot the primary properties for the simulated polymer system.\n",
    "</div>"
   ]
  },
  {
   "cell_type": "code",
   "execution_count": 17,
   "id": "098b5b4f-233f-4efb-bc2f-df729e0b9c46",
   "metadata": {},
   "outputs": [],
   "source": [
    "# Run `gmx energy` to extract the potential energy during the energy minimization.\n",
    "results_energy, node_energy = launch_shell_job(\n",
    "    'gmx',\n",
    "    arguments='energy -f {edr} -o potential.xvg',\n",
    "    nodes={\n",
    "        'edr': results_eqnpt['output_edr'],\n",
    "        'stdin': orm.SinglefileData.from_string('10\\n0'),\n",
    "    },\n",
    "    outputs=['potential.xvg'],\n",
    "    metadata={'options': {'redirect_stderr': True, 'filename_stdin': 'stdin'}},\n",
    ")"
   ]
  },
  {
   "cell_type": "markdown",
   "id": "8ef0735d-e0ab-4fcd-9933-d4b687ceb0ad",
   "metadata": {},
   "source": [
    "<div class=\"alert alert-info\">\n",
    "The input for `gmx energy` is the `output.edr` from the `results_eqnpt`. Here we first pass `10` which corresponds to the potential energy, followed by `0` which finalizes the selection and completes the prompt. The `output` file of this step saved as GROMACS generated `.xvg` format.\n",
    "</div>"
   ]
  },
  {
   "cell_type": "markdown",
   "id": "cfd99e10-adae-4705-b7a5-9de4a9d12c53",
   "metadata": {},
   "source": [
    "To visualize the data, first we need to import necessary python packages to be installed."
   ]
  },
  {
   "cell_type": "code",
   "execution_count": 18,
   "id": "b77ae951-a68e-4ceb-9dee-c226c8e21a5c",
   "metadata": {},
   "outputs": [],
   "source": [
    "import io\n",
    "\n",
    "import matplotlib.pyplot as plt\n",
    "import numpy as np\n",
    "\n",
    "from IPython.display import display, IFrame"
   ]
  },
  {
   "cell_type": "markdown",
   "id": "c320cf78-dad6-4868-a737-8a4c2388eab6",
   "metadata": {},
   "source": [
    "We define the `create_plot` function and pass the `potential.xvg` from the previous step. The `create_plot` will create a plot which is saved to a stream in memory which is then passed to a `SinglefileData` node to store it in AiiDA's provecance graph."
   ]
  },
  {
   "cell_type": "code",
   "execution_count": 19,
   "id": "edab4b7d-3639-4927-92ea-b6014e57b3cf",
   "metadata": {},
   "outputs": [
    {
     "data": {
      "image/png": "[encoded data removed]",
      "text/plain": [
       "<Figure size 600x400 with 1 Axes>"
      ]
     },
     "metadata": {},
     "output_type": "display_data"
    }
   ],
   "source": [
    "#@engine.calcfunction\n",
    "def create_plot(xvg: orm.SinglefileData) -> orm.SinglefileData:\n",
    "    \"\"\"Plot the data of a XVG output file.\"\"\"\n",
    "    lines = xvg.get_content().split('\\n')\n",
    "    data = np.loadtxt(lines, comments=['#', '@']).T\n",
    "    plt.figure(figsize=(6,4))\n",
    "    plt.plot(*data)\n",
    "    plt.xlabel('Time (ps)')\n",
    "    plt.ylabel('Potential energy [kJ/mol]')\n",
    "    stream = io.BytesIO()\n",
    "    plt.savefig(stream, format='png', bbox_inches='tight', dpi=150)\n",
    "    #stream.seek(0)\n",
    "    return orm.SinglefileData(stream, filename='potential.png')\n",
    "    \n",
    "# Create a plot from the extracted potential energy of the system\n",
    "plot = create_plot(results_energy['potential_xvg'])"
   ]
  },
  {
   "cell_type": "markdown",
   "id": "3f58522b-621f-42a3-8287-9dc2d188a054",
   "metadata": {},
   "source": [
    "In the same way we can get the density data from the `output.edr` using the `gmx energy` command and plot it."
   ]
  },
  {
   "cell_type": "code",
   "execution_count": 20,
   "id": "8122add3-4f53-4cf1-b9d8-9fa9b222076c",
   "metadata": {},
   "outputs": [],
   "source": [
    "# Run `gmx energy` to extract the potential energy during the energy minimization.\n",
    "results_energy, node_energy = launch_shell_job(\n",
    "    'gmx',\n",
    "    arguments='energy -f {edr} -o density.xvg',\n",
    "    nodes={\n",
    "        'edr': results_eqnpt['output_edr'],\n",
    "        'stdin': orm.SinglefileData.from_string('22\\n0'),\n",
    "    },\n",
    "    outputs=['density.xvg'],\n",
    "    metadata={'options': {'redirect_stderr': True, 'filename_stdin': 'stdin'}},\n",
    ")"
   ]
  },
  {
   "cell_type": "code",
   "execution_count": 21,
   "id": "1d4c2fef-f2ac-4ef9-a427-59d28b45e74a",
   "metadata": {},
   "outputs": [
    {
     "data": {
      "image/png": "[encoded data removed]",
      "text/plain": [
       "<Figure size 640x480 with 1 Axes>"
      ]
     },
     "metadata": {},
     "output_type": "display_data"
    }
   ],
   "source": [
    "#@engine.calcfunction\n",
    "def create_plot(xvg: orm.SinglefileData) -> orm.SinglefileData:\n",
    "    \"\"\"Plot the data of a XVG output file.\"\"\"\n",
    "    lines = xvg.get_content().split('\\n')\n",
    "    data = np.loadtxt(lines, comments=['#', '@']).T\n",
    "    plt.plot(*data)\n",
    "    plt.xlabel('Time (ps)')\n",
    "    plt.ylabel('Density $[kg/m^3]$')\n",
    "    stream = io.BytesIO()\n",
    "    plt.savefig(stream, format='png', bbox_inches='tight', dpi=300)\n",
    "    #stream.seek(0)\n",
    "    return orm.SinglefileData(stream, filename='density.png')\n",
    "\n",
    "# Create a plot from the extracted density of the system\n",
    "plot = create_plot(results_energy['density_xvg'])"
   ]
  },
  {
   "cell_type": "code",
   "execution_count": null,
   "id": "0aba542e-007a-40f9-bf74-928fe539c058",
   "metadata": {},
   "outputs": [],
   "source": []
  }
 ],
 "metadata": {
  "kernelspec": {
   "display_name": "Python [conda env:aiida-gromacs]",
   "language": "python",
   "name": "conda-env-aiida-gromacs-py"
  },
  "language_info": {
   "codemirror_mode": {
    "name": "ipython",
    "version": 3
   },
   "file_extension": ".py",
   "mimetype": "text/x-python",
   "name": "python",
   "nbconvert_exporter": "python",
   "pygments_lexer": "ipython3",
   "version": "3.10.0"
  }
 },
 "nbformat": 4,
 "nbformat_minor": 5
}
