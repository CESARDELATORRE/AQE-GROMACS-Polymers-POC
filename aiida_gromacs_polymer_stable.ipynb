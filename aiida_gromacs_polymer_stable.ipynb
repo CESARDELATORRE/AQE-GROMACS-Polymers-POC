{
 "cells": [
  {
   "cell_type": "markdown",
   "id": "ea795310-4490-40b4-a72c-c5a6b6b9dbdb",
   "metadata": {},
   "source": [
    "# Running *GROMACS* on AQE for Polymer Melt Simulation"
   ]
  },
  {
   "cell_type": "markdown",
   "id": "f77e6ead-566c-4814-99e2-a02277134d76",
   "metadata": {},
   "source": [
    "This notebook will demonstrate the pipeline to simulate a polymer melt or a mixture of polymers in a melt using GROMACS molecular dynamics software.\\\n",
    "A polymer melt refers to a state where a polymer is heated until it becomes a viscous, liquid-like fluid. This is often done to process the polymer into various shapes and forms through methods like injection molding or extrusion.\\\n",
    "A mixture of polymers in a melt means combining two or more different polymers while they are in this liquid state to create a new material with unique properties. This is similar to how metal alloys are made by mixing different metals.\\\n",
    "The pipeline will enable us to do the following:\n",
    "- [x] Construction of _homopolymer_ with a user defined polymer chain length or molecular weight.\n",
    "- [x] Construction of _homopolymer melt_ or _homopolymer mixture_.\n",
    "- [x] Computation of various thermodynamic properties of the melt and polymeric properties.\n",
    "\n",
    "A homopolymer is a polymer that is made up of only one type of monomer. Essentially, it consists of repeating units of the same molecule. For example, polyethylene is a homopolymer made entirely from ethylene monomers.\n",
    "Construction of homopolymer means creating a polymer that consists of just one type of monomer, either with a specific chain length or molecular weight. This is in contrast to a copolymer, which would be made from two or more different monomers.\n",
    "\n",
    "**The objective of this notebook is to enable user to compute:**\n",
    "- [x] **The glass transition temperature (Tg) of the polymer/polymer mixture:** The glass transition temperature is a critical property in the study of polymers. It refers to the temperature range at which a polymer transitions from a hard, glassy material to a soft, rubbery state. Below the glass transition temperature, the polymer chains are in a rigid and brittle state, but above this temperature, they gain mobility and become more flexible and pliable.\n",
    "- [x] **Cohesive energy density (CED) of polymer:** Cohesive energy density of a polymer is a measure of the energy required to separate the polymer molecules from each other to an infinite distance. It's essentially a way of quantifying the intermolecular forces within the polymer. In other words, CED gives an idea of how strongly the polymer molecules are attracted to each other. A higher cohesive energy density means the molecules are more strongly bound together, which can influence the material's properties like its solubility, mechanical strength, and glass transition temperature.\n",
    "- [x] **Polymeric structural properties:** End-to-end distance distribution, radius of gyration and its eigen values.\n",
    "- [x] **Diffusion coefficient of polymer:** The diffusion coefficient of a polymer is a measure of how quickly polymer molecules move or spread through a medium (like a solvent or another polymer). It indicates the rate at which individual polymer chains travel within the given material. It's important in various applications, such as in Material Science when studying the mobility of polymers and their response to environmental changes, or Polymer Processing when understanding how polymers mix and spread during manufacturing.\n",
    "\n",
    "The major steps involved in the pipeline is as follows:\n",
    "- **Step 1:** Load AiiDA profile.\n",
    "- **Step 2:** User inputs for running the molecular dynamics simulation.\n",
    "- **Step 3:** Import necessary python packages.\n",
    "- **Step 4:** Polymer construction from the monomer.\n",
    "- **Step 5:** Setup for molecular dynamics simulation.\n",
    "- **Step 6:** Running the molecular dynamics simulation.\n",
    "- **Step 7:** Calculation of thermodynamic properties.\n",
    "- **Step 8:** Visualization of properties and polymer melt system.\n",
    "\n",
    "In this notebook, we have created a couple of collection of functions which will help us execute the pipeline. These collective of functions are as follows:\n",
    "- **Vector operations:** Different operations on vectors. (e.g. - computation of unit vectors between two vertices.)\n",
    "- **Atom operations:** Different oprations on atom informations. (e.g. - updating atomic coordiates while constructing polymer.)\n",
    "- **MD system operations:** Different operations on MD simulation systems. (e.g. - calculation of polymer molecular weight)"
   ]
  },
  {
   "cell_type": "markdown",
   "id": "5851446d-4eac-47f4-bb2d-4987becea397",
   "metadata": {},
   "source": [
    "<div class=\"alert alert-info\">\n",
    " ℹ️ Currently the PoC is for linear homopolymer.\n",
    "</div>"
   ]
  },
  {
   "cell_type": "markdown",
   "id": "6b9601bf-04f4-40c7-8ee1-ccbd9692a07d",
   "metadata": {},
   "source": [
    "**Step 1:** Load AiiDA profile.\\\n",
    "We load an AiiDA profile. The `load_profile` method will load the default profile if no explicit profile name is specified."
   ]
  },
  {
   "cell_type": "code",
   "execution_count": 2,
   "id": "f1be0d58-8e3d-408e-8f6d-97efa809d4e9",
   "metadata": {},
   "outputs": [
    {
     "data": {
      "text/plain": [
       "Profile<uuid='854b62c634cd4cd6ade4c630f3c0af0e' name='gromacs'>"
      ]
     },
     "execution_count": 2,
     "metadata": {},
     "output_type": "execute_result"
    }
   ],
   "source": [
    "from aiida import load_profile\n",
    "load_profile()"
   ]
  },
  {
   "cell_type": "markdown",
   "id": "548450e1-e6cd-4d9f-b613-b3cf677c9fde",
   "metadata": {},
   "source": [
    "**Step 2:** User inputs for running the molecular dynamics simulation.\\\n",
    "We define a few **_user defined_** parameters which are used throughout the pipeline. The necessary parameters are classified in two group of parameters.\\\n",
    "\n",
    "- **_Parameters for polymer/monomer_**\n",
    "1. **`monomer_pdbfilename`:** Name of the polymer for the MD simulation (**_NOTE: The dropdown for polymer selection will be given in the later version of the notebook._**)\n",
    "2. **`monomer_count_per_polymer`:** Number of monomer units per polymer. (**_NOTE: There will be one alternate option of giving molecular weight of the polymer._**)\n",
    "3. **`polymer_count`:** Number of polymer units for MD simulations. (**_NOTE: Add some note on the selection _**)\n",
    "\n",
    "- **_Parameters for MD simulations_**\n",
    "1. **`thermo_T`:** Simulation temperature in Kelvin (**_NOTE: A temperature range option will be given in the later version of the notebook._**)\n",
    "2. **`thermo_P`:** Simulation pressure in bar (**_NOTE: A pressure range option will be given in the later version of the notebook._**)"
   ]
  },
  {
   "cell_type": "code",
   "execution_count": 3,
   "id": "5e32127b-04c6-4256-9f15-eecd3517fc54",
   "metadata": {},
   "outputs": [],
   "source": [
    "# Polymer/Monomer inputs\n",
    "monomer_pdbfilename = '14tPBMonomer.pdb'        # PDB filename of the monomer\n",
    "monomer_count_per_polymer = 4                   # Number of monomers present in one polymer\n",
    "\n",
    "polymer_count = 600                             # Number of polymers will be simulated\n",
    "\n",
    "# MD simulation inputs\n",
    "thermo_T = 300.15                               # Simulation Temperature (K)\n",
    "thermo_P = 1.0                                  # Simulation Pressure (bar)"
   ]
  },
  {
   "cell_type": "markdown",
   "id": "7134c847-6853-4bf1-b636-bd969693883e",
   "metadata": {},
   "source": [
    "**Step 3:** Import necessary python packages."
   ]
  },
  {
   "cell_type": "code",
   "execution_count": 4,
   "id": "b5a0ddfd-308c-4537-a1ad-14157235779c",
   "metadata": {},
   "outputs": [],
   "source": [
    "import pathlib\n",
    "import os\n",
    "import numpy as np\n",
    "\n",
    "from aiida import engine, orm\n",
    "from aiida_gromacs.utils.notebook import visualize_structure\n",
    "from aiida_shell import launch_shell_job"
   ]
  },
  {
   "cell_type": "markdown",
   "id": "20125e99-0604-4705-bb9f-720b70dfefba",
   "metadata": {},
   "source": [
    "Convert the user input into `aiida.orm` data types accepted by the `node` arguments. "
   ]
  },
  {
   "cell_type": "code",
   "execution_count": 5,
   "id": "ca1ce0cc-033c-4479-b55c-a954283a6bd9",
   "metadata": {},
   "outputs": [],
   "source": [
    "monomer_pdbfilename = orm.Str(monomer_pdbfilename)\n",
    "monomer_count_per_polymer = orm.Int(monomer_count_per_polymer)\n",
    "\n",
    "polymer_count = orm.Int(polymer_count)\n",
    "\n",
    "thermo_T = orm.Float(thermo_T)\n",
    "thermo_P = orm.Float(thermo_P)"
   ]
  },
  {
   "cell_type": "markdown",
   "id": "aaebeed3-e89e-402b-b38e-a01eb79f26ac",
   "metadata": {},
   "source": [
    "**Step 4:** Polymer construction from the monomer."
   ]
  },
  {
   "cell_type": "markdown",
   "id": "20aad502-5b19-4561-bae7-14bfca4a90b8",
   "metadata": {},
   "source": [
    "The monomer pdb file is opened and wrapped it in AiiDA's `SinglefieData` data type, which allows it to be stored in the provenance graph."
   ]
  },
  {
   "cell_type": "code",
   "execution_count": 6,
   "id": "9e9fc4bf-690b-4b6d-ab02-13fe1dc45712",
   "metadata": {},
   "outputs": [],
   "source": [
    "monomer = orm.SinglefileData(os.getcwd() + '/' + monomer_pdbfilename.value)"
   ]
  },
  {
   "cell_type": "markdown",
   "id": "f5f4adb7-4817-40ac-8ec4-000c73de4eb4",
   "metadata": {},
   "source": [
    "We are creating function which will take the information of each atom given in the pdb file. Atom number, atom name, residue name, residue sequence number, coordinates, elements are the information of an atom in given in the pdb file."
   ]
  },
  {
   "cell_type": "code",
   "execution_count": 7,
   "id": "194f1fc2-fff0-4ef0-8dbb-efcfeafcce96",
   "metadata": {},
   "outputs": [],
   "source": [
    "@engine.calcfunction\n",
    "def get_pdbdata_to_atomdict(num: orm.Int, line: orm.Str) -> orm.Dict:\n",
    "    return orm.Dict({'atom_number': num.value, 'atom_name': line.value[12:16].split()[0], 'residue_name': line.value[17:20].split()[0], 'residue_seq_num': int(line.value[22:26].split()[0]), 'coord': [float(line.value[30:38].split()[0]), float(line.value[38:46].split()[0]), float(line.value[46:54].split()[0])], 'element': line.value[76:78].split()[0]})"
   ]
  },
  {
   "cell_type": "markdown",
   "id": "db7d9f8c-ca59-4619-9943-9a454d4c7689",
   "metadata": {},
   "source": [
    "<div class=\"alert alert-info\">\n",
    " ℹ️ We are marking the function `get_pdbdata_to_atomdict` with AiiDA's `calcfunction` decorator. This ensures the act of modifying the original monomoer pdb file is captured in the provenance graph\n",
    "</div>"
   ]
  },
  {
   "cell_type": "markdown",
   "id": "aeb87056-5f96-45d4-97d3-9438fc1809aa",
   "metadata": {},
   "source": [
    "The monomer atom information is stored in AiiDA's `List` data types, which allows it to be stored in the provenance graph. "
   ]
  },
  {
   "cell_type": "code",
   "execution_count": 8,
   "id": "32ac32b9-38dd-491e-bfe1-c951a85a103b",
   "metadata": {},
   "outputs": [],
   "source": [
    "monomer_atom_lines = orm.List([line for line in monomer.get_content().split('\\n') if line.startswith('ATOM') or line.startswith('HETATM')])\n",
    "monomer_all_atom_list = orm.List()\n",
    "for num, line in enumerate(monomer_atom_lines.get_list()):\n",
    "    monomer_all_atom_list.append(get_pdbdata_to_atomdict(num, line))"
   ]
  },
  {
   "cell_type": "markdown",
   "id": "745b0571-e600-4d19-8deb-9e348f2258ec",
   "metadata": {},
   "source": [
    "We are creating some functions which will perform vector related calculations (e.g. - unit vector between 2 points.)"
   ]
  },
  {
   "cell_type": "code",
   "execution_count": 9,
   "id": "cc9f83b9-0ebf-4d35-b6f6-e80c6ccb1fa7",
   "metadata": {},
   "outputs": [],
   "source": [
    "@engine.calcfunction\n",
    "def get_unit_vector(p1: orm.ArrayData, p2: orm.ArrayData) -> orm.ArrayData:\n",
    "\n",
    "    vec = p1.get_array() - p2.get_array()\n",
    "    vec /= np.linalg.norm(vec)\n",
    "\n",
    "    return orm.ArrayData(vec)\n",
    "\n",
    "@engine.calcfunction\n",
    "def get_rotation_matrix(vec1: orm.ArrayData, vec2: orm.ArrayData) -> orm.ArrayData:\n",
    "\n",
    "    # Calculate the angle between vec1 and vec2 and rotation angle to align vec2 to vec1\n",
    "    dot_product = np.dot(vec1.get_array(), vec2.get_array())\n",
    "    rotation_angle = np.arccos(dot_product)\n",
    "    print('rangle = ', rotation_angle)\n",
    "\n",
    "    cos_angle = np.cos(rotation_angle)\n",
    "    sin_angle = np.sin(rotation_angle)\n",
    "    \n",
    "    # Calculate the rotation axis (cross product)\n",
    "    rotation_axis = np.cross(vec1.get_array(), vec2.get_array())\n",
    "    rotation_axis /= np.linalg.norm(rotation_axis)\n",
    "\n",
    "    rotation_matrix = np.array([[cos_angle + rotation_axis[0] * rotation_axis[0] * (1 - cos_angle), rotation_axis[0] * rotation_axis[1] * (1 - cos_angle) - rotation_axis[2] * sin_angle, rotation_axis[0] * rotation_axis[2] * (1 - cos_angle) + rotation_axis[1] * sin_angle], [rotation_axis[1] * rotation_axis[0] * (1 - cos_angle) + rotation_axis[2] * sin_angle, cos_angle + rotation_axis[1] * rotation_axis[1] * (1 - cos_angle), rotation_axis[1] * rotation_axis[2] * (1 - cos_angle) - rotation_axis[0] * sin_angle], [rotation_axis[2] * rotation_axis[0] * (1 - cos_angle) - rotation_axis[1] * sin_angle, rotation_axis[2] * rotation_axis[1] * (1 - cos_angle) + rotation_axis[0] * sin_angle, cos_angle + rotation_axis[2] * rotation_axis[2] * (1 - cos_angle)]])\n",
    "    return orm.ArrayData(rotation_matrix)\n",
    "\n",
    "@engine.calcfunction\n",
    "def rotate_coord(atom_coord: orm.ArrayData, ref_coord: orm.ArrayData, rotation_matrix: orm.ArrayData) -> orm.ArrayData:\n",
    "\n",
    "    ref_atom_vec = atom_coord.get_array() - ref_coord.get_array()\n",
    "    \n",
    "    rotated_coord_vec = np.dot(rotation_matrix.get_array(), ref_atom_vec)\n",
    "    new_atom_coord = ref_coord.get_array() + rotated_coord_vec\n",
    "\n",
    "    return orm.ArrayData(new_atom_coord)"
   ]
  },
  {
   "cell_type": "markdown",
   "id": "a0bbf86f-1717-40a6-9668-ff92119d293e",
   "metadata": {},
   "source": [
    "We are creating some functions which will perform atom dictionary related operations (e.g. - create empty atom dict.)"
   ]
  },
  {
   "cell_type": "code",
   "execution_count": 10,
   "id": "a4a5b163-7c51-438e-b3c1-23102493c132",
   "metadata": {},
   "outputs": [],
   "source": [
    "@engine.calcfunction\n",
    "def copy_atomdict(curratom_dict: orm.Dict) -> orm.Dict:\n",
    "    newatom_dict = orm.Dict()\n",
    "    newatom_dict.set_dict(curratom_dict)\n",
    "    return newatom_dict\n",
    "\n",
    "@engine.calcfunction\n",
    "def update_atom_number(curratom_dict: orm.Dict, atom_number: orm.Int) -> orm.Dict:\n",
    "    newatom_dict = orm.Dict({'atom_number': atom_number.value, 'atom_name': curratom_dict['atom_name'], 'residue_name': curratom_dict['residue_name'], 'residue_seq_num': curratom_dict['residue_seq_num'], 'coord': curratom_dict['coord'], 'element': curratom_dict['element']})\n",
    "    return newatom_dict\n",
    "\n",
    "@engine.calcfunction\n",
    "def update_residue_seq_num(curratom_dict: orm.Dict, residue_seq_num: orm.Int) -> orm.Dict:\n",
    "    newatom_dict = orm.Dict({'atom_number': curratom_dict['atom_number'], 'atom_name': curratom_dict['atom_name'], 'residue_name': curratom_dict['residue_name'], 'residue_seq_num': residue_seq_num.value, 'coord': curratom_dict['coord'], 'element': curratom_dict['element']})\n",
    "    return newatom_dict\n",
    "\n",
    "@engine.calcfunction\n",
    "def update_residue_name(curratom_dict: orm.Dict, residue_name: orm.Str) -> orm.Dict:\n",
    "    newatom_dict = orm.Dict({'atom_number': curratom_dict['atom_number'], 'atom_name': curratom_dict['atom_name'], 'residue_name': residue_name.value, 'residue_seq_num': curratom_dict['residue_seq_num'], 'coord': curratom_dict['coord'], 'element': curratom_dict['element']})\n",
    "    return newatom_dict\n",
    "\n",
    "@engine.calcfunction\n",
    "def update_coord(curratom_dict: orm.Dict, coord: orm.List) -> orm.Dict:\n",
    "    newatom_dict = orm.Dict({'atom_number': curratom_dict['atom_number'], 'atom_name': curratom_dict['atom_name'], 'residue_name': curratom_dict['residue_name'], 'residue_seq_num': curratom_dict['residue_seq_num'], 'coord': coord.get_list(), 'element': curratom_dict['element']})\n",
    "    return newatom_dict\n",
    "\n",
    "@engine.calcfunction\n",
    "def get_pdbstr(curratom_dict: orm.Dict) -> orm.Str:\n",
    "    pdb_str = \"ATOM  %5d %-4s %3s  %4d    %8.3f%8.3f%8.3f                      %2s\" % (curratom_dict['atom_number']+1, curratom_dict['atom_name'], curratom_dict['residue_name'], curratom_dict['residue_seq_num']+1, curratom_dict['coord'][0], curratom_dict['coord'][1], curratom_dict['coord'][2], curratom_dict['element'])\n",
    "    return orm.Str(pdb_str)"
   ]
  },
  {
   "cell_type": "markdown",
   "id": "b7c7cf8a-2afd-4cff-8c07-10f3648b807d",
   "metadata": {},
   "source": [
    "We are creating 2 lists here.\n",
    "1. `polymer_all_atom_list`: This list contains the atom information of the whole polymer.\n",
    "2. `polymer_remove_atom_index_list`: During polymerization one hydrogens at the connecting carbon atoms of 2 monomers will be removed during the polimerization process.\n",
    "\n",
    "**_NOTE 1: `polymer_remove_atom_index_list` list will be._**"
   ]
  },
  {
   "cell_type": "code",
   "execution_count": null,
   "id": "5b53f47b-02ce-4570-b9be-c3912cce3f44",
   "metadata": {},
   "outputs": [],
   "source": [
    "polymer_all_atom_list = orm.List()\n",
    "polymer_remove_atom_index_list = orm.List()\n",
    "\n",
    "# Add monomers to the polymer chain\n",
    "polymer_atom_count = 0\n",
    "for imonomer in range(monomer_count_per_polymer.value):\n",
    "    monomer_atom_count = len(monomer_all_atom_list)\n",
    "    # first monomer\n",
    "    if imonomer == 0:\n",
    "        for iatom in monomer_all_atom_list:\n",
    "            curratom = copy_atomdict(iatom)\n",
    "            curratom = update_atom_number(curratom, orm.Int(polymer_atom_count))\n",
    "            curratom = update_residue_seq_num(curratom, orm.Int(imonomer))\n",
    "            \n",
    "            polymer_all_atom_list.append(curratom)\n",
    "            \n",
    "            if iatom['atom_name'] == 'HW3':\n",
    "                polymer_remove_atom_index_list.append(polymer_all_atom_list[len(polymer_all_atom_list)-1]['atom_number'])\n",
    "            polymer_atom_count += 1\n",
    "    else:\n",
    "        # get the CW of last monomer\n",
    "        cw_index = -1\n",
    "        for iatom in polymer_all_atom_list:\n",
    "            if iatom['atom_name'] == 'CW':\n",
    "                cw_index = iatom['atom_number']\n",
    "\n",
    "        if cw_index < 0:\n",
    "            raise ValueError('CW atom is not found.')\n",
    "        \n",
    "        # get the HA3 of model monomer\n",
    "        ha3_index = -1\n",
    "        for iatom in monomer_all_atom_list:\n",
    "            if iatom['atom_name'] == 'HA3':\n",
    "                ha3_index = iatom['atom_number']\n",
    "                \n",
    "        if ha3_index < 0:\n",
    "            raise ValueError('HA3 atom is not found.')\n",
    "\n",
    "        dtranslate = np.array(polymer_all_atom_list[cw_index]['coord']) - np.array(monomer_all_atom_list[ha3_index]['coord'])\n",
    "                    \n",
    "        # put the next monomer in the polymer + translation\n",
    "        for iatom in monomer_all_atom_list:\n",
    "            curratom = copy_atomdict(iatom)\n",
    "            curratom = update_atom_number(curratom, orm.Int(polymer_atom_count))\n",
    "            curratom = update_residue_seq_num(curratom, orm.Int(imonomer))\n",
    "\n",
    "            coord = np.array(iatom['coord']) + dtranslate\n",
    "            curratom = update_coord(curratom, orm.List(coord.tolist()))\n",
    "\n",
    "            if imonomer != monomer_count_per_polymer.value - 1:\n",
    "                curratom = update_residue_name(curratom, orm.Str(iatom['residue_name'][:-1] + '2'))\n",
    "            else:\n",
    "                curratom = update_residue_name(curratom, orm.Str(iatom['residue_name'][:-1] + '3'))\n",
    "            \n",
    "            polymer_all_atom_list.append(curratom)\n",
    "            \n",
    "            if polymer_all_atom_list[len(polymer_all_atom_list)-1]['atom_name'] == 'HA3':\n",
    "                polymer_remove_atom_index_list.append(polymer_all_atom_list[len(polymer_all_atom_list)-1]['atom_number'])\n",
    "            elif polymer_all_atom_list[len(polymer_all_atom_list)-1]['atom_name'] == 'HW3':\n",
    "                if polymer_all_atom_list[len(polymer_all_atom_list)-1]['residue_seq_num'] != monomer_count_per_polymer.value - 1:\n",
    "                    polymer_remove_atom_index_list.append(polymer_all_atom_list[len(polymer_all_atom_list)-1]['atom_number'])\n",
    "                    \n",
    "            polymer_atom_count += 1\n",
    "\n",
    "        # rotation starts here\n",
    "        # CW.coord == HA3.coord\n",
    "        # get the CA of last monomer\n",
    "        ca_index = -1\n",
    "        for iatom in polymer_all_atom_list:\n",
    "            if iatom['atom_name'] == 'CA':\n",
    "                ca_index = iatom['atom_number']\n",
    "                \n",
    "        if ca_index < 0:\n",
    "            raise ValueError('CA atom is not found.')\n",
    "\n",
    "        # get the HW3 of previous monomer\n",
    "        hw3_index = -1\n",
    "        for iatom in polymer_all_atom_list:\n",
    "            if iatom['atom_name'] == 'HW3' and iatom['residue_seq_num'] == imonomer - 1:\n",
    "                hw3_index = iatom['atom_number']\n",
    "                \n",
    "        if hw3_index < 0:\n",
    "            raise ValueError('HW3 atom is not found.')\n",
    "\n",
    "        cw_hw3_unit_vec = get_unit_vector(orm.ArrayData(np.array(polymer_all_atom_list[hw3_index]['coord'])), orm.ArrayData(np.array(polymer_all_atom_list[cw_index]['coord'])))\n",
    "\n",
    "        cw_ca_unit_vec = get_unit_vector(orm.ArrayData(np.array(polymer_all_atom_list[ca_index]['coord'])), orm.ArrayData(np.array(polymer_all_atom_list[cw_index]['coord'])))\n",
    "\n",
    "        rotation_matrix = get_rotation_matrix(cw_hw3_unit_vec, cw_ca_unit_vec)\n",
    "\n",
    "        for index, iatom in enumerate(polymer_all_atom_list):\n",
    "            if iatom['residue_seq_num'] == imonomer and iatom['atom_name'] != '':\n",
    "                coord = rotate_coord(orm.ArrayData(np.array(iatom['coord'])), orm.ArrayData(np.array(polymer_all_atom_list[ca_index]['coord'])), rotation_matrix).get_array().tolist()\n",
    "                polymer_all_atom_list[index] = update_coord(polymer_all_atom_list[index], coord)"
   ]
  },
  {
   "cell_type": "markdown",
   "id": "435894de-2ccd-4b6b-8be6-1c951ae62c1c",
   "metadata": {},
   "source": [
    "As we get the complete atom information of the polymer, we can wrap this data in AiiDA's `SinglefileData` data type, which will allows it to be stored in the provenance graph."
   ]
  },
  {
   "cell_type": "code",
   "execution_count": null,
   "id": "419db71d-5790-41d0-b36b-d6bbee296a25",
   "metadata": {},
   "outputs": [],
   "source": [
    "polymer_all_atom_lines = orm.List()\n",
    "for iatom in polymer_all_atom_list:\n",
    "    if iatom['atom_number'] not in polymer_remove_atom_index_list.get_list():\n",
    "        polymer_all_atom_lines.append(get_pdbstr(iatom).value)\n",
    "polymer = orm.SinglefileData.from_string('\\n'.join(polymer_all_atom_lines), filename='polymer.pdb')"
   ]
  },
  {
   "cell_type": "markdown",
   "id": "2026f6ac-d125-4bed-ada3-0b9bd1257361",
   "metadata": {},
   "source": [
    "**Visualize polymer**"
   ]
  },
  {
   "cell_type": "markdown",
   "id": "091cc89d-805b-440b-a3a8-199fabc2a0d5",
   "metadata": {},
   "source": [
    "**Step 5:** Setup for molecular dynamics simulation.\\\n",
    "The `gmx pdb2gmx` is the first GROMACS command to create th topology file according to the forcefield information for the polymer."
   ]
  },
  {
   "cell_type": "code",
   "execution_count": null,
   "id": "ef42702f-eac8-4b11-95b5-9eef15a98df4",
   "metadata": {},
   "outputs": [],
   "source": [
    "@engine.calcfunction\n",
    "def calc_molecular_weight_polymer(polymer: orm.SinglefileData) -> orm.Float:\n",
    "    import pandas as pd\n",
    "    elecsvfile = os.getcwd() + '/elements.csv'\n",
    "    dataframe_elements = pd.read_csv(elecsvfile, index_col = None)\n",
    "    \n",
    "    atom_lines = polymer.get_content().split('\\n')\n",
    "\n",
    "    # Calculate molecular weight\n",
    "    molecular_weight_polymer = 0.0\n",
    "    for line in atom_lines:\n",
    "        # Find element and atomic mass from the periodic table\n",
    "        ele = line[76:78].split()[0]\n",
    "\n",
    "        try:\n",
    "            molecular_weight_polymer += float(dataframe_elements.loc[dataframe_elements['Symbol'] == ele, 'AtomicMass'].iloc[0])\n",
    "        except:\n",
    "            raise Exception(f'ERROR: Atom type of {elestr} not found.')\n",
    "\n",
    "    return orm.Float(molecular_weight_polymer)\n",
    "\n",
    "@engine.calcfunction\n",
    "def calc_simulation_box_length(molecular_weight_polymer: orm.Float, polymer_count: orm.Int) -> orm.Float:\n",
    "    molecular_weight = molecular_weight_polymer.value * polymer_count.value\n",
    "    \n",
    "    # Default density (0.4 g/cm3)\n",
    "    density = 0.4\n",
    "    avogadro_number = 6.022e23  # molecules/mol\n",
    "    cm_to_nm = 1e7  # cm to nm conversion factor\n",
    "    \n",
    "    # Step 1: Mass of one molecule\n",
    "    mass_per_molecule = molecular_weight / avogadro_number  # g\n",
    "    \n",
    "    # Step 2: Volume of cubic box\n",
    "    volume = mass_per_molecule / density  # cm³\n",
    "    \n",
    "    # Step 3: Side length of the cubic box\n",
    "    box_length = volume**(1/3)  # cm\n",
    "    box_length = box_length * cm_to_nm  # nm\n",
    "\n",
    "    return orm.Float(box_length)\n",
    "\n",
    "molecular_weight_polymer = calc_molecular_weight_polymer(polymer)\n",
    "box_length = calc_simulation_box_length(molecular_weight_polymer, polymer_count)"
   ]
  },
  {
   "cell_type": "markdown",
   "id": "1901bc4b-5ab2-42fd-84b6-c3b4b0e458d6",
   "metadata": {},
   "source": [
    "We are setting the force-field folder and wrap it in AiiDA's `FolderData` data type, which allows it to be stored in the provenance graph."
   ]
  },
  {
   "cell_type": "code",
   "execution_count": null,
   "id": "f2d5e697-3b99-491c-b15b-3492b564e5a8",
   "metadata": {},
   "outputs": [],
   "source": [
    "# Default Parameters\n",
    "ffdir = os.getcwd() + '/oplsaa.ff'\n",
    "oplsaa = orm.FolderData(tree=ffdir)                       "
   ]
  },
  {
   "cell_type": "code",
   "execution_count": null,
   "id": "ee2a3a9c-b9ba-4d47-8605-9b3f89e53990",
   "metadata": {},
   "outputs": [],
   "source": [
    "# Run `gmx pdb2gmx` to convert the PDB to GROMACS .gro format.\n",
    "results_pdb2gmx, node_pdb2gmx = launch_shell_job(\n",
    "    'gmx',\n",
    "    arguments='pdb2gmx -f {polymer} -o polymer_out.pdb -water spce -ff oplsaa',\n",
    "    nodes={\n",
    "        'polymer': polymer,\n",
    "        'folder': oplsaa,\n",
    "    },\n",
    "    filenames={\n",
    "        'folder': 'oplsaa.ff'\n",
    "    },\n",
    "    outputs=['polymer_out.pdb', 'topol.top', 'posre.itp'],\n",
    "    metadata={'options': {'redirect_stderr': True}},\n",
    ")\n",
    "#print(results_pdb2gmx['stdout'].get_content())"
   ]
  },
  {
   "cell_type": "markdown",
   "id": "47529f30-8083-4fda-b80b-08a0e9ddeb8e",
   "metadata": {},
   "source": [
    "<div class=\"alert alert-info\">\n",
    "`gmx` is the GROMACS executable which will be executed with several parameters. The `nodes` argument takes a dictionary of `SinglefileData` and `FolderData` which will be copied to the working directory where the `gmx` command is executed. The `oplsaa` in `nodes` are copied to the `oplsaa.ff` folder in the working directory. If the key of the node appears as a placeholder in the `arguments` argument, it is replaced with its filename. \n",
    "</div>"
   ]
  },
  {
   "cell_type": "markdown",
   "id": "6e46b1ff-18c1-4b8b-9ffc-15ae2815cc5d",
   "metadata": {},
   "source": [
    "The `gmx pdb2gmx` is expected to generate three outputs of interest:\n",
    "- `polymer_out.pdb`: `.pdb` file of the polymer.\n",
    "- `topol.top`: The topology file.\n",
    "- `posre.itp`: The position restraint file included in the topology file."
   ]
  },
  {
   "cell_type": "markdown",
   "id": "909c4478-d731-49b2-8398-279771c07a49",
   "metadata": {},
   "source": [
    "<div class=\"alert alert-info\">\n",
    "These output files will be used in the upcoming steps in the pipeline. To capture these output files in the AiiDA's provenance graph, these filenames are declared in the `output` argunent. `aiida-shell` will wrap these output files in a `SinglefileDtata`.\n",
    "</div>"
   ]
  },
  {
   "cell_type": "markdown",
   "id": "12f48ef2-f21d-4ab0-88ed-79936c80549f",
   "metadata": {},
   "source": [
    "Similar to the previous steps, GROMACS creates a simulation box where mutiple chains of the polymer will be inserted for the MD simulations. From the previous step, `.pdb` file of the single polymer chain is used to replicate the polymer chain inside the simulation box. In the output, we get a simulation box containing `polymer_count` number of polymers."
   ]
  },
  {
   "cell_type": "code",
   "execution_count": null,
   "id": "4627867d-2bd7-44f2-9f44-8bd3b3711f76",
   "metadata": {},
   "outputs": [],
   "source": [
    "@engine.calcfunction\n",
    "def check_insert_molecules(log: orm.SinglefileData, polymer_count: orm.Int) -> orm.Bool:\n",
    "    lines = log.get_content().split('\\n')\n",
    "    check_lines = [line for line in lines if line.startswith('Added')]\n",
    "    \n",
    "    if len(check_lines) > 1:\n",
    "        raise Exception('ERROR: Multiple lines got selected in the check_lines variable', check_lines)\n",
    "\n",
    "    wordlist = check_lines[0].split()\n",
    "    polymer_count_inserted = orm.Int(wordlist[1])\n",
    "    \n",
    "    if polymer_count_inserted.value == polymer_count.value:\n",
    "        return orm.Bool(False)\n",
    "    else:\n",
    "        return orm.Bool(True)\n",
    "\n",
    "run = orm.Bool(True)\n",
    "while run.value:\n",
    "    results_insert, node_insert = launch_shell_job(\n",
    "        'gmx',\n",
    "        arguments='insert-molecules -box {box_length} -ci {polymer} -nmol {polymer_count} -try 999 -o melt.pdb',\n",
    "        nodes={\n",
    "            'box_length': box_length,\n",
    "            'polymer': polymer,\n",
    "            'polymer_count': polymer_count,\n",
    "        },\n",
    "        outputs=['melt.pdb'],\n",
    "        metadata={'options': {'redirect_stderr': True}},\n",
    "    )\n",
    "    #print(results_insert['stdout'].get_content())\n",
    "    run = check_insert_molecules(results_insert['stdout'], polymer_count)\n",
    "    if run.value:        \n",
    "        run = orm.Bool(False)\n",
    "        print('Rerun')\n",
    "    else:\n",
    "        run = orm.Bool(False)\n",
    "        print('Success')"
   ]
  },
  {
   "cell_type": "markdown",
   "id": "27d2efa7-2d75-410d-b5a6-f16ac3ef4e69",
   "metadata": {},
   "source": [
    "While running the `pdb2gmx` command we have created the topology for one single polymer chain. However, in the `topol.top` file we have to provide the number of polymer chain present in the simulation box. Therefore, we are updating the number of molecules line from 1 to `polymer_count` using the `sed` command."
   ]
  },
  {
   "cell_type": "code",
   "execution_count": null,
   "id": "754a3c28-a1c7-4fd8-b214-36a0f1fbc24f",
   "metadata": {},
   "outputs": [],
   "source": [
    "results_updatetop, node_updatetop = launch_shell_job(\n",
    "    'sed',\n",
    "    arguments='-i \"s/Other               1/Other               {polymer_count}/g\" {top}',\n",
    "    nodes={\n",
    "        'polymer_count': polymer_count,\n",
    "        'top': results_pdb2gmx['topol_top'],\n",
    "    },\n",
    "    outputs=['topol.top'],\n",
    "    metadata={'options': {'redirect_stderr': True}},\n",
    ")\n",
    "#print(results_updatetop['stdout'].get_content())"
   ]
  },
  {
   "cell_type": "markdown",
   "id": "73022109-b0b9-4916-8280-a299a092d8ea",
   "metadata": {},
   "source": [
    "<div class=\"alert alert-info\">\n",
    "The output `topol.top` file is declared in the `output` argunent where `aiida-shell` will wrap these output files in a `SinglefileDtata`.\n",
    "</div>"
   ]
  },
  {
   "cell_type": "markdown",
   "id": "2475e27e-b157-4cba-b3a7-075fce9ff25c",
   "metadata": {},
   "source": [
    "**Prerequisite for MD simulations and simulation box preparation is completed and we can proceed to run the molecular dynamics simulation.**"
   ]
  },
  {
   "cell_type": "code",
   "execution_count": null,
   "id": "923203e6-b5c3-45ce-a92d-baada3a0b71f",
   "metadata": {},
   "outputs": [],
   "source": [
    "em_mdp = orm.SinglefileData.from_string(\n",
    "    \"\"\"\n",
    "    integrator      = steep\n",
    "    emtol           = 1000.0\n",
    "    emstep          = 0.01\n",
    "    nsteps          = 50000\n",
    "    nstlist         = 1\n",
    "    cutoff-scheme   = Verlet\n",
    "    ns_type         = grid\n",
    "    coulombtype     = PME\n",
    "    rcoulomb        = 1.0\n",
    "    rvdw            = 1.0\n",
    "    pbc             = xyz\n",
    "    ld_seed         = 1\n",
    "    gen_seed        = 1\n",
    "    \"\"\",\n",
    "    filename='em.mdp',\n",
    ")\n",
    "\n",
    "# Run `gmx grompp` to pre-process the parameters for energy minimization.\n",
    "results_grompp_em, node_grompp_em = launch_shell_job(\n",
    "    'gmx',\n",
    "    arguments='grompp -f {mdp} -c {gro} -p {top} -o output.tpr',\n",
    "    nodes={\n",
    "        'mdp': em_mdp,\n",
    "        'gro': results_insert['melt_pdb'],\n",
    "        'top': results_updatetop['topol_top'],\n",
    "        'folder': oplsaa,\n",
    "    },\n",
    "    filenames={\n",
    "        'folder': 'oplsaa.ff'\n",
    "    },\n",
    "    outputs=['output.tpr'],\n",
    "    metadata={'options': {'redirect_stderr': True}},\n",
    ")\n",
    "#print(results_grompp_em['stdout'].get_content())"
   ]
  },
  {
   "cell_type": "markdown",
   "id": "1c36f076-5d95-4b4f-a412-8874afa228e0",
   "metadata": {},
   "source": [
    "The `gmx grompp` takes the input of three necesary files to generate the `.tpr` file.\n",
    "- [x] `.mdp`: The molecular dynamics parameters.\n",
    "- [x] `.gro`: The coordinate information of all the polymer chains present in the simulation box.\n",
    "- [x] `.top`: The tolology file of the polymer. Also, this has the information of number of polymers present in the simulation box."
   ]
  },
  {
   "cell_type": "markdown",
   "id": "e748286d-cce2-4cd0-98c3-ca7b08a9f0dc",
   "metadata": {},
   "source": [
    "The generated `.tpr` file is used for running the molecular dynamics simulation. We can run the `gmx mdrun` to run the energy minimization step."
   ]
  },
  {
   "cell_type": "code",
   "execution_count": null,
   "id": "f098da7b-f76b-4e22-97b2-83b74bfb10df",
   "metadata": {},
   "outputs": [],
   "source": [
    "# Run `gmx mdrun` to run the energy minimization.\n",
    "results_em, node_em = launch_shell_job(\n",
    "    'gmx',\n",
    "    arguments='mdrun -v -deffnm output -s {tpr}',\n",
    "    nodes={\n",
    "        'tpr': results_grompp_em['output_tpr'],\n",
    "    },\n",
    "    outputs=['output.edr', 'output.gro', 'output.log'],\n",
    "    metadata={'options': {'redirect_stderr': True}},\n",
    ")\n",
    "#print(results_em['stdout'].get_content())"
   ]
  },
  {
   "cell_type": "markdown",
   "id": "e02862f2-de55-484e-85ec-2c57af5d48b0",
   "metadata": {},
   "source": [
    "Similar to the previous `gmx grompp` step, we can proceed with NPT equilibration step where the molecular dynamics simulation will be performed at the given thermodynamic conditions given by the user."
   ]
  },
  {
   "cell_type": "code",
   "execution_count": null,
   "id": "8e9badf8-a167-4813-ab50-6f8a82dd70d0",
   "metadata": {},
   "outputs": [],
   "source": [
    "eqnpt_mdp = orm.SinglefileData.from_string(\n",
    "    \"\"\"\n",
    "    title                   = NPT Equilibration\n",
    "    ;define                 = -DPOSRES\n",
    "    integrator              = md\n",
    "    dt                      = 0.002\n",
    "    nsteps                  = 50000\n",
    "    nstenergy               = 2000\n",
    "    nstxout-compressed      = 10000\n",
    "    nstvout                 = 0\n",
    "    nstlog                  = 1000\n",
    "    gen_vel                 = yes\n",
    "    gen_temp                = 298.15\n",
    "    pbc                     = xyz\n",
    "    cutoff-scheme           = Verlet\n",
    "    rlist                   = 1.0\n",
    "    ns_type                 = grid\n",
    "    nstlist                 = 10\n",
    "    coulombtype             = PME\n",
    "    fourierspacing          = 0.12\n",
    "    pme_order               = 4\n",
    "    rcoulomb                = 1.0\n",
    "    vdwtype                 = Cut-Off\n",
    "    rvdw                    = 1.0\n",
    "    DispCorr                = EnerPres\n",
    "    constraints             = h-bonds\n",
    "    constraint_algorithm    = lincs\n",
    "    lincs_iter              = 1\n",
    "    lincs_order             = 4\n",
    "    tcoupl                  = v-rescale\n",
    "    tc-grps                 = System\n",
    "    ref_t                   = 298.15\n",
    "    tau_t                   = 0.1\n",
    "    pcoupl                  = c-rescale\n",
    "    pcoupltype              = isotropic\n",
    "    ref_p                   = 1.0\n",
    "    tau_p                   = 2.0\n",
    "    ;refcoord-scaling        = com\n",
    "    compressibility         = 4.5e-5\n",
    "    \"\"\",\n",
    "    filename='eqnpt.mdp',\n",
    ")\n",
    "\n",
    "# Run `gmx grompp` to pre-process the parameters for energy minimization.\n",
    "results_grompp_eqnpt, node_grompp_eqnpt = launch_shell_job(\n",
    "    'gmx',\n",
    "    arguments='grompp -f {mdp} -c {gro} -p {top} -o npt.tpr',\n",
    "    nodes={\n",
    "        'mdp': eqnpt_mdp,\n",
    "        'gro': results_em['output_gro'],\n",
    "        'top': results_updatetop['topol_top'],\n",
    "        'folder': oplsaa,\n",
    "    },\n",
    "    filenames={\n",
    "        'folder': 'oplsaa.ff'\n",
    "    },\n",
    "    outputs=['npt.tpr'],\n",
    "    metadata={'options': {'redirect_stderr': True}},\n",
    ")\n",
    "#print(results_grompp_eqnpt['stdout'].get_content())"
   ]
  },
  {
   "cell_type": "markdown",
   "id": "4f912153-1681-423e-9aa9-2bd6949f809c",
   "metadata": {},
   "source": [
    "**Step 6:** Running the molecular dynamics simulation.\n",
    "The generated `.tpr` file is used for running the molecular dynamics simulation for NPT equilibration. We can run the `gmx mdrun` to run the NPT equilibration step."
   ]
  },
  {
   "cell_type": "code",
   "execution_count": null,
   "id": "1e7202ee-8677-44e9-a0ca-86eec90c2dbe",
   "metadata": {},
   "outputs": [],
   "source": [
    "# Run `gmx mdrun` to run the energy minimization.\n",
    "results_eqnpt, node_eqnpt = launch_shell_job(\n",
    "    'gmx',\n",
    "    arguments='mdrun -v -deffnm output -s {tpr}',\n",
    "    nodes={\n",
    "        'tpr': results_grompp_eqnpt['npt_tpr'],\n",
    "    },\n",
    "    outputs=['output.edr', 'output.gro', 'output.log', 'output.xtc'],\n",
    "    metadata={'options': {'redirect_stderr': True}},\n",
    ")\n",
    "#print(results_eqnpt['stdout'].get_content())"
   ]
  },
  {
   "cell_type": "markdown",
   "id": "3c6f4aca-6645-4041-b235-e48df59f49d2",
   "metadata": {},
   "source": [
    "**Step 7:** Calculation of thermodynamic properties. (e.g. - density, potential energy, T~g~ etc.)"
   ]
  },
  {
   "cell_type": "markdown",
   "id": "a17e9366-bead-4c7c-8c72-ccb03168fef2",
   "metadata": {},
   "source": [
    "<div class=\"alert alert-info\">\n",
    "Using `gmx energy` command we can calculate and plot the primary properties for the simulated polymer system.\n",
    "</div>"
   ]
  },
  {
   "cell_type": "code",
   "execution_count": null,
   "id": "098b5b4f-233f-4efb-bc2f-df729e0b9c46",
   "metadata": {},
   "outputs": [],
   "source": [
    "# Run `gmx energy` to extract the potential energy during the energy minimization.\n",
    "results_energy, node_energy = launch_shell_job(\n",
    "    'gmx',\n",
    "    arguments='energy -f {edr} -o potential.xvg',\n",
    "    nodes={\n",
    "        'edr': results_eqnpt['output_edr'],\n",
    "        'stdin': orm.SinglefileData.from_string('10\\n0'),\n",
    "    },\n",
    "    outputs=['potential.xvg'],\n",
    "    metadata={'options': {'redirect_stderr': True, 'filename_stdin': 'stdin'}},\n",
    ")"
   ]
  },
  {
   "cell_type": "markdown",
   "id": "8ef0735d-e0ab-4fcd-9933-d4b687ceb0ad",
   "metadata": {},
   "source": [
    "<div class=\"alert alert-info\">\n",
    "The input for `gmx energy` is the `output.edr` from the `results_eqnpt`. Here we first pass `10` which corresponds to the potential energy, followed by `0` which finalizes the selection and completes the prompt. The `output` file of this step saved as GROMACS generated `.xvg` format.\n",
    "</div>"
   ]
  },
  {
   "cell_type": "markdown",
   "id": "cfd99e10-adae-4705-b7a5-9de4a9d12c53",
   "metadata": {},
   "source": [
    "**Step 8:** Visualization of properties and polymer melt system.\n",
    "To visualize the data, first we need to import necessary python packages to be installed."
   ]
  },
  {
   "cell_type": "code",
   "execution_count": null,
   "id": "b77ae951-a68e-4ceb-9dee-c226c8e21a5c",
   "metadata": {},
   "outputs": [],
   "source": [
    "import io\n",
    "\n",
    "import matplotlib.pyplot as plt\n",
    "import numpy as np\n",
    "\n",
    "from IPython.display import display, IFrame"
   ]
  },
  {
   "cell_type": "markdown",
   "id": "c320cf78-dad6-4868-a737-8a4c2388eab6",
   "metadata": {},
   "source": [
    "We define the `create_plot` function and pass the `potential.xvg` from the previous step. The `create_plot` will create a plot which is saved to a stream in memory which is then passed to a `SinglefileData` node to store it in AiiDA's provecance graph."
   ]
  },
  {
   "cell_type": "code",
   "execution_count": null,
   "id": "edab4b7d-3639-4927-92ea-b6014e57b3cf",
   "metadata": {},
   "outputs": [],
   "source": [
    "#@engine.calcfunction\n",
    "def create_plot(xvg: orm.SinglefileData) -> orm.SinglefileData:\n",
    "    \"\"\"Plot the data of a XVG output file.\"\"\"\n",
    "    lines = xvg.get_content().split('\\n')\n",
    "    data = np.loadtxt(lines, comments=['#', '@']).T\n",
    "    plt.figure(figsize=(6,4))\n",
    "    plt.plot(*data)\n",
    "    plt.xlabel('Time (ps)')\n",
    "    plt.ylabel('Potential energy [kJ/mol]')\n",
    "    stream = io.BytesIO()\n",
    "    plt.savefig(stream, format='png', bbox_inches='tight', dpi=150)\n",
    "    #stream.seek(0)\n",
    "    return orm.SinglefileData(stream, filename='potential.png')\n",
    "    \n",
    "# Create a plot from the extracted potential energy of the system\n",
    "plot = create_plot(results_energy['potential_xvg'])"
   ]
  },
  {
   "cell_type": "markdown",
   "id": "3f58522b-621f-42a3-8287-9dc2d188a054",
   "metadata": {},
   "source": [
    "In the same way we can get the density data from the `output.edr` using the `gmx energy` command and plot it."
   ]
  },
  {
   "cell_type": "code",
   "execution_count": null,
   "id": "8122add3-4f53-4cf1-b9d8-9fa9b222076c",
   "metadata": {},
   "outputs": [],
   "source": [
    "# Run `gmx energy` to extract the potential energy during the energy minimization.\n",
    "results_energy, node_energy = launch_shell_job(\n",
    "    'gmx',\n",
    "    arguments='energy -f {edr} -o density.xvg',\n",
    "    nodes={\n",
    "        'edr': results_eqnpt['output_edr'],\n",
    "        'stdin': orm.SinglefileData.from_string('22\\n0'),\n",
    "    },\n",
    "    outputs=['density.xvg'],\n",
    "    metadata={'options': {'redirect_stderr': True, 'filename_stdin': 'stdin'}},\n",
    ")"
   ]
  },
  {
   "cell_type": "code",
   "execution_count": null,
   "id": "1d4c2fef-f2ac-4ef9-a427-59d28b45e74a",
   "metadata": {},
   "outputs": [],
   "source": [
    "#@engine.calcfunction\n",
    "def create_plot(xvg: orm.SinglefileData) -> orm.SinglefileData:\n",
    "    \"\"\"Plot the data of a XVG output file.\"\"\"\n",
    "    lines = xvg.get_content().split('\\n')\n",
    "    data = np.loadtxt(lines, comments=['#', '@']).T\n",
    "    plt.plot(*data)\n",
    "    plt.xlabel('Time (ps)')\n",
    "    plt.ylabel('Density $[kg/m^3]$')\n",
    "    stream = io.BytesIO()\n",
    "    plt.savefig(stream, format='png', bbox_inches='tight', dpi=300)\n",
    "    #stream.seek(0)\n",
    "    return orm.SinglefileData(stream, filename='density.png')\n",
    "\n",
    "# Create a plot from the extracted density of the system\n",
    "plot = create_plot(results_energy['density_xvg'])"
   ]
  },
  {
   "cell_type": "code",
   "execution_count": null,
   "id": "25170982-6c1b-440d-a65b-ecd09334b87a",
   "metadata": {},
   "outputs": [],
   "source": []
  }
 ],
 "metadata": {
  "kernelspec": {
   "display_name": "Python [conda env:aiida-gromacs]",
   "language": "python",
   "name": "conda-env-aiida-gromacs-py"
  },
  "language_info": {
   "codemirror_mode": {
    "name": "ipython",
    "version": 3
   },
   "file_extension": ".py",
   "mimetype": "text/x-python",
   "name": "python",
   "nbconvert_exporter": "python",
   "pygments_lexer": "ipython3",
   "version": "3.10.0"
  }
 },
 "nbformat": 4,
 "nbformat_minor": 5
}
