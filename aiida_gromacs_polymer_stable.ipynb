{
 "cells": [
  {
   "cell_type": "markdown",
   "id": "b0ef939e-5c4c-454a-857a-10ca32dfaeb8",
   "metadata": {},
   "source": [
    "# Running *Molecular Dynamics* on AQE for Polymer Melt Simulation"
   ]
  },
  {
   "cell_type": "markdown",
   "id": "aa2a9292-a236-47f8-b80d-111164fbfe9e",
   "metadata": {},
   "source": [
    "This notebook will demonstrate the pipeline to simulate a polymer melt or a blend of polymers in a melt using GROMACS molecular dynamics software.\\\n",
    "A polymer melt refers to a state where a polymer is heated until it becomes a viscous, liquid-like fluid. This is often done to process the polymer into various shapes and forms through methods like injection molding or extrusion.\\\n",
    "A mixture of polymers in a melt means combining two or more different polymers while they are in this liquid state to create a new material with unique properties. This is similar to how metal alloys are made by mixing different metals.\\\n",
    "The pipeline will enable us to do the following:\n",
    "- [x] Construction of _homopolymer_ with a user defined polymer chain length or molecular weight.\n",
    "- [x] Construction of _homopolymer melt_ or _homopolymer blend_.\n",
    "- [x] Computation of various thermodynamic properties of the melt and polymeric properties.\n",
    "\n",
    "A homopolymer is a polymer that is made up of only one type of monomer. Essentially, it consists of repeating units of the same molecule. For example, polyethylene is a homopolymer made entirely from ethylene monomers.\n",
    "Construction of homopolymer means creating a polymer that consists of just one type of monomer, either with a specific chain length or molecular weight. This is in contrast to a copolymer, which would be made from two or more different monomers.\n",
    "\n",
    "**The objective of this notebook is to enable user to compute:**\n",
    "- [x] **The glass transition temperature (Tg) of the polymer/polymer mixture:** The glass transition temperature is a critical property in the study of polymers. It refers to the temperature range at which a polymer transitions from a hard, glassy material to a soft, rubbery state. Below the glass transition temperature, the polymer chains are in a rigid and brittle state, but above this temperature, they gain mobility and become more flexible and pliable.\n",
    "- [x] **Cohesive energy density (CED) of polymer:** Cohesive energy density of a polymer is a measure of the energy required to separate the polymer molecules from each other to an infinite distance. It's essentially a way of quantifying the intermolecular forces within the polymer. In other words, CED gives an idea of how strongly the polymer molecules are attracted to each other. A higher cohesive energy density means the molecules are more strongly bound together, which can influence the material's properties like its solubility, mechanical strength, and glass transition temperature.\n",
    "- [x] **Polymeric structural properties:** End-to-end distance distribution, radius of gyration and its eigen values.\n",
    "- [x] **Diffusion coefficient of polymer:** The diffusion coefficient of a polymer is a measure of how quickly polymer molecules move or spread through a medium (like a solvent or another polymer). It indicates the rate at which individual polymer chains travel within the given material. It's important in various applications, such as in Material Science when studying the mobility of polymers and their response to environmental changes, or Polymer Processing when understanding how polymers mix and spread during manufacturing.\n",
    "\n",
    "The major steps involved in the pipeline is as follows:\n",
    "- **Step 1:** Load AiiDA profile.\n",
    "- **Step 2:** Import necessary python packages.\n",
    "- **Step 3:** Setup computer and code.\n",
    "- **Step 4:** User inputs for running the molecular dynamics simulation.\n",
    "- **Step 5:** Polymer construction from the monomer.\n",
    "- **Step 6:** Setup for molecular dynamics simulation. (i.e. - energy minimization, equilibration simulation, production simulation)\n",
    "- **Step 7:** Running the equilibration molecular dynamics simulation.\n",
    "- **Step 8:** Calculation of equilibrium properties.\n",
    "- **Step 9:** Visualization of properties and polymer melt system.\n",
    "- **Step 10:** Setup for molecular dynamics simulation for multiple thermodynamic conditions required for some properties calculation.\n",
    "- **Step 11:** Running MD simulation at multiple thermodynamic conditions.\n",
    "- **Step 12:** Calculation of polymer properties abd visualization.\n",
    "\n",
    "We will go through these aformentioned steps step by step."
   ]
  },
  {
   "cell_type": "markdown",
   "id": "82c0a11a-01d6-474a-af84-1c276eb58640",
   "metadata": {},
   "source": [
    "<div class=\"alert alert-info\">\n",
    " ℹ️ Currently the PoC is for linear homopolymer.\n",
    "</div>"
   ]
  },
  {
   "cell_type": "markdown",
   "id": "74317133-f046-4591-b454-34482873fc6c",
   "metadata": {},
   "source": [
    "**Step 1:** Load AiiDA profile.\\\n",
    "We load an AiiDA profile. The `load_profile` method will load the default profile if no explicit profile name is specified."
   ]
  },
  {
   "cell_type": "code",
   "execution_count": 85,
   "id": "f1be0d58-8e3d-408e-8f6d-97efa809d4e9",
   "metadata": {},
   "outputs": [
    {
     "data": {
      "text/plain": [
       "Profile<uuid='e3eed8e7f41e49b094d7e9107f76a58a' name='gromacs'>"
      ]
     },
     "execution_count": 85,
     "metadata": {},
     "output_type": "execute_result"
    }
   ],
   "source": [
    "from aiida import load_profile\n",
    "load_profile()"
   ]
  },
  {
   "cell_type": "markdown",
   "id": "ef00336b-b8bf-43a9-9251-dcc7e1111591",
   "metadata": {},
   "source": [
    "**Step 2:** Import necessary python packages."
   ]
  },
  {
   "cell_type": "code",
   "execution_count": 86,
   "id": "b5a0ddfd-308c-4537-a1ad-14157235779c",
   "metadata": {},
   "outputs": [],
   "source": [
    "# Import basic packages\n",
    "import pathlib\n",
    "import os\n",
    "import numpy as np\n",
    "\n",
    "# Import aiida packages\n",
    "from aiida.engine import run, submit\n",
    "from aiida.engine import calcfunction, WorkChain\n",
    "from aiida.orm import Bool, Int, Float, Str, Dict, List, SinglefileData, FolderData, Computer, load_code, load_node\n",
    "from aiida_shell import launch_shell_job\n",
    "\n",
    "# Import plotting packages\n",
    "from IPython.display import display, Image\n",
    "\n",
    "# Import custom packages\n",
    "import utils.polymer_constant\n",
    "from utils.polymerize import PolymerizeWorkChain\n",
    "import utils.gromacs_setup\n",
    "import utils.gromacs_analysis"
   ]
  },
  {
   "cell_type": "markdown",
   "id": "c6307b57-232d-4e81-868d-5d336d97f806",
   "metadata": {},
   "source": [
    "**Step 3:** Setup computer and code."
   ]
  },
  {
   "cell_type": "markdown",
   "id": "d6d8f104-e99c-4aba-881e-df9888ac47ed",
   "metadata": {},
   "source": [
    "As we are proceeding towards the MD simulation, we must ensure that the simulations are running on the HPC to maximize the performance. Therefore, we are loading the AiiDA variable `Computer` where the information about the HPC will be given to submit the simulation at HPC."
   ]
  },
  {
   "cell_type": "code",
   "execution_count": 87,
   "id": "eeee79a2-763a-4cd1-9338-7fffb3ac3f12",
   "metadata": {},
   "outputs": [
    {
     "name": "stdout",
     "output_type": "stream",
     "text": [
      "Computer name:\t\t\tondemand-bd08a50fcb1d2f09\n",
      "You are using code:\tgmx-gpu@ondemand-bd08a50fcb1d2f09\n",
      "GPU status of code:\tTrue\n",
      "Local gromacs code:\tgmx@localhost (Used for all the steps except running simulation)\n"
     ]
    }
   ],
   "source": [
    "# Computer name\n",
    "computer_name = 'ondemand-bd08a50fcb1d2f09'\n",
    "\n",
    "# GROMACS code\n",
    "code_name = 'gmx-gpu'\n",
    "gpu = False\n",
    "if 'gpu' in code_name:\n",
    "    gpu = True\n",
    " \n",
    "computer = Computer.collection.get(label=computer_name)\n",
    "print(f'Computer name:\\t\\t\\t{computer.label}')\n",
    "\n",
    "gmx_code = load_code(label=f'{code_name}@{computer.label}')\n",
    "gmx_local = load_code(label='gmx@localhost')\n",
    "\n",
    "print(f'You are using code:\\t{gmx_code.label}@{computer.label}')\n",
    "print(f'GPU status of code:\\t{gpu}')\n",
    "print(f'Local gromacs code:\\tgmx@localhost (Used for all the steps except running simulation)')"
   ]
  },
  {
   "cell_type": "markdown",
   "id": "7449b748-5fb2-48b2-8c44-a1a3ffc28d93",
   "metadata": {},
   "source": [
    "<div class=\"alert alert-info\">\n",
    "    If computer does not load, run \"!verdi computer list\" to check the available computer in the cluster.\n",
    "</div>\n",
    "<div class=\"alert alert-info\">\n",
    "If code does not load, run \"!verdi code list\" to check the available Installed code in the cluster.\n",
    "</div>"
   ]
  },
  {
   "cell_type": "markdown",
   "id": "ddce5e7e-0bb7-46dc-b8e3-107b8014e711",
   "metadata": {},
   "source": [
    "Also, we need to setup the SLURM job submission parameters setup for submitting GROMACS job in specific node. E.g. - Here we are using 32 cores at the PARTITION prm96c4g."
   ]
  },
  {
   "cell_type": "code",
   "execution_count": 88,
   "id": "24b5796e-2963-4922-8e00-90888302d022",
   "metadata": {},
   "outputs": [],
   "source": [
    "sch_comm = \"#SBATCH --partition=prm96c4g\"\n",
    "prep_text = \"\"\"\n",
    "        module load gromacs\n",
    "        \"\"\"\n",
    "if gpu:\n",
    "    sch_comm += \"\\n#SBATCH --gpus=1\"\n",
    "    prep_text = \"\"\"\n",
    "            module load cuda\n",
    "            module load gromacs/cuda-mpi\n",
    "            export OMP_NUM_THREADS=32\n",
    "            export GMX_ENABLE_DIRECT_GPU_COMM=1\n",
    "            #export GMX_GPU_DD_COMMS=1\n",
    "            #export GMX_GPU_PME_PP=1\n",
    "            #export GMX_FORCE_UPDATE_DEFAULT_GPU=1\n",
    "            \"\"\"\n",
    "\n",
    "metadata = {\n",
    "    \"options\": {\n",
    "        \"computer\": computer,\n",
    "        \"resources\": {\n",
    "            \"num_machines\": 1,\n",
    "            \"num_mpiprocs_per_machine\": 1,\n",
    "        },\n",
    "        \"max_wallclock_seconds\": 7200,  # 2 hours\n",
    "        \"custom_scheduler_commands\": sch_comm,\n",
    "        \"prepend_text\": prep_text\n",
    "    }\n",
    "}"
   ]
  },
  {
   "cell_type": "markdown",
   "id": "3fb0b362-c728-4869-8e1b-29394e0bc330",
   "metadata": {},
   "source": [
    "**Step 3:** User inputs for running the molecular dynamics simulation.\\\n",
    "We define a few **_user defined_** parameters which are used throughout the pipeline. The necessary parameters are classified in two group of parameters.\\\n",
    "\n",
    "- **_Parameters for polymer/monomer_**\n",
    "1. **`monomer_id`:** Id of the polymer for the MD simulation.\n",
    "2. **`monomer_count_per_polymer`:** Number of monomer units per polymer.\n",
    "3. **`polymer_count`:** Number of polymer units for MD simulations.\n",
    "\n",
    "- **_MD properties_**\n",
    "1. **`property_list`:** List of properties to be calculated from the MD simulation.\n",
    "\n",
    "- **_Parameters for MD simulations (Thermodynamic conditions)_**\n",
    "1. **`temperature`:** Simulation temperature in Kelvin.\n",
    "2. **`pressure`:** Simulation pressure in bar.\n",
    "\n",
    "- **_Parameters for MD simulations (Specific for calculation of some properties)_**\n",
    "1. **`search_region_Tg`:** Simulation temperature range is given for the properties calculation.\n",
    "2. **`temperature_incr`:** Simulation temperature increment is given for the properties calculation."
   ]
  },
  {
   "cell_type": "code",
   "execution_count": 89,
   "id": "b2d01dbf-4c5b-484a-a116-462b6106da31",
   "metadata": {},
   "outputs": [],
   "source": [
    "# User inputs\n",
    "\n",
    "# Monomer inputs\n",
    "monomer_id = 3                                       # id list will be shown in the terminal\n",
    "monomer_count_per_polymer = 5                        # number of monomers in one polymer\n",
    "polymer_count = 100                                  # number of polymers to be simulated\n",
    "\n",
    "# MD inputs (primary)\n",
    "temperature = 300.15                                 # simulation temperature (K)\n",
    "pressure = 1.0                                       # simulation pressure (bar)\n",
    "property_list = ['Potential', 'Density', 'Tg']       # properties to be calculated\n",
    "dt = 0.002                                           # timestep (in ps)\n",
    "nsteps = 200000                                      # md steps (# of steps)\n",
    "\n",
    "'''\n",
    "    This will be a seperate cell only asked for user input if there is a requirement.\n",
    "'''\n",
    "# Optional parameters for property calculations\n",
    "# For Tg\n",
    "search_region_Tg = [255.15, 345.15]                  # user expected Tg\n",
    "n_temperature = 10                                   # number of temperature points"
   ]
  },
  {
   "cell_type": "markdown",
   "id": "33c1c41a-eb25-45bb-9dd6-c4804662247a",
   "metadata": {},
   "source": [
    "Convert the user input into `aiida.orm` data types accepted by the `node` arguments. "
   ]
  },
  {
   "cell_type": "code",
   "execution_count": 90,
   "id": "ca1ce0cc-033c-4479-b55c-a954283a6bd9",
   "metadata": {},
   "outputs": [],
   "source": [
    "monomer_id = Int(monomer_id)\n",
    "monomer_pdbfname = utils.polymer_constant.get_pdb(monomer_id)\n",
    "monomer_count_per_polymer = Int(monomer_count_per_polymer)\n",
    "\n",
    "polymer_connection_point_list = utils.polymer_constant.get_connection_point(monomer_id)\n",
    "polymer_count = Int(polymer_count)\n",
    "\n",
    "temperature = Float(temperature)\n",
    "pressure = Float(pressure)\n",
    "cls_prop_list = utils.polymer_constant.get_classified_property_list(List(property_list))\n",
    "primary_property_list = List(cls_prop_list[0])\n",
    "secondary_property_list = List(cls_prop_list[1])\n",
    "dt = Float(dt)\n",
    "nsteps = Int(nsteps)\n",
    "\n",
    "#temperature_list = List([])\n",
    "if secondary_property_list:\n",
    "    for prop in secondary_property_list.get_list():\n",
    "        if prop == 'Tg':\n",
    "            if search_region_Tg[0] > search_region_Tg[1]:\n",
    "                raise ValueError('Temperature range is not correct.')\n",
    "            temperature_list = List(np.linspace(search_region_Tg[0], search_region_Tg[1], n_temperature).tolist())"
   ]
  },
  {
   "cell_type": "markdown",
   "id": "77c598f0-1816-4f5e-8b0f-2e2ce27a86ee",
   "metadata": {},
   "source": [
    "**Step 5:** Polymer construction from the monomer."
   ]
  },
  {
   "cell_type": "markdown",
   "id": "c36d1d5c-23cf-4263-9ad4-ba3af2dd50b8",
   "metadata": {},
   "source": [
    "The monomer pdb file is opened and wrapped it in AiiDA's `SinglefieData` data type, which allows it to be stored in the provenance graph."
   ]
  },
  {
   "cell_type": "code",
   "execution_count": 91,
   "id": "f198f09e-942e-4cd5-ba31-1d7f032be770",
   "metadata": {},
   "outputs": [],
   "source": [
    "monomer = SinglefileData(os.getcwd() + '/monomer_data/' + monomer_pdbfname.value)"
   ]
  },
  {
   "cell_type": "markdown",
   "id": "62b4a31a-cbc6-44b9-80eb-dc24e1e49679",
   "metadata": {},
   "source": [
    "We use the PDB file containing the monomer structure and use a run(polymerize) workchain to automate the polymerization process. This workchain identifies the bonding sites in the monomer, iteratively connects them to form a polymer, and run till the number of monomer per chain is achieved. The output of this step is a dictionary containing the polymer's structural data wrapped in AiiDA's `SinglefileData` data type and atomic weight of the polymer chain. This streamlined approach eliminates the need for manual intervention."
   ]
  },
  {
   "cell_type": "code",
   "execution_count": 92,
   "id": "7faf1298-ba47-4d18-91a8-1e18105ed1b8",
   "metadata": {},
   "outputs": [
    {
     "name": "stdout",
     "output_type": "stream",
     "text": [
      "Polymerization starts for PMAMonomer.pdb ->\n",
      "5\n"
     ]
    }
   ],
   "source": [
    "polymer_data = run(PolymerizeWorkChain, monomer = monomer, monomer_count = monomer_count_per_polymer, polymer_connection_point_list = polymer_connection_point_list)"
   ]
  },
  {
   "cell_type": "code",
   "execution_count": 93,
   "id": "f9a722c2-feb1-43f7-8f36-cef67e43f132",
   "metadata": {},
   "outputs": [],
   "source": [
    "polymer_data = {'polymer': SinglefileData(os.getcwd() + '/' + '50mer_PMA.pdb'),\n",
    "               'polymer_molecular_weight': Float(4306.47788)}"
   ]
  },
  {
   "cell_type": "markdown",
   "id": "1fad4c13-7d20-4c89-a15e-c53213febf5a",
   "metadata": {},
   "source": [
    "Visualization of Polymer Chain"
   ]
  },
  {
   "cell_type": "code",
   "execution_count": 94,
   "id": "915ebd46-f6b6-45f5-9bd4-b202f31addf3",
   "metadata": {},
   "outputs": [],
   "source": [
    "import nglview as nv\n",
    "import tempfile\n",
    "\n",
    "def visualize(node: SinglefileData) -> nv.NGLWidget:\n",
    "    with node.open(mode='rb') as source:\n",
    "        with tempfile.NamedTemporaryFile(suffix=node.filename) as target:\n",
    "            target.write(source.read())\n",
    "            view = nv.NGLWidget()\n",
    "            view.add_component(target.name)\n",
    "            #view.clear_representations()\n",
    "            view.add_ball_and_stick()\n",
    "            return view"
   ]
  },
  {
   "cell_type": "code",
   "execution_count": 95,
   "id": "07a2b7f8-796e-4885-b499-8d8b42ef1168",
   "metadata": {},
   "outputs": [
    {
     "data": {
      "application/vnd.jupyter.widget-view+json": {
       "model_id": "0007c9a1228949428e2ca6d8782e79bf",
       "version_major": 2,
       "version_minor": 0
      },
      "text/plain": [
       "NGLWidget()"
      ]
     },
     "metadata": {},
     "output_type": "display_data"
    }
   ],
   "source": [
    "visualize(polymer_data['polymer'])"
   ]
  },
  {
   "cell_type": "markdown",
   "id": "0c869a6b-0e50-4eb4-89f2-4ca7e6815149",
   "metadata": {},
   "source": [
    "**Step 6:** Setup for molecular dynamics simulation.\\\n",
    "We configure the force-field folder and encapsulate it within AiiDA's `FolderData` data type, enabling its storage in the provenance graph. This folder contains the definitions for nonbonded and bonded interactions specific to the chosen force field, which will be utilized throughout the subsequent steps of the workflow."
   ]
  },
  {
   "cell_type": "code",
   "execution_count": 96,
   "id": "c91d00fd-70fa-47c7-bdcc-edc8f1495657",
   "metadata": {},
   "outputs": [],
   "source": [
    "# Default Parameters\n",
    "ffdir = os.getcwd() + '/oplsaa.ff'\n",
    "oplsaa = FolderData(tree=ffdir)"
   ]
  },
  {
   "cell_type": "markdown",
   "id": "7c90a748-73e1-4c4a-b915-f60a57c2c284",
   "metadata": {},
   "source": [
    "<div class=\"alert alert-info\">\n",
    "`gmx` is the GROMACS executable which will be executed with several parameters. The `nodes` argument takes a dictionary of `SinglefileData` and `FolderData` which will be copied to the working directory where the `gmx` command is executed. The `oplsaa` in `nodes` are copied to the `oplsaa.ff` folder in the working directory. If the key of the node appears as a placeholder in the `arguments` argument, it is replaced with its filename. \n",
    "</div>"
   ]
  },
  {
   "cell_type": "markdown",
   "id": "cdbbe09b-e4cf-479b-9535-c88e61532668",
   "metadata": {},
   "source": [
    "`gmx pdb2gmx` is used to generate the forcefield information for the given polymer i.e.  nonbonded and bonded interaction parameters for all the atoms in the polymer\n",
    "\n",
    "The `gmx pdb2gmx` is expected to generate three outputs of interest:\n",
    "- `polymer_out.pdb`: `.pdb` file of the polymer.\n",
    "- `topol.top`: The topology file.\n",
    "- `posre.itp`: The position restraint file included in the topology file."
   ]
  },
  {
   "cell_type": "code",
   "execution_count": 97,
   "id": "c918c1b1-afbc-48af-958f-aff8bed014a0",
   "metadata": {},
   "outputs": [],
   "source": [
    "# Run `gmx pdb2gmx` to convert the PDB to GROMACS .gro format.\n",
    "results_pdb2gmx, node_pdb2gmx = launch_shell_job(\n",
    "    gmx_local,\n",
    "    arguments='pdb2gmx -f {polymer} -o polymer_out.pdb -water spce -ff oplsaa',\n",
    "    nodes={\n",
    "        'polymer': polymer_data['polymer'],\n",
    "        'folder': oplsaa,\n",
    "    },\n",
    "    filenames={\n",
    "        'folder': 'oplsaa.ff',\n",
    "    },\n",
    "    outputs=['polymer_out.pdb', 'topol.top', 'posre.itp'],\n",
    "    metadata={'call_link_label': 'polymerize', 'options': {'redirect_stderr': True}},\n",
    ")\n",
    "#print(results_pdb2gmx['stdout'].get_content())"
   ]
  },
  {
   "cell_type": "markdown",
   "id": "d209101c-2e0e-4c12-ae5d-dc0bc8f6a26e",
   "metadata": {},
   "source": [
    "<div class=\"alert alert-info\">\n",
    "These output files will be used in the upcoming steps in the pipeline. To capture these output files in the AiiDA's provenance graph, these filenames are declared in the `output` argunent. `aiida-shell` will wrap these output files in a `SinglefileDtata`.\n",
    "</div>"
   ]
  },
  {
   "cell_type": "markdown",
   "id": "c46c348e-c045-4371-a100-e95e7f825c2f",
   "metadata": {},
   "source": [
    "A single chain will be equilibrated here in 2 steps here.\n",
    "1. Energy minimization of single chain.\n",
    "2. 100 ps simulation of single chain to equilibrate.\n",
    "\n",
    "This step will optimize the structure of the chain ensuring the insertion of polymer chains in the simulation box."
   ]
  },
  {
   "cell_type": "markdown",
   "id": "9ee73361-eda6-4283-ab7f-fa0658bee96c",
   "metadata": {},
   "source": [
    "**_i. Energy minimization of single chain._**"
   ]
  },
  {
   "cell_type": "code",
   "execution_count": 98,
   "id": "345fe9f0-30fe-44b5-8fcb-834c738cdb68",
   "metadata": {},
   "outputs": [],
   "source": [
    "# Equilibration of single chain\n",
    "results_sc_editconf, node_editconf_sc = launch_shell_job(\n",
    "    gmx_local,\n",
    "    arguments='editconf -f {gro} -d 1.0 -o polymer_out_box.pdb',\n",
    "    nodes={\n",
    "        'gro': results_pdb2gmx['polymer_out_pdb'],\n",
    "    },\n",
    "    outputs=['polymer_out_box.pdb'],\n",
    "    metadata={'call_link_label': 'pdb2gmx', 'options': {'redirect_stderr': True}},\n",
    ")\n",
    "\n",
    "# Run `gmx grompp` to pre-process the parameters for energy minimization.\n",
    "results_grompp_sc_em, node_grompp_sc_em = launch_shell_job(\n",
    "    gmx_local,\n",
    "    arguments='grompp -f {mdp} -c {gro} -p {top} -o em_sc.tpr',\n",
    "    nodes={\n",
    "        'mdp': utils.gromacs_setup.get_em_mdp(),\n",
    "        'gro': results_sc_editconf['polymer_out_box_pdb'],\n",
    "        'top': results_pdb2gmx['topol_top'],\n",
    "        'posre': results_pdb2gmx['posre_itp'],\n",
    "        'folder': oplsaa,\n",
    "    },\n",
    "    filenames={\n",
    "        'folder': 'oplsaa.ff'\n",
    "    },\n",
    "    outputs=['em_sc.tpr'],\n",
    "    metadata={'call_link_label': 'pdb2gmx', 'options': {'redirect_stderr': True}},\n",
    ")\n",
    "#print(results_grompp_sc_em['stdout'].get_content())\n",
    "\n",
    "# Run `gmx mdrun` to run the energy minimization.\n",
    "results_sc_em, node_sc_em = launch_shell_job(\n",
    "    gmx_local,\n",
    "    arguments='mdrun -v -deffnm em_sc -s {tpr}',\n",
    "    nodes={\n",
    "        'tpr': results_grompp_sc_em['em_sc_tpr'],\n",
    "    },\n",
    "    outputs=['em_sc.*'],\n",
    "    metadata={'call_link_label': 'em_sc_grompp', 'options': {'redirect_stderr': True}},\n",
    ")\n",
    "#print(results_sc_em['stdout'].get_content())"
   ]
  },
  {
   "cell_type": "markdown",
   "id": "400ebcaf-443d-4b08-9af2-514fb87aeee6",
   "metadata": {},
   "source": [
    "**_ii. 100 ps simulation of single chain to equilibrate._**"
   ]
  },
  {
   "cell_type": "code",
   "execution_count": 99,
   "id": "33176573-d26c-41f2-8cd4-fe5b8f22d88d",
   "metadata": {},
   "outputs": [
    {
     "name": "stderr",
     "output_type": "stream",
     "text": [
      "02/26/2025 09:32:38 AM <69976> aiida.orm.nodes.process.calculation.calcjob.CalcJobNode: [WARNING] output parser returned exit code<410>: The command exited with a zero status but the stderr was not empty.\n"
     ]
    }
   ],
   "source": [
    "# Run `gmx grompp` to pre-process the parameters for equilibration.\n",
    "results_grompp_sc_eqnpt, node_grompp_sc_eqnpt = launch_shell_job(\n",
    "    gmx_local,\n",
    "    arguments='grompp -f {mdp} -c {gro} -p {top} -o eqnpt_sc.tpr',\n",
    "    nodes={\n",
    "        'mdp': utils.gromacs_setup.get_nvt_mdp(temperature = temperature),\n",
    "        'gro': results_sc_em['em_sc_gro'],\n",
    "        'top': results_pdb2gmx['topol_top'],\n",
    "        'posre': results_pdb2gmx['posre_itp'],\n",
    "        'folder': oplsaa,\n",
    "    },\n",
    "    filenames={\n",
    "        'folder': 'oplsaa.ff'\n",
    "    },\n",
    "    outputs=['eqnpt_sc.tpr'],\n",
    "    metadata={'call_link_label': 'em_sc', 'options': {'redirect_stderr': True}},\n",
    ")\n",
    "#print(results_grompp_sc_em['stdout'].get_content())\n",
    "\n",
    "# Run `gmx mdrun` to run the equilibration of single chain.\n",
    "arguments = 'mdrun -v -deffnm eqnpt_sc -s {tpr}'\n",
    "if gpu:\n",
    "    arguments += ' -update gpu -bonded gpu -pme gpu -pmefft gpu -nb gpu'\n",
    "results_sc_eqnpt, node_sc_eqnpt = launch_shell_job(\n",
    "    gmx_code,\n",
    "    arguments=arguments,\n",
    "    nodes={\n",
    "        'tpr': results_grompp_sc_eqnpt['eqnpt_sc_tpr'],\n",
    "    },\n",
    "    outputs=['eqnpt_sc.*'],\n",
    "    metadata=metadata,\n",
    ")\n",
    "#print(results_sc_eqnpt['stdout'].get_content())"
   ]
  },
  {
   "cell_type": "markdown",
   "id": "2057cdf6-bb15-4cbc-bf76-81952895fbc5",
   "metadata": {},
   "source": [
    "The simulation box length is determined using the `calc_simulation_box_length` function. This calculation is based on the default polymer melt density of 0.40 g/cc and the specified number of polymer chains for the simulation. By leveraging this density, the function ensures that the simulation box is appropriately sized to represent the polymer melt environment accurately, maintaining realistic molecular interactions and spatial arrangements. This calculated box length serves as the foundation for subsequent simulation setup and execution."
   ]
  },
  {
   "cell_type": "code",
   "execution_count": 100,
   "id": "49fa831c-4bdf-4ce0-b598-046d46b60372",
   "metadata": {},
   "outputs": [],
   "source": [
    "box_length = utils.gromacs_setup.calc_simulation_box_length(polymer_data['polymer_molecular_weight'], polymer_count)"
   ]
  },
  {
   "cell_type": "markdown",
   "id": "83422512-ce66-4536-86cd-06180733aacf",
   "metadata": {},
   "source": [
    "Similar to the previous steps, GROMACS creates a simulation box where mutiple chains of the polymer will be inserted for the MD simulations. From the previous step, `.pdb` file of the single polymer chain is used to replicate the polymer chain inside the simulation box. In the output, we get a simulation box containing `polymer_count` number of polymers."
   ]
  },
  {
   "cell_type": "code",
   "execution_count": 101,
   "id": "61d82e7a-5b82-49be-9120-5be4ea69e74b",
   "metadata": {},
   "outputs": [],
   "source": [
    "run = Bool(True)\n",
    "iter = 0\n",
    "while run.value:\n",
    "    results_insert, node_insert = launch_shell_job(\n",
    "        gmx_local,\n",
    "        arguments='insert-molecules -box {box_length} -ci {polymer} -nmol {polymer_count} -try 999 -o melt.pdb',\n",
    "        nodes={\n",
    "            'box_length': box_length,\n",
    "            'polymer': results_sc_eqnpt['eqnpt_sc_gro'],\n",
    "            'polymer_count': polymer_count,\n",
    "        },\n",
    "        outputs=['melt.pdb'],\n",
    "        metadata={'call_link_label': 'polymerize', 'options': {'redirect_stderr': True}},\n",
    "    )\n",
    "    #print(results_insert['stdout'].get_content())\n",
    "    polymer_count_inserted = utils.gromacs_setup.check_insert_molecules(results_insert['stdout'], polymer_count)\n",
    "    if polymer_count_inserted.value != polymer_count.value:\n",
    "        run = Bool(True)\n",
    "        box_length = Float(box_length + 5.0)\n",
    "        iter += 1\n",
    "        if iter > 100:\n",
    "            polymer_count = Int(polymer_count_inserted.value)\n",
    "            print(f'WARNING: {polymer_count_inserted.value} polymers are inserted in the simulation box.')\n",
    "            run = Bool(False)\n",
    "    else:\n",
    "        run = Bool(False)"
   ]
  },
  {
   "cell_type": "code",
   "execution_count": 102,
   "id": "dfbce69f-f0b2-454c-8bba-0e8d6af78803",
   "metadata": {},
   "outputs": [
    {
     "data": {
      "application/vnd.jupyter.widget-view+json": {
       "model_id": "0727a8a439eb46c1b77bb60f09973711",
       "version_major": 2,
       "version_minor": 0
      },
      "text/plain": [
       "NGLWidget()"
      ]
     },
     "metadata": {},
     "output_type": "display_data"
    }
   ],
   "source": [
    "visualize(results_insert['melt_pdb'])"
   ]
  },
  {
   "cell_type": "markdown",
   "id": "5c0213c0-bb5e-4f5b-8551-7f0c520c130a",
   "metadata": {},
   "source": [
    "While running the `pdb2gmx` command we have created the topology for one single polymer chain. However, in the `topol.top` file we have to provide the number of polymer chain present in the simulation box. Therefore, we are updating the number of molecules line from 1 to `polymer_count` using the `sed` command."
   ]
  },
  {
   "cell_type": "code",
   "execution_count": 103,
   "id": "cf0ac510-c033-4bae-b454-27875fdf7f72",
   "metadata": {},
   "outputs": [],
   "source": [
    "results_updatetop, node_updatetop = launch_shell_job(\n",
    "    'sed',\n",
    "    arguments='-i \"s/Other               1/Other               {polymer_count}/g\" {top}',\n",
    "    nodes={\n",
    "        'polymer_count': polymer_count,\n",
    "        'top': results_pdb2gmx['topol_top'],\n",
    "    },\n",
    "    outputs=['topol.top'],\n",
    "    metadata={'call_link_label': 'pdb2gmx', 'options': {'redirect_stderr': True}},\n",
    ")\n",
    "#print(results_updatetop['stdout'].get_content())"
   ]
  },
  {
   "cell_type": "markdown",
   "id": "83ded16d-4045-4ca9-aebf-243acd23f24e",
   "metadata": {},
   "source": [
    "<div class=\"alert alert-info\">\n",
    "The output `topol.top` file is declared in the `output` argunent where `aiida-shell` will wrap these output files in a `SinglefileDtata`.\n",
    "</div>"
   ]
  },
  {
   "cell_type": "markdown",
   "id": "1e44458e-73c3-4ece-b700-56395959e67b",
   "metadata": {},
   "source": [
    "**Prerequisite for MD simulations and simulation box preparation is completed and we can proceed to run the molecular dynamics simulation.**"
   ]
  },
  {
   "cell_type": "markdown",
   "id": "93479263-4dc6-4009-bd1a-9df2d2158276",
   "metadata": {},
   "source": [
    "`gmx grompp` is used to generate a `.tpr` file written in binary format which has all the necessary input information for running the MD simulation.\n",
    "\n",
    "The `gmx grompp` takes the input of three necesary files to generate the `.tpr` file.\n",
    "- [x] `.mdp`: The molecular dynamics parameters.\n",
    "- [x] `.gro`: The coordinate information of all the polymer chains present in the simulation box.\n",
    "- [x] `.top`: The tolology file of the polymer. Also, this has the information of number of polymers present in the simulation box."
   ]
  },
  {
   "cell_type": "code",
   "execution_count": 104,
   "id": "89e9a19d-7dce-46d2-aa9f-8a0840fef2cf",
   "metadata": {},
   "outputs": [],
   "source": [
    "# Run `gmx grompp` to pre-process the parameters for energy minimization.\n",
    "results_grompp_em, node_grompp_em = launch_shell_job(\n",
    "    gmx_local,\n",
    "    arguments='grompp -f {mdp} -c {gro} -p {top} -o em.tpr',\n",
    "    nodes={\n",
    "        'mdp': utils.gromacs_setup.get_em_mdp(),\n",
    "        'gro': results_insert['melt_pdb'],\n",
    "        'top': results_updatetop['topol_top'],\n",
    "        'folder': oplsaa,\n",
    "    },\n",
    "    filenames={\n",
    "        'folder': 'oplsaa.ff'\n",
    "    },\n",
    "    outputs=['em.tpr'],\n",
    "    metadata={'call_link_label': 'updatetop', 'options': {'redirect_stderr': True}},\n",
    ")\n",
    "#print(results_grompp_em['stdout'].get_content())"
   ]
  },
  {
   "cell_type": "markdown",
   "id": "e0933c22-fbaa-4f2b-8a1f-c920e35731c6",
   "metadata": {},
   "source": [
    "Now, the generated `.tpr` file is used for running the molecular dynamics simulation. We can run the `gmx mdrun` to run the energy minimization step. The variable `computer` is used in the `launch_shell_job` command ensures the use of HPC while running the simulation."
   ]
  },
  {
   "cell_type": "code",
   "execution_count": 105,
   "id": "ff695d94-6e6e-43ff-a448-2bbfda58f882",
   "metadata": {},
   "outputs": [
    {
     "name": "stderr",
     "output_type": "stream",
     "text": [
      "02/26/2025 09:36:36 AM <69976> aiida.orm.nodes.process.calculation.calcjob.CalcJobNode: [WARNING] output parser returned exit code<410>: The command exited with a zero status but the stderr was not empty.\n"
     ]
    }
   ],
   "source": [
    "# Run `gmx mdrun` to run the energy minimization.\n",
    "results_em, node_em = launch_shell_job(\n",
    "    gmx_code,\n",
    "    arguments='mdrun -v -deffnm em -s {tpr}',\n",
    "    nodes={\n",
    "        'tpr': results_grompp_em['em_tpr'],\n",
    "    },\n",
    "    outputs=['em.*'],\n",
    "    metadata=metadata,\n",
    ")\n",
    "#print(results_em['stdout'].get_content())"
   ]
  },
  {
   "cell_type": "markdown",
   "id": "fd7ab7b6-b36f-421d-98c9-30e658254db5",
   "metadata": {},
   "source": [
    "Similar to the previous `gmx grompp` step, we can proceed with NPT equilibration step where the molecular dynamics simulation will be performed at the given thermodynamic conditions given by the user."
   ]
  },
  {
   "cell_type": "code",
   "execution_count": 106,
   "id": "b0f9e475-8a99-47b8-8e39-deca50067c65",
   "metadata": {},
   "outputs": [],
   "source": [
    "if primary_property_list:\n",
    "    npt_mdp = utils.gromacs_setup.get_npt_mdp(temperature = temperature, pressure = pressure, dt = dt, nsteps = nsteps)\n",
    "    \n",
    "    # Run `gmx grompp` to pre-process the parameters for energy minimization.\n",
    "    results_grompp_eqnpt, node_grompp_eqnpt = launch_shell_job(\n",
    "        gmx_local,\n",
    "        arguments='grompp -f {mdp} -c {gro} -p {top} -o npt.tpr',\n",
    "        nodes={\n",
    "            'mdp': npt_mdp,\n",
    "            'gro': results_em['em_gro'],\n",
    "            'top': results_updatetop['topol_top'],\n",
    "            'folder': oplsaa,\n",
    "        },\n",
    "        filenames={\n",
    "            'folder': 'oplsaa.ff'\n",
    "        },\n",
    "        outputs=['npt.tpr'],\n",
    "        metadata={'call_link_label': 'em_mdrun', 'options': {'redirect_stderr': True}},\n",
    "    )\n",
    "    #print(results_grompp_eqnpt['stdout'].get_content())"
   ]
  },
  {
   "cell_type": "markdown",
   "id": "a75de0db-2aa3-4393-a6b5-b28433d160ef",
   "metadata": {},
   "source": [
    "**Step 7:** Running the equilibration molecular dynamics simulation.\n",
    "The generated `.tpr` file is used for running the molecular dynamics simulation for NPT equilibration. We can run the `gmx mdrun` to run the NPT equilibration step."
   ]
  },
  {
   "cell_type": "code",
   "execution_count": 107,
   "id": "9b153b65-3295-4e67-b8c0-61585db2e703",
   "metadata": {},
   "outputs": [
    {
     "name": "stderr",
     "output_type": "stream",
     "text": [
      "02/26/2025 09:40:01 AM <69976> aiida.orm.nodes.process.calculation.calcjob.CalcJobNode: [WARNING] output parser returned exit code<410>: The command exited with a zero status but the stderr was not empty.\n"
     ]
    }
   ],
   "source": [
    "if primary_property_list:\n",
    "    arguments = 'mdrun -v -deffnm npt -s {tpr}'\n",
    "    if gpu:\n",
    "        arguments += ' -update gpu -bonded gpu -pme gpu -pmefft gpu -nb gpu'\n",
    "    # Run `gmx mdrun` to run the equilibrium NPT simulations\n",
    "    results_eqnpt, node_eqnpt = launch_shell_job(\n",
    "        gmx_code,\n",
    "        arguments=arguments,\n",
    "        nodes={\n",
    "            'tpr': results_grompp_eqnpt['npt_tpr'],\n",
    "        },\n",
    "        outputs=['npt.*'],\n",
    "        metadata=metadata,\n",
    "    )\n",
    "    #print(results_eqnpt['stdout'].get_content())"
   ]
  },
  {
   "cell_type": "markdown",
   "id": "4a628b3d-9515-4577-b945-374e224fcf0f",
   "metadata": {},
   "source": [
    "**Step 8:** Calculation of equilibrium properties."
   ]
  },
  {
   "cell_type": "markdown",
   "id": "95092770-a794-464b-b98e-733ab0180535",
   "metadata": {},
   "source": [
    "<div class=\"alert alert-info\">\n",
    "Using `gmx energy` command we can calculate and plot the primary properties for the simulated polymer system.\n",
    "</div>"
   ]
  },
  {
   "cell_type": "markdown",
   "id": "be259a84-8648-48ab-9366-172f9780e717",
   "metadata": {},
   "source": [
    "<div class=\"alert alert-info\">\n",
    "The input for `gmx energy` is the `output.edr` from the `results_eqnpt`. Here we first pass `10` which corresponds to the potential energy, followed by `0` which finalizes the selection and completes the prompt. The `output` file of this step saved as GROMACS generated `.xvg` format.\n",
    "</div>"
   ]
  },
  {
   "cell_type": "code",
   "execution_count": 108,
   "id": "81620931-51e3-49f9-b4b2-5245c2957f5f",
   "metadata": {},
   "outputs": [
    {
     "name": "stdout",
     "output_type": "stream",
     "text": [
      "uuid: 8f4886ec-7bf6-4f36-9594-102dd0409d70 (pk: 183464) value: [['Potential', '-34172', '(kJ/mol)'], ['Density', '739.338', '(kg/m^3)']]\n",
      "Average equilibrium properties:\n",
      "\n",
      "Potential: -34172 (kJ/mol)\n",
      "\n",
      "Density: 739.338 (kg/m^3)\n",
      "\n"
     ]
    }
   ],
   "source": [
    "if primary_property_list:\n",
    "    primary_property_str = ''\n",
    "    for iproperty in primary_property_list.get_list():\n",
    "        primary_property_str += iproperty + '\\n'\n",
    "    primary_property_str += '0'\n",
    "    \n",
    "    # Run `gmx energy` to extract the potential energy during the energy minimization.\n",
    "    results_energy, node_energy = launch_shell_job(\n",
    "        gmx_local,\n",
    "        arguments='energy -f {edr} -o energy.xvg',\n",
    "        nodes={\n",
    "            'edr': results_eqnpt['npt_edr'],\n",
    "            'stdin': SinglefileData.from_string(primary_property_str),\n",
    "        },\n",
    "        outputs=['energy.xvg'],\n",
    "        metadata={'options': {'redirect_stderr': True, 'filename_stdin': 'stdin'}},\n",
    "    )\n",
    "    \n",
    "    average_eq_property_list = utils.gromacs_analysis.get_average_property(results_energy['stdout'], primary_property_list)\n",
    "    print(average_eq_property_list)\n",
    "    print('Average equilibrium properties:\\n')\n",
    "    for average_property in average_eq_property_list:\n",
    "        print(f'{average_property[0]}: {average_property[1]} {average_property[2]}\\n')"
   ]
  },
  {
   "cell_type": "markdown",
   "id": "51ec2009-84ec-4ba9-9907-4a0a46e9f7dc",
   "metadata": {},
   "source": [
    "**Step 9:** Visualization of properties and polymer melt system.\n",
    "\n",
    "To visualize the data, first we need to import necessary python packages to be installed."
   ]
  },
  {
   "cell_type": "markdown",
   "id": "f1889e62-1c49-4d76-b5b3-69a7c7e7a825",
   "metadata": {},
   "source": [
    "We import the `gromacs_analysis` to create the plot for properties calculated in the previous step."
   ]
  },
  {
   "cell_type": "code",
   "execution_count": 109,
   "id": "f284a6e1-c95d-4e66-bfd4-8b5b4884969a",
   "metadata": {},
   "outputs": [
    {
     "name": "stdout",
     "output_type": "stream",
     "text": [
      "plotting ->  0\n",
      "plotting ->  1\n"
     ]
    },
    {
     "data": {
      "image/png": "[encoded data removed]",
      "text/plain": [
       "<IPython.core.display.Image object>"
      ]
     },
     "metadata": {},
     "output_type": "display_data"
    },
    {
     "data": {
      "image/png": "[encoded data removed]",
      "text/plain": [
       "<IPython.core.display.Image object>"
      ]
     },
     "metadata": {},
     "output_type": "display_data"
    },
    {
     "data": {
      "text/plain": [
       "<Figure size 800x500 with 0 Axes>"
      ]
     },
     "metadata": {},
     "output_type": "display_data"
    }
   ],
   "source": [
    "if primary_property_list:\n",
    "    plot = utils.gromacs_analysis.create_time_plot(results_energy['energy_xvg'])\n",
    "    for iplot in plot:\n",
    "        display(Image(filename=iplot))"
   ]
  },
  {
   "cell_type": "markdown",
   "id": "9689c04d-3366-4719-848e-68b82c8e3e6b",
   "metadata": {},
   "source": [
    "**Step 10:** Setup for molecular dynamics simulation for multiple thermodynamic conditions required for some properties calculation."
   ]
  },
  {
   "cell_type": "markdown",
   "id": "cf44f31e-18b4-44f7-b578-bc1777548bdd",
   "metadata": {},
   "source": [
    "We are going to perform multiple molecular dynamics simulation by varying temperatures or varying pressure or varying both temperature and pressure. This variation in temeprature and pressure is controlled based on the user input.\n",
    "\n",
    "As the varying parameters are temperature and pressure, we do not need to perform the complete gromacs setup as we performed previously. We are executing the GROMACS `grompp` command to generate `.tpr` file for all the thermodynamics conditions (i.e. - temperature range or pressure range or both.) These `.tpr` files will be used to run the molecular dynamics simulations. "
   ]
  },
  {
   "cell_type": "markdown",
   "id": "03e470fe-fba2-4023-8995-c845049a3672",
   "metadata": {},
   "source": [
    "<div class=\"alert alert-info\">\n",
    "A `AiiDA's` list of `AiiDA node` instances are created for temperature and pressure range. These `node` instances will be called in the later step to run the molecular dynamics simulations.\n",
    "</div>"
   ]
  },
  {
   "cell_type": "code",
   "execution_count": 110,
   "id": "3d1db63e-2856-4919-98da-a8e84ee56e5f",
   "metadata": {},
   "outputs": [],
   "source": [
    "if secondary_property_list:\n",
    "    node_grompplist = List([])\n",
    "    results_grompplist = List([])\n",
    "    \n",
    "    for i, temperature_i in enumerate(temperature_list.get_list()):\n",
    "        id = Int(i)\n",
    "        temperature_curr = Float(temperature_i)\n",
    "        eqnpt_mdp = utils.gromacs_setup.get_npt_mdp(id = id, temperature = temperature_curr, pressure = pressure, dt = dt, nsteps = nsteps)\n",
    "        \n",
    "        tpr = f'npt-{i}.tpr'\n",
    "        results_grompp_eqnpt_iter, node_grompp_eqnpt_iter = launch_shell_job(\n",
    "            gmx_local,\n",
    "            arguments='grompp -f {mdp} -c {gro} -p {top} -o {tpr}',\n",
    "            nodes={\n",
    "                'mdp': eqnpt_mdp,\n",
    "                'gro': results_em['em_gro'],\n",
    "                'top': results_updatetop['topol_top'],\n",
    "                'tpr': Str(tpr),\n",
    "                'folder': oplsaa,\n",
    "            },\n",
    "            filenames={\n",
    "                'folder': 'oplsaa.ff'\n",
    "            },\n",
    "            outputs=[tpr],\n",
    "            metadata={'options': {'redirect_stderr': True}},\n",
    "        )\n",
    "        node_grompplist.append(node_grompp_eqnpt_iter)\n",
    "        results_grompplist.append(results_grompp_eqnpt_iter)"
   ]
  },
  {
   "cell_type": "markdown",
   "id": "3d47a797-2fb7-4c71-af68-82c889c3bc8a",
   "metadata": {},
   "source": [
    "**Step 11:** Running MD simulation at multiple thermodynamic conditions.\n",
    "\n",
    "The series of molecular dynamics simulation is running. A `list` of ouput will be generated for different thermodynamic conditions."
   ]
  },
  {
   "cell_type": "code",
   "execution_count": null,
   "id": "d51c251c-c8ff-4f16-a087-9f827c3986a8",
   "metadata": {},
   "outputs": [
    {
     "name": "stderr",
     "output_type": "stream",
     "text": [
      "02/26/2025 09:54:34 AM <69976> aiida.orm.nodes.process.calculation.calcjob.CalcJobNode: [WARNING] output parser returned exit code<410>: The command exited with a zero status but the stderr was not empty.\n",
      "02/26/2025 09:57:24 AM <69976> aiida.orm.nodes.process.calculation.calcjob.CalcJobNode: [WARNING] output parser returned exit code<410>: The command exited with a zero status but the stderr was not empty.\n"
     ]
    }
   ],
   "source": [
    "if secondary_property_list:\n",
    "    # Run `gmx mdrun` to run the equilibrium NPT simulations at different T & P\n",
    "    node_eqnptlist = List([])\n",
    "    results_eqnptlist = List([])\n",
    "\n",
    "    arguments = 'mdrun -v -deffnm {output} -s {tpr}'\n",
    "    if gpu:\n",
    "        arguments += ' -update gpu -bonded gpu -pme gpu -pmefft gpu -nb gpu'\n",
    "    \n",
    "    for i, temperature_ele in enumerate(temperature_list.get_list()):\n",
    "        #print(i, temperature_ele, type(temperature_ele), type(i))\n",
    "        tpr = f'npt_{i}_tpr'\n",
    "        output = f'npt_{i}'\n",
    "        results_eqnpt, node_eqnpt = launch_shell_job(\n",
    "            gmx_code,\n",
    "            arguments=arguments,\n",
    "            nodes={\n",
    "                'tpr': results_grompplist[i][tpr],\n",
    "                'output': Str(output),\n",
    "            },\n",
    "            outputs=[f'{output}.*'],\n",
    "            metadata=metadata,\n",
    "        )\n",
    "        node_eqnptlist.append(node_eqnpt)\n",
    "        results_eqnptlist.append(results_eqnpt)"
   ]
  },
  {
   "cell_type": "markdown",
   "id": "02380c98-06ec-43cf-b9f1-93814ac86f12",
   "metadata": {},
   "source": [
    "**Step 12:** Calculation of polymer properties and visualization.\n",
    "\n",
    "Secondary properties for this system at all the thermodynamic condtions are getting calculated."
   ]
  },
  {
   "cell_type": "code",
   "execution_count": null,
   "id": "e9274f44-67c9-4acc-9213-1a98e9be9e29",
   "metadata": {},
   "outputs": [],
   "source": [
    "if secondary_property_list:\n",
    "    gromacs_property_list = utils.polymer_constant.get_all_gromacs_property_list(secondary_property_list)\n",
    "    secondary_property_str = ''\n",
    "    for iproperty in gromacs_property_list.get_list():\n",
    "        secondary_property_str += iproperty + '\\n'\n",
    "    secondary_property_str += '0'\n",
    "    \n",
    "    node_energylist = List([])\n",
    "    results_energylist = List([])\n",
    "    average_property_list = List([])\n",
    "    \n",
    "    for i, temperature_ele in enumerate(temperature_list.get_list()):\n",
    "        edr = f'npt_{i}_edr'\n",
    "        output = f'energy_{i}.xvg'\n",
    "        results_energy, node_energy = launch_shell_job(\n",
    "            gmx_local,\n",
    "            arguments='energy -f {edr} -o {output}',\n",
    "            nodes={\n",
    "                'edr': results_eqnptlist[i][edr],\n",
    "                'output': Str(output),\n",
    "                'stdin': SinglefileData.from_string(secondary_property_str),\n",
    "            },\n",
    "            outputs=[f'{output}'],\n",
    "            metadata={'options': {'redirect_stderr': True, 'filename_stdin': 'stdin'}},\n",
    "        )\n",
    "        node_energylist.append(node_energy)\n",
    "        results_energylist.append(results_energy)\n",
    "\n",
    "        average_property_list.append(utils.gromacs_analysis.get_average_property(results_energy['stdout'], gromacs_property_list).get_list())"
   ]
  },
  {
   "cell_type": "markdown",
   "id": "f155e883-4ff5-4ffe-a90f-223bea81a272",
   "metadata": {},
   "source": [
    "We call the `gromacs_analysis` to create the plot for properties calculated in the previous step."
   ]
  },
  {
   "cell_type": "code",
   "execution_count": null,
   "id": "40916cb8-6031-4585-aef1-cc4706e1cce8",
   "metadata": {},
   "outputs": [],
   "source": [
    "if secondary_property_list:\n",
    "    for iproperty in secondary_property_list:\n",
    "        plot = List([])\n",
    "        print(f'Plotting data for calculating: {iproperty}')\n",
    "        if iproperty == 'Tg':\n",
    "            plot = utils.gromacs_analysis.create_tg_plot(temperature_list, average_property_list)\n",
    "\n",
    "        if plot:\n",
    "            for iplot in plot:\n",
    "                display(Image(filename=iplot))"
   ]
  },
  {
   "cell_type": "raw",
   "id": "3b0ef6a9-85b5-4dc4-b452-18a76c5cc2ab",
   "metadata": {},
   "source": [
    "![Tg Plot](density_temperature_plot_with_vertical_Tg1.png \"Temperature vs Density\")"
   ]
  },
  {
   "cell_type": "code",
   "execution_count": null,
   "id": "9c3f51b6-2628-48ba-8d5b-03e993f15646",
   "metadata": {},
   "outputs": [],
   "source": []
  }
 ],
 "metadata": {
  "kernelspec": {
   "display_name": "Python [conda env:aiida-gromacs]",
   "language": "python",
   "name": "conda-env-aiida-gromacs-py"
  },
  "language_info": {
   "codemirror_mode": {
    "name": "ipython",
    "version": 3
   },
   "file_extension": ".py",
   "mimetype": "text/x-python",
   "name": "python",
   "nbconvert_exporter": "python",
   "pygments_lexer": "ipython3",
   "version": "3.10.0"
  }
 },
 "nbformat": 4,
 "nbformat_minor": 5
}
