{
 "cells": [
  {
   "cell_type": "code",
   "execution_count": 1,
   "id": "f1be0d58-8e3d-408e-8f6d-97efa809d4e9",
   "metadata": {},
   "outputs": [
    {
     "data": {
      "text/plain": [
       "Profile<uuid='854b62c634cd4cd6ade4c630f3c0af0e' name='gromacs'>"
      ]
     },
     "execution_count": 1,
     "metadata": {},
     "output_type": "execute_result"
    }
   ],
   "source": [
    "from aiida import load_profile\n",
    "load_profile()"
   ]
  },
  {
   "cell_type": "code",
   "execution_count": 2,
   "id": "5e32127b-04c6-4256-9f15-eecd3517fc54",
   "metadata": {},
   "outputs": [],
   "source": [
    "# Polymer/Monomer inputs\n",
    "monomer_pdbfilename = '14tPBMonomer.pdb'        # PDB filename of the monomer\n",
    "monomer_count_per_polymer = 4                   # Number of monomers present in one polymer\n",
    "\n",
    "polymer_count = 600                             # Number of polymers will be simulated\n",
    "\n",
    "# MD simulation inputs\n",
    "thermo_T = 300.15                               # Simulation Temperature (K)\n",
    "thermo_P = 1.0                                  # Simulation Pressure (bar)"
   ]
  },
  {
   "cell_type": "code",
   "execution_count": 3,
   "id": "b5a0ddfd-308c-4537-a1ad-14157235779c",
   "metadata": {},
   "outputs": [],
   "source": [
    "import pathlib\n",
    "import os\n",
    "import numpy as np\n",
    "\n",
    "from aiida.engine import run, submit\n",
    "from aiida.engine import calcfunction, WorkChain\n",
    "from aiida.orm import Bool, Int, Float, Str, Dict, List, SinglefileData, FolderData\n",
    "from aiida_shell import launch_shell_job"
   ]
  },
  {
   "cell_type": "code",
   "execution_count": 4,
   "id": "ca1ce0cc-033c-4479-b55c-a954283a6bd9",
   "metadata": {},
   "outputs": [],
   "source": [
    "monomer_pdbfilename = Str(monomer_pdbfilename)\n",
    "monomer_count_per_polymer = Int(monomer_count_per_polymer)\n",
    "\n",
    "polymer_count = Int(polymer_count)\n",
    "\n",
    "thermo_T = Float(thermo_T)\n",
    "thermo_P = Float(thermo_P)"
   ]
  },
  {
   "cell_type": "code",
   "execution_count": 5,
   "id": "f198f09e-942e-4cd5-ba31-1d7f032be770",
   "metadata": {},
   "outputs": [],
   "source": [
    "monomer = SinglefileData(os.getcwd() + '/' + monomer_pdbfilename.value)"
   ]
  },
  {
   "cell_type": "code",
   "execution_count": 6,
   "id": "9e9fc4bf-690b-4b6d-ab02-13fe1dc45712",
   "metadata": {},
   "outputs": [
    {
     "name": "stdout",
     "output_type": "stream",
     "text": [
      "Polymerization starts ->\n",
      "4\n",
      "ATOM      1 CA   BD1     1       8.280  51.200  30.550                       C\n",
      "ATOM      2 HA1  BD1     1       8.790  50.330  30.140                       H\n",
      "ATOM      3 HA2  BD1     1       8.830  52.120  30.380                       H\n",
      "ATOM      4 HA3  BD1     1       8.380  51.100  31.630                       H\n",
      "ATOM      5 CB   BD1     1       6.890  51.370  30.050                       C\n",
      "ATOM      6 HB   BD1     1       6.230  50.510  30.130                       H\n",
      "ATOM      7 CG   BD1     1       6.460  52.520  29.510                       C\n",
      "ATOM      8 HG   BD1     1       7.270  53.230  29.440                       H\n",
      "ATOM      9 CW   BD1     1       5.030  52.720  28.830                       C\n",
      "ATOM     10 HW1  BD1     1       4.580  53.650  29.180                       H\n",
      "ATOM     11 HW2  BD1     1       4.320  51.910  29.030                       H\n",
      "ATOM     13 CA   BD2     2       4.885  52.865  27.263                       C\n",
      "ATOM     14 HA1  BD2     2       5.290  52.015  26.717                       H\n",
      "ATOM     15 HA2  BD2     2       5.356  53.801  26.981                       H\n",
      "ATOM     17 CB   BD2     2       3.411  53.010  27.137                       C\n",
      "ATOM     18 HB   BD2     2       2.809  52.133  27.361                       H\n",
      "ATOM     19 CG   BD2     2       2.836  54.159  26.751                       C\n",
      "ATOM     20 HG   BD2     2       3.588  54.890  26.495                       H\n",
      "ATOM     21 CW   BD2     2       1.276  54.337  26.462                       C\n",
      "ATOM     22 HW1  BD2     2       0.913  55.249  26.937                       H\n",
      "ATOM     23 HW2  BD2     2       0.656  53.506  26.816                       H\n",
      "ATOM     25 CA   BD2     3       1.131  54.482  24.895                       C\n",
      "ATOM     26 HA1  BD2     3       1.641  53.612  24.485                       H\n",
      "ATOM     27 HA2  BD2     3       1.681  55.402  24.725                       H\n",
      "ATOM     29 CB   BD2     3      -0.259  54.652  24.395                       C\n",
      "ATOM     30 HB   BD2     3      -0.919  53.792  24.475                       H\n",
      "ATOM     31 CG   BD2     3      -0.689  55.802  23.855                       C\n",
      "ATOM     32 HG   BD2     3       0.121  56.512  23.785                       H\n",
      "ATOM     33 CW   BD2     3      -2.119  56.002  23.175                       C\n",
      "ATOM     34 HW1  BD2     3      -2.569  56.932  23.525                       H\n",
      "ATOM     35 HW2  BD2     3      -2.829  55.192  23.375                       H\n",
      "ATOM     37 CA   BD3     4      -2.264  56.147  21.609                       C\n",
      "ATOM     38 HA1  BD3     4      -1.859  55.297  21.062                       H\n",
      "ATOM     39 HA2  BD3     4      -1.793  57.083  21.327                       H\n",
      "ATOM     41 CB   BD3     4      -3.738  56.292  21.482                       C\n",
      "ATOM     42 HB   BD3     4      -4.340  55.415  21.706                       H\n",
      "ATOM     43 CG   BD3     4      -4.313  57.441  21.097                       C\n",
      "ATOM     44 HG   BD3     4      -3.561  58.172  20.840                       H\n",
      "ATOM     45 CW   BD3     4      -5.872  57.619  20.807                       C\n",
      "ATOM     46 HW1  BD3     4      -6.236  58.531  21.282                       H\n",
      "ATOM     47 HW2  BD3     4      -6.493  56.788  21.161                       H\n",
      "ATOM     48 HW3  BD3     4      -5.972  57.719  19.726                       H\n"
     ]
    }
   ],
   "source": [
    "from polymerize import polymerize\n",
    "\n",
    "polymer_data = run(polymerize, monomer = monomer, monomer_count = monomer_count_per_polymer)"
   ]
  },
  {
   "cell_type": "code",
   "execution_count": 7,
   "id": "49fa831c-4bdf-4ce0-b598-046d46b60372",
   "metadata": {},
   "outputs": [],
   "source": [
    "@calcfunction\n",
    "def calc_simulation_box_length(polymer_molecular_weight: Float, polymer_count: Int) -> Float:\n",
    "    molecular_weight = polymer_molecular_weight.value * polymer_count.value\n",
    "    \n",
    "    # Default density (0.4 g/cm3)\n",
    "    density = 0.4\n",
    "    avogadro_number = 6.022e23  # molecules/mol\n",
    "    cm_to_nm = 1e7  # cm to nm conversion factor\n",
    "    \n",
    "    # Step 1: Mass of one molecule\n",
    "    mass_per_molecule = molecular_weight / avogadro_number  # g\n",
    "    \n",
    "    # Step 2: Volume of cubic box\n",
    "    volume = mass_per_molecule / density  # cm³\n",
    "    \n",
    "    # Step 3: Side length of the cubic box\n",
    "    box_length = volume**(1/3)  # cm\n",
    "    box_length = box_length * cm_to_nm  # nm\n",
    "\n",
    "    return Float(box_length)\n",
    "\n",
    "box_length = calc_simulation_box_length(polymer_data['polymer_molecular_weight'], polymer_count)"
   ]
  },
  {
   "cell_type": "code",
   "execution_count": null,
   "id": "6f661aab-d18e-4808-9066-b0237047f5ae",
   "metadata": {},
   "outputs": [],
   "source": []
  },
  {
   "cell_type": "code",
   "execution_count": 9,
   "id": "eac61564-0ffd-4170-b1a4-1dd2ba469daf",
   "metadata": {},
   "outputs": [],
   "source": [
    "import nglview as nv\n",
    "import tempfile"
   ]
  },
  {
   "cell_type": "code",
   "execution_count": 10,
   "id": "915ebd46-f6b6-45f5-9bd4-b202f31addf3",
   "metadata": {},
   "outputs": [],
   "source": [
    "import nglview as nv\n",
    "import tempfile\n",
    "\n",
    "def visualize(node: SinglefileData) -> nv.NGLWidget:\n",
    "    with node.open(mode='rb') as source:\n",
    "        with tempfile.NamedTemporaryFile(suffix=node.filename) as target:\n",
    "            target.write(source.read())\n",
    "            print(target.name)\n",
    "            view = nv.NGLWidget()\n",
    "            view.add_component(target.name)\n",
    "            view.clear_representations()\n",
    "            view.add_ball_and_stick()\n",
    "            return view"
   ]
  },
  {
   "cell_type": "code",
   "execution_count": 11,
   "id": "85e78ee5-8848-44a4-a10c-71456116e61f",
   "metadata": {},
   "outputs": [
    {
     "name": "stdout",
     "output_type": "stream",
     "text": [
      "/mnt/scratch/tmp-aamir/tmpdbjc0bwppolymer.pdb\n"
     ]
    },
    {
     "data": {
      "application/vnd.jupyter.widget-view+json": {
       "model_id": "86b8a7a6f02548489b93ffb6207b480c",
       "version_major": 2,
       "version_minor": 0
      },
      "text/plain": [
       "NGLWidget()"
      ]
     },
     "metadata": {},
     "output_type": "display_data"
    }
   ],
   "source": [
    "visualize(polymer_data['polymer'])"
   ]
  },
  {
   "cell_type": "code",
   "execution_count": null,
   "id": "9ce0c1ee-49db-4516-80b3-e390816fd357",
   "metadata": {},
   "outputs": [],
   "source": []
  },
  {
   "cell_type": "code",
   "execution_count": null,
   "id": "ef793382-0d13-4c35-a0e9-593b2e6b26c9",
   "metadata": {},
   "outputs": [],
   "source": []
  },
  {
   "cell_type": "code",
   "execution_count": null,
   "id": "c2d1893b-fd5d-46a8-916e-d9be6e9b55ed",
   "metadata": {},
   "outputs": [],
   "source": []
  },
  {
   "cell_type": "code",
   "execution_count": null,
   "id": "a7f7c2d2-850b-4114-82ff-1ddee1315419",
   "metadata": {},
   "outputs": [],
   "source": []
  },
  {
   "cell_type": "code",
   "execution_count": null,
   "id": "c088a9db-ad90-4d85-8ee1-b6dbf6e6d285",
   "metadata": {},
   "outputs": [],
   "source": []
  },
  {
   "cell_type": "code",
   "execution_count": 14,
   "id": "26a219a6-b3b7-4468-92d6-a30fdedfd88f",
   "metadata": {},
   "outputs": [],
   "source": [
    "from aiida.orm import Computer, InstalledCode, load_code"
   ]
  },
  {
   "cell_type": "code",
   "execution_count": 15,
   "id": "2b3d5a5e-6ccb-4655-8878-c6f9e6922e81",
   "metadata": {},
   "outputs": [],
   "source": [
    "computer = Computer.collection.get(label='ondemand')"
   ]
  },
  {
   "cell_type": "code",
   "execution_count": 16,
   "id": "193dda95-1c89-4024-b927-77990c5ce4d0",
   "metadata": {},
   "outputs": [],
   "source": [
    "from aiida.orm import Computer, InstalledCode, load_code, load_computer"
   ]
  },
  {
   "cell_type": "code",
   "execution_count": 17,
   "id": "dfcaaced-70a1-4abf-96e0-9832370d5993",
   "metadata": {},
   "outputs": [
    {
     "data": {
      "text/plain": [
       "<InstalledCode: Remote code 'gmx-gpu' on ondemand pk: 3, uuid: 1257560f-2c9d-4e53-949c-5cdbcf17c330>"
      ]
     },
     "execution_count": 17,
     "metadata": {},
     "output_type": "execute_result"
    }
   ],
   "source": [
    "gmx_gpu = load_code('gmx-gpu@ondemand')\n",
    "gmx_gpu"
   ]
  },
  {
   "cell_type": "code",
   "execution_count": 19,
   "id": "227b8d0c-c0d3-4fb6-ba79-86491a746836",
   "metadata": {},
   "outputs": [],
   "source": [
    "hpc = load_computer('ondemand')"
   ]
  },
  {
   "cell_type": "code",
   "execution_count": 20,
   "id": "8d143ef3-4290-4f29-a9ab-880a26632d92",
   "metadata": {},
   "outputs": [
    {
     "data": {
      "text/plain": [
       "<Computer: ondemand (ondemand), pk: 2>"
      ]
     },
     "execution_count": 20,
     "metadata": {},
     "output_type": "execute_result"
    }
   ],
   "source": [
    "hpc"
   ]
  },
  {
   "cell_type": "code",
   "execution_count": 21,
   "id": "625ebf01-fed9-46e1-99ea-596bd6cc7fcb",
   "metadata": {},
   "outputs": [],
   "source": [
    "#! verdi process list -a -D desc\n",
    "#! verdi node delete 27641 -f\n",
    "#! verdi process report 27732\n",
    "#! verdi node graph generate 32574"
   ]
  },
  {
   "cell_type": "code",
   "execution_count": 22,
   "id": "f2d5e697-3b99-491c-b15b-3492b564e5a8",
   "metadata": {},
   "outputs": [],
   "source": [
    "# Default Parameters\n",
    "ffdir = os.getcwd() + '/oplsaa.ff'\n",
    "oplsaa = FolderData(tree=ffdir)                       "
   ]
  },
  {
   "cell_type": "code",
   "execution_count": 23,
   "id": "ee2a3a9c-b9ba-4d47-8605-9b3f89e53990",
   "metadata": {},
   "outputs": [],
   "source": [
    "# Run `gmx pdb2gmx` to convert the PDB to GROMACS .gro format.\n",
    "results_pdb2gmx, node_pdb2gmx = launch_shell_job(\n",
    "    'gmx',\n",
    "    arguments='pdb2gmx -f {polymer} -o polymer_out.pdb -water spce -ff oplsaa',\n",
    "    nodes={\n",
    "        'polymer': polymer_data['polymer'],\n",
    "        'folder': oplsaa,\n",
    "    },\n",
    "    filenames={\n",
    "        'folder': 'oplsaa.ff'\n",
    "    },\n",
    "    outputs=['polymer_out.pdb', 'topol.top', 'posre.itp'],\n",
    "    metadata={'options': {'redirect_stderr': True}},\n",
    ")\n",
    "#print(results_pdb2gmx['stdout'].get_content())"
   ]
  },
  {
   "cell_type": "markdown",
   "id": "47529f30-8083-4fda-b80b-08a0e9ddeb8e",
   "metadata": {},
   "source": [
    "<div class=\"alert alert-info\">\n",
    "`gmx` is the GROMACS executable which will be executed with several parameters. The `nodes` argument takes a dictionary of `SinglefileData` and `FolderData` which will be copied to the working directory where the `gmx` command is executed. The `oplsaa` in `nodes` are copied to the `oplsaa.ff` folder in the working directory. If the key of the node appears as a placeholder in the `arguments` argument, it is replaced with its filename. \n",
    "</div>"
   ]
  },
  {
   "cell_type": "markdown",
   "id": "6e46b1ff-18c1-4b8b-9ffc-15ae2815cc5d",
   "metadata": {},
   "source": [
    "The `gmx pdb2gmx` is expected to generate three outputs of interest:\n",
    "- `polymer_out.pdb`: `.pdb` file of the polymer.\n",
    "- `topol.top`: The topology file.\n",
    "- `posre.itp`: The position restraint file included in the topology file."
   ]
  },
  {
   "cell_type": "markdown",
   "id": "909c4478-d731-49b2-8398-279771c07a49",
   "metadata": {},
   "source": [
    "<div class=\"alert alert-info\">\n",
    "These output files will be used in the upcoming steps in the pipeline. To capture these output files in the AiiDA's provenance graph, these filenames are declared in the `output` argunent. `aiida-shell` will wrap these output files in a `SinglefileDtata`.\n",
    "</div>"
   ]
  },
  {
   "cell_type": "markdown",
   "id": "12f48ef2-f21d-4ab0-88ed-79936c80549f",
   "metadata": {},
   "source": [
    "Similar to the previous steps, GROMACS creates a simulation box where mutiple chains of the polymer will be inserted for the MD simulations. From the previous step, `.pdb` file of the single polymer chain is used to replicate the polymer chain inside the simulation box. In the output, we get a simulation box containing `polymer_count` number of polymers."
   ]
  },
  {
   "cell_type": "code",
   "execution_count": 24,
   "id": "4627867d-2bd7-44f2-9f44-8bd3b3711f76",
   "metadata": {},
   "outputs": [
    {
     "name": "stdout",
     "output_type": "stream",
     "text": [
      "False\n",
      "False\n"
     ]
    }
   ],
   "source": [
    "@calcfunction\n",
    "def check_insert_molecules(log: SinglefileData, polymer_count: Int) -> Bool:\n",
    "    lines = log.get_content().split('\\n')\n",
    "    check_lines = [line for line in lines if line.startswith('Added')]\n",
    "    \n",
    "    if len(check_lines) > 1:\n",
    "        raise Exception('ERROR: Multiple lines got selected in the check_lines variable', check_lines)\n",
    "\n",
    "    wordlist = check_lines[0].split()\n",
    "    polymer_count_inserted = Int(wordlist[1])\n",
    "    \n",
    "    if polymer_count_inserted.value == polymer_count.value:\n",
    "        return Bool(False)\n",
    "    else:\n",
    "        return Bool(True)\n",
    "\n",
    "run = Bool(True)\n",
    "while run.value:\n",
    "    results_insert, node_insert = launch_shell_job(\n",
    "        'gmx',\n",
    "        arguments='insert-molecules -box {box_length} -ci {polymer} -nmol {polymer_count} -try 999 -o melt.pdb',\n",
    "        nodes={\n",
    "            'box_length': box_length,\n",
    "            'polymer': polymer_data['polymer'],\n",
    "            'polymer_count': polymer_count,\n",
    "        },\n",
    "        outputs=['melt.pdb'],\n",
    "        metadata={'options': {'redirect_stderr': True}},\n",
    "    )\n",
    "    #print(results_insert['stdout'].get_content())\n",
    "    run = check_insert_molecules(results_insert['stdout'], polymer_count)\n",
    "    print(run.value)\n",
    "    if run.value:\n",
    "        \n",
    "        run = Bool(False)\n",
    "    else:\n",
    "        run = Bool(False)\n",
    "    print(run.value)"
   ]
  },
  {
   "cell_type": "markdown",
   "id": "27d2efa7-2d75-410d-b5a6-f16ac3ef4e69",
   "metadata": {},
   "source": [
    "While running the `pdb2gmx` command we have created the topology for one single polymer chain. However, in the `topol.top` file we have to provide the number of polymer chain present in the simulation box. Therefore, we are updating the number of molecules line from 1 to `polymer_count` using the `sed` command."
   ]
  },
  {
   "cell_type": "code",
   "execution_count": 25,
   "id": "754a3c28-a1c7-4fd8-b214-36a0f1fbc24f",
   "metadata": {},
   "outputs": [],
   "source": [
    "results_updatetop, node_updatetop = launch_shell_job(\n",
    "    'sed',\n",
    "    arguments='-i \"s/Other               1/Other               {polymer_count}/g\" {top}',\n",
    "    nodes={\n",
    "        'polymer_count': polymer_count,\n",
    "        'top': results_pdb2gmx['topol_top'],\n",
    "    },\n",
    "    outputs=['topol.top'],\n",
    "    metadata={'options': {'redirect_stderr': True}},\n",
    ")\n",
    "#print(results_updatetop['stdout'].get_content())"
   ]
  },
  {
   "cell_type": "markdown",
   "id": "73022109-b0b9-4916-8280-a299a092d8ea",
   "metadata": {},
   "source": [
    "<div class=\"alert alert-info\">\n",
    "The output `topol.top` file is declared in the `output` argunent where `aiida-shell` will wrap these output files in a `SinglefileDtata`.\n",
    "</div>"
   ]
  },
  {
   "cell_type": "markdown",
   "id": "2475e27e-b157-4cba-b3a7-075fce9ff25c",
   "metadata": {},
   "source": [
    "**Prerequisite for MD simulations and simulation box preparation is completed and we can proceed to run the molecular dynamics simulation.**"
   ]
  },
  {
   "cell_type": "code",
   "execution_count": 26,
   "id": "923203e6-b5c3-45ce-a92d-baada3a0b71f",
   "metadata": {},
   "outputs": [],
   "source": [
    "em_mdp = SinglefileData.from_string(\n",
    "    \"\"\"\n",
    "    integrator      = steep\n",
    "    emtol           = 1000.0\n",
    "    emstep          = 0.01\n",
    "    nsteps          = 50000\n",
    "    nstlist         = 1\n",
    "    cutoff-scheme   = Verlet\n",
    "    ns_type         = grid\n",
    "    coulombtype     = PME\n",
    "    rcoulomb        = 1.0\n",
    "    rvdw            = 1.0\n",
    "    pbc             = xyz\n",
    "    ld_seed         = 1\n",
    "    gen_seed        = 1\n",
    "    \"\"\",\n",
    "    filename='em.mdp',\n",
    ")\n",
    "\n",
    "# Run `gmx grompp` to pre-process the parameters for energy minimization.\n",
    "results_grompp_em, node_grompp_em = launch_shell_job(\n",
    "    'gmx',\n",
    "    arguments='grompp -f {mdp} -c {gro} -p {top} -o output.tpr',\n",
    "    nodes={\n",
    "        'mdp': em_mdp,\n",
    "        'gro': results_insert['melt_pdb'],\n",
    "        'top': results_updatetop['topol_top'],\n",
    "        'folder': oplsaa,\n",
    "    },\n",
    "    filenames={\n",
    "        'folder': 'oplsaa.ff'\n",
    "    },\n",
    "    outputs=['output.tpr'],\n",
    "    metadata={'options': {'redirect_stderr': True}},\n",
    ")\n",
    "#print(results_grompp_em['stdout'].get_content())"
   ]
  },
  {
   "cell_type": "code",
   "execution_count": null,
   "id": "1d1ff2fd-0ef9-47f1-91f8-333b9e218782",
   "metadata": {},
   "outputs": [],
   "source": []
  },
  {
   "cell_type": "code",
   "execution_count": null,
   "id": "4d75eb95-99ff-4ca7-86f6-9fba0b4a2c44",
   "metadata": {},
   "outputs": [],
   "source": []
  },
  {
   "cell_type": "markdown",
   "id": "1c36f076-5d95-4b4f-a412-8874afa228e0",
   "metadata": {},
   "source": [
    "The `gmx grompp` takes the input of three necesary files to generate the `.tpr` file.\n",
    "- [x] `.mdp`: The molecular dynamics parameters.\n",
    "- [x] `.gro`: The coordinate information of all the polymer chains present in the simulation box.\n",
    "- [x] `.top`: The tolology file of the polymer. Also, this has the information of number of polymers present in the simulation box."
   ]
  },
  {
   "cell_type": "markdown",
   "id": "e748286d-cce2-4cd0-98c3-ca7b08a9f0dc",
   "metadata": {},
   "source": [
    "The generated `.tpr` file is used for running the molecular dynamics simulation. We can run the `gmx mdrun` to run the energy minimization step."
   ]
  },
  {
   "cell_type": "code",
   "execution_count": 27,
   "id": "f098da7b-f76b-4e22-97b2-83b74bfb10df",
   "metadata": {},
   "outputs": [
    {
     "name": "stderr",
     "output_type": "stream",
     "text": [
      "/anfhome/software/anaconda/envs/aiida-gromacs/lib/python3.10/site-packages/paramiko/pkey.py:82: CryptographyDeprecationWarning: TripleDES has been moved to cryptography.hazmat.decrepit.ciphers.algorithms.TripleDES and will be removed from cryptography.hazmat.primitives.ciphers.algorithms in 48.0.0.\n",
      "  \"cipher\": algorithms.TripleDES,\n",
      "/anfhome/software/anaconda/envs/aiida-gromacs/lib/python3.10/site-packages/paramiko/transport.py:253: CryptographyDeprecationWarning: TripleDES has been moved to cryptography.hazmat.decrepit.ciphers.algorithms.TripleDES and will be removed from cryptography.hazmat.primitives.ciphers.algorithms in 48.0.0.\n",
      "  \"class\": algorithms.TripleDES,\n",
      "01/13/2025 09:04:47 AM <82178> aiida.orm.nodes.process.calculation.calcjob.CalcJobNode: [WARNING] output parser returned exit code<303>: One or more output files defined in the `outputs` input were not retrieved: output.edr, output.gro.\n"
     ]
    }
   ],
   "source": [
    "# Run `gmx mdrun` to run the energy minimization.\n",
    "results_em, node_em = launch_shell_job(\n",
    "    'gmx',\n",
    "    arguments='mdrun -v -deffnm output -s {tpr} -ntmpi 1 -ntomp 16',\n",
    "    nodes={\n",
    "        'tpr': results_grompp_em['output_tpr'],\n",
    "    },\n",
    "    outputs=['output.edr', 'output.gro', 'output.log'],\n",
    "    metadata={'options': {'redirect_stderr': True, 'computer': computer}},\n",
    "    #metadata={'options': {'redirect_stderr': True, 'computer': computer, 'resources': 1}},\n",
    ")\n",
    "#print(results_em['stdout'].get_content())"
   ]
  },
  {
   "cell_type": "code",
   "execution_count": 28,
   "id": "2e8ea326-5d20-4ed3-bd54-980e0a5bcdfe",
   "metadata": {},
   "outputs": [
    {
     "name": "stdout",
     "output_type": "stream",
     "text": [
      "                   :-) GROMACS - gmx mdrun, 2023.3-spack (-:\n",
      "\n",
      "Executable:   /anfhome/spack/opt/spack/__spack_path_placeholder__/__spack_path_placeholder__/__spack_path_placeholder__/__spack_path_placehold/linux-almalinux8-zen3/aocc-4.1.0/gromacs-2023.3-upt5rsow4zsttzs63kqercg7her4e3e2/bin/gmx_mpi\n",
      "Data prefix:  /anfhome/spack/opt/spack/__spack_path_placeholder__/__spack_path_placeholder__/__spack_path_placeholder__/__spack_path_placehold/linux-almalinux8-zen3/aocc-4.1.0/gromacs-2023.3-upt5rsow4zsttzs63kqercg7her4e3e2\n",
      "Working dir:  /anfhome/aamir/scratch/aiida/4e/ac/a8a4-72d9-4daf-8a18-8e707db65bb1\n",
      "Command line:\n",
      "  gmx_mpi mdrun -v -deffnm output -s output.tpr -ntmpi 1 -ntomp 16\n",
      "\n",
      "Reading file output.tpr, VERSION 2023.3-spack (single precision)\n",
      "\n",
      "-------------------------------------------------------\n",
      "Program:     gmx mdrun, version 2023.3-spack\n",
      "Source file: src/gromacs/taskassignment/resourcedivision.cpp (line 718)\n",
      "\n",
      "Fatal error:\n",
      "Setting the number of thread-MPI ranks is only supported with thread-MPI and\n",
      "GROMACS was compiled without thread-MPI\n",
      "\n",
      "For more information and tips for troubleshooting, please check the GROMACS\n",
      "website at http://www.gromacs.org/Documentation/Errors\n",
      "-------------------------------------------------------\n",
      "--------------------------------------------------------------------------\n",
      "MPI_ABORT was invoked on rank 0 in communicator MPI_COMM_WORLD\n",
      "with errorcode 1.\n",
      "\n",
      "NOTE: invoking MPI_ABORT causes Open MPI to kill all MPI processes.\n",
      "You may or may not see output from other processes, depending on\n",
      "exactly when Open MPI kills them.\n",
      "--------------------------------------------------------------------------\n",
      "\n"
     ]
    }
   ],
   "source": [
    "print(results_em['stdout'].get_content())"
   ]
  },
  {
   "cell_type": "code",
   "execution_count": null,
   "id": "3e059275-2c65-4d7c-b424-7fae5d5a6bad",
   "metadata": {},
   "outputs": [],
   "source": []
  },
  {
   "cell_type": "code",
   "execution_count": null,
   "id": "ba28d389-129e-48d0-bdae-9f758e80e261",
   "metadata": {},
   "outputs": [],
   "source": []
  },
  {
   "cell_type": "markdown",
   "id": "e02862f2-de55-484e-85ec-2c57af5d48b0",
   "metadata": {},
   "source": [
    "Similar to the previous `gmx grompp` step, we can proceed with NPT equilibration step where the molecular dynamics simulation will be performed at the given thermodynamic conditions given by the user."
   ]
  },
  {
   "cell_type": "code",
   "execution_count": 29,
   "id": "8e9badf8-a167-4813-ab50-6f8a82dd70d0",
   "metadata": {},
   "outputs": [
    {
     "ename": "NameError",
     "evalue": "name 'orm' is not defined",
     "output_type": "error",
     "traceback": [
      "\u001b[0;31m---------------------------------------------------------------------------\u001b[0m",
      "\u001b[0;31mNameError\u001b[0m                                 Traceback (most recent call last)",
      "Cell \u001b[0;32mIn[29], line 1\u001b[0m\n\u001b[0;32m----> 1\u001b[0m eqnpt_mdp \u001b[38;5;241m=\u001b[39m \u001b[43morm\u001b[49m\u001b[38;5;241m.\u001b[39mSinglefileData\u001b[38;5;241m.\u001b[39mfrom_string(\n\u001b[1;32m      2\u001b[0m \u001b[38;5;250m    \u001b[39m\u001b[38;5;124;03m\"\"\"\u001b[39;00m\n\u001b[1;32m      3\u001b[0m \u001b[38;5;124;03m    title                   = NPT Equilibration\u001b[39;00m\n\u001b[1;32m      4\u001b[0m \u001b[38;5;124;03m    ;define                 = -DPOSRES\u001b[39;00m\n\u001b[1;32m      5\u001b[0m \u001b[38;5;124;03m    integrator              = md\u001b[39;00m\n\u001b[1;32m      6\u001b[0m \u001b[38;5;124;03m    dt                      = 0.002\u001b[39;00m\n\u001b[1;32m      7\u001b[0m \u001b[38;5;124;03m    nsteps                  = 50000\u001b[39;00m\n\u001b[1;32m      8\u001b[0m \u001b[38;5;124;03m    nstenergy               = 2000\u001b[39;00m\n\u001b[1;32m      9\u001b[0m \u001b[38;5;124;03m    nstxout-compressed      = 10000\u001b[39;00m\n\u001b[1;32m     10\u001b[0m \u001b[38;5;124;03m    nstvout                 = 0\u001b[39;00m\n\u001b[1;32m     11\u001b[0m \u001b[38;5;124;03m    nstlog                  = 1000\u001b[39;00m\n\u001b[1;32m     12\u001b[0m \u001b[38;5;124;03m    gen_vel                 = yes\u001b[39;00m\n\u001b[1;32m     13\u001b[0m \u001b[38;5;124;03m    gen_temp                = 298.15\u001b[39;00m\n\u001b[1;32m     14\u001b[0m \u001b[38;5;124;03m    pbc                     = xyz\u001b[39;00m\n\u001b[1;32m     15\u001b[0m \u001b[38;5;124;03m    cutoff-scheme           = Verlet\u001b[39;00m\n\u001b[1;32m     16\u001b[0m \u001b[38;5;124;03m    rlist                   = 1.0\u001b[39;00m\n\u001b[1;32m     17\u001b[0m \u001b[38;5;124;03m    ns_type                 = grid\u001b[39;00m\n\u001b[1;32m     18\u001b[0m \u001b[38;5;124;03m    nstlist                 = 10\u001b[39;00m\n\u001b[1;32m     19\u001b[0m \u001b[38;5;124;03m    coulombtype             = PME\u001b[39;00m\n\u001b[1;32m     20\u001b[0m \u001b[38;5;124;03m    fourierspacing          = 0.12\u001b[39;00m\n\u001b[1;32m     21\u001b[0m \u001b[38;5;124;03m    pme_order               = 4\u001b[39;00m\n\u001b[1;32m     22\u001b[0m \u001b[38;5;124;03m    rcoulomb                = 1.0\u001b[39;00m\n\u001b[1;32m     23\u001b[0m \u001b[38;5;124;03m    vdwtype                 = Cut-Off\u001b[39;00m\n\u001b[1;32m     24\u001b[0m \u001b[38;5;124;03m    rvdw                    = 1.0\u001b[39;00m\n\u001b[1;32m     25\u001b[0m \u001b[38;5;124;03m    DispCorr                = EnerPres\u001b[39;00m\n\u001b[1;32m     26\u001b[0m \u001b[38;5;124;03m    constraints             = h-bonds\u001b[39;00m\n\u001b[1;32m     27\u001b[0m \u001b[38;5;124;03m    constraint_algorithm    = lincs\u001b[39;00m\n\u001b[1;32m     28\u001b[0m \u001b[38;5;124;03m    lincs_iter              = 1\u001b[39;00m\n\u001b[1;32m     29\u001b[0m \u001b[38;5;124;03m    lincs_order             = 4\u001b[39;00m\n\u001b[1;32m     30\u001b[0m \u001b[38;5;124;03m    tcoupl                  = v-rescale\u001b[39;00m\n\u001b[1;32m     31\u001b[0m \u001b[38;5;124;03m    tc-grps                 = System\u001b[39;00m\n\u001b[1;32m     32\u001b[0m \u001b[38;5;124;03m    ref_t                   = 298.15\u001b[39;00m\n\u001b[1;32m     33\u001b[0m \u001b[38;5;124;03m    tau_t                   = 0.1\u001b[39;00m\n\u001b[1;32m     34\u001b[0m \u001b[38;5;124;03m    pcoupl                  = c-rescale\u001b[39;00m\n\u001b[1;32m     35\u001b[0m \u001b[38;5;124;03m    pcoupltype              = isotropic\u001b[39;00m\n\u001b[1;32m     36\u001b[0m \u001b[38;5;124;03m    ref_p                   = 1.0\u001b[39;00m\n\u001b[1;32m     37\u001b[0m \u001b[38;5;124;03m    tau_p                   = 2.0\u001b[39;00m\n\u001b[1;32m     38\u001b[0m \u001b[38;5;124;03m    ;refcoord-scaling        = com\u001b[39;00m\n\u001b[1;32m     39\u001b[0m \u001b[38;5;124;03m    compressibility         = 4.5e-5\u001b[39;00m\n\u001b[1;32m     40\u001b[0m \u001b[38;5;124;03m    \"\"\"\u001b[39;00m,\n\u001b[1;32m     41\u001b[0m     filename\u001b[38;5;241m=\u001b[39m\u001b[38;5;124m'\u001b[39m\u001b[38;5;124meqnpt.mdp\u001b[39m\u001b[38;5;124m'\u001b[39m,\n\u001b[1;32m     42\u001b[0m )\n\u001b[1;32m     44\u001b[0m \u001b[38;5;66;03m# Run `gmx grompp` to pre-process the parameters for energy minimization.\u001b[39;00m\n\u001b[1;32m     45\u001b[0m results_grompp_eqnpt, node_grompp_eqnpt \u001b[38;5;241m=\u001b[39m launch_shell_job(\n\u001b[1;32m     46\u001b[0m     \u001b[38;5;124m'\u001b[39m\u001b[38;5;124mgmx\u001b[39m\u001b[38;5;124m'\u001b[39m,\n\u001b[1;32m     47\u001b[0m     arguments\u001b[38;5;241m=\u001b[39m\u001b[38;5;124m'\u001b[39m\u001b[38;5;124mgrompp -f \u001b[39m\u001b[38;5;132;01m{mdp}\u001b[39;00m\u001b[38;5;124m -c \u001b[39m\u001b[38;5;132;01m{gro}\u001b[39;00m\u001b[38;5;124m -p \u001b[39m\u001b[38;5;132;01m{top}\u001b[39;00m\u001b[38;5;124m -o npt.tpr\u001b[39m\u001b[38;5;124m'\u001b[39m,\n\u001b[0;32m   (...)\u001b[0m\n\u001b[1;32m     58\u001b[0m     metadata\u001b[38;5;241m=\u001b[39m{\u001b[38;5;124m'\u001b[39m\u001b[38;5;124moptions\u001b[39m\u001b[38;5;124m'\u001b[39m: {\u001b[38;5;124m'\u001b[39m\u001b[38;5;124mredirect_stderr\u001b[39m\u001b[38;5;124m'\u001b[39m: \u001b[38;5;28;01mTrue\u001b[39;00m}},\n\u001b[1;32m     59\u001b[0m )\n",
      "\u001b[0;31mNameError\u001b[0m: name 'orm' is not defined"
     ]
    }
   ],
   "source": [
    "eqnpt_mdp = orm.SinglefileData.from_string(\n",
    "    \"\"\"\n",
    "    title                   = NPT Equilibration\n",
    "    ;define                 = -DPOSRES\n",
    "    integrator              = md\n",
    "    dt                      = 0.002\n",
    "    nsteps                  = 50000\n",
    "    nstenergy               = 2000\n",
    "    nstxout-compressed      = 10000\n",
    "    nstvout                 = 0\n",
    "    nstlog                  = 1000\n",
    "    gen_vel                 = yes\n",
    "    gen_temp                = 298.15\n",
    "    pbc                     = xyz\n",
    "    cutoff-scheme           = Verlet\n",
    "    rlist                   = 1.0\n",
    "    ns_type                 = grid\n",
    "    nstlist                 = 10\n",
    "    coulombtype             = PME\n",
    "    fourierspacing          = 0.12\n",
    "    pme_order               = 4\n",
    "    rcoulomb                = 1.0\n",
    "    vdwtype                 = Cut-Off\n",
    "    rvdw                    = 1.0\n",
    "    DispCorr                = EnerPres\n",
    "    constraints             = h-bonds\n",
    "    constraint_algorithm    = lincs\n",
    "    lincs_iter              = 1\n",
    "    lincs_order             = 4\n",
    "    tcoupl                  = v-rescale\n",
    "    tc-grps                 = System\n",
    "    ref_t                   = 298.15\n",
    "    tau_t                   = 0.1\n",
    "    pcoupl                  = c-rescale\n",
    "    pcoupltype              = isotropic\n",
    "    ref_p                   = 1.0\n",
    "    tau_p                   = 2.0\n",
    "    ;refcoord-scaling        = com\n",
    "    compressibility         = 4.5e-5\n",
    "    \"\"\",\n",
    "    filename='eqnpt.mdp',\n",
    ")\n",
    "\n",
    "# Run `gmx grompp` to pre-process the parameters for energy minimization.\n",
    "results_grompp_eqnpt, node_grompp_eqnpt = launch_shell_job(\n",
    "    'gmx',\n",
    "    arguments='grompp -f {mdp} -c {gro} -p {top} -o npt.tpr',\n",
    "    nodes={\n",
    "        'mdp': eqnpt_mdp,\n",
    "        'gro': results_em['output_gro'],\n",
    "        'top': results_updatetop['topol_top'],\n",
    "        'folder': oplsaa,\n",
    "    },\n",
    "    filenames={\n",
    "        'folder': 'oplsaa.ff'\n",
    "    },\n",
    "    outputs=['npt.tpr'],\n",
    "    metadata={'options': {'redirect_stderr': True}},\n",
    ")\n",
    "#print(results_grompp_eqnpt['stdout'].get_content())"
   ]
  },
  {
   "cell_type": "markdown",
   "id": "4f912153-1681-423e-9aa9-2bd6949f809c",
   "metadata": {},
   "source": [
    "The generated `.tpr` file is used for running the molecular dynamics simulation for NPT equilibration. We can run the `gmx mdrun` to run the NPT equilibration step."
   ]
  },
  {
   "cell_type": "code",
   "execution_count": null,
   "id": "1e7202ee-8677-44e9-a0ca-86eec90c2dbe",
   "metadata": {},
   "outputs": [],
   "source": [
    "# Run `gmx mdrun` to run the energy minimization.\n",
    "results_eqnpt, node_eqnpt = launch_shell_job(\n",
    "    'gmx',\n",
    "    arguments='mdrun -v -deffnm output -s {tpr}',\n",
    "    nodes={\n",
    "        'tpr': results_grompp_eqnpt['npt_tpr'],\n",
    "    },\n",
    "    outputs=['output.edr', 'output.gro', 'output.log', 'output.xtc'],\n",
    "    metadata={'options': {'redirect_stderr': True}},\n",
    ")\n",
    "#print(results_eqnpt['stdout'].get_content())"
   ]
  },
  {
   "cell_type": "markdown",
   "id": "3c6f4aca-6645-4041-b235-e48df59f49d2",
   "metadata": {},
   "source": [
    "**MD simulation is completed. Therefore, we can go for analysis of the simulated system.**"
   ]
  },
  {
   "cell_type": "markdown",
   "id": "a17e9366-bead-4c7c-8c72-ccb03168fef2",
   "metadata": {},
   "source": [
    "<div class=\"alert alert-info\">\n",
    "Using `gmx energy` command we can calculate and plot the primary properties for the simulated polymer system.\n",
    "</div>"
   ]
  },
  {
   "cell_type": "code",
   "execution_count": null,
   "id": "098b5b4f-233f-4efb-bc2f-df729e0b9c46",
   "metadata": {},
   "outputs": [],
   "source": [
    "# Run `gmx energy` to extract the potential energy during the energy minimization.\n",
    "results_energy, node_energy = launch_shell_job(\n",
    "    'gmx',\n",
    "    arguments='energy -f {edr} -o potential.xvg',\n",
    "    nodes={\n",
    "        'edr': results_eqnpt['output_edr'],\n",
    "        'stdin': orm.SinglefileData.from_string('10\\n0'),\n",
    "    },\n",
    "    outputs=['potential.xvg'],\n",
    "    metadata={'options': {'redirect_stderr': True, 'filename_stdin': 'stdin'}},\n",
    ")"
   ]
  },
  {
   "cell_type": "markdown",
   "id": "8ef0735d-e0ab-4fcd-9933-d4b687ceb0ad",
   "metadata": {},
   "source": [
    "<div class=\"alert alert-info\">\n",
    "The input for `gmx energy` is the `output.edr` from the `results_eqnpt`. Here we first pass `10` which corresponds to the potential energy, followed by `0` which finalizes the selection and completes the prompt. The `output` file of this step saved as GROMACS generated `.xvg` format.\n",
    "</div>"
   ]
  },
  {
   "cell_type": "markdown",
   "id": "cfd99e10-adae-4705-b7a5-9de4a9d12c53",
   "metadata": {},
   "source": [
    "To visualize the data, first we need to import necessary python packages to be installed."
   ]
  },
  {
   "cell_type": "code",
   "execution_count": null,
   "id": "b77ae951-a68e-4ceb-9dee-c226c8e21a5c",
   "metadata": {},
   "outputs": [],
   "source": [
    "import io\n",
    "\n",
    "import matplotlib.pyplot as plt\n",
    "import numpy as np\n",
    "\n",
    "from IPython.display import display, IFrame"
   ]
  },
  {
   "cell_type": "markdown",
   "id": "c320cf78-dad6-4868-a737-8a4c2388eab6",
   "metadata": {},
   "source": [
    "We define the `create_plot` function and pass the `potential.xvg` from the previous step. The `create_plot` will create a plot which is saved to a stream in memory which is then passed to a `SinglefileData` node to store it in AiiDA's provecance graph."
   ]
  },
  {
   "cell_type": "code",
   "execution_count": null,
   "id": "edab4b7d-3639-4927-92ea-b6014e57b3cf",
   "metadata": {},
   "outputs": [],
   "source": [
    "@engine.calcfunction\n",
    "def create_plot(xvg: orm.SinglefileData) -> orm.SinglefileData:\n",
    "    \"\"\"Plot the data of a XVG output file.\"\"\"\n",
    "    lines = xvg.get_content().split('\\n')\n",
    "    data = np.loadtxt(lines, comments=['#', '@']).T\n",
    "    plt.figure(figsize=(6,4))\n",
    "    plt.plot(*data)\n",
    "    plt.xlabel('Time (ps)')\n",
    "    plt.ylabel('Potential energy [kJ/mol]')\n",
    "    stream = io.BytesIO()\n",
    "    plt.savefig(stream, format='png', bbox_inches='tight', dpi=150)\n",
    "    #stream.seek(0)\n",
    "    return orm.SinglefileData(stream, filename='potential.png')\n",
    "    \n",
    "# Create a plot from the extracted potential energy of the system\n",
    "plot = create_plot(results_energy['potential_xvg'])"
   ]
  },
  {
   "cell_type": "markdown",
   "id": "3f58522b-621f-42a3-8287-9dc2d188a054",
   "metadata": {},
   "source": [
    "In the same way we can get the density data from the `output.edr` using the `gmx energy` command and plot it."
   ]
  },
  {
   "cell_type": "code",
   "execution_count": null,
   "id": "8122add3-4f53-4cf1-b9d8-9fa9b222076c",
   "metadata": {},
   "outputs": [],
   "source": [
    "# Run `gmx energy` to extract the potential energy during the energy minimization.\n",
    "results_energy, node_energy = launch_shell_job(\n",
    "    'gmx',\n",
    "    arguments='energy -f {edr} -o density.xvg',\n",
    "    nodes={\n",
    "        'edr': results_eqnpt['output_edr'],\n",
    "        'stdin': orm.SinglefileData.from_string('22\\n0'),\n",
    "    },\n",
    "    outputs=['density.xvg'],\n",
    "    metadata={'options': {'redirect_stderr': True, 'filename_stdin': 'stdin'}},\n",
    ")"
   ]
  },
  {
   "cell_type": "code",
   "execution_count": null,
   "id": "1d4c2fef-f2ac-4ef9-a427-59d28b45e74a",
   "metadata": {},
   "outputs": [],
   "source": [
    "@engine.calcfunction\n",
    "def create_plot(xvg: orm.SinglefileData) -> orm.SinglefileData:\n",
    "    \"\"\"Plot the data of a XVG output file.\"\"\"\n",
    "    lines = xvg.get_content().split('\\n')\n",
    "    data = np.loadtxt(lines, comments=['#', '@']).T\n",
    "    plt.plot(*data)\n",
    "    plt.xlabel('Time (ps)')\n",
    "    plt.ylabel('Density $[kg/m^3]$')\n",
    "    stream = io.BytesIO()\n",
    "    plt.savefig(stream, format='png', bbox_inches='tight', dpi=300)\n",
    "    #stream.seek(0)\n",
    "    return orm.SinglefileData(stream, filename='density.png')\n",
    "\n",
    "# Create a plot from the extracted density of the system\n",
    "plot = create_plot(results_energy['density_xvg'])"
   ]
  },
  {
   "cell_type": "code",
   "execution_count": null,
   "id": "0aba542e-007a-40f9-bf74-928fe539c058",
   "metadata": {},
   "outputs": [],
   "source": []
  },
  {
   "cell_type": "code",
   "execution_count": 34,
   "id": "121b169e-05fa-40c9-a586-e7d92c34fe34",
   "metadata": {},
   "outputs": [
    {
     "name": "stdout",
     "output_type": "stream",
     "text": [
      "300.15\n"
     ]
    }
   ],
   "source": []
  },
  {
   "cell_type": "code",
   "execution_count": 38,
   "id": "f086a336-a571-4ded-9035-2908e0a59060",
   "metadata": {},
   "outputs": [],
   "source": [
    "thermo_T_count = 5\n",
    "thermo_T_list = orm.ArrayData(np.array([thermo_T.value-10.0, thermo_T.value-5.0]))"
   ]
  },
  {
   "cell_type": "code",
   "execution_count": 39,
   "id": "aa740375-3a48-43d1-862a-dcdfe65421ff",
   "metadata": {},
   "outputs": [],
   "source": [
    "from aiida.engine.daemon.client import get_daemon_client\n",
    "\n",
    "client = get_daemon_client()\n",
    "client.start_daemon()"
   ]
  },
  {
   "cell_type": "code",
   "execution_count": 40,
   "id": "8862243c-58c4-47ff-96e7-2bda9b0bab30",
   "metadata": {},
   "outputs": [
    {
     "name": "stdout",
     "output_type": "stream",
     "text": [
      "0 290.15 <class 'numpy.float64'> <class 'int'>\n",
      "eqnpt-0.mdp\n",
      "0\n",
      "done\n",
      "1 295.15 <class 'numpy.float64'> <class 'int'>\n",
      "eqnpt-1.mdp\n",
      "1\n",
      "done\n"
     ]
    }
   ],
   "source": [
    "@engine.calcfunction\n",
    "def set_mdp_parameter(id: int=0, thermo_T: np.float64=298.15, thermo_P: np.float64=1.0, ) -> orm.SinglefileData:\n",
    "    mdp_str = f\"\"\"\n",
    "    title                   = NPT Equilibration\n",
    "    ;define                 = -DPOSRES\n",
    "    integrator              = md\n",
    "    dt                      = 0.002\n",
    "    nsteps                  = 50000\n",
    "    nstenergy               = 2000\n",
    "    nstxout-compressed      = 10000\n",
    "    nstvout                 = 0\n",
    "    nstlog                  = 1000\n",
    "    gen_vel                 = yes\n",
    "    gen_temp                = 298.15\n",
    "    pbc                     = xyz\n",
    "    cutoff-scheme           = Verlet\n",
    "    rlist                   = 1.0\n",
    "    ns_type                 = grid\n",
    "    nstlist                 = 10\n",
    "    coulombtype             = PME\n",
    "    fourierspacing          = 0.12\n",
    "    pme_order               = 4\n",
    "    rcoulomb                = 1.0\n",
    "    vdwtype                 = Cut-Off\n",
    "    rvdw                    = 1.0\n",
    "    DispCorr                = EnerPres\n",
    "    constraints             = h-bonds\n",
    "    constraint_algorithm    = lincs\n",
    "    lincs_iter              = 1\n",
    "    lincs_order             = 4\n",
    "    tcoupl                  = v-rescale\n",
    "    tc-grps                 = System\n",
    "    ref_t                   = {thermo_T.value}\n",
    "    tau_t                   = 0.1\n",
    "    pcoupl                  = c-rescale\n",
    "    pcoupltype              = isotropic\n",
    "    ref_p                   = {thermo_P.value}\n",
    "    tau_p                   = 2.0\n",
    "    ;refcoord-scaling        = com\n",
    "    compressibility         = 4.5e-5\n",
    "    \"\"\"\n",
    "\n",
    "    #print(mdp_str)\n",
    "    #print('T = ', thermo_T.value)\n",
    "    #print('P = ', thermo_P.value)\n",
    "\n",
    "    return orm.SinglefileData.from_string(mdp_str, filename=f'eqnpt-{id.value}.mdp')\n",
    "\n",
    "nodelist = []\n",
    "resultslist = []\n",
    "\n",
    "for i, thermo_T_ele in enumerate(thermo_T_list.get_array()):\n",
    "    print(i, thermo_T_ele, type(thermo_T_ele), type(i))\n",
    "    eqnpt_mdp = set_mdp_parameter(i, thermo_T_ele, thermo_P)\n",
    "    print(eqnpt_mdp.filename)\n",
    "    #print(eqnpt_mdp.get_content())\n",
    "\n",
    "    print(i)\n",
    "    tpr = f'npt-{i}.tpr'\n",
    "    results_grompp_eqnpt, node_grompp_eqnpt = launch_shell_job(\n",
    "        'gmx',\n",
    "        arguments='grompp -f {mdp} -c {gro} -p {top} -o {tpr}',\n",
    "        nodes={\n",
    "            'mdp': eqnpt_mdp,\n",
    "            'gro': results_em['output_gro'],\n",
    "            'top': results_updatetop['topol_top'],\n",
    "            'tpr': orm.Str(tpr),\n",
    "            'folder': oplsaa,\n",
    "        },\n",
    "        filenames={\n",
    "            'folder': 'oplsaa.ff'\n",
    "        },\n",
    "        outputs=[tpr],\n",
    "        metadata={'options': {'redirect_stderr': True}},\n",
    "    )\n",
    "    nodelist.append(node_grompp_eqnpt)\n",
    "    resultslist.append(results_grompp_eqnpt)\n",
    "    #print(node_grompp_eqnpt.outputs.stdout.get_content())\n",
    "    print('done')"
   ]
  },
  {
   "cell_type": "code",
   "execution_count": 41,
   "id": "b97af577-db32-4bf5-89fe-7ac0e77b1b15",
   "metadata": {},
   "outputs": [
    {
     "name": "stdout",
     "output_type": "stream",
     "text": [
      "[<CalcJobNode: uuid: 32603611-d2b0-4ffa-9323-967db18d2c90 (pk: 4152) (aiida.calculations:core.shell)>, <CalcJobNode: uuid: 09aa274d-4f72-4794-be7d-701ecb8cee63 (pk: 4165) (aiida.calculations:core.shell)>]\n"
     ]
    }
   ],
   "source": [
    "print(nodelist)"
   ]
  },
  {
   "cell_type": "code",
   "execution_count": 42,
   "id": "59b1dc96-2a34-4155-9334-84632973a773",
   "metadata": {},
   "outputs": [
    {
     "name": "stdout",
     "output_type": "stream",
     "text": [
      "[{'npt_0_tpr': <SinglefileData: uuid: 4d22018d-3dad-435f-90ec-052092796a34 (pk: 4155)>, 'stdout': <SinglefileData: uuid: 02a1740b-9287-45af-a231-b3db5135c2ee (pk: 4156)>}, {'npt_1_tpr': <SinglefileData: uuid: 6a505202-9e9a-4060-bb10-84c07f20480a (pk: 4168)>, 'stdout': <SinglefileData: uuid: 059df435-7a17-461e-9705-fa1fef59f56c (pk: 4169)>}]\n"
     ]
    }
   ],
   "source": [
    "print(resultslist)"
   ]
  },
  {
   "cell_type": "code",
   "execution_count": 43,
   "id": "62844906-e3e1-4f36-9946-8e097c082e10",
   "metadata": {},
   "outputs": [
    {
     "name": "stdout",
     "output_type": "stream",
     "text": [
      "<class 'aiida.orm.nodes.data.singlefile.SinglefileData'>\n",
      "<class 'aiida.orm.nodes.data.singlefile.SinglefileData'>\n"
     ]
    }
   ],
   "source": [
    "for i, result in enumerate(resultslist):\n",
    "    ou = f'npt_{i}_tpr'\n",
    "    print(type(result[ou]))"
   ]
  },
  {
   "cell_type": "code",
   "execution_count": 44,
   "id": "a253df64-4345-4bb1-b1a1-0e5f9d77d52d",
   "metadata": {},
   "outputs": [
    {
     "name": "stdout",
     "output_type": "stream",
     "text": [
      "0 290.15 <class 'numpy.float64'> <class 'int'>\n",
      "npt_0_tpr\n",
      "done\n",
      "1 295.15 <class 'numpy.float64'> <class 'int'>\n",
      "npt_1_tpr\n",
      "done\n"
     ]
    }
   ],
   "source": [
    "node_dumplist = []\n",
    "results_dumplist = []\n",
    "\n",
    "for i, thermo_T_ele in enumerate(thermo_T_list.get_array()):\n",
    "    print(i, thermo_T_ele, type(thermo_T_ele), type(i))\n",
    "    tpr = f'npt_{i}_tpr'\n",
    "    dump = f'npt-{i}.dump'\n",
    "    print(tpr)\n",
    "    results_dump, node_dump = launch_shell_job(\n",
    "        'gmx',\n",
    "        arguments='dump -s {tpr}',\n",
    "        nodes={\n",
    "            'tpr': resultslist[i][tpr],\n",
    "        },\n",
    "        metadata={'options': {'redirect_stderr': True}},\n",
    "    )\n",
    "    node_dumplist.append(node_dump)\n",
    "    results_dumplist.append(results_dump)\n",
    "    print('done')"
   ]
  },
  {
   "cell_type": "code",
   "execution_count": 45,
   "id": "3537fbad-345c-47c6-b8b5-db243284286a",
   "metadata": {},
   "outputs": [],
   "source": [
    "#print(results_dumplist[0]['stdout'].get_content())"
   ]
  },
  {
   "cell_type": "code",
   "execution_count": 58,
   "id": "ec944aae-de25-48ef-bd65-6494d1330a70",
   "metadata": {},
   "outputs": [],
   "source": [
    "import aiida_aqe"
   ]
  },
  {
   "cell_type": "code",
   "execution_count": 59,
   "id": "dbac5ec8-816c-46d5-95a1-9df8089c426f",
   "metadata": {},
   "outputs": [],
   "source": [
    "import aiida_aqe.tools"
   ]
  },
  {
   "cell_type": "code",
   "execution_count": 64,
   "id": "95ef46c1-5cd6-4967-8765-fdcb3814d079",
   "metadata": {},
   "outputs": [
    {
     "data": {
      "text/plain": [
       "['__builtins__',\n",
       " '__cached__',\n",
       " '__doc__',\n",
       " '__file__',\n",
       " '__loader__',\n",
       " '__name__',\n",
       " '__package__',\n",
       " '__path__',\n",
       " '__spec__']"
      ]
     },
     "execution_count": 64,
     "metadata": {},
     "output_type": "execute_result"
    }
   ],
   "source": [
    "dir(aiida_aqe.tools)"
   ]
  },
  {
   "cell_type": "code",
   "execution_count": null,
   "id": "12e93ea4-049e-482b-a1d5-f80cbc053df2",
   "metadata": {},
   "outputs": [],
   "source": []
  }
 ],
 "metadata": {
  "kernelspec": {
   "display_name": "Python [conda env:aiida-gromacs]",
   "language": "python",
   "name": "conda-env-aiida-gromacs-py"
  },
  "language_info": {
   "codemirror_mode": {
    "name": "ipython",
    "version": 3
   },
   "file_extension": ".py",
   "mimetype": "text/x-python",
   "name": "python",
   "nbconvert_exporter": "python",
   "pygments_lexer": "ipython3",
   "version": "3.10.0"
  }
 },
 "nbformat": 4,
 "nbformat_minor": 5
}
