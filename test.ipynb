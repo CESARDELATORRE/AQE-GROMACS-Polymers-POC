{
 "cells": [
  {
   "cell_type": "code",
   "execution_count": 1,
   "id": "7c28f1fb-e87b-4bdf-acb1-019d0f3ebe14",
   "metadata": {},
   "outputs": [
    {
     "data": {
      "text/plain": [
       "Profile<uuid='e3eed8e7f41e49b094d7e9107f76a58a' name='gromacs'>"
      ]
     },
     "execution_count": 1,
     "metadata": {},
     "output_type": "execute_result"
    }
   ],
   "source": [
    "from aiida import load_profile\n",
    "load_profile()"
   ]
  },
  {
   "cell_type": "code",
   "execution_count": 2,
   "id": "f50c7ef1-9cc5-4f8d-92e7-6f93f35dce1c",
   "metadata": {},
   "outputs": [],
   "source": [
    "from aiida.orm import Dict, SinglefileData\n",
    "from aiida.engine import calcfunction"
   ]
  },
  {
   "cell_type": "code",
   "execution_count": 3,
   "id": "65436164-146e-4dd6-9810-7496f2979533",
   "metadata": {},
   "outputs": [],
   "source": [
    "result = SinglefileData.from_string('# This file was created Thu Feb  6 06:25:48 2025\\n# Created by:\\n#                   :-) GROMACS - gmx energy, 2023.3-spack (-:\\n# \\n# Executable:   /anfhome/spack/opt/spack/__spack_path_placeholder__/__spack_path_placeholder__/__spack_path_placeholder__/__spack_path_placehold/linux-almalinux8-zen3/aocc-4.1.0/gromacs-2023.3-upt5rsow4zsttzs63kqercg7her4e3e2/bin/gmx_mpi\\n# Data prefix:  /anfhome/spack/opt/spack/__spack_path_placeholder__/__spack_path_placeholder__/__spack_path_placeholder__/__spack_path_placehold/linux-almalinux8-zen3/aocc-4.1.0/gromacs-2023.3-upt5rsow4zsttzs63kqercg7her4e3e2\\n# Working dir:  /anfhome/prosun/scratch/aiida/12/a0/21b0-16e7-4deb-9631-24c7c0cddd68\\n# Command line:\\n#   gmx_mpi energy -f npt.edr -o energy.xvg\\n# gmx energy is part of G R O M A C S:\\n#\\n# Gromacs Runs One Microsecond At Cannonball Speeds\\n#\\n@    title \"GROMACS Energies\"\\n@    xaxis  label \"Time (ps)\"\\n@    yaxis  label \"(kJ/mol), (kg/m^3)\"\\n@TYPE xy\\n@ view 0.15, 0.15, 0.75, 0.85\\n@ legend on\\n@ legend box on\\n@ legend loctype view\\n@ legend 0.78, 0.8\\n@ legend length 2\\n@ s0 legend \"Potential\"\\n@ s1 legend \"Density\"\\n    0.000000  -7612.551758  400.012543\\n    4.000000  6542.255859  400.476929\\n    8.000000  5637.866699  413.688934\\n   12.000000  4579.610352  421.083496\\n   16.000000  3714.424805  426.431854\\n   20.000000  3340.050293  435.022369\\n   24.000000  2725.031006  443.003143\\n   28.000000  2400.927979  454.735168\\n   32.000000  2784.248535  461.428467\\n   36.000000  2105.930908  479.026154\\n   40.000000  1685.778320  488.122620\\n   44.000000  1856.595703  498.230530\\n   48.000000  1505.265381  506.632202\\n   52.000000  1572.482666  514.816956\\n   56.000000  1851.105713  521.878235\\n   60.000000  1348.019531  532.022095\\n   64.000000  1467.872070  552.699463\\n   68.000000  634.864624  567.784607\\n   72.000000  812.420654  594.286743\\n   76.000000  988.304321  616.961365\\n   80.000000  924.504883  640.005127\\n   84.000000  505.697510  655.206116\\n   88.000000  739.292908  675.158691\\n   92.000000  324.528381  695.752991\\n   96.000000  582.086609  711.255859\\n  100.000000  -142.051147  750.318237\\n')"
   ]
  },
  {
   "cell_type": "code",
   "execution_count": 4,
   "id": "2e7118f5-805a-4ffa-95ab-4fbb2310f52b",
   "metadata": {},
   "outputs": [],
   "source": [
    "#result.get_content().split('\\n')"
   ]
  },
  {
   "cell_type": "code",
   "execution_count": 5,
   "id": "382c546f-6964-4f27-bf78-51ef3c6f3066",
   "metadata": {},
   "outputs": [],
   "source": [
    "import importlib"
   ]
  },
  {
   "cell_type": "code",
   "execution_count": 6,
   "id": "2de5e8fd-27c6-4955-9327-4f80293364e6",
   "metadata": {},
   "outputs": [],
   "source": [
    "import gromacs_analysis"
   ]
  },
  {
   "cell_type": "code",
   "execution_count": 7,
   "id": "5e5662b3-1a4e-46da-a040-1c476e1bf7b7",
   "metadata": {},
   "outputs": [],
   "source": [
    "#importlib.reload(gromacs_analysis)"
   ]
  },
  {
   "cell_type": "code",
   "execution_count": 8,
   "id": "d2545ac2-61ee-47a7-ba2f-fbcb96822872",
   "metadata": {},
   "outputs": [],
   "source": [
    "plot = gromacs_analysis.create_time_plot(result)"
   ]
  },
  {
   "cell_type": "code",
   "execution_count": null,
   "id": "dae8df2b-9bd2-404f-9b6a-bf4431a22a5b",
   "metadata": {},
   "outputs": [],
   "source": []
  },
  {
   "cell_type": "code",
   "execution_count": null,
   "id": "5b8bd0a4-cef0-4b41-a954-be41b01a0085",
   "metadata": {},
   "outputs": [],
   "source": []
  },
  {
   "cell_type": "code",
   "execution_count": null,
   "id": "bfaffd5c-a8ab-4c70-87ee-da5a844e7c7a",
   "metadata": {},
   "outputs": [],
   "source": []
  },
  {
   "cell_type": "code",
   "execution_count": null,
   "id": "fdc70fb8-b50c-4f3a-9571-b711b4adf7a9",
   "metadata": {},
   "outputs": [],
   "source": []
  },
  {
   "cell_type": "code",
   "execution_count": 27,
   "id": "badae50a-b11c-4aaa-a50d-04f763a25247",
   "metadata": {},
   "outputs": [
    {
     "name": "stdout",
     "output_type": "stream",
     "text": []
    },
    {
     "name": "stdout",
     "output_type": "stream",
     "text": [
      "\u001b[22m   PK  Created    Process label            ♻    Process State    Process status\n",
      "-----  ---------  -----------------------  ---  ---------------  ---------------------------------------\n",
      "48766  1h ago     ShellJob<gmx@localhost>       ⏵ Waiting        Monitoring scheduler: job state RUNNING\n",
      "47742  1h ago     ShellJob<gmx@localhost>       ⏵ Waiting        Monitoring scheduler: job state RUNNING\n",
      "45015  23h ago    ShellJob<gmx@localhost>       ⏵ Waiting        Monitoring scheduler: job state RUNNING\n",
      "41429  1D ago     PolymerizeWorkChain           ⏵ Running\n",
      "39050  6D ago     ShellJob<gmx@localhost>       ⏵ Waiting        Monitoring scheduler: job state RUNNING\n",
      "34706  8D ago     PolymerizeWorkChain           ⏵ Running\n",
      "33450  8D ago     ShellJob<gmx@localhost>       ⏵ Waiting        Monitoring scheduler: job state RUNNING\n",
      "30052  8D ago     PolymerizeWorkChain           ⏵ Running\n",
      "26525  8D ago     update_atom_number            ⏵ Running\n",
      "26392  8D ago     PolymerizeWorkChain           ⏵ Running\u001b[0m\n",
      "\u001b[22m\n",
      "Total results: 10\n",
      "\u001b[0m\n",
      "\u001b[34m\u001b[1mReport\u001b[0m: \u001b[22m♻ Processes marked with check-mark were not run but taken from the cache.\u001b[0m\n",
      "\u001b[34m\u001b[1mReport\u001b[0m: \u001b[22mAdd the option `-P pk cached_from` to the command to display cache source.\u001b[0m\n",
      "\u001b[34m\u001b[1mReport\u001b[0m: \u001b[22mLast time an entry changed state: 10s ago (at 07:31:31 on 2025-02-06)\u001b[0m\n",
      "\u001b[34m\u001b[1mReport\u001b[0m: \u001b[22mChecking daemon load... \u001b[0m/anfhome/software/anaconda/envs/aiida-gromacs/lib/python3.10/site-packages/paramiko/pkey.py:82: CryptographyDeprecationWarning: TripleDES has been moved to cryptography.hazmat.decrepit.ciphers.algorithms.TripleDES and will be removed from cryptography.hazmat.primitives.ciphers.algorithms in 48.0.0.\n",
      "  \"cipher\": algorithms.TripleDES,\n",
      "/anfhome/software/anaconda/envs/aiida-gromacs/lib/python3.10/site-packages/paramiko/transport.py:253: CryptographyDeprecationWarning: TripleDES has been moved to cryptography.hazmat.decrepit.ciphers.algorithms.TripleDES and will be removed from cryptography.hazmat.primitives.ciphers.algorithms in 48.0.0.\n",
      "  \"class\": algorithms.TripleDES,\n",
      "\u001b[32m\u001b[1mOK\u001b[0m\n",
      "\u001b[34m\u001b[1mReport\u001b[0m: \u001b[22mUsing 1% of the available daemon worker slots.\u001b[0m\n"
     ]
    }
   ],
   "source": [
    "! verdi process list -D desc -l 10"
   ]
  },
  {
   "cell_type": "code",
   "execution_count": null,
   "id": "a120a21f-4796-4b9b-b483-5722318394cf",
   "metadata": {},
   "outputs": [],
   "source": []
  }
 ],
 "metadata": {
  "kernelspec": {
   "display_name": "Python [conda env:aiida-gromacs]",
   "language": "python",
   "name": "conda-env-aiida-gromacs-py"
  },
  "language_info": {
   "codemirror_mode": {
    "name": "ipython",
    "version": 3
   },
   "file_extension": ".py",
   "mimetype": "text/x-python",
   "name": "python",
   "nbconvert_exporter": "python",
   "pygments_lexer": "ipython3",
   "version": "3.10.0"
  }
 },
 "nbformat": 4,
 "nbformat_minor": 5
}
